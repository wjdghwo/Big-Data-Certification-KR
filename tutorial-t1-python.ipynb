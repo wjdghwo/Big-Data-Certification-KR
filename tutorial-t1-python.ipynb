{
 "cells": [
  {
   "cell_type": "markdown",
   "id": "724c36cc",
   "metadata": {
    "papermill": {
     "duration": 0.008154,
     "end_time": "2021-11-19T04:56:56.342537",
     "exception": false,
     "start_time": "2021-11-19T04:56:56.334383",
     "status": "completed"
    },
    "tags": []
   },
   "source": [
    "# 작업형1 예시문제\n",
    "자동차 데이터 셋에서 특정 컬럼을 Min-Max Scale로 변환 후 0.5보다 큰 값을 가지는 레코드(row) 수를 묻는 문제입니다.\n",
    "- data 출처: https://www.kaggle.com/ruiromanini/mtcars\n",
    "- data 추가방법 : 우측 메뉴 -> +Add data -> mtcar(ruiromanini) ADD\n",
    "- 영상 링크 : https://youtu.be/E86QFVXPm5Q"
   ]
  },
  {
   "cell_type": "code",
   "execution_count": 1,
   "id": "93d4ace5",
   "metadata": {
    "execution": {
     "iopub.execute_input": "2021-11-19T04:56:56.371138Z",
     "iopub.status.busy": "2021-11-19T04:56:56.370526Z",
     "iopub.status.idle": "2021-11-19T04:56:56.408509Z",
     "shell.execute_reply": "2021-11-19T04:56:56.409377Z",
     "shell.execute_reply.started": "2021-11-19T04:56:24.459313Z"
    },
    "papermill": {
     "duration": 0.057608,
     "end_time": "2021-11-19T04:56:56.409836",
     "exception": false,
     "start_time": "2021-11-19T04:56:56.352228",
     "status": "completed"
    },
    "tags": []
   },
   "outputs": [
    {
     "data": {
      "text/html": [
       "<div>\n",
       "<style scoped>\n",
       "    .dataframe tbody tr th:only-of-type {\n",
       "        vertical-align: middle;\n",
       "    }\n",
       "\n",
       "    .dataframe tbody tr th {\n",
       "        vertical-align: top;\n",
       "    }\n",
       "\n",
       "    .dataframe thead th {\n",
       "        text-align: right;\n",
       "    }\n",
       "</style>\n",
       "<table border=\"1\" class=\"dataframe\">\n",
       "  <thead>\n",
       "    <tr style=\"text-align: right;\">\n",
       "      <th></th>\n",
       "      <th>model</th>\n",
       "      <th>mpg</th>\n",
       "      <th>cyl</th>\n",
       "      <th>disp</th>\n",
       "      <th>hp</th>\n",
       "      <th>drat</th>\n",
       "      <th>wt</th>\n",
       "      <th>qsec</th>\n",
       "      <th>vs</th>\n",
       "      <th>am</th>\n",
       "      <th>gear</th>\n",
       "      <th>carb</th>\n",
       "    </tr>\n",
       "  </thead>\n",
       "  <tbody>\n",
       "    <tr>\n",
       "      <th>0</th>\n",
       "      <td>Mazda RX4</td>\n",
       "      <td>21.0</td>\n",
       "      <td>6</td>\n",
       "      <td>160.0</td>\n",
       "      <td>110</td>\n",
       "      <td>3.90</td>\n",
       "      <td>2.620</td>\n",
       "      <td>16.46</td>\n",
       "      <td>0</td>\n",
       "      <td>1</td>\n",
       "      <td>4</td>\n",
       "      <td>4</td>\n",
       "    </tr>\n",
       "    <tr>\n",
       "      <th>1</th>\n",
       "      <td>Mazda RX4 Wag</td>\n",
       "      <td>21.0</td>\n",
       "      <td>6</td>\n",
       "      <td>160.0</td>\n",
       "      <td>110</td>\n",
       "      <td>3.90</td>\n",
       "      <td>2.875</td>\n",
       "      <td>17.02</td>\n",
       "      <td>0</td>\n",
       "      <td>1</td>\n",
       "      <td>4</td>\n",
       "      <td>4</td>\n",
       "    </tr>\n",
       "    <tr>\n",
       "      <th>2</th>\n",
       "      <td>Datsun 710</td>\n",
       "      <td>22.8</td>\n",
       "      <td>4</td>\n",
       "      <td>108.0</td>\n",
       "      <td>93</td>\n",
       "      <td>3.85</td>\n",
       "      <td>2.320</td>\n",
       "      <td>18.61</td>\n",
       "      <td>1</td>\n",
       "      <td>1</td>\n",
       "      <td>4</td>\n",
       "      <td>1</td>\n",
       "    </tr>\n",
       "    <tr>\n",
       "      <th>3</th>\n",
       "      <td>Hornet 4 Drive</td>\n",
       "      <td>21.4</td>\n",
       "      <td>6</td>\n",
       "      <td>258.0</td>\n",
       "      <td>110</td>\n",
       "      <td>3.08</td>\n",
       "      <td>3.215</td>\n",
       "      <td>19.44</td>\n",
       "      <td>1</td>\n",
       "      <td>0</td>\n",
       "      <td>3</td>\n",
       "      <td>1</td>\n",
       "    </tr>\n",
       "    <tr>\n",
       "      <th>4</th>\n",
       "      <td>Hornet Sportabout</td>\n",
       "      <td>18.7</td>\n",
       "      <td>8</td>\n",
       "      <td>360.0</td>\n",
       "      <td>175</td>\n",
       "      <td>3.15</td>\n",
       "      <td>3.440</td>\n",
       "      <td>17.02</td>\n",
       "      <td>0</td>\n",
       "      <td>0</td>\n",
       "      <td>3</td>\n",
       "      <td>2</td>\n",
       "    </tr>\n",
       "  </tbody>\n",
       "</table>\n",
       "</div>"
      ],
      "text/plain": [
       "               model   mpg  cyl   disp   hp  drat     wt   qsec  vs  am  gear  \\\n",
       "0          Mazda RX4  21.0    6  160.0  110  3.90  2.620  16.46   0   1     4   \n",
       "1      Mazda RX4 Wag  21.0    6  160.0  110  3.90  2.875  17.02   0   1     4   \n",
       "2         Datsun 710  22.8    4  108.0   93  3.85  2.320  18.61   1   1     4   \n",
       "3     Hornet 4 Drive  21.4    6  258.0  110  3.08  3.215  19.44   1   0     3   \n",
       "4  Hornet Sportabout  18.7    8  360.0  175  3.15  3.440  17.02   0   0     3   \n",
       "\n",
       "   carb  \n",
       "0     4  \n",
       "1     4  \n",
       "2     1  \n",
       "3     1  \n",
       "4     2  "
      ]
     },
     "execution_count": 1,
     "metadata": {},
     "output_type": "execute_result"
    }
   ],
   "source": [
    "import numpy as np\n",
    "import pandas as pd\n",
    "df = pd.read_csv('../input/mtcars/mtcars.csv')\n",
    "df.head()"
   ]
  },
  {
   "cell_type": "code",
   "execution_count": 2,
   "id": "b3d0dae8",
   "metadata": {
    "execution": {
     "iopub.execute_input": "2021-11-19T04:56:56.438000Z",
     "iopub.status.busy": "2021-11-19T04:56:56.437282Z",
     "iopub.status.idle": "2021-11-19T04:56:56.474688Z",
     "shell.execute_reply": "2021-11-19T04:56:56.475130Z",
     "shell.execute_reply.started": "2021-11-19T04:56:24.484453Z"
    },
    "papermill": {
     "duration": 0.05661,
     "end_time": "2021-11-19T04:56:56.475301",
     "exception": false,
     "start_time": "2021-11-19T04:56:56.418691",
     "status": "completed"
    },
    "tags": []
   },
   "outputs": [
    {
     "data": {
      "text/html": [
       "<div>\n",
       "<style scoped>\n",
       "    .dataframe tbody tr th:only-of-type {\n",
       "        vertical-align: middle;\n",
       "    }\n",
       "\n",
       "    .dataframe tbody tr th {\n",
       "        vertical-align: top;\n",
       "    }\n",
       "\n",
       "    .dataframe thead th {\n",
       "        text-align: right;\n",
       "    }\n",
       "</style>\n",
       "<table border=\"1\" class=\"dataframe\">\n",
       "  <thead>\n",
       "    <tr style=\"text-align: right;\">\n",
       "      <th></th>\n",
       "      <th>mpg</th>\n",
       "      <th>cyl</th>\n",
       "      <th>disp</th>\n",
       "      <th>hp</th>\n",
       "      <th>drat</th>\n",
       "      <th>wt</th>\n",
       "      <th>qsec</th>\n",
       "      <th>vs</th>\n",
       "      <th>am</th>\n",
       "      <th>gear</th>\n",
       "      <th>carb</th>\n",
       "    </tr>\n",
       "  </thead>\n",
       "  <tbody>\n",
       "    <tr>\n",
       "      <th>count</th>\n",
       "      <td>32.000000</td>\n",
       "      <td>32.000000</td>\n",
       "      <td>32.000000</td>\n",
       "      <td>32.000000</td>\n",
       "      <td>32.000000</td>\n",
       "      <td>32.000000</td>\n",
       "      <td>32.000000</td>\n",
       "      <td>32.000000</td>\n",
       "      <td>32.000000</td>\n",
       "      <td>32.000000</td>\n",
       "      <td>32.0000</td>\n",
       "    </tr>\n",
       "    <tr>\n",
       "      <th>mean</th>\n",
       "      <td>20.090625</td>\n",
       "      <td>6.187500</td>\n",
       "      <td>230.721875</td>\n",
       "      <td>146.687500</td>\n",
       "      <td>3.596563</td>\n",
       "      <td>3.217250</td>\n",
       "      <td>17.848750</td>\n",
       "      <td>0.437500</td>\n",
       "      <td>0.406250</td>\n",
       "      <td>3.687500</td>\n",
       "      <td>2.8125</td>\n",
       "    </tr>\n",
       "    <tr>\n",
       "      <th>std</th>\n",
       "      <td>6.026948</td>\n",
       "      <td>1.785922</td>\n",
       "      <td>123.938694</td>\n",
       "      <td>68.562868</td>\n",
       "      <td>0.534679</td>\n",
       "      <td>0.978457</td>\n",
       "      <td>1.786943</td>\n",
       "      <td>0.504016</td>\n",
       "      <td>0.498991</td>\n",
       "      <td>0.737804</td>\n",
       "      <td>1.6152</td>\n",
       "    </tr>\n",
       "    <tr>\n",
       "      <th>min</th>\n",
       "      <td>10.400000</td>\n",
       "      <td>4.000000</td>\n",
       "      <td>71.100000</td>\n",
       "      <td>52.000000</td>\n",
       "      <td>2.760000</td>\n",
       "      <td>1.513000</td>\n",
       "      <td>14.500000</td>\n",
       "      <td>0.000000</td>\n",
       "      <td>0.000000</td>\n",
       "      <td>3.000000</td>\n",
       "      <td>1.0000</td>\n",
       "    </tr>\n",
       "    <tr>\n",
       "      <th>25%</th>\n",
       "      <td>15.425000</td>\n",
       "      <td>4.000000</td>\n",
       "      <td>120.825000</td>\n",
       "      <td>96.500000</td>\n",
       "      <td>3.080000</td>\n",
       "      <td>2.581250</td>\n",
       "      <td>16.892500</td>\n",
       "      <td>0.000000</td>\n",
       "      <td>0.000000</td>\n",
       "      <td>3.000000</td>\n",
       "      <td>2.0000</td>\n",
       "    </tr>\n",
       "    <tr>\n",
       "      <th>50%</th>\n",
       "      <td>19.200000</td>\n",
       "      <td>6.000000</td>\n",
       "      <td>196.300000</td>\n",
       "      <td>123.000000</td>\n",
       "      <td>3.695000</td>\n",
       "      <td>3.325000</td>\n",
       "      <td>17.710000</td>\n",
       "      <td>0.000000</td>\n",
       "      <td>0.000000</td>\n",
       "      <td>4.000000</td>\n",
       "      <td>2.0000</td>\n",
       "    </tr>\n",
       "    <tr>\n",
       "      <th>75%</th>\n",
       "      <td>22.800000</td>\n",
       "      <td>8.000000</td>\n",
       "      <td>326.000000</td>\n",
       "      <td>180.000000</td>\n",
       "      <td>3.920000</td>\n",
       "      <td>3.610000</td>\n",
       "      <td>18.900000</td>\n",
       "      <td>1.000000</td>\n",
       "      <td>1.000000</td>\n",
       "      <td>4.000000</td>\n",
       "      <td>4.0000</td>\n",
       "    </tr>\n",
       "    <tr>\n",
       "      <th>max</th>\n",
       "      <td>33.900000</td>\n",
       "      <td>8.000000</td>\n",
       "      <td>472.000000</td>\n",
       "      <td>335.000000</td>\n",
       "      <td>4.930000</td>\n",
       "      <td>5.424000</td>\n",
       "      <td>22.900000</td>\n",
       "      <td>1.000000</td>\n",
       "      <td>1.000000</td>\n",
       "      <td>5.000000</td>\n",
       "      <td>8.0000</td>\n",
       "    </tr>\n",
       "  </tbody>\n",
       "</table>\n",
       "</div>"
      ],
      "text/plain": [
       "             mpg        cyl        disp          hp       drat         wt  \\\n",
       "count  32.000000  32.000000   32.000000   32.000000  32.000000  32.000000   \n",
       "mean   20.090625   6.187500  230.721875  146.687500   3.596563   3.217250   \n",
       "std     6.026948   1.785922  123.938694   68.562868   0.534679   0.978457   \n",
       "min    10.400000   4.000000   71.100000   52.000000   2.760000   1.513000   \n",
       "25%    15.425000   4.000000  120.825000   96.500000   3.080000   2.581250   \n",
       "50%    19.200000   6.000000  196.300000  123.000000   3.695000   3.325000   \n",
       "75%    22.800000   8.000000  326.000000  180.000000   3.920000   3.610000   \n",
       "max    33.900000   8.000000  472.000000  335.000000   4.930000   5.424000   \n",
       "\n",
       "            qsec         vs         am       gear     carb  \n",
       "count  32.000000  32.000000  32.000000  32.000000  32.0000  \n",
       "mean   17.848750   0.437500   0.406250   3.687500   2.8125  \n",
       "std     1.786943   0.504016   0.498991   0.737804   1.6152  \n",
       "min    14.500000   0.000000   0.000000   3.000000   1.0000  \n",
       "25%    16.892500   0.000000   0.000000   3.000000   2.0000  \n",
       "50%    17.710000   0.000000   0.000000   4.000000   2.0000  \n",
       "75%    18.900000   1.000000   1.000000   4.000000   4.0000  \n",
       "max    22.900000   1.000000   1.000000   5.000000   8.0000  "
      ]
     },
     "execution_count": 2,
     "metadata": {},
     "output_type": "execute_result"
    }
   ],
   "source": [
    "df.describe()"
   ]
  },
  {
   "cell_type": "code",
   "execution_count": 3,
   "id": "4de9c84b",
   "metadata": {
    "execution": {
     "iopub.execute_input": "2021-11-19T04:56:56.496154Z",
     "iopub.status.busy": "2021-11-19T04:56:56.495407Z",
     "iopub.status.idle": "2021-11-19T04:56:56.505705Z",
     "shell.execute_reply": "2021-11-19T04:56:56.506468Z",
     "shell.execute_reply.started": "2021-11-19T04:56:24.527620Z"
    },
    "papermill": {
     "duration": 0.023311,
     "end_time": "2021-11-19T04:56:56.506747",
     "exception": false,
     "start_time": "2021-11-19T04:56:56.483436",
     "status": "completed"
    },
    "tags": []
   },
   "outputs": [
    {
     "data": {
      "text/plain": [
       "model    0\n",
       "mpg      0\n",
       "cyl      0\n",
       "disp     0\n",
       "hp       0\n",
       "drat     0\n",
       "wt       0\n",
       "qsec     0\n",
       "vs       0\n",
       "am       0\n",
       "gear     0\n",
       "carb     0\n",
       "dtype: int64"
      ]
     },
     "execution_count": 3,
     "metadata": {},
     "output_type": "execute_result"
    }
   ],
   "source": [
    "df.isna().sum()"
   ]
  },
  {
   "cell_type": "code",
   "execution_count": 4,
   "id": "0fefa1c5",
   "metadata": {
    "execution": {
     "iopub.execute_input": "2021-11-19T04:56:56.539299Z",
     "iopub.status.busy": "2021-11-19T04:56:56.538258Z",
     "iopub.status.idle": "2021-11-19T04:56:57.371350Z",
     "shell.execute_reply": "2021-11-19T04:56:57.370829Z",
     "shell.execute_reply.started": "2021-11-19T04:56:24.538447Z"
    },
    "papermill": {
     "duration": 0.851555,
     "end_time": "2021-11-19T04:56:57.371505",
     "exception": false,
     "start_time": "2021-11-19T04:56:56.519950",
     "status": "completed"
    },
    "tags": []
   },
   "outputs": [],
   "source": [
    "from sklearn.preprocessing import MinMaxScaler\n",
    "scaler = MinMaxScaler()\n",
    "df['qsec'] = scaler.fit_transform(df[['qsec']])"
   ]
  },
  {
   "cell_type": "code",
   "execution_count": 5,
   "id": "552fc3cd",
   "metadata": {
    "execution": {
     "iopub.execute_input": "2021-11-19T04:56:57.395433Z",
     "iopub.status.busy": "2021-11-19T04:56:57.394810Z",
     "iopub.status.idle": "2021-11-19T04:56:57.398417Z",
     "shell.execute_reply": "2021-11-19T04:56:57.397984Z",
     "shell.execute_reply.started": "2021-11-19T04:56:24.554092Z"
    },
    "papermill": {
     "duration": 0.018427,
     "end_time": "2021-11-19T04:56:57.398550",
     "exception": false,
     "start_time": "2021-11-19T04:56:57.380123",
     "status": "completed"
    },
    "tags": []
   },
   "outputs": [
    {
     "data": {
      "text/plain": [
       "9"
      ]
     },
     "execution_count": 5,
     "metadata": {},
     "output_type": "execute_result"
    }
   ],
   "source": [
    "len(df[df['qsec']>0.5])"
   ]
  },
  {
   "cell_type": "code",
   "execution_count": 6,
   "id": "456ca4a1",
   "metadata": {
    "execution": {
     "iopub.execute_input": "2021-11-19T04:56:57.419918Z",
     "iopub.status.busy": "2021-11-19T04:56:57.419280Z",
     "iopub.status.idle": "2021-11-19T04:56:57.429873Z",
     "shell.execute_reply": "2021-11-19T04:56:57.429281Z",
     "shell.execute_reply.started": "2021-11-19T04:56:24.564394Z"
    },
    "papermill": {
     "duration": 0.022577,
     "end_time": "2021-11-19T04:56:57.430010",
     "exception": false,
     "start_time": "2021-11-19T04:56:57.407433",
     "status": "completed"
    },
    "tags": []
   },
   "outputs": [
    {
     "data": {
      "text/plain": [
       "9"
      ]
     },
     "execution_count": 6,
     "metadata": {},
     "output_type": "execute_result"
    }
   ],
   "source": [
    "df = pd.read_csv('../input/mtcars/mtcars.csv')\n",
    "\n",
    "#minmax\n",
    "minmax = (df['qsec']-min(df['qsec']))/(max(df['qsec'])-min(df['qsec']))\n",
    "sum(minmax>0.5)"
   ]
  },
  {
   "cell_type": "markdown",
   "id": "15450933",
   "metadata": {
    "papermill": {
     "duration": 0.008503,
     "end_time": "2021-11-19T04:56:57.447516",
     "exception": false,
     "start_time": "2021-11-19T04:56:57.439013",
     "status": "completed"
    },
    "tags": []
   },
   "source": [
    "### 방법1"
   ]
  },
  {
   "cell_type": "code",
   "execution_count": 7,
   "id": "cff9975a",
   "metadata": {
    "execution": {
     "iopub.execute_input": "2021-11-19T04:56:57.471354Z",
     "iopub.status.busy": "2021-11-19T04:56:57.470741Z",
     "iopub.status.idle": "2021-11-19T04:56:57.481450Z",
     "shell.execute_reply": "2021-11-19T04:56:57.482075Z",
     "shell.execute_reply.started": "2021-11-19T04:56:24.584296Z"
    },
    "papermill": {
     "duration": 0.025983,
     "end_time": "2021-11-19T04:56:57.482300",
     "exception": false,
     "start_time": "2021-11-19T04:56:57.456317",
     "status": "completed"
    },
    "tags": []
   },
   "outputs": [
    {
     "name": "stdout",
     "output_type": "stream",
     "text": [
      "minmax 변환 전: \n",
      " 0    16.46\n",
      "1    17.02\n",
      "2    18.61\n",
      "3    19.44\n",
      "4    17.02\n",
      "Name: qsec, dtype: float64\n",
      "minmax 변환 후: \n",
      " 0    0.233333\n",
      "1    0.300000\n",
      "2    0.489286\n",
      "3    0.588095\n",
      "4    0.300000\n",
      "Name: qsec, dtype: float64\n",
      "9\n",
      "9\n"
     ]
    }
   ],
   "source": [
    "# 라이브러리 불러오기\n",
    "import pandas as pd\n",
    "from sklearn.preprocessing import minmax_scale\n",
    "\n",
    "# 데이터 불러오기\n",
    "data = pd.read_csv('../input/mtcars/mtcars.csv')\n",
    "print('minmax 변환 전: \\n',data['qsec'].head())\n",
    "\n",
    "# min-max scale\n",
    "data['qsec'] = minmax_scale(data['qsec'])\n",
    "print('minmax 변환 후: \\n',data['qsec'].head())\n",
    "\n",
    "# 0.5보다 큰 값 / 방법1,2 중에 선택\n",
    "print(sum(data['qsec'] > 0.5)) #방법1 (True를 더 함)\n",
    "print(len(data[data['qsec']>0.5])) #방법2 (데이터 수를 구함)"
   ]
  },
  {
   "cell_type": "markdown",
   "id": "15199664",
   "metadata": {
    "papermill": {
     "duration": 0.009161,
     "end_time": "2021-11-19T04:56:57.502260",
     "exception": false,
     "start_time": "2021-11-19T04:56:57.493099",
     "status": "completed"
    },
    "tags": []
   },
   "source": [
    "### 방법2"
   ]
  },
  {
   "cell_type": "code",
   "execution_count": 8,
   "id": "01955277",
   "metadata": {
    "_cell_guid": "b1076dfc-b9ad-4769-8c92-a6c4dae69d19",
    "_uuid": "8f2839f25d086af736a60e9eeb907d3b93b6e0e5",
    "execution": {
     "iopub.execute_input": "2021-11-19T04:56:57.527577Z",
     "iopub.status.busy": "2021-11-19T04:56:57.526683Z",
     "iopub.status.idle": "2021-11-19T04:56:57.537688Z",
     "shell.execute_reply": "2021-11-19T04:56:57.537178Z",
     "shell.execute_reply.started": "2021-11-19T04:56:24.602227Z"
    },
    "papermill": {
     "duration": 0.026363,
     "end_time": "2021-11-19T04:56:57.537831",
     "exception": false,
     "start_time": "2021-11-19T04:56:57.511468",
     "status": "completed"
    },
    "tags": []
   },
   "outputs": [
    {
     "name": "stdout",
     "output_type": "stream",
     "text": [
      "minmax 변환 전: \n",
      " 0    16.46\n",
      "1    17.02\n",
      "2    18.61\n",
      "3    19.44\n",
      "4    17.02\n",
      "Name: qsec, dtype: float64\n",
      "minmax 변환 후: \n",
      " 0    0.233333\n",
      "1    0.300000\n",
      "2    0.489286\n",
      "3    0.588095\n",
      "4    0.300000\n",
      "Name: qsec, dtype: float64\n",
      "9\n"
     ]
    }
   ],
   "source": [
    "# 라이브러리 불러오기\n",
    "import pandas as pd\n",
    "\n",
    "# 데이터 불러오기\n",
    "data = pd.read_csv('../input/mtcars/mtcars.csv')\n",
    "print('minmax 변환 전: \\n',data['qsec'].head())\n",
    "\n",
    "# min-max scale\n",
    "def minmax(data):\n",
    "    data = (data - min(data)) / (max(data) - min(data))\n",
    "    return data\n",
    "\n",
    "data['qsec'] = minmax(data['qsec'])\n",
    "print('minmax 변환 후: \\n',data['qsec'].head())\n",
    "\n",
    "# 0.5보다 큰 값 (row 수 파악)\n",
    "print(len(data[data['qsec']>0.5]))"
   ]
  }
 ],
 "metadata": {
  "kernelspec": {
   "display_name": "Python 3",
   "language": "python",
   "name": "python3"
  },
  "language_info": {
   "codemirror_mode": {
    "name": "ipython",
    "version": 3
   },
   "file_extension": ".py",
   "mimetype": "text/x-python",
   "name": "python",
   "nbconvert_exporter": "python",
   "pygments_lexer": "ipython3",
   "version": "3.7.10"
  },
  "papermill": {
   "default_parameters": {},
   "duration": 9.749678,
   "end_time": "2021-11-19T04:56:58.925747",
   "environment_variables": {},
   "exception": null,
   "input_path": "__notebook__.ipynb",
   "output_path": "__notebook__.ipynb",
   "parameters": {},
   "start_time": "2021-11-19T04:56:49.176069",
   "version": "2.3.3"
  }
 },
 "nbformat": 4,
 "nbformat_minor": 5
}
