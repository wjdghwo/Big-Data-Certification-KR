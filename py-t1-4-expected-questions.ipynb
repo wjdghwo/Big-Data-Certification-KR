{
 "cells": [
  {
   "cell_type": "markdown",
   "id": "d37fd93e",
   "metadata": {
    "papermill": {
     "duration": 0.017176,
     "end_time": "2021-11-18T14:21:35.915744",
     "exception": false,
     "start_time": "2021-11-18T14:21:35.898568",
     "status": "completed"
    },
    "tags": []
   },
   "source": [
    "## 왜도와 첨도 구하기\n",
    "-  주어진 데이터 중 train.csv에서 'SalePrice'컬럼의 왜도와 첨도를 구한 값과, 'SalePrice'컬럼을 스케일링(log1p)로 변환한 이후 왜도와 첨도를 구해 모두 더한 다음 소수점 2째자리까지 출력하시오\n",
    "- 데이터셋 : House Prices - Advanced Regression Technique (https://www.kaggle.com/c/house-prices-advanced-regression-techniques)\n",
    "- 오른쪽 상단 copy&edit 클릭 -> 예상문제 풀이 시작\n",
    "- 강의 영상 : https://youtu.be/_ft7ZlDlk7c"
   ]
  },
  {
   "attachments": {
    "502821f9-762a-4f63-bd70-944b6e6a213c.png": {
     "image/png": "[encoded data removed]"
    }
   },
   "cell_type": "markdown",
   "id": "ff5502bf",
   "metadata": {
    "papermill": {
     "duration": 0.015827,
     "end_time": "2021-11-18T14:21:35.949777",
     "exception": false,
     "start_time": "2021-11-18T14:21:35.933950",
     "status": "completed"
    },
    "tags": []
   },
   "source": [
    "### 왜도\n",
    "비대칭도(非對稱度, skewness) 또는 왜도(歪度)는 **실수 값 확률 변수의 확률 분포 비대칭성을 나타내는 지표**이다. 왜도의 값은 양수나 음수가 될 수 있으며 정의되지 않을 수도 있다. 왜도가 음수일 경우에는 확률밀도함수의 왼쪽 부분에 긴 꼬리를 가지며 중앙값을 포함한 자료가 오른쪽에 더 많이 분포해 있다. 왜도가 양수일 때는 확률밀도함수의 오른쪽 부분에 긴 꼬리를 가지며 자료가 왼쪽에 더 많이 분포해 있다는 것을 나타낸다. 평균과 중앙값이 같으면 왜도는 0이 된다.\n",
    "\n",
    "![SkewedDistribution.png](attachment:502821f9-762a-4f63-bd70-944b6e6a213c.png)\n",
    "\n",
    "**위키백과 https://ko.wikipedia.org/wiki/%EB%B9%84%EB%8C%80%EC%B9%AD%EB%8F%84"
   ]
  },
  {
   "cell_type": "markdown",
   "id": "5f9de57c",
   "metadata": {
    "papermill": {
     "duration": 0.015942,
     "end_time": "2021-11-18T14:21:35.981931",
     "exception": false,
     "start_time": "2021-11-18T14:21:35.965989",
     "status": "completed"
    },
    "tags": []
   },
   "source": [
    "### 첨도\n",
    "**확률분포의 꼬리가 두꺼운 정도**를 나타내는 척도이다. 극단적인 편차 또는 이상치가 많을 수록 큰 값을 나타낸다. 첨도값(K)이 3에 가까우면 산포도가 정규분포에 가깝다. 3보다 작을 경우에는(K<3) 산포는 정규분포보다 꼬리가 얇은 분포로 생각할 수 있다, 첨도값이 3보다 큰 양수이면(K>3) 정규분포보다 꼬리가 두꺼운 분포로 판단할 수 있다."
   ]
  },
  {
   "cell_type": "code",
   "execution_count": 1,
   "id": "6e5c5230",
   "metadata": {
    "execution": {
     "iopub.execute_input": "2021-11-18T14:21:36.019245Z",
     "iopub.status.busy": "2021-11-18T14:21:36.017959Z",
     "iopub.status.idle": "2021-11-18T14:21:36.099815Z",
     "shell.execute_reply": "2021-11-18T14:21:36.100393Z",
     "shell.execute_reply.started": "2021-11-18T14:20:49.688323Z"
    },
    "papermill": {
     "duration": 0.102641,
     "end_time": "2021-11-18T14:21:36.100681",
     "exception": false,
     "start_time": "2021-11-18T14:21:35.998040",
     "status": "completed"
    },
    "tags": []
   },
   "outputs": [
    {
     "data": {
      "text/html": [
       "<div>\n",
       "<style scoped>\n",
       "    .dataframe tbody tr th:only-of-type {\n",
       "        vertical-align: middle;\n",
       "    }\n",
       "\n",
       "    .dataframe tbody tr th {\n",
       "        vertical-align: top;\n",
       "    }\n",
       "\n",
       "    .dataframe thead th {\n",
       "        text-align: right;\n",
       "    }\n",
       "</style>\n",
       "<table border=\"1\" class=\"dataframe\">\n",
       "  <thead>\n",
       "    <tr style=\"text-align: right;\">\n",
       "      <th></th>\n",
       "      <th>Id</th>\n",
       "      <th>MSSubClass</th>\n",
       "      <th>MSZoning</th>\n",
       "      <th>LotFrontage</th>\n",
       "      <th>LotArea</th>\n",
       "      <th>Street</th>\n",
       "      <th>Alley</th>\n",
       "      <th>LotShape</th>\n",
       "      <th>LandContour</th>\n",
       "      <th>Utilities</th>\n",
       "      <th>...</th>\n",
       "      <th>PoolArea</th>\n",
       "      <th>PoolQC</th>\n",
       "      <th>Fence</th>\n",
       "      <th>MiscFeature</th>\n",
       "      <th>MiscVal</th>\n",
       "      <th>MoSold</th>\n",
       "      <th>YrSold</th>\n",
       "      <th>SaleType</th>\n",
       "      <th>SaleCondition</th>\n",
       "      <th>SalePrice</th>\n",
       "    </tr>\n",
       "  </thead>\n",
       "  <tbody>\n",
       "    <tr>\n",
       "      <th>0</th>\n",
       "      <td>1</td>\n",
       "      <td>60</td>\n",
       "      <td>RL</td>\n",
       "      <td>65.0</td>\n",
       "      <td>8450</td>\n",
       "      <td>Pave</td>\n",
       "      <td>NaN</td>\n",
       "      <td>Reg</td>\n",
       "      <td>Lvl</td>\n",
       "      <td>AllPub</td>\n",
       "      <td>...</td>\n",
       "      <td>0</td>\n",
       "      <td>NaN</td>\n",
       "      <td>NaN</td>\n",
       "      <td>NaN</td>\n",
       "      <td>0</td>\n",
       "      <td>2</td>\n",
       "      <td>2008</td>\n",
       "      <td>WD</td>\n",
       "      <td>Normal</td>\n",
       "      <td>208500</td>\n",
       "    </tr>\n",
       "    <tr>\n",
       "      <th>1</th>\n",
       "      <td>2</td>\n",
       "      <td>20</td>\n",
       "      <td>RL</td>\n",
       "      <td>80.0</td>\n",
       "      <td>9600</td>\n",
       "      <td>Pave</td>\n",
       "      <td>NaN</td>\n",
       "      <td>Reg</td>\n",
       "      <td>Lvl</td>\n",
       "      <td>AllPub</td>\n",
       "      <td>...</td>\n",
       "      <td>0</td>\n",
       "      <td>NaN</td>\n",
       "      <td>NaN</td>\n",
       "      <td>NaN</td>\n",
       "      <td>0</td>\n",
       "      <td>5</td>\n",
       "      <td>2007</td>\n",
       "      <td>WD</td>\n",
       "      <td>Normal</td>\n",
       "      <td>181500</td>\n",
       "    </tr>\n",
       "    <tr>\n",
       "      <th>2</th>\n",
       "      <td>3</td>\n",
       "      <td>60</td>\n",
       "      <td>RL</td>\n",
       "      <td>68.0</td>\n",
       "      <td>11250</td>\n",
       "      <td>Pave</td>\n",
       "      <td>NaN</td>\n",
       "      <td>IR1</td>\n",
       "      <td>Lvl</td>\n",
       "      <td>AllPub</td>\n",
       "      <td>...</td>\n",
       "      <td>0</td>\n",
       "      <td>NaN</td>\n",
       "      <td>NaN</td>\n",
       "      <td>NaN</td>\n",
       "      <td>0</td>\n",
       "      <td>9</td>\n",
       "      <td>2008</td>\n",
       "      <td>WD</td>\n",
       "      <td>Normal</td>\n",
       "      <td>223500</td>\n",
       "    </tr>\n",
       "    <tr>\n",
       "      <th>3</th>\n",
       "      <td>4</td>\n",
       "      <td>70</td>\n",
       "      <td>RL</td>\n",
       "      <td>60.0</td>\n",
       "      <td>9550</td>\n",
       "      <td>Pave</td>\n",
       "      <td>NaN</td>\n",
       "      <td>IR1</td>\n",
       "      <td>Lvl</td>\n",
       "      <td>AllPub</td>\n",
       "      <td>...</td>\n",
       "      <td>0</td>\n",
       "      <td>NaN</td>\n",
       "      <td>NaN</td>\n",
       "      <td>NaN</td>\n",
       "      <td>0</td>\n",
       "      <td>2</td>\n",
       "      <td>2006</td>\n",
       "      <td>WD</td>\n",
       "      <td>Abnorml</td>\n",
       "      <td>140000</td>\n",
       "    </tr>\n",
       "    <tr>\n",
       "      <th>4</th>\n",
       "      <td>5</td>\n",
       "      <td>60</td>\n",
       "      <td>RL</td>\n",
       "      <td>84.0</td>\n",
       "      <td>14260</td>\n",
       "      <td>Pave</td>\n",
       "      <td>NaN</td>\n",
       "      <td>IR1</td>\n",
       "      <td>Lvl</td>\n",
       "      <td>AllPub</td>\n",
       "      <td>...</td>\n",
       "      <td>0</td>\n",
       "      <td>NaN</td>\n",
       "      <td>NaN</td>\n",
       "      <td>NaN</td>\n",
       "      <td>0</td>\n",
       "      <td>12</td>\n",
       "      <td>2008</td>\n",
       "      <td>WD</td>\n",
       "      <td>Normal</td>\n",
       "      <td>250000</td>\n",
       "    </tr>\n",
       "  </tbody>\n",
       "</table>\n",
       "<p>5 rows × 81 columns</p>\n",
       "</div>"
      ],
      "text/plain": [
       "   Id  MSSubClass MSZoning  LotFrontage  LotArea Street Alley LotShape  \\\n",
       "0   1          60       RL         65.0     8450   Pave   NaN      Reg   \n",
       "1   2          20       RL         80.0     9600   Pave   NaN      Reg   \n",
       "2   3          60       RL         68.0    11250   Pave   NaN      IR1   \n",
       "3   4          70       RL         60.0     9550   Pave   NaN      IR1   \n",
       "4   5          60       RL         84.0    14260   Pave   NaN      IR1   \n",
       "\n",
       "  LandContour Utilities  ... PoolArea PoolQC Fence MiscFeature MiscVal MoSold  \\\n",
       "0         Lvl    AllPub  ...        0    NaN   NaN         NaN       0      2   \n",
       "1         Lvl    AllPub  ...        0    NaN   NaN         NaN       0      5   \n",
       "2         Lvl    AllPub  ...        0    NaN   NaN         NaN       0      9   \n",
       "3         Lvl    AllPub  ...        0    NaN   NaN         NaN       0      2   \n",
       "4         Lvl    AllPub  ...        0    NaN   NaN         NaN       0     12   \n",
       "\n",
       "  YrSold  SaleType  SaleCondition  SalePrice  \n",
       "0   2008        WD         Normal     208500  \n",
       "1   2007        WD         Normal     181500  \n",
       "2   2008        WD         Normal     223500  \n",
       "3   2006        WD        Abnorml     140000  \n",
       "4   2008        WD         Normal     250000  \n",
       "\n",
       "[5 rows x 81 columns]"
      ]
     },
     "execution_count": 1,
     "metadata": {},
     "output_type": "execute_result"
    }
   ],
   "source": [
    "# 라이브러리 및 데이터 불러오기\n",
    "import pandas as pd\n",
    "import numpy as np\n",
    "df = pd.read_csv('../input/house-prices-advanced-regression-techniques/train.csv')\n",
    "df.head()"
   ]
  },
  {
   "cell_type": "code",
   "execution_count": 2,
   "id": "af599634",
   "metadata": {
    "execution": {
     "iopub.execute_input": "2021-11-18T14:21:36.142861Z",
     "iopub.status.busy": "2021-11-18T14:21:36.142177Z",
     "iopub.status.idle": "2021-11-18T14:21:36.466416Z",
     "shell.execute_reply": "2021-11-18T14:21:36.465849Z",
     "shell.execute_reply.started": "2021-11-18T14:20:49.738414Z"
    },
    "papermill": {
     "duration": 0.348842,
     "end_time": "2021-11-18T14:21:36.466569",
     "exception": false,
     "start_time": "2021-11-18T14:21:36.117727",
     "status": "completed"
    },
    "tags": []
   },
   "outputs": [
    {
     "data": {
      "text/plain": [
       "<AxesSubplot:>"
      ]
     },
     "execution_count": 2,
     "metadata": {},
     "output_type": "execute_result"
    },
    {
     "data": {
      "image/png": "[encoded data removed]",
      "text/plain": [
       "<Figure size 432x288 with 1 Axes>"
      ]
     },
     "metadata": {
      "needs_background": "light"
     },
     "output_type": "display_data"
    }
   ],
   "source": [
    "df['SalePrice'].hist()"
   ]
  },
  {
   "cell_type": "code",
   "execution_count": 3,
   "id": "5eb3d959",
   "metadata": {
    "execution": {
     "iopub.execute_input": "2021-11-18T14:21:36.509277Z",
     "iopub.status.busy": "2021-11-18T14:21:36.508073Z",
     "iopub.status.idle": "2021-11-18T14:21:36.513844Z",
     "shell.execute_reply": "2021-11-18T14:21:36.514325Z",
     "shell.execute_reply.started": "2021-11-18T14:20:49.954275Z"
    },
    "papermill": {
     "duration": 0.030008,
     "end_time": "2021-11-18T14:21:36.514506",
     "exception": false,
     "start_time": "2021-11-18T14:21:36.484498",
     "status": "completed"
    },
    "tags": []
   },
   "outputs": [
    {
     "name": "stdout",
     "output_type": "stream",
     "text": [
      "왜도 :  1.8828757597682129 첨도 :  6.536281860064529\n"
     ]
    }
   ],
   "source": [
    "# 'SalePrice'컬럼 왜도와 첨도계산 \n",
    "sk1 = df['SalePrice'].skew()\n",
    "ku1 = df['SalePrice'].kurt()\n",
    "\n",
    "print(\"왜도 : \", sk1, \"첨도 : \", ku1)"
   ]
  },
  {
   "cell_type": "code",
   "execution_count": 4,
   "id": "217ece4b",
   "metadata": {
    "execution": {
     "iopub.execute_input": "2021-11-18T14:21:36.556025Z",
     "iopub.status.busy": "2021-11-18T14:21:36.555296Z",
     "iopub.status.idle": "2021-11-18T14:21:36.562076Z",
     "shell.execute_reply": "2021-11-18T14:21:36.562709Z",
     "shell.execute_reply.started": "2021-11-18T14:20:49.962949Z"
    },
    "papermill": {
     "duration": 0.029315,
     "end_time": "2021-11-18T14:21:36.562891",
     "exception": false,
     "start_time": "2021-11-18T14:21:36.533576",
     "status": "completed"
    },
    "tags": []
   },
   "outputs": [],
   "source": [
    "# 'SalePrice'컬럼 로그변환\n",
    "df['SalePrice'] = np.log1p(df['SalePrice']) # ln(x)\n",
    "#df['SalePrice'] = np.log(df['SalePrice']) # ln(1+x) : 작은 값에 대하여 더 높은 정확도 제공"
   ]
  },
  {
   "cell_type": "code",
   "execution_count": 5,
   "id": "d6af1016",
   "metadata": {
    "execution": {
     "iopub.execute_input": "2021-11-18T14:21:36.604648Z",
     "iopub.status.busy": "2021-11-18T14:21:36.603904Z",
     "iopub.status.idle": "2021-11-18T14:21:36.840903Z",
     "shell.execute_reply": "2021-11-18T14:21:36.841427Z"
    },
    "papermill": {
     "duration": 0.260025,
     "end_time": "2021-11-18T14:21:36.841618",
     "exception": false,
     "start_time": "2021-11-18T14:21:36.581593",
     "status": "completed"
    },
    "tags": []
   },
   "outputs": [
    {
     "data": {
      "text/plain": [
       "<AxesSubplot:>"
      ]
     },
     "execution_count": 5,
     "metadata": {},
     "output_type": "execute_result"
    },
    {
     "data": {
      "image/png": "[encoded data removed]",
      "text/plain": [
       "<Figure size 432x288 with 1 Axes>"
      ]
     },
     "metadata": {
      "needs_background": "light"
     },
     "output_type": "display_data"
    }
   ],
   "source": [
    "df['SalePrice'].hist()"
   ]
  },
  {
   "cell_type": "code",
   "execution_count": 6,
   "id": "bf8faf9f",
   "metadata": {
    "execution": {
     "iopub.execute_input": "2021-11-18T14:21:36.884511Z",
     "iopub.status.busy": "2021-11-18T14:21:36.883665Z",
     "iopub.status.idle": "2021-11-18T14:21:36.890406Z",
     "shell.execute_reply": "2021-11-18T14:21:36.890942Z",
     "shell.execute_reply.started": "2021-11-18T14:20:49.975626Z"
    },
    "papermill": {
     "duration": 0.029996,
     "end_time": "2021-11-18T14:21:36.891122",
     "exception": false,
     "start_time": "2021-11-18T14:21:36.861126",
     "status": "completed"
    },
    "tags": []
   },
   "outputs": [
    {
     "name": "stdout",
     "output_type": "stream",
     "text": [
      "왜도 :  0.12134661989685333 첨도 :  0.809519155707878\n"
     ]
    }
   ],
   "source": [
    "# 'SalePrice'컬럼 왜도와 첨도계산 \n",
    "sk2 = df['SalePrice'].skew()\n",
    "ku2 = df['SalePrice'].kurt()\n",
    "\n",
    "print(\"왜도 : \", sk2, \"첨도 : \", ku2)"
   ]
  },
  {
   "cell_type": "code",
   "execution_count": 7,
   "id": "47efb00b",
   "metadata": {
    "execution": {
     "iopub.execute_input": "2021-11-18T14:21:36.934342Z",
     "iopub.status.busy": "2021-11-18T14:21:36.933610Z",
     "iopub.status.idle": "2021-11-18T14:21:36.938671Z",
     "shell.execute_reply": "2021-11-18T14:21:36.939338Z",
     "shell.execute_reply.started": "2021-11-18T14:20:49.988601Z"
    },
    "papermill": {
     "duration": 0.028732,
     "end_time": "2021-11-18T14:21:36.939527",
     "exception": false,
     "start_time": "2021-11-18T14:21:36.910795",
     "status": "completed"
    },
    "tags": []
   },
   "outputs": [
    {
     "name": "stdout",
     "output_type": "stream",
     "text": [
      "9.350023395437473\n",
      "9.35\n"
     ]
    }
   ],
   "source": [
    "# 모두 더한 다음 출력\n",
    "print(sk1+sk2+ku1+ku2)\n",
    "print(round(sk1+sk2+ku1+ku2,2))"
   ]
  },
  {
   "cell_type": "markdown",
   "id": "8554826b",
   "metadata": {
    "papermill": {
     "duration": 0.019395,
     "end_time": "2021-11-18T14:21:36.978932",
     "exception": false,
     "start_time": "2021-11-18T14:21:36.959537",
     "status": "completed"
    },
    "tags": []
   },
   "source": [
    "## Hint\n",
    "- DataFrame.skew() 왜도\n",
    "- DataFrame.kurt() 첨도"
   ]
  },
  {
   "cell_type": "markdown",
   "id": "10405a46",
   "metadata": {
    "papermill": {
     "duration": 0.019263,
     "end_time": "2021-11-18T14:21:37.017891",
     "exception": false,
     "start_time": "2021-11-18T14:21:36.998628",
     "status": "completed"
    },
    "tags": []
   },
   "source": [
    "## 풀이"
   ]
  },
  {
   "cell_type": "code",
   "execution_count": 8,
   "id": "8a694cd6",
   "metadata": {
    "_cell_guid": "b1076dfc-b9ad-4769-8c92-a6c4dae69d19",
    "_uuid": "8f2839f25d086af736a60e9eeb907d3b93b6e0e5",
    "execution": {
     "iopub.execute_input": "2021-11-18T14:21:37.061311Z",
     "iopub.status.busy": "2021-11-18T14:21:37.060630Z",
     "iopub.status.idle": "2021-11-18T14:21:37.065088Z",
     "shell.execute_reply": "2021-11-18T14:21:37.064220Z",
     "shell.execute_reply.started": "2021-11-18T14:20:50.000035Z"
    },
    "papermill": {
     "duration": 0.027688,
     "end_time": "2021-11-18T14:21:37.065253",
     "exception": false,
     "start_time": "2021-11-18T14:21:37.037565",
     "status": "completed"
    },
    "tags": []
   },
   "outputs": [],
   "source": [
    "# 라이브러리 불러오기\n",
    "import pandas as pd\n",
    "import numpy as np"
   ]
  },
  {
   "cell_type": "code",
   "execution_count": 9,
   "id": "f19a7d41",
   "metadata": {
    "execution": {
     "iopub.execute_input": "2021-11-18T14:21:37.109103Z",
     "iopub.status.busy": "2021-11-18T14:21:37.108468Z",
     "iopub.status.idle": "2021-11-18T14:21:37.136890Z",
     "shell.execute_reply": "2021-11-18T14:21:37.137505Z",
     "shell.execute_reply.started": "2021-11-18T14:20:50.012312Z"
    },
    "papermill": {
     "duration": 0.052013,
     "end_time": "2021-11-18T14:21:37.137686",
     "exception": false,
     "start_time": "2021-11-18T14:21:37.085673",
     "status": "completed"
    },
    "tags": []
   },
   "outputs": [
    {
     "data": {
      "text/plain": [
       "0    208500\n",
       "1    181500\n",
       "2    223500\n",
       "3    140000\n",
       "4    250000\n",
       "Name: SalePrice, dtype: int64"
      ]
     },
     "execution_count": 9,
     "metadata": {},
     "output_type": "execute_result"
    }
   ],
   "source": [
    "# 데이터 불러오기\n",
    "df = pd.read_csv(\"../input/house-prices-advanced-regression-techniques/train.csv\")\n",
    "df['SalePrice'].head()"
   ]
  },
  {
   "cell_type": "code",
   "execution_count": 10,
   "id": "841cf0c1",
   "metadata": {
    "execution": {
     "iopub.execute_input": "2021-11-18T14:21:37.208003Z",
     "iopub.status.busy": "2021-11-18T14:21:37.207340Z",
     "iopub.status.idle": "2021-11-18T14:21:37.441503Z",
     "shell.execute_reply": "2021-11-18T14:21:37.440898Z",
     "shell.execute_reply.started": "2021-11-18T14:20:50.050168Z"
    },
    "papermill": {
     "duration": 0.28272,
     "end_time": "2021-11-18T14:21:37.441649",
     "exception": false,
     "start_time": "2021-11-18T14:21:37.158929",
     "status": "completed"
    },
    "tags": []
   },
   "outputs": [
    {
     "data": {
      "text/plain": [
       "<AxesSubplot:>"
      ]
     },
     "execution_count": 10,
     "metadata": {},
     "output_type": "execute_result"
    },
    {
     "data": {
      "image/png": "[encoded data removed]",
      "text/plain": [
       "<Figure size 432x288 with 1 Axes>"
      ]
     },
     "metadata": {
      "needs_background": "light"
     },
     "output_type": "display_data"
    }
   ],
   "source": [
    "# EDA (시험에서는 시각화 불가)\n",
    "df['SalePrice'].hist()"
   ]
  },
  {
   "cell_type": "code",
   "execution_count": 11,
   "id": "418e6fb1",
   "metadata": {
    "execution": {
     "iopub.execute_input": "2021-11-18T14:21:37.492424Z",
     "iopub.status.busy": "2021-11-18T14:21:37.491565Z",
     "iopub.status.idle": "2021-11-18T14:21:37.495925Z",
     "shell.execute_reply": "2021-11-18T14:21:37.495286Z",
     "shell.execute_reply.started": "2021-11-18T14:20:50.309258Z"
    },
    "papermill": {
     "duration": 0.032265,
     "end_time": "2021-11-18T14:21:37.496064",
     "exception": false,
     "start_time": "2021-11-18T14:21:37.463799",
     "status": "completed"
    },
    "tags": []
   },
   "outputs": [
    {
     "name": "stdout",
     "output_type": "stream",
     "text": [
      "왜도: 1.8828757597682129\n",
      "첨도: 6.536281860064529\n"
     ]
    }
   ],
   "source": [
    "# 'SalePrice'컬럼 왜도와 첨도계산\n",
    "s1 = df['SalePrice'].skew()\n",
    "k1 = df['SalePrice'].kurt()\n",
    "print(\"왜도:\" ,s1)\n",
    "print(\"첨도:\" ,k1)"
   ]
  },
  {
   "cell_type": "code",
   "execution_count": 12,
   "id": "6ad67bbb",
   "metadata": {
    "execution": {
     "iopub.execute_input": "2021-11-18T14:21:37.545014Z",
     "iopub.status.busy": "2021-11-18T14:21:37.544175Z",
     "iopub.status.idle": "2021-11-18T14:21:37.547445Z",
     "shell.execute_reply": "2021-11-18T14:21:37.546882Z",
     "shell.execute_reply.started": "2021-11-18T14:20:50.317771Z"
    },
    "papermill": {
     "duration": 0.029856,
     "end_time": "2021-11-18T14:21:37.547593",
     "exception": false,
     "start_time": "2021-11-18T14:21:37.517737",
     "status": "completed"
    },
    "tags": []
   },
   "outputs": [],
   "source": [
    "# 'SalePrice'컬럼 로그변환\n",
    "df['SalePrice'] = np.log1p(df['SalePrice'])"
   ]
  },
  {
   "cell_type": "code",
   "execution_count": 13,
   "id": "badeda05",
   "metadata": {
    "execution": {
     "iopub.execute_input": "2021-11-18T14:21:37.594061Z",
     "iopub.status.busy": "2021-11-18T14:21:37.593380Z",
     "iopub.status.idle": "2021-11-18T14:21:37.845247Z",
     "shell.execute_reply": "2021-11-18T14:21:37.844661Z",
     "shell.execute_reply.started": "2021-11-18T14:20:50.330714Z"
    },
    "papermill": {
     "duration": 0.276382,
     "end_time": "2021-11-18T14:21:37.845412",
     "exception": false,
     "start_time": "2021-11-18T14:21:37.569030",
     "status": "completed"
    },
    "tags": []
   },
   "outputs": [
    {
     "data": {
      "text/plain": [
       "<AxesSubplot:>"
      ]
     },
     "execution_count": 13,
     "metadata": {},
     "output_type": "execute_result"
    },
    {
     "data": {
      "image/png": "[encoded data removed]",
      "text/plain": [
       "<Figure size 432x288 with 1 Axes>"
      ]
     },
     "metadata": {
      "needs_background": "light"
     },
     "output_type": "display_data"
    }
   ],
   "source": [
    "# EDA (시험에서는 시각화 불가)\n",
    "df['SalePrice'].hist()"
   ]
  },
  {
   "cell_type": "code",
   "execution_count": 14,
   "id": "eac1bf01",
   "metadata": {
    "execution": {
     "iopub.execute_input": "2021-11-18T14:21:37.895735Z",
     "iopub.status.busy": "2021-11-18T14:21:37.894999Z",
     "iopub.status.idle": "2021-11-18T14:21:37.902938Z",
     "shell.execute_reply": "2021-11-18T14:21:37.903570Z",
     "shell.execute_reply.started": "2021-11-18T14:20:50.566466Z"
    },
    "papermill": {
     "duration": 0.035497,
     "end_time": "2021-11-18T14:21:37.903753",
     "exception": false,
     "start_time": "2021-11-18T14:21:37.868256",
     "status": "completed"
    },
    "tags": []
   },
   "outputs": [
    {
     "name": "stdout",
     "output_type": "stream",
     "text": [
      "왜도: 0.12134661989685333\n",
      "첨도: 0.809519155707878\n"
     ]
    }
   ],
   "source": [
    "# 'SalePrice'컬럼 왜도와 첨도계산\n",
    "s2 = df['SalePrice'].skew()\n",
    "k2 = df['SalePrice'].kurt()\n",
    "print(\"왜도:\" ,s2)\n",
    "print(\"첨도:\" ,k2)"
   ]
  },
  {
   "cell_type": "code",
   "execution_count": 15,
   "id": "6d376375",
   "metadata": {
    "execution": {
     "iopub.execute_input": "2021-11-18T14:21:37.964383Z",
     "iopub.status.busy": "2021-11-18T14:21:37.963374Z",
     "iopub.status.idle": "2021-11-18T14:21:37.967413Z",
     "shell.execute_reply": "2021-11-18T14:21:37.968240Z",
     "shell.execute_reply.started": "2021-11-18T14:20:50.575042Z"
    },
    "papermill": {
     "duration": 0.039162,
     "end_time": "2021-11-18T14:21:37.968464",
     "exception": false,
     "start_time": "2021-11-18T14:21:37.929302",
     "status": "completed"
    },
    "tags": []
   },
   "outputs": [
    {
     "name": "stdout",
     "output_type": "stream",
     "text": [
      "9.35\n"
     ]
    }
   ],
   "source": [
    "# 모두 더한 다음 출력\n",
    "print(round(s1+s2+k1+k2,2))"
   ]
  },
  {
   "cell_type": "code",
   "execution_count": null,
   "id": "1815bdef",
   "metadata": {
    "papermill": {
     "duration": 0.028231,
     "end_time": "2021-11-18T14:21:38.028661",
     "exception": false,
     "start_time": "2021-11-18T14:21:38.000430",
     "status": "completed"
    },
    "tags": []
   },
   "outputs": [],
   "source": []
  }
 ],
 "metadata": {
  "kernelspec": {
   "display_name": "Python 3",
   "language": "python",
   "name": "python3"
  },
  "language_info": {
   "codemirror_mode": {
    "name": "ipython",
    "version": 3
   },
   "file_extension": ".py",
   "mimetype": "text/x-python",
   "name": "python",
   "nbconvert_exporter": "python",
   "pygments_lexer": "ipython3",
   "version": "3.7.10"
  },
  "papermill": {
   "default_parameters": {},
   "duration": 11.382737,
   "end_time": "2021-11-18T14:21:38.661369",
   "environment_variables": {},
   "exception": null,
   "input_path": "__notebook__.ipynb",
   "output_path": "__notebook__.ipynb",
   "parameters": {},
   "start_time": "2021-11-18T14:21:27.278632",
   "version": "2.3.3"
  }
 },
 "nbformat": 4,
 "nbformat_minor": 5
}
