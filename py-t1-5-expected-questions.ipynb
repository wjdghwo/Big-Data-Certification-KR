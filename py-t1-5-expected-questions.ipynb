{
 "cells": [
  {
   "cell_type": "markdown",
   "id": "3c2bfa70",
   "metadata": {
    "papermill": {
     "duration": 0.014111,
     "end_time": "2021-11-18T15:02:42.882194",
     "exception": false,
     "start_time": "2021-11-18T15:02:42.868083",
     "status": "completed"
    },
    "tags": []
   },
   "source": [
    "## 조건에 맞는 데이터 표준편차 구하기\n",
    "- 주어진 데이터 중 basic1.csv에서 'f4'컬럼 값이 'ENFJ'와 'INFP'인 'f1'의 표준편차 차이를 절대값으로 구하시오\n",
    "- 데이터셋 : basic1.csv\n",
    "- 오른쪽 상단 copy&edit 클릭 -> 예상문제 풀이 시작"
   ]
  },
  {
   "cell_type": "code",
   "execution_count": 1,
   "id": "10388296",
   "metadata": {
    "execution": {
     "iopub.execute_input": "2021-11-18T15:02:42.918031Z",
     "iopub.status.busy": "2021-11-18T15:02:42.915644Z",
     "iopub.status.idle": "2021-11-18T15:02:42.963897Z",
     "shell.execute_reply": "2021-11-18T15:02:42.964387Z",
     "shell.execute_reply.started": "2021-11-18T14:50:15.718912Z"
    },
    "papermill": {
     "duration": 0.069736,
     "end_time": "2021-11-18T15:02:42.964696",
     "exception": false,
     "start_time": "2021-11-18T15:02:42.894960",
     "status": "completed"
    },
    "tags": []
   },
   "outputs": [
    {
     "data": {
      "text/html": [
       "<div>\n",
       "<style scoped>\n",
       "    .dataframe tbody tr th:only-of-type {\n",
       "        vertical-align: middle;\n",
       "    }\n",
       "\n",
       "    .dataframe tbody tr th {\n",
       "        vertical-align: top;\n",
       "    }\n",
       "\n",
       "    .dataframe thead th {\n",
       "        text-align: right;\n",
       "    }\n",
       "</style>\n",
       "<table border=\"1\" class=\"dataframe\">\n",
       "  <thead>\n",
       "    <tr style=\"text-align: right;\">\n",
       "      <th></th>\n",
       "      <th>id</th>\n",
       "      <th>age</th>\n",
       "      <th>city</th>\n",
       "      <th>f1</th>\n",
       "      <th>f2</th>\n",
       "      <th>f3</th>\n",
       "      <th>f4</th>\n",
       "      <th>f5</th>\n",
       "    </tr>\n",
       "  </thead>\n",
       "  <tbody>\n",
       "    <tr>\n",
       "      <th>0</th>\n",
       "      <td>id01</td>\n",
       "      <td>2.0</td>\n",
       "      <td>서울</td>\n",
       "      <td>NaN</td>\n",
       "      <td>0</td>\n",
       "      <td>NaN</td>\n",
       "      <td>ENFJ</td>\n",
       "      <td>91.297791</td>\n",
       "    </tr>\n",
       "    <tr>\n",
       "      <th>1</th>\n",
       "      <td>id02</td>\n",
       "      <td>9.0</td>\n",
       "      <td>서울</td>\n",
       "      <td>70.0</td>\n",
       "      <td>1</td>\n",
       "      <td>NaN</td>\n",
       "      <td>ENFJ</td>\n",
       "      <td>60.339826</td>\n",
       "    </tr>\n",
       "    <tr>\n",
       "      <th>2</th>\n",
       "      <td>id03</td>\n",
       "      <td>27.0</td>\n",
       "      <td>서울</td>\n",
       "      <td>61.0</td>\n",
       "      <td>1</td>\n",
       "      <td>NaN</td>\n",
       "      <td>ISTJ</td>\n",
       "      <td>17.252986</td>\n",
       "    </tr>\n",
       "    <tr>\n",
       "      <th>3</th>\n",
       "      <td>id04</td>\n",
       "      <td>75.0</td>\n",
       "      <td>서울</td>\n",
       "      <td>NaN</td>\n",
       "      <td>2</td>\n",
       "      <td>NaN</td>\n",
       "      <td>INFP</td>\n",
       "      <td>52.667078</td>\n",
       "    </tr>\n",
       "    <tr>\n",
       "      <th>4</th>\n",
       "      <td>id05</td>\n",
       "      <td>24.0</td>\n",
       "      <td>서울</td>\n",
       "      <td>85.0</td>\n",
       "      <td>2</td>\n",
       "      <td>NaN</td>\n",
       "      <td>ISFJ</td>\n",
       "      <td>29.269869</td>\n",
       "    </tr>\n",
       "  </tbody>\n",
       "</table>\n",
       "</div>"
      ],
      "text/plain": [
       "     id   age city    f1  f2   f3    f4         f5\n",
       "0  id01   2.0   서울   NaN   0  NaN  ENFJ  91.297791\n",
       "1  id02   9.0   서울  70.0   1  NaN  ENFJ  60.339826\n",
       "2  id03  27.0   서울  61.0   1  NaN  ISTJ  17.252986\n",
       "3  id04  75.0   서울   NaN   2  NaN  INFP  52.667078\n",
       "4  id05  24.0   서울  85.0   2  NaN  ISFJ  29.269869"
      ]
     },
     "execution_count": 1,
     "metadata": {},
     "output_type": "execute_result"
    }
   ],
   "source": [
    "# 라이브러리 및 데이터 불러오기\n",
    "import numpy as np\n",
    "import pandas as pd\n",
    "df = pd.read_csv('../input/bigdatacertificationkr/basic1.csv')\n",
    "df.head()"
   ]
  },
  {
   "cell_type": "code",
   "execution_count": 2,
   "id": "9da5544b",
   "metadata": {
    "execution": {
     "iopub.execute_input": "2021-11-18T15:02:43.001364Z",
     "iopub.status.busy": "2021-11-18T15:02:42.992920Z",
     "iopub.status.idle": "2021-11-18T15:02:43.003733Z",
     "shell.execute_reply": "2021-11-18T15:02:43.004246Z",
     "shell.execute_reply.started": "2021-11-18T14:53:06.15545Z"
    },
    "papermill": {
     "duration": 0.026516,
     "end_time": "2021-11-18T15:02:43.004408",
     "exception": false,
     "start_time": "2021-11-18T15:02:42.977892",
     "status": "completed"
    },
    "tags": []
   },
   "outputs": [],
   "source": [
    "# 조건에 맞는 데이터 (ENFJ, INFP)\n",
    "ENFJ = df[df['f4']=='ENFJ']\n",
    "INFP = df[df['f4']=='INFP']"
   ]
  },
  {
   "cell_type": "code",
   "execution_count": 3,
   "id": "53a929d6",
   "metadata": {
    "execution": {
     "iopub.execute_input": "2021-11-18T15:02:43.045017Z",
     "iopub.status.busy": "2021-11-18T15:02:43.044040Z",
     "iopub.status.idle": "2021-11-18T15:02:43.047517Z",
     "shell.execute_reply": "2021-11-18T15:02:43.048048Z"
    },
    "papermill": {
     "duration": 0.030951,
     "end_time": "2021-11-18T15:02:43.048213",
     "exception": false,
     "start_time": "2021-11-18T15:02:43.017262",
     "status": "completed"
    },
    "tags": []
   },
   "outputs": [
    {
     "data": {
      "text/html": [
       "<div>\n",
       "<style scoped>\n",
       "    .dataframe tbody tr th:only-of-type {\n",
       "        vertical-align: middle;\n",
       "    }\n",
       "\n",
       "    .dataframe tbody tr th {\n",
       "        vertical-align: top;\n",
       "    }\n",
       "\n",
       "    .dataframe thead th {\n",
       "        text-align: right;\n",
       "    }\n",
       "</style>\n",
       "<table border=\"1\" class=\"dataframe\">\n",
       "  <thead>\n",
       "    <tr style=\"text-align: right;\">\n",
       "      <th></th>\n",
       "      <th>id</th>\n",
       "      <th>age</th>\n",
       "      <th>city</th>\n",
       "      <th>f1</th>\n",
       "      <th>f2</th>\n",
       "      <th>f3</th>\n",
       "      <th>f4</th>\n",
       "      <th>f5</th>\n",
       "    </tr>\n",
       "  </thead>\n",
       "  <tbody>\n",
       "    <tr>\n",
       "      <th>0</th>\n",
       "      <td>id01</td>\n",
       "      <td>2.0</td>\n",
       "      <td>서울</td>\n",
       "      <td>NaN</td>\n",
       "      <td>0</td>\n",
       "      <td>NaN</td>\n",
       "      <td>ENFJ</td>\n",
       "      <td>91.297791</td>\n",
       "    </tr>\n",
       "    <tr>\n",
       "      <th>1</th>\n",
       "      <td>id02</td>\n",
       "      <td>9.0</td>\n",
       "      <td>서울</td>\n",
       "      <td>70.0</td>\n",
       "      <td>1</td>\n",
       "      <td>NaN</td>\n",
       "      <td>ENFJ</td>\n",
       "      <td>60.339826</td>\n",
       "    </tr>\n",
       "    <tr>\n",
       "      <th>32</th>\n",
       "      <td>id33</td>\n",
       "      <td>47.0</td>\n",
       "      <td>부산</td>\n",
       "      <td>94.0</td>\n",
       "      <td>0</td>\n",
       "      <td>NaN</td>\n",
       "      <td>ENFJ</td>\n",
       "      <td>17.252986</td>\n",
       "    </tr>\n",
       "    <tr>\n",
       "      <th>40</th>\n",
       "      <td>id41</td>\n",
       "      <td>81.0</td>\n",
       "      <td>대구</td>\n",
       "      <td>55.0</td>\n",
       "      <td>0</td>\n",
       "      <td>NaN</td>\n",
       "      <td>ENFJ</td>\n",
       "      <td>37.113739</td>\n",
       "    </tr>\n",
       "    <tr>\n",
       "      <th>44</th>\n",
       "      <td>id45</td>\n",
       "      <td>97.0</td>\n",
       "      <td>대구</td>\n",
       "      <td>88.0</td>\n",
       "      <td>0</td>\n",
       "      <td>NaN</td>\n",
       "      <td>ENFJ</td>\n",
       "      <td>13.049921</td>\n",
       "    </tr>\n",
       "    <tr>\n",
       "      <th>53</th>\n",
       "      <td>id54</td>\n",
       "      <td>53.0</td>\n",
       "      <td>대구</td>\n",
       "      <td>NaN</td>\n",
       "      <td>1</td>\n",
       "      <td>NaN</td>\n",
       "      <td>ENFJ</td>\n",
       "      <td>69.730313</td>\n",
       "    </tr>\n",
       "  </tbody>\n",
       "</table>\n",
       "</div>"
      ],
      "text/plain": [
       "      id   age city    f1  f2   f3    f4         f5\n",
       "0   id01   2.0   서울   NaN   0  NaN  ENFJ  91.297791\n",
       "1   id02   9.0   서울  70.0   1  NaN  ENFJ  60.339826\n",
       "32  id33  47.0   부산  94.0   0  NaN  ENFJ  17.252986\n",
       "40  id41  81.0   대구  55.0   0  NaN  ENFJ  37.113739\n",
       "44  id45  97.0   대구  88.0   0  NaN  ENFJ  13.049921\n",
       "53  id54  53.0   대구   NaN   1  NaN  ENFJ  69.730313"
      ]
     },
     "execution_count": 3,
     "metadata": {},
     "output_type": "execute_result"
    }
   ],
   "source": [
    "ENFJ"
   ]
  },
  {
   "cell_type": "code",
   "execution_count": 4,
   "id": "afef2e60",
   "metadata": {
    "execution": {
     "iopub.execute_input": "2021-11-18T15:02:43.089847Z",
     "iopub.status.busy": "2021-11-18T15:02:43.089132Z",
     "iopub.status.idle": "2021-11-18T15:02:43.092162Z",
     "shell.execute_reply": "2021-11-18T15:02:43.092628Z"
    },
    "papermill": {
     "duration": 0.030565,
     "end_time": "2021-11-18T15:02:43.092813",
     "exception": false,
     "start_time": "2021-11-18T15:02:43.062248",
     "status": "completed"
    },
    "tags": []
   },
   "outputs": [
    {
     "data": {
      "text/html": [
       "<div>\n",
       "<style scoped>\n",
       "    .dataframe tbody tr th:only-of-type {\n",
       "        vertical-align: middle;\n",
       "    }\n",
       "\n",
       "    .dataframe tbody tr th {\n",
       "        vertical-align: top;\n",
       "    }\n",
       "\n",
       "    .dataframe thead th {\n",
       "        text-align: right;\n",
       "    }\n",
       "</style>\n",
       "<table border=\"1\" class=\"dataframe\">\n",
       "  <thead>\n",
       "    <tr style=\"text-align: right;\">\n",
       "      <th></th>\n",
       "      <th>id</th>\n",
       "      <th>age</th>\n",
       "      <th>city</th>\n",
       "      <th>f1</th>\n",
       "      <th>f2</th>\n",
       "      <th>f3</th>\n",
       "      <th>f4</th>\n",
       "      <th>f5</th>\n",
       "    </tr>\n",
       "  </thead>\n",
       "  <tbody>\n",
       "    <tr>\n",
       "      <th>3</th>\n",
       "      <td>id04</td>\n",
       "      <td>75.0</td>\n",
       "      <td>서울</td>\n",
       "      <td>NaN</td>\n",
       "      <td>2</td>\n",
       "      <td>NaN</td>\n",
       "      <td>INFP</td>\n",
       "      <td>52.667078</td>\n",
       "    </tr>\n",
       "    <tr>\n",
       "      <th>33</th>\n",
       "      <td>id34</td>\n",
       "      <td>65.0</td>\n",
       "      <td>부산</td>\n",
       "      <td>NaN</td>\n",
       "      <td>1</td>\n",
       "      <td>NaN</td>\n",
       "      <td>INFP</td>\n",
       "      <td>48.431184</td>\n",
       "    </tr>\n",
       "    <tr>\n",
       "      <th>76</th>\n",
       "      <td>id77</td>\n",
       "      <td>77.0</td>\n",
       "      <td>경기</td>\n",
       "      <td>31.0</td>\n",
       "      <td>0</td>\n",
       "      <td>NaN</td>\n",
       "      <td>INFP</td>\n",
       "      <td>98.429899</td>\n",
       "    </tr>\n",
       "    <tr>\n",
       "      <th>91</th>\n",
       "      <td>id92</td>\n",
       "      <td>97.0</td>\n",
       "      <td>경기</td>\n",
       "      <td>78.0</td>\n",
       "      <td>1</td>\n",
       "      <td>NaN</td>\n",
       "      <td>INFP</td>\n",
       "      <td>97.381034</td>\n",
       "    </tr>\n",
       "    <tr>\n",
       "      <th>96</th>\n",
       "      <td>id97</td>\n",
       "      <td>100.0</td>\n",
       "      <td>경기</td>\n",
       "      <td>NaN</td>\n",
       "      <td>0</td>\n",
       "      <td>NaN</td>\n",
       "      <td>INFP</td>\n",
       "      <td>67.886373</td>\n",
       "    </tr>\n",
       "    <tr>\n",
       "      <th>97</th>\n",
       "      <td>id98</td>\n",
       "      <td>39.0</td>\n",
       "      <td>경기</td>\n",
       "      <td>58.0</td>\n",
       "      <td>2</td>\n",
       "      <td>NaN</td>\n",
       "      <td>INFP</td>\n",
       "      <td>98.429899</td>\n",
       "    </tr>\n",
       "  </tbody>\n",
       "</table>\n",
       "</div>"
      ],
      "text/plain": [
       "      id    age city    f1  f2   f3    f4         f5\n",
       "3   id04   75.0   서울   NaN   2  NaN  INFP  52.667078\n",
       "33  id34   65.0   부산   NaN   1  NaN  INFP  48.431184\n",
       "76  id77   77.0   경기  31.0   0  NaN  INFP  98.429899\n",
       "91  id92   97.0   경기  78.0   1  NaN  INFP  97.381034\n",
       "96  id97  100.0   경기   NaN   0  NaN  INFP  67.886373\n",
       "97  id98   39.0   경기  58.0   2  NaN  INFP  98.429899"
      ]
     },
     "execution_count": 4,
     "metadata": {},
     "output_type": "execute_result"
    }
   ],
   "source": [
    "INFP"
   ]
  },
  {
   "cell_type": "code",
   "execution_count": 5,
   "id": "25a2aff0",
   "metadata": {
    "execution": {
     "iopub.execute_input": "2021-11-18T15:02:43.126263Z",
     "iopub.status.busy": "2021-11-18T15:02:43.125532Z",
     "iopub.status.idle": "2021-11-18T15:02:43.128312Z",
     "shell.execute_reply": "2021-11-18T15:02:43.127828Z",
     "shell.execute_reply.started": "2021-11-18T14:54:55.280428Z"
    },
    "papermill": {
     "duration": 0.021639,
     "end_time": "2021-11-18T15:02:43.128453",
     "exception": false,
     "start_time": "2021-11-18T15:02:43.106814",
     "status": "completed"
    },
    "tags": []
   },
   "outputs": [],
   "source": [
    "# 조건에 맞는 f1의 표준편차 (ENFJ, INFP)\n",
    "ENFJ_sd = ENFJ.f1.std()\n",
    "INFP_sd = INFP.f1.std()"
   ]
  },
  {
   "cell_type": "code",
   "execution_count": 6,
   "id": "b146b486",
   "metadata": {
    "execution": {
     "iopub.execute_input": "2021-11-18T15:02:43.161946Z",
     "iopub.status.busy": "2021-11-18T15:02:43.160985Z",
     "iopub.status.idle": "2021-11-18T15:02:43.165281Z",
     "shell.execute_reply": "2021-11-18T15:02:43.164370Z"
    },
    "papermill": {
     "duration": 0.023105,
     "end_time": "2021-11-18T15:02:43.165472",
     "exception": false,
     "start_time": "2021-11-18T15:02:43.142367",
     "status": "completed"
    },
    "tags": []
   },
   "outputs": [
    {
     "name": "stdout",
     "output_type": "stream",
     "text": [
      "17.727097901235837 23.586719427112648\n"
     ]
    }
   ],
   "source": [
    "print(ENFJ_sd, INFP_sd)"
   ]
  },
  {
   "cell_type": "code",
   "execution_count": 7,
   "id": "64ffced4",
   "metadata": {
    "execution": {
     "iopub.execute_input": "2021-11-18T15:02:43.209762Z",
     "iopub.status.busy": "2021-11-18T15:02:43.208843Z",
     "iopub.status.idle": "2021-11-18T15:02:43.212232Z",
     "shell.execute_reply": "2021-11-18T15:02:43.213130Z",
     "shell.execute_reply.started": "2021-11-18T15:00:37.966416Z"
    },
    "papermill": {
     "duration": 0.027759,
     "end_time": "2021-11-18T15:02:43.213361",
     "exception": false,
     "start_time": "2021-11-18T15:02:43.185602",
     "status": "completed"
    },
    "tags": []
   },
   "outputs": [
    {
     "name": "stdout",
     "output_type": "stream",
     "text": [
      "5.859621525876811\n"
     ]
    }
   ],
   "source": [
    "# 두 표준편차 차이 절대값 출력\n",
    "print(np.abs(ENFJ_sd - INFP_sd))"
   ]
  },
  {
   "cell_type": "markdown",
   "id": "8b6bf757",
   "metadata": {
    "papermill": {
     "duration": 0.014601,
     "end_time": "2021-11-18T15:02:43.248508",
     "exception": false,
     "start_time": "2021-11-18T15:02:43.233907",
     "status": "completed"
    },
    "tags": []
   },
   "source": [
    "## Hint\n",
    "- 절대 값 : np.abs()\n",
    "- 표준편차 : DataFrame.std()"
   ]
  },
  {
   "cell_type": "markdown",
   "id": "38e6b670",
   "metadata": {
    "papermill": {
     "duration": 0.014919,
     "end_time": "2021-11-18T15:02:43.278811",
     "exception": false,
     "start_time": "2021-11-18T15:02:43.263892",
     "status": "completed"
    },
    "tags": []
   },
   "source": [
    "## 풀이"
   ]
  },
  {
   "cell_type": "code",
   "execution_count": 8,
   "id": "c068cbb9",
   "metadata": {
    "_cell_guid": "b1076dfc-b9ad-4769-8c92-a6c4dae69d19",
    "_uuid": "8f2839f25d086af736a60e9eeb907d3b93b6e0e5",
    "execution": {
     "iopub.execute_input": "2021-11-18T15:02:43.316020Z",
     "iopub.status.busy": "2021-11-18T15:02:43.315017Z",
     "iopub.status.idle": "2021-11-18T15:02:43.329990Z",
     "shell.execute_reply": "2021-11-18T15:02:43.330469Z",
     "shell.execute_reply.started": "2021-10-29T06:32:05.330857Z"
    },
    "papermill": {
     "duration": 0.035297,
     "end_time": "2021-11-18T15:02:43.330625",
     "exception": false,
     "start_time": "2021-11-18T15:02:43.295328",
     "status": "completed"
    },
    "tags": []
   },
   "outputs": [
    {
     "data": {
      "text/html": [
       "<div>\n",
       "<style scoped>\n",
       "    .dataframe tbody tr th:only-of-type {\n",
       "        vertical-align: middle;\n",
       "    }\n",
       "\n",
       "    .dataframe tbody tr th {\n",
       "        vertical-align: top;\n",
       "    }\n",
       "\n",
       "    .dataframe thead th {\n",
       "        text-align: right;\n",
       "    }\n",
       "</style>\n",
       "<table border=\"1\" class=\"dataframe\">\n",
       "  <thead>\n",
       "    <tr style=\"text-align: right;\">\n",
       "      <th></th>\n",
       "      <th>id</th>\n",
       "      <th>age</th>\n",
       "      <th>city</th>\n",
       "      <th>f1</th>\n",
       "      <th>f2</th>\n",
       "      <th>f3</th>\n",
       "      <th>f4</th>\n",
       "      <th>f5</th>\n",
       "    </tr>\n",
       "  </thead>\n",
       "  <tbody>\n",
       "    <tr>\n",
       "      <th>0</th>\n",
       "      <td>id01</td>\n",
       "      <td>2.0</td>\n",
       "      <td>서울</td>\n",
       "      <td>NaN</td>\n",
       "      <td>0</td>\n",
       "      <td>NaN</td>\n",
       "      <td>ENFJ</td>\n",
       "      <td>91.297791</td>\n",
       "    </tr>\n",
       "    <tr>\n",
       "      <th>1</th>\n",
       "      <td>id02</td>\n",
       "      <td>9.0</td>\n",
       "      <td>서울</td>\n",
       "      <td>70.0</td>\n",
       "      <td>1</td>\n",
       "      <td>NaN</td>\n",
       "      <td>ENFJ</td>\n",
       "      <td>60.339826</td>\n",
       "    </tr>\n",
       "    <tr>\n",
       "      <th>2</th>\n",
       "      <td>id03</td>\n",
       "      <td>27.0</td>\n",
       "      <td>서울</td>\n",
       "      <td>61.0</td>\n",
       "      <td>1</td>\n",
       "      <td>NaN</td>\n",
       "      <td>ISTJ</td>\n",
       "      <td>17.252986</td>\n",
       "    </tr>\n",
       "    <tr>\n",
       "      <th>3</th>\n",
       "      <td>id04</td>\n",
       "      <td>75.0</td>\n",
       "      <td>서울</td>\n",
       "      <td>NaN</td>\n",
       "      <td>2</td>\n",
       "      <td>NaN</td>\n",
       "      <td>INFP</td>\n",
       "      <td>52.667078</td>\n",
       "    </tr>\n",
       "    <tr>\n",
       "      <th>4</th>\n",
       "      <td>id05</td>\n",
       "      <td>24.0</td>\n",
       "      <td>서울</td>\n",
       "      <td>85.0</td>\n",
       "      <td>2</td>\n",
       "      <td>NaN</td>\n",
       "      <td>ISFJ</td>\n",
       "      <td>29.269869</td>\n",
       "    </tr>\n",
       "  </tbody>\n",
       "</table>\n",
       "</div>"
      ],
      "text/plain": [
       "     id   age city    f1  f2   f3    f4         f5\n",
       "0  id01   2.0   서울   NaN   0  NaN  ENFJ  91.297791\n",
       "1  id02   9.0   서울  70.0   1  NaN  ENFJ  60.339826\n",
       "2  id03  27.0   서울  61.0   1  NaN  ISTJ  17.252986\n",
       "3  id04  75.0   서울   NaN   2  NaN  INFP  52.667078\n",
       "4  id05  24.0   서울  85.0   2  NaN  ISFJ  29.269869"
      ]
     },
     "execution_count": 8,
     "metadata": {},
     "output_type": "execute_result"
    }
   ],
   "source": [
    "# 라이브러리 및 데이터 불러오기\n",
    "import pandas as pd\n",
    "import numpy as np\n",
    "\n",
    "df = pd.read_csv('../input/bigdatacertificationkr/basic1.csv')\n",
    "df.head()"
   ]
  },
  {
   "cell_type": "code",
   "execution_count": 9,
   "id": "fba5e085",
   "metadata": {
    "execution": {
     "iopub.execute_input": "2021-11-18T15:02:43.364683Z",
     "iopub.status.busy": "2021-11-18T15:02:43.363764Z",
     "iopub.status.idle": "2021-11-18T15:02:43.378240Z",
     "shell.execute_reply": "2021-11-18T15:02:43.378792Z",
     "shell.execute_reply.started": "2021-10-29T06:29:53.871399Z"
    },
    "papermill": {
     "duration": 0.03313,
     "end_time": "2021-11-18T15:02:43.378957",
     "exception": false,
     "start_time": "2021-11-18T15:02:43.345827",
     "status": "completed"
    },
    "tags": []
   },
   "outputs": [
    {
     "data": {
      "text/html": [
       "<div>\n",
       "<style scoped>\n",
       "    .dataframe tbody tr th:only-of-type {\n",
       "        vertical-align: middle;\n",
       "    }\n",
       "\n",
       "    .dataframe tbody tr th {\n",
       "        vertical-align: top;\n",
       "    }\n",
       "\n",
       "    .dataframe thead th {\n",
       "        text-align: right;\n",
       "    }\n",
       "</style>\n",
       "<table border=\"1\" class=\"dataframe\">\n",
       "  <thead>\n",
       "    <tr style=\"text-align: right;\">\n",
       "      <th></th>\n",
       "      <th>id</th>\n",
       "      <th>age</th>\n",
       "      <th>city</th>\n",
       "      <th>f1</th>\n",
       "      <th>f2</th>\n",
       "      <th>f3</th>\n",
       "      <th>f4</th>\n",
       "      <th>f5</th>\n",
       "    </tr>\n",
       "  </thead>\n",
       "  <tbody>\n",
       "    <tr>\n",
       "      <th>0</th>\n",
       "      <td>id01</td>\n",
       "      <td>2.0</td>\n",
       "      <td>서울</td>\n",
       "      <td>NaN</td>\n",
       "      <td>0</td>\n",
       "      <td>NaN</td>\n",
       "      <td>ENFJ</td>\n",
       "      <td>91.297791</td>\n",
       "    </tr>\n",
       "    <tr>\n",
       "      <th>1</th>\n",
       "      <td>id02</td>\n",
       "      <td>9.0</td>\n",
       "      <td>서울</td>\n",
       "      <td>70.0</td>\n",
       "      <td>1</td>\n",
       "      <td>NaN</td>\n",
       "      <td>ENFJ</td>\n",
       "      <td>60.339826</td>\n",
       "    </tr>\n",
       "    <tr>\n",
       "      <th>32</th>\n",
       "      <td>id33</td>\n",
       "      <td>47.0</td>\n",
       "      <td>부산</td>\n",
       "      <td>94.0</td>\n",
       "      <td>0</td>\n",
       "      <td>NaN</td>\n",
       "      <td>ENFJ</td>\n",
       "      <td>17.252986</td>\n",
       "    </tr>\n",
       "    <tr>\n",
       "      <th>40</th>\n",
       "      <td>id41</td>\n",
       "      <td>81.0</td>\n",
       "      <td>대구</td>\n",
       "      <td>55.0</td>\n",
       "      <td>0</td>\n",
       "      <td>NaN</td>\n",
       "      <td>ENFJ</td>\n",
       "      <td>37.113739</td>\n",
       "    </tr>\n",
       "    <tr>\n",
       "      <th>44</th>\n",
       "      <td>id45</td>\n",
       "      <td>97.0</td>\n",
       "      <td>대구</td>\n",
       "      <td>88.0</td>\n",
       "      <td>0</td>\n",
       "      <td>NaN</td>\n",
       "      <td>ENFJ</td>\n",
       "      <td>13.049921</td>\n",
       "    </tr>\n",
       "    <tr>\n",
       "      <th>53</th>\n",
       "      <td>id54</td>\n",
       "      <td>53.0</td>\n",
       "      <td>대구</td>\n",
       "      <td>NaN</td>\n",
       "      <td>1</td>\n",
       "      <td>NaN</td>\n",
       "      <td>ENFJ</td>\n",
       "      <td>69.730313</td>\n",
       "    </tr>\n",
       "  </tbody>\n",
       "</table>\n",
       "</div>"
      ],
      "text/plain": [
       "      id   age city    f1  f2   f3    f4         f5\n",
       "0   id01   2.0   서울   NaN   0  NaN  ENFJ  91.297791\n",
       "1   id02   9.0   서울  70.0   1  NaN  ENFJ  60.339826\n",
       "32  id33  47.0   부산  94.0   0  NaN  ENFJ  17.252986\n",
       "40  id41  81.0   대구  55.0   0  NaN  ENFJ  37.113739\n",
       "44  id45  97.0   대구  88.0   0  NaN  ENFJ  13.049921\n",
       "53  id54  53.0   대구   NaN   1  NaN  ENFJ  69.730313"
      ]
     },
     "execution_count": 9,
     "metadata": {},
     "output_type": "execute_result"
    }
   ],
   "source": [
    "# 조건에 맞는 데이터\n",
    "df[df['f4']=='ENFJ']"
   ]
  },
  {
   "cell_type": "code",
   "execution_count": 10,
   "id": "fed56ff9",
   "metadata": {
    "execution": {
     "iopub.execute_input": "2021-11-18T15:02:43.414352Z",
     "iopub.status.busy": "2021-11-18T15:02:43.413405Z",
     "iopub.status.idle": "2021-11-18T15:02:43.419802Z",
     "shell.execute_reply": "2021-11-18T15:02:43.420237Z",
     "shell.execute_reply.started": "2021-10-29T06:30:03.762019Z"
    },
    "papermill": {
     "duration": 0.025796,
     "end_time": "2021-11-18T15:02:43.420400",
     "exception": false,
     "start_time": "2021-11-18T15:02:43.394604",
     "status": "completed"
    },
    "tags": []
   },
   "outputs": [
    {
     "data": {
      "text/plain": [
       "17.727097901235837"
      ]
     },
     "execution_count": 10,
     "metadata": {},
     "output_type": "execute_result"
    }
   ],
   "source": [
    "df[df['f4']=='ENFJ']['f1'].std()"
   ]
  },
  {
   "cell_type": "code",
   "execution_count": 11,
   "id": "07140551",
   "metadata": {
    "execution": {
     "iopub.execute_input": "2021-11-18T15:02:43.456933Z",
     "iopub.status.busy": "2021-11-18T15:02:43.455953Z",
     "iopub.status.idle": "2021-11-18T15:02:43.462160Z",
     "shell.execute_reply": "2021-11-18T15:02:43.462630Z",
     "shell.execute_reply.started": "2021-10-29T06:30:17.153342Z"
    },
    "papermill": {
     "duration": 0.026404,
     "end_time": "2021-11-18T15:02:43.462803",
     "exception": false,
     "start_time": "2021-11-18T15:02:43.436399",
     "status": "completed"
    },
    "tags": []
   },
   "outputs": [
    {
     "data": {
      "text/plain": [
       "17.727097901235837"
      ]
     },
     "execution_count": 11,
     "metadata": {},
     "output_type": "execute_result"
    }
   ],
   "source": [
    "# 조건에 맞는 f1의 표준편차\n",
    "enfj = df[df['f4']=='ENFJ']['f1'].std()\n",
    "enfj"
   ]
  },
  {
   "cell_type": "code",
   "execution_count": 12,
   "id": "2a1e57a1",
   "metadata": {
    "execution": {
     "iopub.execute_input": "2021-11-18T15:02:43.499401Z",
     "iopub.status.busy": "2021-11-18T15:02:43.498420Z",
     "iopub.status.idle": "2021-11-18T15:02:43.504709Z",
     "shell.execute_reply": "2021-11-18T15:02:43.505192Z",
     "shell.execute_reply.started": "2021-10-29T06:30:35.689186Z"
    },
    "papermill": {
     "duration": 0.026228,
     "end_time": "2021-11-18T15:02:43.505349",
     "exception": false,
     "start_time": "2021-11-18T15:02:43.479121",
     "status": "completed"
    },
    "tags": []
   },
   "outputs": [
    {
     "data": {
      "text/plain": [
       "23.586719427112648"
      ]
     },
     "execution_count": 12,
     "metadata": {},
     "output_type": "execute_result"
    }
   ],
   "source": [
    "# 조건에 맞는 f1의 표준편차\n",
    "infp = df[df['f4']=='INFP']['f1'].std()\n",
    "infp"
   ]
  },
  {
   "cell_type": "code",
   "execution_count": 13,
   "id": "85de968f",
   "metadata": {
    "execution": {
     "iopub.execute_input": "2021-11-18T15:02:43.544016Z",
     "iopub.status.busy": "2021-11-18T15:02:43.543367Z",
     "iopub.status.idle": "2021-11-18T15:02:43.545605Z",
     "shell.execute_reply": "2021-11-18T15:02:43.546096Z",
     "shell.execute_reply.started": "2021-10-29T06:32:32.699381Z"
    },
    "papermill": {
     "duration": 0.024152,
     "end_time": "2021-11-18T15:02:43.546251",
     "exception": false,
     "start_time": "2021-11-18T15:02:43.522099",
     "status": "completed"
    },
    "tags": []
   },
   "outputs": [
    {
     "name": "stdout",
     "output_type": "stream",
     "text": [
      "5.859621525876811\n"
     ]
    }
   ],
   "source": [
    "# 두 표준편차 차이 절대값 출력\n",
    "print(np.abs(enfj - infp))"
   ]
  }
 ],
 "metadata": {
  "kernelspec": {
   "display_name": "Python 3",
   "language": "python",
   "name": "python3"
  },
  "language_info": {
   "codemirror_mode": {
    "name": "ipython",
    "version": 3
   },
   "file_extension": ".py",
   "mimetype": "text/x-python",
   "name": "python",
   "nbconvert_exporter": "python",
   "pygments_lexer": "ipython3",
   "version": "3.7.10"
  },
  "papermill": {
   "default_parameters": {},
   "duration": 9.159685,
   "end_time": "2021-11-18T15:02:44.070973",
   "environment_variables": {},
   "exception": null,
   "input_path": "__notebook__.ipynb",
   "output_path": "__notebook__.ipynb",
   "parameters": {},
   "start_time": "2021-11-18T15:02:34.911288",
   "version": "2.3.3"
  }
 },
 "nbformat": 4,
 "nbformat_minor": 5
}
