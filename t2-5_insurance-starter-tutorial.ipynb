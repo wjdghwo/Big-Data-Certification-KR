{
 "cells": [
  {
   "cell_type": "code",
   "execution_count": 1,
   "id": "5f192525",
   "metadata": {
    "_cell_guid": "b1076dfc-b9ad-4769-8c92-a6c4dae69d19",
    "_uuid": "8f2839f25d086af736a60e9eeb907d3b93b6e0e5",
    "execution": {
     "iopub.execute_input": "2021-11-28T06:06:49.845873Z",
     "iopub.status.busy": "2021-11-28T06:06:49.844585Z",
     "iopub.status.idle": "2021-11-28T06:06:50.899086Z",
     "shell.execute_reply": "2021-11-28T06:06:50.899659Z",
     "shell.execute_reply.started": "2021-11-28T05:57:03.668799Z"
    },
    "papermill": {
     "duration": 1.107746,
     "end_time": "2021-11-28T06:06:50.900069",
     "exception": false,
     "start_time": "2021-11-28T06:06:49.792323",
     "status": "completed"
    },
    "tags": []
   },
   "outputs": [
    {
     "data": {
      "text/plain": [
       "((1070, 7), (268, 7), (1070, 2), (268, 2))"
      ]
     },
     "execution_count": 1,
     "metadata": {},
     "output_type": "execute_result"
    }
   ],
   "source": [
    "# 시험환경 세팅 (코드 변경 X)\n",
    "import pandas as pd\n",
    "import numpy as np\n",
    "from sklearn.model_selection import train_test_split\n",
    "\n",
    "def exam_data_load(df, target, id_name=\"\", null_name=\"\"):\n",
    "    if id_name == \"\":\n",
    "        df = df.reset_index().rename(columns={\"index\": \"id\"})\n",
    "        id_name = 'id'\n",
    "    else:\n",
    "        id_name = id_name\n",
    "    \n",
    "    if null_name != \"\":\n",
    "        df[df == null_name] = np.nan\n",
    "    \n",
    "    X_train, X_test = train_test_split(df, test_size=0.2, random_state=2021)\n",
    "    \n",
    "    y_train = X_train[[id_name, target]]\n",
    "    X_train = X_train.drop(columns=[target])\n",
    "\n",
    "    \n",
    "    y_test = X_test[[id_name, target]]\n",
    "    X_test = X_test.drop(columns=[target])\n",
    "    return X_train, X_test, y_train, y_test \n",
    "    \n",
    "df = pd.read_csv(\"../input/insurance/insurance.csv\")\n",
    "X_train, X_test, y_train, y_test = exam_data_load(df, target='charges')\n",
    "\n",
    "X_train.shape, X_test.shape, y_train.shape, y_test.shape"
   ]
  },
  {
   "cell_type": "code",
   "execution_count": 2,
   "id": "b07676f1",
   "metadata": {
    "execution": {
     "iopub.execute_input": "2021-11-28T06:06:50.998796Z",
     "iopub.status.busy": "2021-11-28T06:06:50.997814Z",
     "iopub.status.idle": "2021-11-28T06:06:51.712443Z",
     "shell.execute_reply": "2021-11-28T06:06:51.713051Z",
     "shell.execute_reply.started": "2021-11-28T05:57:03.697852Z"
    },
    "papermill": {
     "duration": 0.764758,
     "end_time": "2021-11-28T06:06:51.713273",
     "exception": false,
     "start_time": "2021-11-28T06:06:50.948515",
     "status": "completed"
    },
    "tags": []
   },
   "outputs": [],
   "source": [
    "import sklearn\n",
    "from sklearn import *\n",
    "from sklearn.impute import SimpleImputer\n",
    "from sklearn.ensemble import AdaBoostRegressor, ExtraTreesRegressor, GradientBoostingRegressor, RandomForestRegressor\n",
    "from sklearn.linear_model import LinearRegression, Ridge, Lasso, PassiveAggressiveRegressor, SGDRegressor\n",
    "from sklearn.metrics import mean_squared_error,mean_squared_log_error\n",
    "from sklearn.model_selection import train_test_split, GridSearchCV\n",
    "from sklearn.preprocessing import StandardScaler, LabelEncoder\n",
    "from sklearn.svm import SVR\n",
    "from sklearn.tree import DecisionTreeRegressor\n",
    "import xgboost as xg\n",
    "from xgboost import XGBRFRegressor, XGBRegressor"
   ]
  },
  {
   "cell_type": "code",
   "execution_count": 3,
   "id": "1e43003c",
   "metadata": {
    "execution": {
     "iopub.execute_input": "2021-11-28T06:06:51.825679Z",
     "iopub.status.busy": "2021-11-28T06:06:51.824399Z",
     "iopub.status.idle": "2021-11-28T06:06:51.827915Z",
     "shell.execute_reply": "2021-11-28T06:06:51.828705Z",
     "shell.execute_reply.started": "2021-11-28T05:57:03.707050Z"
    },
    "papermill": {
     "duration": 0.0687,
     "end_time": "2021-11-28T06:06:51.829019",
     "exception": false,
     "start_time": "2021-11-28T06:06:51.760319",
     "status": "completed"
    },
    "tags": []
   },
   "outputs": [],
   "source": [
    "X_train.reset_index(drop=True, inplace=True)\n",
    "X_test.reset_index(drop=True, inplace=True)\n",
    "y_train.reset_index(drop=True, inplace=True)\n",
    "y_test.reset_index(drop=True, inplace=True)"
   ]
  },
  {
   "cell_type": "code",
   "execution_count": 4,
   "id": "21dfad33",
   "metadata": {
    "execution": {
     "iopub.execute_input": "2021-11-28T06:06:51.949882Z",
     "iopub.status.busy": "2021-11-28T06:06:51.949010Z",
     "iopub.status.idle": "2021-11-28T06:06:51.969380Z",
     "shell.execute_reply": "2021-11-28T06:06:51.969868Z",
     "shell.execute_reply.started": "2021-11-28T05:57:03.719712Z"
    },
    "papermill": {
     "duration": 0.075528,
     "end_time": "2021-11-28T06:06:51.970098",
     "exception": false,
     "start_time": "2021-11-28T06:06:51.894570",
     "status": "completed"
    },
    "tags": []
   },
   "outputs": [
    {
     "data": {
      "text/html": [
       "<div>\n",
       "<style scoped>\n",
       "    .dataframe tbody tr th:only-of-type {\n",
       "        vertical-align: middle;\n",
       "    }\n",
       "\n",
       "    .dataframe tbody tr th {\n",
       "        vertical-align: top;\n",
       "    }\n",
       "\n",
       "    .dataframe thead th {\n",
       "        text-align: right;\n",
       "    }\n",
       "</style>\n",
       "<table border=\"1\" class=\"dataframe\">\n",
       "  <thead>\n",
       "    <tr style=\"text-align: right;\">\n",
       "      <th></th>\n",
       "      <th>id</th>\n",
       "      <th>age</th>\n",
       "      <th>sex</th>\n",
       "      <th>bmi</th>\n",
       "      <th>children</th>\n",
       "      <th>smoker</th>\n",
       "      <th>region</th>\n",
       "    </tr>\n",
       "  </thead>\n",
       "  <tbody>\n",
       "    <tr>\n",
       "      <th>0</th>\n",
       "      <td>209</td>\n",
       "      <td>40</td>\n",
       "      <td>male</td>\n",
       "      <td>41.230</td>\n",
       "      <td>1</td>\n",
       "      <td>no</td>\n",
       "      <td>northeast</td>\n",
       "    </tr>\n",
       "    <tr>\n",
       "      <th>1</th>\n",
       "      <td>540</td>\n",
       "      <td>34</td>\n",
       "      <td>female</td>\n",
       "      <td>38.000</td>\n",
       "      <td>3</td>\n",
       "      <td>no</td>\n",
       "      <td>southwest</td>\n",
       "    </tr>\n",
       "    <tr>\n",
       "      <th>2</th>\n",
       "      <td>747</td>\n",
       "      <td>19</td>\n",
       "      <td>male</td>\n",
       "      <td>21.755</td>\n",
       "      <td>0</td>\n",
       "      <td>no</td>\n",
       "      <td>northwest</td>\n",
       "    </tr>\n",
       "    <tr>\n",
       "      <th>3</th>\n",
       "      <td>39</td>\n",
       "      <td>60</td>\n",
       "      <td>male</td>\n",
       "      <td>39.900</td>\n",
       "      <td>0</td>\n",
       "      <td>yes</td>\n",
       "      <td>southwest</td>\n",
       "    </tr>\n",
       "    <tr>\n",
       "      <th>4</th>\n",
       "      <td>640</td>\n",
       "      <td>33</td>\n",
       "      <td>male</td>\n",
       "      <td>42.400</td>\n",
       "      <td>5</td>\n",
       "      <td>no</td>\n",
       "      <td>southwest</td>\n",
       "    </tr>\n",
       "  </tbody>\n",
       "</table>\n",
       "</div>"
      ],
      "text/plain": [
       "    id  age     sex     bmi  children smoker     region\n",
       "0  209   40    male  41.230         1     no  northeast\n",
       "1  540   34  female  38.000         3     no  southwest\n",
       "2  747   19    male  21.755         0     no  northwest\n",
       "3   39   60    male  39.900         0    yes  southwest\n",
       "4  640   33    male  42.400         5     no  southwest"
      ]
     },
     "execution_count": 4,
     "metadata": {},
     "output_type": "execute_result"
    }
   ],
   "source": [
    "X_train.head()"
   ]
  },
  {
   "cell_type": "code",
   "execution_count": 5,
   "id": "7ee981fe",
   "metadata": {
    "execution": {
     "iopub.execute_input": "2021-11-28T06:06:52.073339Z",
     "iopub.status.busy": "2021-11-28T06:06:52.072242Z",
     "iopub.status.idle": "2021-11-28T06:06:52.085280Z",
     "shell.execute_reply": "2021-11-28T06:06:52.085891Z",
     "shell.execute_reply.started": "2021-11-28T05:57:03.741255Z"
    },
    "papermill": {
     "duration": 0.068223,
     "end_time": "2021-11-28T06:06:52.086107",
     "exception": false,
     "start_time": "2021-11-28T06:06:52.017884",
     "status": "completed"
    },
    "tags": []
   },
   "outputs": [
    {
     "data": {
      "text/html": [
       "<div>\n",
       "<style scoped>\n",
       "    .dataframe tbody tr th:only-of-type {\n",
       "        vertical-align: middle;\n",
       "    }\n",
       "\n",
       "    .dataframe tbody tr th {\n",
       "        vertical-align: top;\n",
       "    }\n",
       "\n",
       "    .dataframe thead th {\n",
       "        text-align: right;\n",
       "    }\n",
       "</style>\n",
       "<table border=\"1\" class=\"dataframe\">\n",
       "  <thead>\n",
       "    <tr style=\"text-align: right;\">\n",
       "      <th></th>\n",
       "      <th>id</th>\n",
       "      <th>age</th>\n",
       "      <th>sex</th>\n",
       "      <th>bmi</th>\n",
       "      <th>children</th>\n",
       "      <th>smoker</th>\n",
       "      <th>region</th>\n",
       "    </tr>\n",
       "  </thead>\n",
       "  <tbody>\n",
       "    <tr>\n",
       "      <th>0</th>\n",
       "      <td>1088</td>\n",
       "      <td>52</td>\n",
       "      <td>male</td>\n",
       "      <td>47.740</td>\n",
       "      <td>1</td>\n",
       "      <td>no</td>\n",
       "      <td>southeast</td>\n",
       "    </tr>\n",
       "    <tr>\n",
       "      <th>1</th>\n",
       "      <td>1157</td>\n",
       "      <td>23</td>\n",
       "      <td>female</td>\n",
       "      <td>23.180</td>\n",
       "      <td>2</td>\n",
       "      <td>no</td>\n",
       "      <td>northwest</td>\n",
       "    </tr>\n",
       "    <tr>\n",
       "      <th>2</th>\n",
       "      <td>1267</td>\n",
       "      <td>24</td>\n",
       "      <td>male</td>\n",
       "      <td>31.065</td>\n",
       "      <td>0</td>\n",
       "      <td>yes</td>\n",
       "      <td>northeast</td>\n",
       "    </tr>\n",
       "    <tr>\n",
       "      <th>3</th>\n",
       "      <td>506</td>\n",
       "      <td>22</td>\n",
       "      <td>male</td>\n",
       "      <td>31.350</td>\n",
       "      <td>1</td>\n",
       "      <td>no</td>\n",
       "      <td>northwest</td>\n",
       "    </tr>\n",
       "    <tr>\n",
       "      <th>4</th>\n",
       "      <td>659</td>\n",
       "      <td>57</td>\n",
       "      <td>female</td>\n",
       "      <td>28.785</td>\n",
       "      <td>4</td>\n",
       "      <td>no</td>\n",
       "      <td>northeast</td>\n",
       "    </tr>\n",
       "  </tbody>\n",
       "</table>\n",
       "</div>"
      ],
      "text/plain": [
       "     id  age     sex     bmi  children smoker     region\n",
       "0  1088   52    male  47.740         1     no  southeast\n",
       "1  1157   23  female  23.180         2     no  northwest\n",
       "2  1267   24    male  31.065         0    yes  northeast\n",
       "3   506   22    male  31.350         1     no  northwest\n",
       "4   659   57  female  28.785         4     no  northeast"
      ]
     },
     "execution_count": 5,
     "metadata": {},
     "output_type": "execute_result"
    }
   ],
   "source": [
    "X_test.head()"
   ]
  },
  {
   "cell_type": "code",
   "execution_count": 6,
   "id": "f7702d54",
   "metadata": {
    "execution": {
     "iopub.execute_input": "2021-11-28T06:06:52.288211Z",
     "iopub.status.busy": "2021-11-28T06:06:52.287189Z",
     "iopub.status.idle": "2021-11-28T06:06:52.316600Z",
     "shell.execute_reply": "2021-11-28T06:06:52.317185Z",
     "shell.execute_reply.started": "2021-11-28T05:57:03.757246Z"
    },
    "papermill": {
     "duration": 0.174792,
     "end_time": "2021-11-28T06:06:52.317385",
     "exception": false,
     "start_time": "2021-11-28T06:06:52.142593",
     "status": "completed"
    },
    "tags": []
   },
   "outputs": [
    {
     "data": {
      "text/html": [
       "<div>\n",
       "<style scoped>\n",
       "    .dataframe tbody tr th:only-of-type {\n",
       "        vertical-align: middle;\n",
       "    }\n",
       "\n",
       "    .dataframe tbody tr th {\n",
       "        vertical-align: top;\n",
       "    }\n",
       "\n",
       "    .dataframe thead th {\n",
       "        text-align: right;\n",
       "    }\n",
       "</style>\n",
       "<table border=\"1\" class=\"dataframe\">\n",
       "  <thead>\n",
       "    <tr style=\"text-align: right;\">\n",
       "      <th></th>\n",
       "      <th>id</th>\n",
       "      <th>age</th>\n",
       "      <th>bmi</th>\n",
       "      <th>children</th>\n",
       "    </tr>\n",
       "  </thead>\n",
       "  <tbody>\n",
       "    <tr>\n",
       "      <th>count</th>\n",
       "      <td>1070.000000</td>\n",
       "      <td>1070.000000</td>\n",
       "      <td>1070.000000</td>\n",
       "      <td>1070.000000</td>\n",
       "    </tr>\n",
       "    <tr>\n",
       "      <th>mean</th>\n",
       "      <td>663.761682</td>\n",
       "      <td>39.321495</td>\n",
       "      <td>30.755519</td>\n",
       "      <td>1.105607</td>\n",
       "    </tr>\n",
       "    <tr>\n",
       "      <th>std</th>\n",
       "      <td>385.000181</td>\n",
       "      <td>13.984804</td>\n",
       "      <td>6.138228</td>\n",
       "      <td>1.216916</td>\n",
       "    </tr>\n",
       "    <tr>\n",
       "      <th>min</th>\n",
       "      <td>0.000000</td>\n",
       "      <td>18.000000</td>\n",
       "      <td>15.960000</td>\n",
       "      <td>0.000000</td>\n",
       "    </tr>\n",
       "    <tr>\n",
       "      <th>25%</th>\n",
       "      <td>334.250000</td>\n",
       "      <td>27.000000</td>\n",
       "      <td>26.400000</td>\n",
       "      <td>0.000000</td>\n",
       "    </tr>\n",
       "    <tr>\n",
       "      <th>50%</th>\n",
       "      <td>656.500000</td>\n",
       "      <td>39.000000</td>\n",
       "      <td>30.500000</td>\n",
       "      <td>1.000000</td>\n",
       "    </tr>\n",
       "    <tr>\n",
       "      <th>75%</th>\n",
       "      <td>990.500000</td>\n",
       "      <td>51.000000</td>\n",
       "      <td>34.800000</td>\n",
       "      <td>2.000000</td>\n",
       "    </tr>\n",
       "    <tr>\n",
       "      <th>max</th>\n",
       "      <td>1337.000000</td>\n",
       "      <td>64.000000</td>\n",
       "      <td>53.130000</td>\n",
       "      <td>5.000000</td>\n",
       "    </tr>\n",
       "  </tbody>\n",
       "</table>\n",
       "</div>"
      ],
      "text/plain": [
       "                id          age          bmi     children\n",
       "count  1070.000000  1070.000000  1070.000000  1070.000000\n",
       "mean    663.761682    39.321495    30.755519     1.105607\n",
       "std     385.000181    13.984804     6.138228     1.216916\n",
       "min       0.000000    18.000000    15.960000     0.000000\n",
       "25%     334.250000    27.000000    26.400000     0.000000\n",
       "50%     656.500000    39.000000    30.500000     1.000000\n",
       "75%     990.500000    51.000000    34.800000     2.000000\n",
       "max    1337.000000    64.000000    53.130000     5.000000"
      ]
     },
     "execution_count": 6,
     "metadata": {},
     "output_type": "execute_result"
    }
   ],
   "source": [
    "X_train.describe()"
   ]
  },
  {
   "cell_type": "code",
   "execution_count": 7,
   "id": "d57fc9b1",
   "metadata": {
    "execution": {
     "iopub.execute_input": "2021-11-28T06:06:52.420763Z",
     "iopub.status.busy": "2021-11-28T06:06:52.419736Z",
     "iopub.status.idle": "2021-11-28T06:06:52.442487Z",
     "shell.execute_reply": "2021-11-28T06:06:52.442980Z",
     "shell.execute_reply.started": "2021-11-28T05:57:03.790714Z"
    },
    "papermill": {
     "duration": 0.077532,
     "end_time": "2021-11-28T06:06:52.443194",
     "exception": false,
     "start_time": "2021-11-28T06:06:52.365662",
     "status": "completed"
    },
    "tags": []
   },
   "outputs": [
    {
     "data": {
      "text/html": [
       "<div>\n",
       "<style scoped>\n",
       "    .dataframe tbody tr th:only-of-type {\n",
       "        vertical-align: middle;\n",
       "    }\n",
       "\n",
       "    .dataframe tbody tr th {\n",
       "        vertical-align: top;\n",
       "    }\n",
       "\n",
       "    .dataframe thead th {\n",
       "        text-align: right;\n",
       "    }\n",
       "</style>\n",
       "<table border=\"1\" class=\"dataframe\">\n",
       "  <thead>\n",
       "    <tr style=\"text-align: right;\">\n",
       "      <th></th>\n",
       "      <th>id</th>\n",
       "      <th>age</th>\n",
       "      <th>bmi</th>\n",
       "      <th>children</th>\n",
       "    </tr>\n",
       "  </thead>\n",
       "  <tbody>\n",
       "    <tr>\n",
       "      <th>count</th>\n",
       "      <td>268.000000</td>\n",
       "      <td>268.000000</td>\n",
       "      <td>268.000000</td>\n",
       "      <td>268.000000</td>\n",
       "    </tr>\n",
       "    <tr>\n",
       "      <th>mean</th>\n",
       "      <td>687.417910</td>\n",
       "      <td>38.750000</td>\n",
       "      <td>30.295597</td>\n",
       "      <td>1.052239</td>\n",
       "    </tr>\n",
       "    <tr>\n",
       "      <th>std</th>\n",
       "      <td>392.053478</td>\n",
       "      <td>14.324523</td>\n",
       "      <td>5.932596</td>\n",
       "      <td>1.159989</td>\n",
       "    </tr>\n",
       "    <tr>\n",
       "      <th>min</th>\n",
       "      <td>5.000000</td>\n",
       "      <td>18.000000</td>\n",
       "      <td>17.290000</td>\n",
       "      <td>0.000000</td>\n",
       "    </tr>\n",
       "    <tr>\n",
       "      <th>25%</th>\n",
       "      <td>335.250000</td>\n",
       "      <td>25.000000</td>\n",
       "      <td>25.830000</td>\n",
       "      <td>0.000000</td>\n",
       "    </tr>\n",
       "    <tr>\n",
       "      <th>50%</th>\n",
       "      <td>704.000000</td>\n",
       "      <td>39.000000</td>\n",
       "      <td>30.015000</td>\n",
       "      <td>1.000000</td>\n",
       "    </tr>\n",
       "    <tr>\n",
       "      <th>75%</th>\n",
       "      <td>1036.500000</td>\n",
       "      <td>52.000000</td>\n",
       "      <td>34.101250</td>\n",
       "      <td>2.000000</td>\n",
       "    </tr>\n",
       "    <tr>\n",
       "      <th>max</th>\n",
       "      <td>1333.000000</td>\n",
       "      <td>64.000000</td>\n",
       "      <td>49.060000</td>\n",
       "      <td>5.000000</td>\n",
       "    </tr>\n",
       "  </tbody>\n",
       "</table>\n",
       "</div>"
      ],
      "text/plain": [
       "                id         age         bmi    children\n",
       "count   268.000000  268.000000  268.000000  268.000000\n",
       "mean    687.417910   38.750000   30.295597    1.052239\n",
       "std     392.053478   14.324523    5.932596    1.159989\n",
       "min       5.000000   18.000000   17.290000    0.000000\n",
       "25%     335.250000   25.000000   25.830000    0.000000\n",
       "50%     704.000000   39.000000   30.015000    1.000000\n",
       "75%    1036.500000   52.000000   34.101250    2.000000\n",
       "max    1333.000000   64.000000   49.060000    5.000000"
      ]
     },
     "execution_count": 7,
     "metadata": {},
     "output_type": "execute_result"
    }
   ],
   "source": [
    "X_test.describe()"
   ]
  },
  {
   "cell_type": "code",
   "execution_count": 8,
   "id": "8d7c6b96",
   "metadata": {
    "execution": {
     "iopub.execute_input": "2021-11-28T06:06:52.544620Z",
     "iopub.status.busy": "2021-11-28T06:06:52.543645Z",
     "iopub.status.idle": "2021-11-28T06:06:52.563216Z",
     "shell.execute_reply": "2021-11-28T06:06:52.562495Z",
     "shell.execute_reply.started": "2021-11-28T05:57:03.820902Z"
    },
    "papermill": {
     "duration": 0.071726,
     "end_time": "2021-11-28T06:06:52.563392",
     "exception": false,
     "start_time": "2021-11-28T06:06:52.491666",
     "status": "completed"
    },
    "tags": []
   },
   "outputs": [
    {
     "name": "stdout",
     "output_type": "stream",
     "text": [
      "<class 'pandas.core.frame.DataFrame'>\n",
      "RangeIndex: 1070 entries, 0 to 1069\n",
      "Data columns (total 7 columns):\n",
      " #   Column    Non-Null Count  Dtype  \n",
      "---  ------    --------------  -----  \n",
      " 0   id        1070 non-null   int64  \n",
      " 1   age       1070 non-null   int64  \n",
      " 2   sex       1070 non-null   object \n",
      " 3   bmi       1070 non-null   float64\n",
      " 4   children  1070 non-null   int64  \n",
      " 5   smoker    1070 non-null   object \n",
      " 6   region    1070 non-null   object \n",
      "dtypes: float64(1), int64(3), object(3)\n",
      "memory usage: 58.6+ KB\n"
     ]
    }
   ],
   "source": [
    "X_train.info()"
   ]
  },
  {
   "cell_type": "code",
   "execution_count": 9,
   "id": "4fabf942",
   "metadata": {
    "execution": {
     "iopub.execute_input": "2021-11-28T06:06:52.677454Z",
     "iopub.status.busy": "2021-11-28T06:06:52.676285Z",
     "iopub.status.idle": "2021-11-28T06:06:52.680098Z",
     "shell.execute_reply": "2021-11-28T06:06:52.680649Z",
     "shell.execute_reply.started": "2021-11-28T05:57:03.839840Z"
    },
    "papermill": {
     "duration": 0.067161,
     "end_time": "2021-11-28T06:06:52.680852",
     "exception": false,
     "start_time": "2021-11-28T06:06:52.613691",
     "status": "completed"
    },
    "tags": []
   },
   "outputs": [
    {
     "name": "stdout",
     "output_type": "stream",
     "text": [
      "<class 'pandas.core.frame.DataFrame'>\n",
      "RangeIndex: 268 entries, 0 to 267\n",
      "Data columns (total 7 columns):\n",
      " #   Column    Non-Null Count  Dtype  \n",
      "---  ------    --------------  -----  \n",
      " 0   id        268 non-null    int64  \n",
      " 1   age       268 non-null    int64  \n",
      " 2   sex       268 non-null    object \n",
      " 3   bmi       268 non-null    float64\n",
      " 4   children  268 non-null    int64  \n",
      " 5   smoker    268 non-null    object \n",
      " 6   region    268 non-null    object \n",
      "dtypes: float64(1), int64(3), object(3)\n",
      "memory usage: 14.8+ KB\n"
     ]
    }
   ],
   "source": [
    "X_test.info()"
   ]
  },
  {
   "cell_type": "code",
   "execution_count": 10,
   "id": "cfb47fa7",
   "metadata": {
    "execution": {
     "iopub.execute_input": "2021-11-28T06:06:52.786785Z",
     "iopub.status.busy": "2021-11-28T06:06:52.786120Z",
     "iopub.status.idle": "2021-11-28T06:06:52.792830Z",
     "shell.execute_reply": "2021-11-28T06:06:52.793388Z",
     "shell.execute_reply.started": "2021-11-28T05:57:03.858662Z"
    },
    "papermill": {
     "duration": 0.060843,
     "end_time": "2021-11-28T06:06:52.793602",
     "exception": false,
     "start_time": "2021-11-28T06:06:52.732759",
     "status": "completed"
    },
    "tags": []
   },
   "outputs": [],
   "source": [
    "X_train.drop('id',axis=1, inplace=True)\n",
    "X_test.drop('id',axis=1, inplace=True)"
   ]
  },
  {
   "cell_type": "code",
   "execution_count": 11,
   "id": "125e26c2",
   "metadata": {
    "execution": {
     "iopub.execute_input": "2021-11-28T06:06:52.896151Z",
     "iopub.status.busy": "2021-11-28T06:06:52.895462Z",
     "iopub.status.idle": "2021-11-28T06:06:53.188738Z",
     "shell.execute_reply": "2021-11-28T06:06:53.188060Z",
     "shell.execute_reply.started": "2021-11-28T05:57:03.868748Z"
    },
    "papermill": {
     "duration": 0.345565,
     "end_time": "2021-11-28T06:06:53.188898",
     "exception": false,
     "start_time": "2021-11-28T06:06:52.843333",
     "status": "completed"
    },
    "tags": []
   },
   "outputs": [
    {
     "data": {
      "text/plain": [
       "<AxesSubplot:>"
      ]
     },
     "execution_count": 11,
     "metadata": {},
     "output_type": "execute_result"
    },
    {
     "data": {
      "image/png": "[encoded data removed]",
      "text/plain": [
       "<Figure size 432x288 with 1 Axes>"
      ]
     },
     "metadata": {
      "needs_background": "light"
     },
     "output_type": "display_data"
    }
   ],
   "source": [
    "X_train.boxplot()"
   ]
  },
  {
   "cell_type": "code",
   "execution_count": 12,
   "id": "f11f9d39",
   "metadata": {
    "execution": {
     "iopub.execute_input": "2021-11-28T06:06:53.293501Z",
     "iopub.status.busy": "2021-11-28T06:06:53.292762Z",
     "iopub.status.idle": "2021-11-28T06:06:53.516303Z",
     "shell.execute_reply": "2021-11-28T06:06:53.517063Z",
     "shell.execute_reply.started": "2021-11-28T05:57:04.117348Z"
    },
    "papermill": {
     "duration": 0.277541,
     "end_time": "2021-11-28T06:06:53.517287",
     "exception": false,
     "start_time": "2021-11-28T06:06:53.239746",
     "status": "completed"
    },
    "tags": []
   },
   "outputs": [
    {
     "data": {
      "text/plain": [
       "<AxesSubplot:>"
      ]
     },
     "execution_count": 12,
     "metadata": {},
     "output_type": "execute_result"
    },
    {
     "data": {
      "image/png": "[encoded data removed]",
      "text/plain": [
       "<Figure size 432x288 with 1 Axes>"
      ]
     },
     "metadata": {
      "needs_background": "light"
     },
     "output_type": "display_data"
    }
   ],
   "source": [
    "X_test.boxplot()"
   ]
  },
  {
   "cell_type": "code",
   "execution_count": 13,
   "id": "45a33447",
   "metadata": {
    "execution": {
     "iopub.execute_input": "2021-11-28T06:06:53.630319Z",
     "iopub.status.busy": "2021-11-28T06:06:53.629561Z",
     "iopub.status.idle": "2021-11-28T06:06:53.648374Z",
     "shell.execute_reply": "2021-11-28T06:06:53.647775Z",
     "shell.execute_reply.started": "2021-11-28T05:57:04.364531Z"
    },
    "papermill": {
     "duration": 0.079763,
     "end_time": "2021-11-28T06:06:53.648562",
     "exception": false,
     "start_time": "2021-11-28T06:06:53.568799",
     "status": "completed"
    },
    "tags": []
   },
   "outputs": [],
   "source": [
    "obj = ['sex', 'smoker','region']\n",
    "for i in range(3):\n",
    "    X_train = pd.concat([X_train,pd.get_dummies(X_train[obj[i]]).iloc[:,:-1]],axis=1)\n",
    "    X_test = pd.concat([X_test,pd.get_dummies(X_test[obj[i]]).iloc[:,:-1]],axis=1)\n",
    "    \n",
    "    X_train.drop(obj[i], inplace=True, axis=1)  \n",
    "    X_test.drop(obj[i], inplace=True, axis=1)    "
   ]
  },
  {
   "cell_type": "code",
   "execution_count": 14,
   "id": "61e1a92d",
   "metadata": {
    "execution": {
     "iopub.execute_input": "2021-11-28T06:06:53.759721Z",
     "iopub.status.busy": "2021-11-28T06:06:53.757482Z",
     "iopub.status.idle": "2021-11-28T06:06:53.767805Z",
     "shell.execute_reply": "2021-11-28T06:06:53.767206Z",
     "shell.execute_reply.started": "2021-11-28T05:57:04.391251Z"
    },
    "papermill": {
     "duration": 0.066943,
     "end_time": "2021-11-28T06:06:53.767984",
     "exception": false,
     "start_time": "2021-11-28T06:06:53.701041",
     "status": "completed"
    },
    "tags": []
   },
   "outputs": [],
   "source": [
    "scaler = StandardScaler()\n",
    "scaler.fit(X_train)\n",
    "X_train = scaler.transform(X_train)\n",
    "X_test = scaler.transform(X_test)"
   ]
  },
  {
   "cell_type": "code",
   "execution_count": 15,
   "id": "91bc58b8",
   "metadata": {
    "execution": {
     "iopub.execute_input": "2021-11-28T06:06:53.876748Z",
     "iopub.status.busy": "2021-11-28T06:06:53.876080Z",
     "iopub.status.idle": "2021-11-28T06:06:53.881878Z",
     "shell.execute_reply": "2021-11-28T06:06:53.882445Z",
     "shell.execute_reply.started": "2021-11-28T05:57:04.404089Z"
    },
    "papermill": {
     "duration": 0.060507,
     "end_time": "2021-11-28T06:06:53.882643",
     "exception": false,
     "start_time": "2021-11-28T06:06:53.822136",
     "status": "completed"
    },
    "tags": []
   },
   "outputs": [],
   "source": [
    "X_tra, X_val, y_tra, y_val = train_test_split(X_train, y_train, test_size=0.2, random_state=42)"
   ]
  },
  {
   "cell_type": "code",
   "execution_count": 16,
   "id": "56e39189",
   "metadata": {
    "execution": {
     "iopub.execute_input": "2021-11-28T06:06:53.990696Z",
     "iopub.status.busy": "2021-11-28T06:06:53.989989Z",
     "iopub.status.idle": "2021-11-28T06:06:55.658192Z",
     "shell.execute_reply": "2021-11-28T06:06:55.659212Z",
     "shell.execute_reply.started": "2021-11-28T05:57:04.416052Z"
    },
    "papermill": {
     "duration": 1.725407,
     "end_time": "2021-11-28T06:06:55.659595",
     "exception": false,
     "start_time": "2021-11-28T06:06:53.934188",
     "status": "completed"
    },
    "tags": []
   },
   "outputs": [
    {
     "name": "stdout",
     "output_type": "stream",
     "text": [
      "AdaBoostRegressor(random_state=0) : 29796035.00922906\n",
      "ExtraTreesRegressor(random_state=0) : 25457364.633580215\n",
      "GradientBoostingRegressor(random_state=0) : 20770311.91731298\n",
      "RandomForestRegressor(random_state=0) : 21320357.258106053\n",
      "LinearRegression() : 35384121.15537763\n",
      "Ridge() : 35412954.71723129\n",
      "Lasso() : 35385592.691129066\n",
      "PassiveAggressiveRegressor() : 39419123.375341676\n",
      "SGDRegressor() : 35416561.81999461\n",
      "DecisionTreeRegressor(random_state=0) : 42263895.44934567\n",
      "SVR() : 204987410.76840988\n",
      "XGBRFRegressor(base_score=0.5, booster='gbtree', colsample_bylevel=1,\n",
      "               colsample_bytree=1, enable_categorical=False, gamma=0, gpu_id=-1,\n",
      "               importance_type=None, interaction_constraints='',\n",
      "               max_delta_step=0, max_depth=6, min_child_weight=1, missing=nan,\n",
      "               monotone_constraints='()', n_estimators=100, n_jobs=4,\n",
      "               num_parallel_tree=100, objective='reg:squarederror',\n",
      "               predictor='auto', random_state=0, reg_alpha=0,\n",
      "               scale_pos_weight=1, tree_method='exact', validate_parameters=1,\n",
      "               verbosity=None) : 19860470.720311243\n",
      "XGBRegressor(base_score=0.5, booster='gbtree', colsample_bylevel=1,\n",
      "             colsample_bynode=1, colsample_bytree=1, enable_categorical=False,\n",
      "             gamma=0, gpu_id=-1, importance_type=None,\n",
      "             interaction_constraints='', learning_rate=0.300000012,\n",
      "             max_delta_step=0, max_depth=6, min_child_weight=1, missing=nan,\n",
      "             monotone_constraints='()', n_estimators=100, n_jobs=4,\n",
      "             num_parallel_tree=1, predictor='auto', random_state=0, reg_alpha=0,\n",
      "             reg_lambda=1, scale_pos_weight=1, subsample=1, tree_method='exact',\n",
      "             validate_parameters=1, verbosity=None) : 26539177.327584684\n"
     ]
    }
   ],
   "source": [
    "model_list = [AdaBoostRegressor(random_state=0), ExtraTreesRegressor(random_state=0), GradientBoostingRegressor(random_state=0), \n",
    "              RandomForestRegressor(random_state=0), LinearRegression(), Ridge(), Lasso(), PassiveAggressiveRegressor(), SGDRegressor(),\n",
    "              DecisionTreeRegressor(random_state=0), SVR(), XGBRFRegressor(random_state=0), XGBRegressor(random_state=0)]\n",
    "\n",
    "for i in range(len(model_list)):\n",
    "    clf = model_list[i]\n",
    "    clf.fit(X_tra, y_tra.iloc[:,1])\n",
    "    print(model_list[i],\":\",mean_squared_error(y_val.iloc[:,1], clf.predict(X_val)))"
   ]
  },
  {
   "cell_type": "markdown",
   "id": "805cb6ce",
   "metadata": {
    "papermill": {
     "duration": 0.052391,
     "end_time": "2021-11-28T06:06:55.766291",
     "exception": false,
     "start_time": "2021-11-28T06:06:55.713900",
     "status": "completed"
    },
    "tags": []
   },
   "source": [
    "- GradientBoostingRegressor(random_state=0) : 20770311.91731298\n",
    "- RandomForestRegressor(random_state=0) : 21320357.258106053\n",
    "- XGBRFRegressor() : 19860470.720311243"
   ]
  },
  {
   "cell_type": "code",
   "execution_count": 17,
   "id": "ac1bef45",
   "metadata": {
    "execution": {
     "iopub.execute_input": "2021-11-28T06:06:55.880441Z",
     "iopub.status.busy": "2021-11-28T06:06:55.879770Z",
     "iopub.status.idle": "2021-11-28T06:07:23.999642Z",
     "shell.execute_reply": "2021-11-28T06:07:23.998828Z",
     "shell.execute_reply.started": "2021-11-28T05:57:05.874038Z"
    },
    "papermill": {
     "duration": 28.180232,
     "end_time": "2021-11-28T06:07:23.999831",
     "exception": false,
     "start_time": "2021-11-28T06:06:55.819599",
     "status": "completed"
    },
    "tags": []
   },
   "outputs": [
    {
     "name": "stdout",
     "output_type": "stream",
     "text": [
      "-22167192.954857744\n",
      "{'max_depth': 5, 'n_estimators': 300}\n"
     ]
    }
   ],
   "source": [
    "parameters = {'n_estimators':[100, 300, 500], 'max_depth':[5, 10, 15]}\n",
    "clf = GridSearchCV(ExtraTreesRegressor(random_state=0) , parameters, scoring='neg_mean_squared_error')\n",
    "clf.fit(X_train, y_train.iloc[:,1])\n",
    "print(clf.best_score_)\n",
    "print(clf.best_params_)"
   ]
  },
  {
   "cell_type": "code",
   "execution_count": 18,
   "id": "66f768a1",
   "metadata": {
    "execution": {
     "iopub.execute_input": "2021-11-28T06:07:24.125206Z",
     "iopub.status.busy": "2021-11-28T06:07:24.124442Z",
     "iopub.status.idle": "2021-11-28T06:08:04.349020Z",
     "shell.execute_reply": "2021-11-28T06:08:04.349767Z",
     "shell.execute_reply.started": "2021-11-28T05:58:57.615996Z"
    },
    "papermill": {
     "duration": 40.289599,
     "end_time": "2021-11-28T06:08:04.350041",
     "exception": false,
     "start_time": "2021-11-28T06:07:24.060442",
     "status": "completed"
    },
    "tags": []
   },
   "outputs": [
    {
     "name": "stdout",
     "output_type": "stream",
     "text": [
      "-20916974.24346824\n",
      "{'max_depth': 5, 'n_estimators': 100}\n"
     ]
    }
   ],
   "source": [
    "parameters = {'n_estimators':[100, 300, 500], 'max_depth':[5, 10, 15]}\n",
    "clf = GridSearchCV(RandomForestRegressor(random_state=0) , parameters, scoring='neg_mean_squared_error')\n",
    "clf.fit(X_train, y_train.iloc[:,1])\n",
    "print(clf.best_score_)\n",
    "print(clf.best_params_)"
   ]
  },
  {
   "cell_type": "code",
   "execution_count": 19,
   "id": "ebdc22c5",
   "metadata": {
    "execution": {
     "iopub.execute_input": "2021-11-28T06:08:04.467636Z",
     "iopub.status.busy": "2021-11-28T06:08:04.466464Z",
     "iopub.status.idle": "2021-11-28T06:09:00.423431Z",
     "shell.execute_reply": "2021-11-28T06:09:00.424027Z",
     "shell.execute_reply.started": "2021-11-28T06:01:35.862752Z"
    },
    "papermill": {
     "duration": 56.020684,
     "end_time": "2021-11-28T06:09:00.424219",
     "exception": false,
     "start_time": "2021-11-28T06:08:04.403535",
     "status": "completed"
    },
    "tags": []
   },
   "outputs": [
    {
     "name": "stdout",
     "output_type": "stream",
     "text": [
      "-20993225.482101984\n",
      "{'max_depth': 5, 'n_estimators': 500}\n"
     ]
    }
   ],
   "source": [
    "parameters = {'n_estimators':[100, 300, 500], 'max_depth':[5, 10, 15]}\n",
    "clf = GridSearchCV(XGBRFRegressor(random_state=0) , parameters, scoring='neg_mean_squared_error')\n",
    "clf.fit(X_train, y_train.iloc[:,1])\n",
    "print(clf.best_score_)\n",
    "print(clf.best_params_)"
   ]
  },
  {
   "cell_type": "code",
   "execution_count": 20,
   "id": "bdfcf796",
   "metadata": {
    "execution": {
     "iopub.execute_input": "2021-11-28T06:09:00.549849Z",
     "iopub.status.busy": "2021-11-28T06:09:00.548857Z",
     "iopub.status.idle": "2021-11-28T06:09:01.855795Z",
     "shell.execute_reply": "2021-11-28T06:09:01.855180Z",
     "shell.execute_reply.started": "2021-11-28T06:06:15.901703Z"
    },
    "papermill": {
     "duration": 1.376793,
     "end_time": "2021-11-28T06:09:01.855943",
     "exception": false,
     "start_time": "2021-11-28T06:09:00.479150",
     "status": "completed"
    },
    "tags": []
   },
   "outputs": [],
   "source": [
    "clf = RandomForestRegressor(random_state=0, max_depth= 5, n_estimators= 500)\n",
    "clf.fit(X_train, y_train.iloc[:,1])\n",
    "pred = y_test.copy()\n",
    "pred.iloc[:,1] = clf.predict(X_test)"
   ]
  },
  {
   "cell_type": "code",
   "execution_count": 21,
   "id": "5dd0fc24",
   "metadata": {
    "execution": {
     "iopub.execute_input": "2021-11-28T06:09:01.974223Z",
     "iopub.status.busy": "2021-11-28T06:09:01.973226Z",
     "iopub.status.idle": "2021-11-28T06:09:01.978742Z",
     "shell.execute_reply": "2021-11-28T06:09:01.979309Z",
     "shell.execute_reply.started": "2021-11-28T06:06:17.749339Z"
    },
    "papermill": {
     "duration": 0.066846,
     "end_time": "2021-11-28T06:09:01.979479",
     "exception": false,
     "start_time": "2021-11-28T06:09:01.912633",
     "status": "completed"
    },
    "tags": []
   },
   "outputs": [
    {
     "data": {
      "text/plain": [
       "4541.7907680711805"
      ]
     },
     "execution_count": 21,
     "metadata": {},
     "output_type": "execute_result"
    }
   ],
   "source": [
    "np.sqrt(mean_squared_error(y_test.iloc[:,1], pred.iloc[:,1]))"
   ]
  },
  {
   "cell_type": "markdown",
   "id": "5f68cf30",
   "metadata": {
    "papermill": {
     "duration": 0.054044,
     "end_time": "2021-11-28T06:09:02.087925",
     "exception": false,
     "start_time": "2021-11-28T06:09:02.033881",
     "status": "completed"
    },
    "tags": []
   },
   "source": [
    "# EDA"
   ]
  },
  {
   "cell_type": "code",
   "execution_count": 22,
   "id": "3a3a8ddb",
   "metadata": {
    "execution": {
     "iopub.execute_input": "2021-11-28T06:09:02.201976Z",
     "iopub.status.busy": "2021-11-28T06:09:02.200932Z",
     "iopub.status.idle": "2021-11-28T06:09:02.229874Z",
     "shell.execute_reply": "2021-11-28T06:09:02.230457Z",
     "shell.execute_reply.started": "2021-11-28T05:42:32.606297Z"
    },
    "papermill": {
     "duration": 0.088157,
     "end_time": "2021-11-28T06:09:02.230654",
     "exception": false,
     "start_time": "2021-11-28T06:09:02.142497",
     "status": "completed"
    },
    "tags": []
   },
   "outputs": [
    {
     "data": {
      "text/plain": [
       "((1070, 7), (268, 7), (1070, 2), (268, 2))"
      ]
     },
     "execution_count": 22,
     "metadata": {},
     "output_type": "execute_result"
    }
   ],
   "source": [
    "# 시험환경 세팅 (코드 변경 X)\n",
    "import pandas as pd\n",
    "import numpy as np\n",
    "from sklearn.model_selection import train_test_split\n",
    "\n",
    "def exam_data_load(df, target, id_name=\"\", null_name=\"\"):\n",
    "    if id_name == \"\":\n",
    "        df = df.reset_index().rename(columns={\"index\": \"id\"})\n",
    "        id_name = 'id'\n",
    "    else:\n",
    "        id_name = id_name\n",
    "    \n",
    "    if null_name != \"\":\n",
    "        df[df == null_name] = np.nan\n",
    "    \n",
    "    X_train, X_test = train_test_split(df, test_size=0.2, random_state=2021)\n",
    "    \n",
    "    y_train = X_train[[id_name, target]]\n",
    "    X_train = X_train.drop(columns=[target])\n",
    "\n",
    "    \n",
    "    y_test = X_test[[id_name, target]]\n",
    "    X_test = X_test.drop(columns=[target])\n",
    "    return X_train, X_test, y_train, y_test \n",
    "    \n",
    "df = pd.read_csv(\"../input/insurance/insurance.csv\")\n",
    "X_train, X_test, y_train, y_test = exam_data_load(df, target='charges')\n",
    "\n",
    "X_train.shape, X_test.shape, y_train.shape, y_test.shape"
   ]
  },
  {
   "cell_type": "code",
   "execution_count": 23,
   "id": "9e339fff",
   "metadata": {
    "execution": {
     "iopub.execute_input": "2021-11-28T06:09:02.345686Z",
     "iopub.status.busy": "2021-11-28T06:09:02.343595Z",
     "iopub.status.idle": "2021-11-28T06:09:02.355188Z",
     "shell.execute_reply": "2021-11-28T06:09:02.355788Z",
     "shell.execute_reply.started": "2021-11-28T05:42:32.629369Z"
    },
    "papermill": {
     "duration": 0.070314,
     "end_time": "2021-11-28T06:09:02.356006",
     "exception": false,
     "start_time": "2021-11-28T06:09:02.285692",
     "status": "completed"
    },
    "tags": []
   },
   "outputs": [
    {
     "data": {
      "text/html": [
       "<div>\n",
       "<style scoped>\n",
       "    .dataframe tbody tr th:only-of-type {\n",
       "        vertical-align: middle;\n",
       "    }\n",
       "\n",
       "    .dataframe tbody tr th {\n",
       "        vertical-align: top;\n",
       "    }\n",
       "\n",
       "    .dataframe thead th {\n",
       "        text-align: right;\n",
       "    }\n",
       "</style>\n",
       "<table border=\"1\" class=\"dataframe\">\n",
       "  <thead>\n",
       "    <tr style=\"text-align: right;\">\n",
       "      <th></th>\n",
       "      <th>id</th>\n",
       "      <th>age</th>\n",
       "      <th>sex</th>\n",
       "      <th>bmi</th>\n",
       "      <th>children</th>\n",
       "      <th>smoker</th>\n",
       "      <th>region</th>\n",
       "    </tr>\n",
       "  </thead>\n",
       "  <tbody>\n",
       "    <tr>\n",
       "      <th>209</th>\n",
       "      <td>209</td>\n",
       "      <td>40</td>\n",
       "      <td>male</td>\n",
       "      <td>41.230</td>\n",
       "      <td>1</td>\n",
       "      <td>no</td>\n",
       "      <td>northeast</td>\n",
       "    </tr>\n",
       "    <tr>\n",
       "      <th>540</th>\n",
       "      <td>540</td>\n",
       "      <td>34</td>\n",
       "      <td>female</td>\n",
       "      <td>38.000</td>\n",
       "      <td>3</td>\n",
       "      <td>no</td>\n",
       "      <td>southwest</td>\n",
       "    </tr>\n",
       "    <tr>\n",
       "      <th>747</th>\n",
       "      <td>747</td>\n",
       "      <td>19</td>\n",
       "      <td>male</td>\n",
       "      <td>21.755</td>\n",
       "      <td>0</td>\n",
       "      <td>no</td>\n",
       "      <td>northwest</td>\n",
       "    </tr>\n",
       "    <tr>\n",
       "      <th>39</th>\n",
       "      <td>39</td>\n",
       "      <td>60</td>\n",
       "      <td>male</td>\n",
       "      <td>39.900</td>\n",
       "      <td>0</td>\n",
       "      <td>yes</td>\n",
       "      <td>southwest</td>\n",
       "    </tr>\n",
       "    <tr>\n",
       "      <th>640</th>\n",
       "      <td>640</td>\n",
       "      <td>33</td>\n",
       "      <td>male</td>\n",
       "      <td>42.400</td>\n",
       "      <td>5</td>\n",
       "      <td>no</td>\n",
       "      <td>southwest</td>\n",
       "    </tr>\n",
       "  </tbody>\n",
       "</table>\n",
       "</div>"
      ],
      "text/plain": [
       "      id  age     sex     bmi  children smoker     region\n",
       "209  209   40    male  41.230         1     no  northeast\n",
       "540  540   34  female  38.000         3     no  southwest\n",
       "747  747   19    male  21.755         0     no  northwest\n",
       "39    39   60    male  39.900         0    yes  southwest\n",
       "640  640   33    male  42.400         5     no  southwest"
      ]
     },
     "execution_count": 23,
     "metadata": {},
     "output_type": "execute_result"
    }
   ],
   "source": [
    "X_train.head()"
   ]
  },
  {
   "cell_type": "code",
   "execution_count": 24,
   "id": "ee97dc33",
   "metadata": {
    "execution": {
     "iopub.execute_input": "2021-11-28T06:09:02.470155Z",
     "iopub.status.busy": "2021-11-28T06:09:02.469461Z",
     "iopub.status.idle": "2021-11-28T06:09:02.478080Z",
     "shell.execute_reply": "2021-11-28T06:09:02.478677Z",
     "shell.execute_reply.started": "2021-11-28T05:42:32.646199Z"
    },
    "papermill": {
     "duration": 0.06764,
     "end_time": "2021-11-28T06:09:02.478881",
     "exception": false,
     "start_time": "2021-11-28T06:09:02.411241",
     "status": "completed"
    },
    "tags": []
   },
   "outputs": [
    {
     "data": {
      "text/html": [
       "<div>\n",
       "<style scoped>\n",
       "    .dataframe tbody tr th:only-of-type {\n",
       "        vertical-align: middle;\n",
       "    }\n",
       "\n",
       "    .dataframe tbody tr th {\n",
       "        vertical-align: top;\n",
       "    }\n",
       "\n",
       "    .dataframe thead th {\n",
       "        text-align: right;\n",
       "    }\n",
       "</style>\n",
       "<table border=\"1\" class=\"dataframe\">\n",
       "  <thead>\n",
       "    <tr style=\"text-align: right;\">\n",
       "      <th></th>\n",
       "      <th>id</th>\n",
       "      <th>charges</th>\n",
       "    </tr>\n",
       "  </thead>\n",
       "  <tbody>\n",
       "    <tr>\n",
       "      <th>209</th>\n",
       "      <td>209</td>\n",
       "      <td>6610.10970</td>\n",
       "    </tr>\n",
       "    <tr>\n",
       "      <th>540</th>\n",
       "      <td>540</td>\n",
       "      <td>6196.44800</td>\n",
       "    </tr>\n",
       "    <tr>\n",
       "      <th>747</th>\n",
       "      <td>747</td>\n",
       "      <td>1627.28245</td>\n",
       "    </tr>\n",
       "    <tr>\n",
       "      <th>39</th>\n",
       "      <td>39</td>\n",
       "      <td>48173.36100</td>\n",
       "    </tr>\n",
       "    <tr>\n",
       "      <th>640</th>\n",
       "      <td>640</td>\n",
       "      <td>6666.24300</td>\n",
       "    </tr>\n",
       "  </tbody>\n",
       "</table>\n",
       "</div>"
      ],
      "text/plain": [
       "      id      charges\n",
       "209  209   6610.10970\n",
       "540  540   6196.44800\n",
       "747  747   1627.28245\n",
       "39    39  48173.36100\n",
       "640  640   6666.24300"
      ]
     },
     "execution_count": 24,
     "metadata": {},
     "output_type": "execute_result"
    }
   ],
   "source": [
    "y_train.head()"
   ]
  },
  {
   "cell_type": "code",
   "execution_count": 25,
   "id": "43189849",
   "metadata": {
    "execution": {
     "iopub.execute_input": "2021-11-28T06:09:02.621157Z",
     "iopub.status.busy": "2021-11-28T06:09:02.611364Z",
     "iopub.status.idle": "2021-11-28T06:09:02.871674Z",
     "shell.execute_reply": "2021-11-28T06:09:02.871062Z",
     "shell.execute_reply.started": "2021-11-28T05:42:32.657056Z"
    },
    "papermill": {
     "duration": 0.337089,
     "end_time": "2021-11-28T06:09:02.871836",
     "exception": false,
     "start_time": "2021-11-28T06:09:02.534747",
     "status": "completed"
    },
    "tags": []
   },
   "outputs": [
    {
     "data": {
      "text/plain": [
       "<AxesSubplot:>"
      ]
     },
     "execution_count": 25,
     "metadata": {},
     "output_type": "execute_result"
    },
    {
     "data": {
      "image/png": "[encoded data removed]",
      "text/plain": [
       "<Figure size 432x288 with 1 Axes>"
      ]
     },
     "metadata": {
      "needs_background": "light"
     },
     "output_type": "display_data"
    }
   ],
   "source": [
    "y_train['charges'].hist()"
   ]
  },
  {
   "cell_type": "code",
   "execution_count": 26,
   "id": "eca8c2fb",
   "metadata": {
    "execution": {
     "iopub.execute_input": "2021-11-28T06:09:02.997493Z",
     "iopub.status.busy": "2021-11-28T06:09:02.996678Z",
     "iopub.status.idle": "2021-11-28T06:09:03.000629Z",
     "shell.execute_reply": "2021-11-28T06:09:03.001180Z",
     "shell.execute_reply.started": "2021-11-28T05:42:32.914026Z"
    },
    "papermill": {
     "duration": 0.071076,
     "end_time": "2021-11-28T06:09:03.001360",
     "exception": false,
     "start_time": "2021-11-28T06:09:02.930284",
     "status": "completed"
    },
    "tags": []
   },
   "outputs": [
    {
     "data": {
      "text/plain": [
       "id          0\n",
       "age         0\n",
       "sex         0\n",
       "bmi         0\n",
       "children    0\n",
       "smoker      0\n",
       "region      0\n",
       "dtype: int64"
      ]
     },
     "execution_count": 26,
     "metadata": {},
     "output_type": "execute_result"
    }
   ],
   "source": [
    "X_train.isnull().sum()"
   ]
  },
  {
   "cell_type": "code",
   "execution_count": 27,
   "id": "448b04bc",
   "metadata": {
    "execution": {
     "iopub.execute_input": "2021-11-28T06:09:03.123539Z",
     "iopub.status.busy": "2021-11-28T06:09:03.122835Z",
     "iopub.status.idle": "2021-11-28T06:09:03.126224Z",
     "shell.execute_reply": "2021-11-28T06:09:03.126736Z",
     "shell.execute_reply.started": "2021-11-28T05:42:32.930209Z"
    },
    "papermill": {
     "duration": 0.068191,
     "end_time": "2021-11-28T06:09:03.126922",
     "exception": false,
     "start_time": "2021-11-28T06:09:03.058731",
     "status": "completed"
    },
    "tags": []
   },
   "outputs": [
    {
     "data": {
      "text/plain": [
       "id          0\n",
       "age         0\n",
       "sex         0\n",
       "bmi         0\n",
       "children    0\n",
       "smoker      0\n",
       "region      0\n",
       "dtype: int64"
      ]
     },
     "execution_count": 27,
     "metadata": {},
     "output_type": "execute_result"
    }
   ],
   "source": [
    "X_test.isnull().sum()"
   ]
  },
  {
   "cell_type": "code",
   "execution_count": 28,
   "id": "04f34556",
   "metadata": {
    "execution": {
     "iopub.execute_input": "2021-11-28T06:09:03.244825Z",
     "iopub.status.busy": "2021-11-28T06:09:03.244200Z",
     "iopub.status.idle": "2021-11-28T06:09:03.258704Z",
     "shell.execute_reply": "2021-11-28T06:09:03.258182Z",
     "shell.execute_reply.started": "2021-11-28T05:42:32.940344Z"
    },
    "papermill": {
     "duration": 0.074913,
     "end_time": "2021-11-28T06:09:03.258854",
     "exception": false,
     "start_time": "2021-11-28T06:09:03.183941",
     "status": "completed"
    },
    "tags": []
   },
   "outputs": [
    {
     "name": "stdout",
     "output_type": "stream",
     "text": [
      "<class 'pandas.core.frame.DataFrame'>\n",
      "Int64Index: 1070 entries, 209 to 1140\n",
      "Data columns (total 7 columns):\n",
      " #   Column    Non-Null Count  Dtype  \n",
      "---  ------    --------------  -----  \n",
      " 0   id        1070 non-null   int64  \n",
      " 1   age       1070 non-null   int64  \n",
      " 2   sex       1070 non-null   object \n",
      " 3   bmi       1070 non-null   float64\n",
      " 4   children  1070 non-null   int64  \n",
      " 5   smoker    1070 non-null   object \n",
      " 6   region    1070 non-null   object \n",
      "dtypes: float64(1), int64(3), object(3)\n",
      "memory usage: 66.9+ KB\n"
     ]
    }
   ],
   "source": [
    "X_train.info()"
   ]
  },
  {
   "cell_type": "code",
   "execution_count": 29,
   "id": "63269c3b",
   "metadata": {
    "execution": {
     "iopub.execute_input": "2021-11-28T06:09:03.377686Z",
     "iopub.status.busy": "2021-11-28T06:09:03.376981Z",
     "iopub.status.idle": "2021-11-28T06:09:03.385128Z",
     "shell.execute_reply": "2021-11-28T06:09:03.385665Z",
     "shell.execute_reply.started": "2021-11-28T05:42:32.958895Z"
    },
    "papermill": {
     "duration": 0.069377,
     "end_time": "2021-11-28T06:09:03.385834",
     "exception": false,
     "start_time": "2021-11-28T06:09:03.316457",
     "status": "completed"
    },
    "tags": []
   },
   "outputs": [
    {
     "data": {
      "text/plain": [
       "Index(['sex', 'smoker', 'region'], dtype='object')"
      ]
     },
     "execution_count": 29,
     "metadata": {},
     "output_type": "execute_result"
    }
   ],
   "source": [
    "X_train.select_dtypes(\"object\").columns"
   ]
  },
  {
   "cell_type": "code",
   "execution_count": 30,
   "id": "80de1512",
   "metadata": {
    "execution": {
     "iopub.execute_input": "2021-11-28T06:09:03.505820Z",
     "iopub.status.busy": "2021-11-28T06:09:03.505117Z",
     "iopub.status.idle": "2021-11-28T06:09:03.523744Z",
     "shell.execute_reply": "2021-11-28T06:09:03.523191Z",
     "shell.execute_reply.started": "2021-11-28T05:42:32.967431Z"
    },
    "papermill": {
     "duration": 0.080396,
     "end_time": "2021-11-28T06:09:03.523889",
     "exception": false,
     "start_time": "2021-11-28T06:09:03.443493",
     "status": "completed"
    },
    "tags": []
   },
   "outputs": [
    {
     "name": "stdout",
     "output_type": "stream",
     "text": [
      "\n",
      "===== sex =====\n",
      "[train]\n",
      "male      551\n",
      "female    519\n",
      "Name: sex, dtype: int64\n",
      "[test]\n",
      "female    143\n",
      "male      125\n",
      "Name: sex, dtype: int64\n",
      "\n",
      "===== smoker =====\n",
      "[train]\n",
      "no     845\n",
      "yes    225\n",
      "Name: smoker, dtype: int64\n",
      "[test]\n",
      "no     219\n",
      "yes     49\n",
      "Name: smoker, dtype: int64\n",
      "\n",
      "===== region =====\n",
      "[train]\n",
      "southeast    304\n",
      "northeast    266\n",
      "southwest    261\n",
      "northwest    239\n",
      "Name: region, dtype: int64\n",
      "[test]\n",
      "northwest    86\n",
      "southwest    64\n",
      "southeast    60\n",
      "northeast    58\n",
      "Name: region, dtype: int64\n"
     ]
    }
   ],
   "source": [
    "# Train ['sex', 'smoker', 'region']\n",
    "cols = X_train.select_dtypes(\"object\").columns\n",
    "\n",
    "for col in cols:\n",
    "    print(\"\\n=====\", col, \"=====\")\n",
    "    print(\"[train]\")\n",
    "    print(X_train[col].value_counts())\n",
    "    print(\"[test]\")\n",
    "    print(X_test[col].value_counts())"
   ]
  },
  {
   "cell_type": "markdown",
   "id": "7d20dafd",
   "metadata": {
    "papermill": {
     "duration": 0.057093,
     "end_time": "2021-11-28T06:09:03.639309",
     "exception": false,
     "start_time": "2021-11-28T06:09:03.582216",
     "status": "completed"
    },
    "tags": []
   },
   "source": [
    "# Preprocessing"
   ]
  },
  {
   "cell_type": "markdown",
   "id": "b416e6ce",
   "metadata": {
    "papermill": {
     "duration": 0.05737,
     "end_time": "2021-11-28T06:09:03.755410",
     "exception": false,
     "start_time": "2021-11-28T06:09:03.698040",
     "status": "completed"
    },
    "tags": []
   },
   "source": [
    "## Categorical Variables"
   ]
  },
  {
   "cell_type": "code",
   "execution_count": 31,
   "id": "186d9c85",
   "metadata": {
    "execution": {
     "iopub.execute_input": "2021-11-28T06:09:03.879397Z",
     "iopub.status.busy": "2021-11-28T06:09:03.878672Z",
     "iopub.status.idle": "2021-11-28T06:09:03.888876Z",
     "shell.execute_reply": "2021-11-28T06:09:03.889420Z",
     "shell.execute_reply.started": "2021-11-28T05:42:32.986481Z"
    },
    "papermill": {
     "duration": 0.076726,
     "end_time": "2021-11-28T06:09:03.889612",
     "exception": false,
     "start_time": "2021-11-28T06:09:03.812886",
     "status": "completed"
    },
    "tags": []
   },
   "outputs": [],
   "source": [
    "X_train = pd.get_dummies(X_train, columns = cols)\n",
    "X_test = pd.get_dummies(X_test, columns = cols)"
   ]
  },
  {
   "cell_type": "code",
   "execution_count": 32,
   "id": "523f29e4",
   "metadata": {
    "execution": {
     "iopub.execute_input": "2021-11-28T06:09:04.020257Z",
     "iopub.status.busy": "2021-11-28T06:09:04.019427Z",
     "iopub.status.idle": "2021-11-28T06:09:04.022356Z",
     "shell.execute_reply": "2021-11-28T06:09:04.022866Z",
     "shell.execute_reply.started": "2021-11-28T05:42:33.002644Z"
    },
    "papermill": {
     "duration": 0.074923,
     "end_time": "2021-11-28T06:09:04.023086",
     "exception": false,
     "start_time": "2021-11-28T06:09:03.948163",
     "status": "completed"
    },
    "tags": []
   },
   "outputs": [
    {
     "data": {
      "text/html": [
       "<div>\n",
       "<style scoped>\n",
       "    .dataframe tbody tr th:only-of-type {\n",
       "        vertical-align: middle;\n",
       "    }\n",
       "\n",
       "    .dataframe tbody tr th {\n",
       "        vertical-align: top;\n",
       "    }\n",
       "\n",
       "    .dataframe thead th {\n",
       "        text-align: right;\n",
       "    }\n",
       "</style>\n",
       "<table border=\"1\" class=\"dataframe\">\n",
       "  <thead>\n",
       "    <tr style=\"text-align: right;\">\n",
       "      <th></th>\n",
       "      <th>id</th>\n",
       "      <th>age</th>\n",
       "      <th>bmi</th>\n",
       "      <th>children</th>\n",
       "      <th>sex_female</th>\n",
       "      <th>sex_male</th>\n",
       "      <th>smoker_no</th>\n",
       "      <th>smoker_yes</th>\n",
       "      <th>region_northeast</th>\n",
       "      <th>region_northwest</th>\n",
       "      <th>region_southeast</th>\n",
       "      <th>region_southwest</th>\n",
       "    </tr>\n",
       "  </thead>\n",
       "  <tbody>\n",
       "    <tr>\n",
       "      <th>209</th>\n",
       "      <td>209</td>\n",
       "      <td>40</td>\n",
       "      <td>41.23</td>\n",
       "      <td>1</td>\n",
       "      <td>0</td>\n",
       "      <td>1</td>\n",
       "      <td>1</td>\n",
       "      <td>0</td>\n",
       "      <td>1</td>\n",
       "      <td>0</td>\n",
       "      <td>0</td>\n",
       "      <td>0</td>\n",
       "    </tr>\n",
       "    <tr>\n",
       "      <th>540</th>\n",
       "      <td>540</td>\n",
       "      <td>34</td>\n",
       "      <td>38.00</td>\n",
       "      <td>3</td>\n",
       "      <td>1</td>\n",
       "      <td>0</td>\n",
       "      <td>1</td>\n",
       "      <td>0</td>\n",
       "      <td>0</td>\n",
       "      <td>0</td>\n",
       "      <td>0</td>\n",
       "      <td>1</td>\n",
       "    </tr>\n",
       "  </tbody>\n",
       "</table>\n",
       "</div>"
      ],
      "text/plain": [
       "      id  age    bmi  children  sex_female  sex_male  smoker_no  smoker_yes  \\\n",
       "209  209   40  41.23         1           0         1          1           0   \n",
       "540  540   34  38.00         3           1         0          1           0   \n",
       "\n",
       "     region_northeast  region_northwest  region_southeast  region_southwest  \n",
       "209                 1                 0                 0                 0  \n",
       "540                 0                 0                 0                 1  "
      ]
     },
     "execution_count": 32,
     "metadata": {},
     "output_type": "execute_result"
    }
   ],
   "source": [
    "X_train.head(2)"
   ]
  },
  {
   "cell_type": "markdown",
   "id": "fd78d3fb",
   "metadata": {
    "papermill": {
     "duration": 0.061029,
     "end_time": "2021-11-28T06:09:04.145429",
     "exception": false,
     "start_time": "2021-11-28T06:09:04.084400",
     "status": "completed"
    },
    "tags": []
   },
   "source": [
    "## Log Transform"
   ]
  },
  {
   "cell_type": "code",
   "execution_count": 33,
   "id": "904c7b8d",
   "metadata": {
    "execution": {
     "iopub.execute_input": "2021-11-28T06:09:04.268335Z",
     "iopub.status.busy": "2021-11-28T06:09:04.267596Z",
     "iopub.status.idle": "2021-11-28T06:09:04.518042Z",
     "shell.execute_reply": "2021-11-28T06:09:04.518517Z",
     "shell.execute_reply.started": "2021-11-28T05:42:33.017855Z"
    },
    "papermill": {
     "duration": 0.313882,
     "end_time": "2021-11-28T06:09:04.518721",
     "exception": false,
     "start_time": "2021-11-28T06:09:04.204839",
     "status": "completed"
    },
    "tags": []
   },
   "outputs": [
    {
     "data": {
      "text/plain": [
       "<AxesSubplot:>"
      ]
     },
     "execution_count": 33,
     "metadata": {},
     "output_type": "execute_result"
    },
    {
     "data": {
      "image/png": "[encoded data removed]",
      "text/plain": [
       "<Figure size 432x288 with 1 Axes>"
      ]
     },
     "metadata": {
      "needs_background": "light"
     },
     "output_type": "display_data"
    }
   ],
   "source": [
    "y_train['charges'].hist()"
   ]
  },
  {
   "cell_type": "code",
   "execution_count": 34,
   "id": "c66d21de",
   "metadata": {
    "execution": {
     "iopub.execute_input": "2021-11-28T06:09:04.643154Z",
     "iopub.status.busy": "2021-11-28T06:09:04.642411Z",
     "iopub.status.idle": "2021-11-28T06:09:04.646831Z",
     "shell.execute_reply": "2021-11-28T06:09:04.647448Z",
     "shell.execute_reply.started": "2021-11-28T05:42:33.272691Z"
    },
    "papermill": {
     "duration": 0.068444,
     "end_time": "2021-11-28T06:09:04.647643",
     "exception": false,
     "start_time": "2021-11-28T06:09:04.579199",
     "status": "completed"
    },
    "tags": []
   },
   "outputs": [],
   "source": [
    "y_train['charges'] = np.log1p(y_train['charges'])"
   ]
  },
  {
   "cell_type": "code",
   "execution_count": 35,
   "id": "43f7a24b",
   "metadata": {
    "execution": {
     "iopub.execute_input": "2021-11-28T06:09:04.771465Z",
     "iopub.status.busy": "2021-11-28T06:09:04.770776Z",
     "iopub.status.idle": "2021-11-28T06:09:05.016130Z",
     "shell.execute_reply": "2021-11-28T06:09:05.016608Z",
     "shell.execute_reply.started": "2021-11-28T05:42:33.278412Z"
    },
    "papermill": {
     "duration": 0.309373,
     "end_time": "2021-11-28T06:09:05.016805",
     "exception": false,
     "start_time": "2021-11-28T06:09:04.707432",
     "status": "completed"
    },
    "tags": []
   },
   "outputs": [
    {
     "data": {
      "text/plain": [
       "<AxesSubplot:>"
      ]
     },
     "execution_count": 35,
     "metadata": {},
     "output_type": "execute_result"
    },
    {
     "data": {
      "image/png": "[encoded data removed]",
      "text/plain": [
       "<Figure size 432x288 with 1 Axes>"
      ]
     },
     "metadata": {
      "needs_background": "light"
     },
     "output_type": "display_data"
    }
   ],
   "source": [
    "y_train['charges'].hist()"
   ]
  },
  {
   "cell_type": "markdown",
   "id": "ba6e427b",
   "metadata": {
    "papermill": {
     "duration": 0.059754,
     "end_time": "2021-11-28T06:09:05.138004",
     "exception": false,
     "start_time": "2021-11-28T06:09:05.078250",
     "status": "completed"
    },
    "tags": []
   },
   "source": [
    "## Standard Scaler"
   ]
  },
  {
   "cell_type": "code",
   "execution_count": 36,
   "id": "faa96c01",
   "metadata": {
    "execution": {
     "iopub.execute_input": "2021-11-28T06:09:05.262670Z",
     "iopub.status.busy": "2021-11-28T06:09:05.262033Z",
     "iopub.status.idle": "2021-11-28T06:09:05.275304Z",
     "shell.execute_reply": "2021-11-28T06:09:05.274754Z",
     "shell.execute_reply.started": "2021-11-28T05:42:33.536542Z"
    },
    "papermill": {
     "duration": 0.077136,
     "end_time": "2021-11-28T06:09:05.275452",
     "exception": false,
     "start_time": "2021-11-28T06:09:05.198316",
     "status": "completed"
    },
    "tags": []
   },
   "outputs": [],
   "source": [
    "from sklearn.preprocessing import StandardScaler\n",
    "scaler = StandardScaler()\n",
    "X_train['bmi'] = scaler.fit_transform(X_train[['bmi']])\n",
    "X_test['bmi'] = scaler.transform(X_test[['bmi']])"
   ]
  },
  {
   "cell_type": "markdown",
   "id": "c044105f",
   "metadata": {
    "papermill": {
     "duration": 0.059612,
     "end_time": "2021-11-28T06:09:05.395532",
     "exception": false,
     "start_time": "2021-11-28T06:09:05.335920",
     "status": "completed"
    },
    "tags": []
   },
   "source": [
    "## label encoding"
   ]
  },
  {
   "cell_type": "code",
   "execution_count": 37,
   "id": "c1d8e5dd",
   "metadata": {
    "execution": {
     "iopub.execute_input": "2021-11-28T06:09:05.524685Z",
     "iopub.status.busy": "2021-11-28T06:09:05.524050Z",
     "iopub.status.idle": "2021-11-28T06:09:05.530828Z",
     "shell.execute_reply": "2021-11-28T06:09:05.531357Z",
     "shell.execute_reply.started": "2021-11-28T05:42:33.551570Z"
    },
    "papermill": {
     "duration": 0.075311,
     "end_time": "2021-11-28T06:09:05.531524",
     "exception": false,
     "start_time": "2021-11-28T06:09:05.456213",
     "status": "completed"
    },
    "tags": []
   },
   "outputs": [],
   "source": [
    "# 나이를 10대, 20대, 30대로 구분하기 위해 10을 나눈 몫 값만 구함\n",
    "X_train['age'] = X_train['age'].apply(lambda x: x//10)\n",
    "X_test['age'] = X_test['age'].apply(lambda x: x//10)"
   ]
  },
  {
   "cell_type": "code",
   "execution_count": 38,
   "id": "851461e7",
   "metadata": {
    "execution": {
     "iopub.execute_input": "2021-11-28T06:09:05.655483Z",
     "iopub.status.busy": "2021-11-28T06:09:05.654844Z",
     "iopub.status.idle": "2021-11-28T06:09:05.668032Z",
     "shell.execute_reply": "2021-11-28T06:09:05.668582Z",
     "shell.execute_reply.started": "2021-11-28T05:42:33.560977Z"
    },
    "papermill": {
     "duration": 0.077525,
     "end_time": "2021-11-28T06:09:05.668872",
     "exception": false,
     "start_time": "2021-11-28T06:09:05.591347",
     "status": "completed"
    },
    "tags": []
   },
   "outputs": [
    {
     "data": {
      "text/html": [
       "<div>\n",
       "<style scoped>\n",
       "    .dataframe tbody tr th:only-of-type {\n",
       "        vertical-align: middle;\n",
       "    }\n",
       "\n",
       "    .dataframe tbody tr th {\n",
       "        vertical-align: top;\n",
       "    }\n",
       "\n",
       "    .dataframe thead th {\n",
       "        text-align: right;\n",
       "    }\n",
       "</style>\n",
       "<table border=\"1\" class=\"dataframe\">\n",
       "  <thead>\n",
       "    <tr style=\"text-align: right;\">\n",
       "      <th></th>\n",
       "      <th>id</th>\n",
       "      <th>age</th>\n",
       "      <th>bmi</th>\n",
       "      <th>children</th>\n",
       "      <th>sex_female</th>\n",
       "      <th>sex_male</th>\n",
       "      <th>smoker_no</th>\n",
       "      <th>smoker_yes</th>\n",
       "      <th>region_northeast</th>\n",
       "      <th>region_northwest</th>\n",
       "      <th>region_southeast</th>\n",
       "      <th>region_southwest</th>\n",
       "    </tr>\n",
       "  </thead>\n",
       "  <tbody>\n",
       "    <tr>\n",
       "      <th>209</th>\n",
       "      <td>209</td>\n",
       "      <td>4</td>\n",
       "      <td>1.707232</td>\n",
       "      <td>1</td>\n",
       "      <td>0</td>\n",
       "      <td>1</td>\n",
       "      <td>1</td>\n",
       "      <td>0</td>\n",
       "      <td>1</td>\n",
       "      <td>0</td>\n",
       "      <td>0</td>\n",
       "      <td>0</td>\n",
       "    </tr>\n",
       "    <tr>\n",
       "      <th>540</th>\n",
       "      <td>540</td>\n",
       "      <td>3</td>\n",
       "      <td>1.180775</td>\n",
       "      <td>3</td>\n",
       "      <td>1</td>\n",
       "      <td>0</td>\n",
       "      <td>1</td>\n",
       "      <td>0</td>\n",
       "      <td>0</td>\n",
       "      <td>0</td>\n",
       "      <td>0</td>\n",
       "      <td>1</td>\n",
       "    </tr>\n",
       "    <tr>\n",
       "      <th>747</th>\n",
       "      <td>747</td>\n",
       "      <td>1</td>\n",
       "      <td>-1.466991</td>\n",
       "      <td>0</td>\n",
       "      <td>0</td>\n",
       "      <td>1</td>\n",
       "      <td>1</td>\n",
       "      <td>0</td>\n",
       "      <td>0</td>\n",
       "      <td>1</td>\n",
       "      <td>0</td>\n",
       "      <td>0</td>\n",
       "    </tr>\n",
       "  </tbody>\n",
       "</table>\n",
       "</div>"
      ],
      "text/plain": [
       "      id  age       bmi  children  sex_female  sex_male  smoker_no  \\\n",
       "209  209    4  1.707232         1           0         1          1   \n",
       "540  540    3  1.180775         3           1         0          1   \n",
       "747  747    1 -1.466991         0           0         1          1   \n",
       "\n",
       "     smoker_yes  region_northeast  region_northwest  region_southeast  \\\n",
       "209           0                 1                 0                 0   \n",
       "540           0                 0                 0                 0   \n",
       "747           0                 0                 1                 0   \n",
       "\n",
       "     region_southwest  \n",
       "209                 0  \n",
       "540                 1  \n",
       "747                 0  "
      ]
     },
     "execution_count": 38,
     "metadata": {},
     "output_type": "execute_result"
    }
   ],
   "source": [
    "X_train.head(3)"
   ]
  },
  {
   "cell_type": "markdown",
   "id": "6000fdc1",
   "metadata": {
    "papermill": {
     "duration": 0.060951,
     "end_time": "2021-11-28T06:09:05.791051",
     "exception": false,
     "start_time": "2021-11-28T06:09:05.730100",
     "status": "completed"
    },
    "tags": []
   },
   "source": [
    "## Train-Validation Split"
   ]
  },
  {
   "cell_type": "code",
   "execution_count": 39,
   "id": "7be2f93a",
   "metadata": {
    "execution": {
     "iopub.execute_input": "2021-11-28T06:09:05.917861Z",
     "iopub.status.busy": "2021-11-28T06:09:05.917216Z",
     "iopub.status.idle": "2021-11-28T06:09:05.923420Z",
     "shell.execute_reply": "2021-11-28T06:09:05.923927Z",
     "shell.execute_reply.started": "2021-11-28T05:42:33.579994Z"
    },
    "papermill": {
     "duration": 0.072227,
     "end_time": "2021-11-28T06:09:05.924170",
     "exception": false,
     "start_time": "2021-11-28T06:09:05.851943",
     "status": "completed"
    },
    "tags": []
   },
   "outputs": [
    {
     "name": "stderr",
     "output_type": "stream",
     "text": [
      "/opt/conda/lib/python3.7/site-packages/ipykernel_launcher.py:2: FutureWarning: In a future version of pandas all arguments of DataFrame.drop except for the argument 'labels' will be keyword-only\n",
      "  \n"
     ]
    }
   ],
   "source": [
    "target = y_train['charges']\n",
    "X_train = X_train.drop('id', 1)"
   ]
  },
  {
   "cell_type": "code",
   "execution_count": 40,
   "id": "ad976625",
   "metadata": {
    "execution": {
     "iopub.execute_input": "2021-11-28T06:09:06.057019Z",
     "iopub.status.busy": "2021-11-28T06:09:06.056102Z",
     "iopub.status.idle": "2021-11-28T06:09:06.061818Z",
     "shell.execute_reply": "2021-11-28T06:09:06.062390Z",
     "shell.execute_reply.started": "2021-11-28T05:42:33.590963Z"
    },
    "papermill": {
     "duration": 0.07454,
     "end_time": "2021-11-28T06:09:06.062588",
     "exception": false,
     "start_time": "2021-11-28T06:09:05.988048",
     "status": "completed"
    },
    "tags": []
   },
   "outputs": [
    {
     "data": {
      "text/plain": [
       "((909, 11), (161, 11), (909,), (161,))"
      ]
     },
     "execution_count": 40,
     "metadata": {},
     "output_type": "execute_result"
    }
   ],
   "source": [
    "from sklearn.model_selection import train_test_split\n",
    "X_tr, X_val, y_tr, y_val = train_test_split(X_train, target, test_size=0.15, random_state=2022)\n",
    "X_tr.shape, X_val.shape, y_tr.shape, y_val.shape"
   ]
  },
  {
   "cell_type": "code",
   "execution_count": 41,
   "id": "ca71d9d8",
   "metadata": {
    "execution": {
     "iopub.execute_input": "2021-11-28T06:09:06.190113Z",
     "iopub.status.busy": "2021-11-28T06:09:06.189416Z",
     "iopub.status.idle": "2021-11-28T06:09:06.545543Z",
     "shell.execute_reply": "2021-11-28T06:09:06.544911Z",
     "shell.execute_reply.started": "2021-11-28T05:42:33.605576Z"
    },
    "papermill": {
     "duration": 0.421309,
     "end_time": "2021-11-28T06:09:06.545701",
     "exception": false,
     "start_time": "2021-11-28T06:09:06.124392",
     "status": "completed"
    },
    "tags": []
   },
   "outputs": [],
   "source": [
    "from sklearn.ensemble import RandomForestRegressor\n",
    "\n",
    "rf = RandomForestRegressor()\n",
    "rf.fit(X_tr, y_tr)\n",
    "pred = rf.predict(X_val)"
   ]
  },
  {
   "cell_type": "code",
   "execution_count": 42,
   "id": "5dcbf98a",
   "metadata": {
    "execution": {
     "iopub.execute_input": "2021-11-28T06:09:06.679807Z",
     "iopub.status.busy": "2021-11-28T06:09:06.679121Z",
     "iopub.status.idle": "2021-11-28T06:09:06.684223Z",
     "shell.execute_reply": "2021-11-28T06:09:06.684775Z",
     "shell.execute_reply.started": "2021-11-28T05:42:33.961135Z"
    },
    "papermill": {
     "duration": 0.075109,
     "end_time": "2021-11-28T06:09:06.685022",
     "exception": false,
     "start_time": "2021-11-28T06:09:06.609913",
     "status": "completed"
    },
    "tags": []
   },
   "outputs": [
    {
     "data": {
      "text/plain": [
       "0.3838676835440898"
      ]
     },
     "execution_count": 42,
     "metadata": {},
     "output_type": "execute_result"
    }
   ],
   "source": [
    "from sklearn.metrics import mean_squared_error\n",
    "def rmse2(y_true, y_pred):\n",
    "    return np.sqrt(mean_squared_error(y_true, y_pred))\n",
    "\n",
    "rmse2(y_val, pred)"
   ]
  },
  {
   "cell_type": "code",
   "execution_count": 43,
   "id": "b2154c1d",
   "metadata": {
    "execution": {
     "iopub.execute_input": "2021-11-28T06:09:06.819499Z",
     "iopub.status.busy": "2021-11-28T06:09:06.815593Z",
     "iopub.status.idle": "2021-11-28T06:09:06.822112Z",
     "shell.execute_reply": "2021-11-28T06:09:06.822612Z",
     "shell.execute_reply.started": "2021-11-28T05:42:33.970675Z"
    },
    "papermill": {
     "duration": 0.073559,
     "end_time": "2021-11-28T06:09:06.822825",
     "exception": false,
     "start_time": "2021-11-28T06:09:06.749266",
     "status": "completed"
    },
    "tags": []
   },
   "outputs": [
    {
     "data": {
      "text/plain": [
       "0.38386768354408973"
      ]
     },
     "execution_count": 43,
     "metadata": {},
     "output_type": "execute_result"
    }
   ],
   "source": [
    "def rmse(y_true, y_pred):\n",
    "    return np.sqrt(np.mean((y_true-y_pred)**2))\n",
    "\n",
    "rmse(y_val, pred)"
   ]
  },
  {
   "cell_type": "code",
   "execution_count": 44,
   "id": "0476a6b7",
   "metadata": {
    "execution": {
     "iopub.execute_input": "2021-11-28T06:09:06.959905Z",
     "iopub.status.busy": "2021-11-28T06:09:06.955099Z",
     "iopub.status.idle": "2021-11-28T06:09:07.338374Z",
     "shell.execute_reply": "2021-11-28T06:09:07.339006Z",
     "shell.execute_reply.started": "2021-11-28T05:42:33.983196Z"
    },
    "papermill": {
     "duration": 0.453723,
     "end_time": "2021-11-28T06:09:07.339239",
     "exception": false,
     "start_time": "2021-11-28T06:09:06.885516",
     "status": "completed"
    },
    "tags": []
   },
   "outputs": [],
   "source": [
    "from xgboost import XGBRegressor\n",
    "\n",
    "xgb = XGBRegressor()\n",
    "xgb.fit(X_tr, y_tr)\n",
    "pred = xgb.predict(X_val)"
   ]
  },
  {
   "cell_type": "code",
   "execution_count": 45,
   "id": "65476973",
   "metadata": {
    "execution": {
     "iopub.execute_input": "2021-11-28T06:09:07.469782Z",
     "iopub.status.busy": "2021-11-28T06:09:07.469127Z",
     "iopub.status.idle": "2021-11-28T06:09:07.474335Z",
     "shell.execute_reply": "2021-11-28T06:09:07.474990Z",
     "shell.execute_reply.started": "2021-11-28T05:42:34.332392Z"
    },
    "papermill": {
     "duration": 0.071532,
     "end_time": "2021-11-28T06:09:07.475178",
     "exception": false,
     "start_time": "2021-11-28T06:09:07.403646",
     "status": "completed"
    },
    "tags": []
   },
   "outputs": [
    {
     "data": {
      "text/plain": [
       "0.39580148944349686"
      ]
     },
     "execution_count": 45,
     "metadata": {},
     "output_type": "execute_result"
    }
   ],
   "source": [
    "rmse2(y_val, pred)"
   ]
  },
  {
   "cell_type": "code",
   "execution_count": 46,
   "id": "594a3566",
   "metadata": {
    "execution": {
     "iopub.execute_input": "2021-11-28T06:09:07.655401Z",
     "iopub.status.busy": "2021-11-28T06:09:07.629573Z",
     "iopub.status.idle": "2021-11-28T06:09:08.004118Z",
     "shell.execute_reply": "2021-11-28T06:09:08.004854Z",
     "shell.execute_reply.started": "2021-11-28T05:42:34.343305Z"
    },
    "papermill": {
     "duration": 0.466641,
     "end_time": "2021-11-28T06:09:08.005118",
     "exception": false,
     "start_time": "2021-11-28T06:09:07.538477",
     "status": "completed"
    },
    "tags": []
   },
   "outputs": [
    {
     "name": "stderr",
     "output_type": "stream",
     "text": [
      "/opt/conda/lib/python3.7/site-packages/ipykernel_launcher.py:2: FutureWarning: In a future version of pandas all arguments of DataFrame.drop except for the argument 'labels' will be keyword-only\n",
      "  \n"
     ]
    }
   ],
   "source": [
    "rf.fit(X_train, y_train['charges'])\n",
    "pred = rf.predict(X_test.drop('id',1))"
   ]
  },
  {
   "cell_type": "code",
   "execution_count": 47,
   "id": "530cda16",
   "metadata": {
    "execution": {
     "iopub.execute_input": "2021-11-28T06:09:08.143341Z",
     "iopub.status.busy": "2021-11-28T06:09:08.142396Z",
     "iopub.status.idle": "2021-11-28T06:09:08.145813Z",
     "shell.execute_reply": "2021-11-28T06:09:08.146427Z",
     "shell.execute_reply.started": "2021-11-28T05:42:34.735274Z"
    },
    "papermill": {
     "duration": 0.077512,
     "end_time": "2021-11-28T06:09:08.146593",
     "exception": false,
     "start_time": "2021-11-28T06:09:08.069081",
     "status": "completed"
    },
    "tags": []
   },
   "outputs": [
    {
     "data": {
      "text/html": [
       "<div>\n",
       "<style scoped>\n",
       "    .dataframe tbody tr th:only-of-type {\n",
       "        vertical-align: middle;\n",
       "    }\n",
       "\n",
       "    .dataframe tbody tr th {\n",
       "        vertical-align: top;\n",
       "    }\n",
       "\n",
       "    .dataframe thead th {\n",
       "        text-align: right;\n",
       "    }\n",
       "</style>\n",
       "<table border=\"1\" class=\"dataframe\">\n",
       "  <thead>\n",
       "    <tr style=\"text-align: right;\">\n",
       "      <th></th>\n",
       "      <th>id</th>\n",
       "      <th>charges</th>\n",
       "    </tr>\n",
       "  </thead>\n",
       "  <tbody>\n",
       "    <tr>\n",
       "      <th>1088</th>\n",
       "      <td>1088</td>\n",
       "      <td>9609.748209</td>\n",
       "    </tr>\n",
       "    <tr>\n",
       "      <th>1157</th>\n",
       "      <td>1157</td>\n",
       "      <td>4114.022214</td>\n",
       "    </tr>\n",
       "    <tr>\n",
       "      <th>1267</th>\n",
       "      <td>1267</td>\n",
       "      <td>34177.645019</td>\n",
       "    </tr>\n",
       "    <tr>\n",
       "      <th>506</th>\n",
       "      <td>506</td>\n",
       "      <td>2663.127997</td>\n",
       "    </tr>\n",
       "    <tr>\n",
       "      <th>659</th>\n",
       "      <td>659</td>\n",
       "      <td>12819.701730</td>\n",
       "    </tr>\n",
       "  </tbody>\n",
       "</table>\n",
       "</div>"
      ],
      "text/plain": [
       "        id       charges\n",
       "1088  1088   9609.748209\n",
       "1157  1157   4114.022214\n",
       "1267  1267  34177.645019\n",
       "506    506   2663.127997\n",
       "659    659  12819.701730"
      ]
     },
     "execution_count": 47,
     "metadata": {},
     "output_type": "execute_result"
    }
   ],
   "source": [
    "pred = np.exp(pred)\n",
    "output = pd.DataFrame({'id': y_test['id'], 'charges':pred})\n",
    "output.head()"
   ]
  },
  {
   "cell_type": "code",
   "execution_count": 48,
   "id": "ef34c76d",
   "metadata": {
    "execution": {
     "iopub.execute_input": "2021-11-28T06:09:08.278322Z",
     "iopub.status.busy": "2021-11-28T06:09:08.277528Z",
     "iopub.status.idle": "2021-11-28T06:09:08.279703Z",
     "shell.execute_reply": "2021-11-28T06:09:08.279141Z",
     "shell.execute_reply.started": "2021-11-28T05:42:34.748773Z"
    },
    "papermill": {
     "duration": 0.070137,
     "end_time": "2021-11-28T06:09:08.279865",
     "exception": false,
     "start_time": "2021-11-28T06:09:08.209728",
     "status": "completed"
    },
    "tags": []
   },
   "outputs": [],
   "source": [
    "#output.to_csv(\"000000.csv\", index=False)"
   ]
  },
  {
   "cell_type": "markdown",
   "id": "99aa869a",
   "metadata": {
    "papermill": {
     "duration": 0.063665,
     "end_time": "2021-11-28T06:09:08.407511",
     "exception": false,
     "start_time": "2021-11-28T06:09:08.343846",
     "status": "completed"
    },
    "tags": []
   },
   "source": [
    "# 결과 체점"
   ]
  },
  {
   "cell_type": "code",
   "execution_count": 49,
   "id": "8d2083ed",
   "metadata": {
    "execution": {
     "iopub.execute_input": "2021-11-28T06:09:08.538815Z",
     "iopub.status.busy": "2021-11-28T06:09:08.538129Z",
     "iopub.status.idle": "2021-11-28T06:09:08.544130Z",
     "shell.execute_reply": "2021-11-28T06:09:08.544681Z",
     "shell.execute_reply.started": "2021-11-28T05:42:34.756951Z"
    },
    "papermill": {
     "duration": 0.073642,
     "end_time": "2021-11-28T06:09:08.544867",
     "exception": false,
     "start_time": "2021-11-28T06:09:08.471225",
     "status": "completed"
    },
    "tags": []
   },
   "outputs": [
    {
     "data": {
      "text/plain": [
       "4769.519897887405"
      ]
     },
     "execution_count": 49,
     "metadata": {},
     "output_type": "execute_result"
    }
   ],
   "source": [
    "rmse(y_test['charges'], pred)"
   ]
  },
  {
   "cell_type": "code",
   "execution_count": null,
   "id": "282a46d1",
   "metadata": {
    "papermill": {
     "duration": 0.063544,
     "end_time": "2021-11-28T06:09:08.672338",
     "exception": false,
     "start_time": "2021-11-28T06:09:08.608794",
     "status": "completed"
    },
    "tags": []
   },
   "outputs": [],
   "source": []
  },
  {
   "cell_type": "code",
   "execution_count": null,
   "id": "de61ea35",
   "metadata": {
    "papermill": {
     "duration": 0.064145,
     "end_time": "2021-11-28T06:09:08.800526",
     "exception": false,
     "start_time": "2021-11-28T06:09:08.736381",
     "status": "completed"
    },
    "tags": []
   },
   "outputs": [],
   "source": []
  },
  {
   "cell_type": "code",
   "execution_count": null,
   "id": "11391221",
   "metadata": {
    "papermill": {
     "duration": 0.06522,
     "end_time": "2021-11-28T06:09:08.929769",
     "exception": false,
     "start_time": "2021-11-28T06:09:08.864549",
     "status": "completed"
    },
    "tags": []
   },
   "outputs": [],
   "source": []
  },
  {
   "cell_type": "code",
   "execution_count": null,
   "id": "7c0e3c56",
   "metadata": {
    "papermill": {
     "duration": 0.064512,
     "end_time": "2021-11-28T06:09:09.059318",
     "exception": false,
     "start_time": "2021-11-28T06:09:08.994806",
     "status": "completed"
    },
    "tags": []
   },
   "outputs": [],
   "source": []
  }
 ],
 "metadata": {
  "kernelspec": {
   "display_name": "Python 3",
   "language": "python",
   "name": "python3"
  },
  "language_info": {
   "codemirror_mode": {
    "name": "ipython",
    "version": 3
   },
   "file_extension": ".py",
   "mimetype": "text/x-python",
   "name": "python",
   "nbconvert_exporter": "python",
   "pygments_lexer": "ipython3",
   "version": "3.7.10"
  },
  "papermill": {
   "default_parameters": {},
   "duration": 150.091429,
   "end_time": "2021-11-28T06:09:10.141951",
   "environment_variables": {},
   "exception": null,
   "input_path": "__notebook__.ipynb",
   "output_path": "__notebook__.ipynb",
   "parameters": {},
   "start_time": "2021-11-28T06:06:40.050522",
   "version": "2.3.3"
  }
 },
 "nbformat": 4,
 "nbformat_minor": 5
}
