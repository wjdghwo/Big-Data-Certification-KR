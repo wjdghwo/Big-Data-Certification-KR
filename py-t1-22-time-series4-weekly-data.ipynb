{
 "cells": [
  {
   "cell_type": "markdown",
   "id": "90c512b7",
   "metadata": {
    "_cell_guid": "b1076dfc-b9ad-4769-8c92-a6c4dae69d19",
    "_uuid": "8f2839f25d086af736a60e9eeb907d3b93b6e0e5",
    "papermill": {
     "duration": 0.019082,
     "end_time": "2021-11-28T04:27:31.578412",
     "exception": false,
     "start_time": "2021-11-28T04:27:31.559330",
     "status": "completed"
    },
    "tags": []
   },
   "source": [
    "### 주어진 데이터(basic2.csv)에서 주 단위 Sales의 합계를 구하고, 가장 큰 값을 가진 주와 작은 값을 가진 주의 차이를 구하시오(절대값)\n",
    "- 데이터셋 : basic2.csv\n",
    "- 오른쪽 상단 copy&edit 클릭 -> 예상문제 풀이 시작"
   ]
  },
  {
   "cell_type": "code",
   "execution_count": 1,
   "id": "35e8f6bd",
   "metadata": {
    "execution": {
     "iopub.execute_input": "2021-11-28T04:27:31.620126Z",
     "iopub.status.busy": "2021-11-28T04:27:31.618579Z",
     "iopub.status.idle": "2021-11-28T04:27:31.646137Z",
     "shell.execute_reply": "2021-11-28T04:27:31.646948Z",
     "shell.execute_reply.started": "2021-11-28T04:26:15.357617Z"
    },
    "papermill": {
     "duration": 0.050936,
     "end_time": "2021-11-28T04:27:31.647347",
     "exception": false,
     "start_time": "2021-11-28T04:27:31.596411",
     "status": "completed"
    },
    "tags": []
   },
   "outputs": [],
   "source": [
    "import pandas as pd\n",
    "import numpy as np\n",
    "df = pd.read_csv('../input/bigdatacertificationkr/basic2.csv')"
   ]
  },
  {
   "cell_type": "code",
   "execution_count": 2,
   "id": "dd17db22",
   "metadata": {
    "execution": {
     "iopub.execute_input": "2021-11-28T04:27:31.685044Z",
     "iopub.status.busy": "2021-11-28T04:27:31.684119Z",
     "iopub.status.idle": "2021-11-28T04:27:31.710429Z",
     "shell.execute_reply": "2021-11-28T04:27:31.711043Z",
     "shell.execute_reply.started": "2021-11-28T04:26:15.372156Z"
    },
    "papermill": {
     "duration": 0.042305,
     "end_time": "2021-11-28T04:27:31.711294",
     "exception": false,
     "start_time": "2021-11-28T04:27:31.668989",
     "status": "completed"
    },
    "tags": []
   },
   "outputs": [
    {
     "data": {
      "text/html": [
       "<div>\n",
       "<style scoped>\n",
       "    .dataframe tbody tr th:only-of-type {\n",
       "        vertical-align: middle;\n",
       "    }\n",
       "\n",
       "    .dataframe tbody tr th {\n",
       "        vertical-align: top;\n",
       "    }\n",
       "\n",
       "    .dataframe thead th {\n",
       "        text-align: right;\n",
       "    }\n",
       "</style>\n",
       "<table border=\"1\" class=\"dataframe\">\n",
       "  <thead>\n",
       "    <tr style=\"text-align: right;\">\n",
       "      <th></th>\n",
       "      <th>Date</th>\n",
       "      <th>Sales</th>\n",
       "      <th>PV</th>\n",
       "      <th>UV</th>\n",
       "      <th>Events</th>\n",
       "    </tr>\n",
       "  </thead>\n",
       "  <tbody>\n",
       "    <tr>\n",
       "      <th>0</th>\n",
       "      <td>2022-01-01</td>\n",
       "      <td>22711525</td>\n",
       "      <td>397349</td>\n",
       "      <td>4421.0</td>\n",
       "      <td>1</td>\n",
       "    </tr>\n",
       "    <tr>\n",
       "      <th>1</th>\n",
       "      <td>2022-01-02</td>\n",
       "      <td>36779</td>\n",
       "      <td>3969</td>\n",
       "      <td>2289.0</td>\n",
       "      <td>0</td>\n",
       "    </tr>\n",
       "    <tr>\n",
       "      <th>2</th>\n",
       "      <td>2022-01-03</td>\n",
       "      <td>13943875</td>\n",
       "      <td>373890</td>\n",
       "      <td>NaN</td>\n",
       "      <td>1</td>\n",
       "    </tr>\n",
       "    <tr>\n",
       "      <th>3</th>\n",
       "      <td>2022-01-04</td>\n",
       "      <td>8088593</td>\n",
       "      <td>142054</td>\n",
       "      <td>2157.0</td>\n",
       "      <td>0</td>\n",
       "    </tr>\n",
       "    <tr>\n",
       "      <th>4</th>\n",
       "      <td>2022-01-05</td>\n",
       "      <td>2395374</td>\n",
       "      <td>190684</td>\n",
       "      <td>NaN</td>\n",
       "      <td>0</td>\n",
       "    </tr>\n",
       "  </tbody>\n",
       "</table>\n",
       "</div>"
      ],
      "text/plain": [
       "         Date     Sales      PV      UV  Events\n",
       "0  2022-01-01  22711525  397349  4421.0       1\n",
       "1  2022-01-02     36779    3969  2289.0       0\n",
       "2  2022-01-03  13943875  373890     NaN       1\n",
       "3  2022-01-04   8088593  142054  2157.0       0\n",
       "4  2022-01-05   2395374  190684     NaN       0"
      ]
     },
     "execution_count": 2,
     "metadata": {},
     "output_type": "execute_result"
    }
   ],
   "source": [
    "df.head()"
   ]
  },
  {
   "cell_type": "code",
   "execution_count": 3,
   "id": "f2d1607c",
   "metadata": {
    "execution": {
     "iopub.execute_input": "2021-11-28T04:27:31.752978Z",
     "iopub.status.busy": "2021-11-28T04:27:31.752054Z",
     "iopub.status.idle": "2021-11-28T04:27:31.754708Z",
     "shell.execute_reply": "2021-11-28T04:27:31.755472Z",
     "shell.execute_reply.started": "2021-11-28T04:26:15.387919Z"
    },
    "papermill": {
     "duration": 0.0256,
     "end_time": "2021-11-28T04:27:31.755693",
     "exception": false,
     "start_time": "2021-11-28T04:27:31.730093",
     "status": "completed"
    },
    "tags": []
   },
   "outputs": [],
   "source": [
    "df.Date = pd.to_datetime(df.Date)"
   ]
  },
  {
   "cell_type": "code",
   "execution_count": 4,
   "id": "ac4d55c9",
   "metadata": {
    "execution": {
     "iopub.execute_input": "2021-11-28T04:27:31.785564Z",
     "iopub.status.busy": "2021-11-28T04:27:31.784945Z",
     "iopub.status.idle": "2021-11-28T04:27:31.799312Z",
     "shell.execute_reply": "2021-11-28T04:27:31.800005Z",
     "shell.execute_reply.started": "2021-11-28T04:26:15.684177Z"
    },
    "papermill": {
     "duration": 0.028823,
     "end_time": "2021-11-28T04:27:31.800252",
     "exception": false,
     "start_time": "2021-11-28T04:27:31.771429",
     "status": "completed"
    },
    "tags": []
   },
   "outputs": [
    {
     "name": "stderr",
     "output_type": "stream",
     "text": [
      "/opt/conda/lib/python3.7/site-packages/ipykernel_launcher.py:1: FutureWarning: Series.dt.weekofyear and Series.dt.week have been deprecated.  Please use Series.dt.isocalendar().week instead.\n",
      "  \"\"\"Entry point for launching an IPython kernel.\n"
     ]
    }
   ],
   "source": [
    "df['week'] = df.Date.dt.week\n",
    "df['year'] = df.Date.dt.year"
   ]
  },
  {
   "cell_type": "code",
   "execution_count": 5,
   "id": "d6c540ae",
   "metadata": {
    "execution": {
     "iopub.execute_input": "2021-11-28T04:27:31.835122Z",
     "iopub.status.busy": "2021-11-28T04:27:31.834519Z",
     "iopub.status.idle": "2021-11-28T04:27:31.851047Z",
     "shell.execute_reply": "2021-11-28T04:27:31.851597Z",
     "shell.execute_reply.started": "2021-11-28T04:26:15.694266Z"
    },
    "papermill": {
     "duration": 0.037835,
     "end_time": "2021-11-28T04:27:31.851786",
     "exception": false,
     "start_time": "2021-11-28T04:27:31.813951",
     "status": "completed"
    },
    "tags": []
   },
   "outputs": [],
   "source": [
    "temp = df.groupby(['year','week']).sum().Sales.reset_index()"
   ]
  },
  {
   "cell_type": "code",
   "execution_count": 6,
   "id": "8382d403",
   "metadata": {
    "execution": {
     "iopub.execute_input": "2021-11-28T04:27:31.879182Z",
     "iopub.status.busy": "2021-11-28T04:27:31.878255Z",
     "iopub.status.idle": "2021-11-28T04:27:31.883986Z",
     "shell.execute_reply": "2021-11-28T04:27:31.884572Z",
     "shell.execute_reply.started": "2021-11-28T04:26:15.709028Z"
    },
    "papermill": {
     "duration": 0.020707,
     "end_time": "2021-11-28T04:27:31.884737",
     "exception": false,
     "start_time": "2021-11-28T04:27:31.864030",
     "status": "completed"
    },
    "tags": []
   },
   "outputs": [
    {
     "data": {
      "text/plain": [
       "91639050"
      ]
     },
     "execution_count": 6,
     "metadata": {},
     "output_type": "execute_result"
    }
   ],
   "source": [
    "temp.Sales.max() - temp.Sales.min()"
   ]
  },
  {
   "cell_type": "markdown",
   "id": "acad48e1",
   "metadata": {
    "papermill": {
     "duration": 0.011354,
     "end_time": "2021-11-28T04:27:31.907829",
     "exception": false,
     "start_time": "2021-11-28T04:27:31.896475",
     "status": "completed"
    },
    "tags": []
   },
   "source": [
    "## kaggle answer"
   ]
  },
  {
   "cell_type": "code",
   "execution_count": 7,
   "id": "178acd9e",
   "metadata": {
    "execution": {
     "iopub.execute_input": "2021-11-28T04:27:31.936862Z",
     "iopub.status.busy": "2021-11-28T04:27:31.935817Z",
     "iopub.status.idle": "2021-11-28T04:27:31.937858Z",
     "shell.execute_reply": "2021-11-28T04:27:31.938357Z",
     "shell.execute_reply.started": "2021-11-28T04:26:15.718448Z"
    },
    "papermill": {
     "duration": 0.018883,
     "end_time": "2021-11-28T04:27:31.938518",
     "exception": false,
     "start_time": "2021-11-28T04:27:31.919635",
     "status": "completed"
    },
    "tags": []
   },
   "outputs": [],
   "source": [
    "import pandas as pd"
   ]
  },
  {
   "cell_type": "code",
   "execution_count": 8,
   "id": "1603a7ec",
   "metadata": {
    "execution": {
     "iopub.execute_input": "2021-11-28T04:27:31.965817Z",
     "iopub.status.busy": "2021-11-28T04:27:31.964843Z",
     "iopub.status.idle": "2021-11-28T04:27:31.975497Z",
     "shell.execute_reply": "2021-11-28T04:27:31.976015Z",
     "shell.execute_reply.started": "2021-11-28T04:26:15.995453Z"
    },
    "papermill": {
     "duration": 0.026064,
     "end_time": "2021-11-28T04:27:31.976182",
     "exception": false,
     "start_time": "2021-11-28T04:27:31.950118",
     "status": "completed"
    },
    "tags": []
   },
   "outputs": [],
   "source": [
    "df = pd.read_csv(\"../input/bigdatacertificationkr/basic2.csv\", parse_dates=['Date'], index_col=0)\n",
    "\n",
    "# 아래 코드를 한줄로 표현함\n",
    "# df = pd.read_csv(\"../input/bigdatacertificationkr/basic2.csv\")\n",
    "# df['Date'] = pd.to_datetime(df['Date'])\n",
    "# df = df.set_index('Date')"
   ]
  },
  {
   "cell_type": "code",
   "execution_count": 9,
   "id": "b9c86fa7",
   "metadata": {
    "execution": {
     "iopub.execute_input": "2021-11-28T04:27:32.003372Z",
     "iopub.status.busy": "2021-11-28T04:27:32.002444Z",
     "iopub.status.idle": "2021-11-28T04:27:32.013751Z",
     "shell.execute_reply": "2021-11-28T04:27:32.014323Z",
     "shell.execute_reply.started": "2021-11-28T04:26:16.008431Z"
    },
    "papermill": {
     "duration": 0.026502,
     "end_time": "2021-11-28T04:27:32.014502",
     "exception": false,
     "start_time": "2021-11-28T04:27:31.988000",
     "status": "completed"
    },
    "tags": []
   },
   "outputs": [
    {
     "name": "stdout",
     "output_type": "stream",
     "text": [
      "(730, 4)\n"
     ]
    },
    {
     "data": {
      "text/html": [
       "<div>\n",
       "<style scoped>\n",
       "    .dataframe tbody tr th:only-of-type {\n",
       "        vertical-align: middle;\n",
       "    }\n",
       "\n",
       "    .dataframe tbody tr th {\n",
       "        vertical-align: top;\n",
       "    }\n",
       "\n",
       "    .dataframe thead th {\n",
       "        text-align: right;\n",
       "    }\n",
       "</style>\n",
       "<table border=\"1\" class=\"dataframe\">\n",
       "  <thead>\n",
       "    <tr style=\"text-align: right;\">\n",
       "      <th></th>\n",
       "      <th>Sales</th>\n",
       "      <th>PV</th>\n",
       "      <th>UV</th>\n",
       "      <th>Events</th>\n",
       "    </tr>\n",
       "    <tr>\n",
       "      <th>Date</th>\n",
       "      <th></th>\n",
       "      <th></th>\n",
       "      <th></th>\n",
       "      <th></th>\n",
       "    </tr>\n",
       "  </thead>\n",
       "  <tbody>\n",
       "    <tr>\n",
       "      <th>2022-01-01</th>\n",
       "      <td>22711525</td>\n",
       "      <td>397349</td>\n",
       "      <td>4421.0</td>\n",
       "      <td>1</td>\n",
       "    </tr>\n",
       "    <tr>\n",
       "      <th>2022-01-02</th>\n",
       "      <td>36779</td>\n",
       "      <td>3969</td>\n",
       "      <td>2289.0</td>\n",
       "      <td>0</td>\n",
       "    </tr>\n",
       "    <tr>\n",
       "      <th>2022-01-03</th>\n",
       "      <td>13943875</td>\n",
       "      <td>373890</td>\n",
       "      <td>NaN</td>\n",
       "      <td>1</td>\n",
       "    </tr>\n",
       "  </tbody>\n",
       "</table>\n",
       "</div>"
      ],
      "text/plain": [
       "               Sales      PV      UV  Events\n",
       "Date                                        \n",
       "2022-01-01  22711525  397349  4421.0       1\n",
       "2022-01-02     36779    3969  2289.0       0\n",
       "2022-01-03  13943875  373890     NaN       1"
      ]
     },
     "execution_count": 9,
     "metadata": {},
     "output_type": "execute_result"
    }
   ],
   "source": [
    "print(df.shape)\n",
    "df.head(3)"
   ]
  },
  {
   "cell_type": "code",
   "execution_count": 10,
   "id": "55b9ac6d",
   "metadata": {
    "execution": {
     "iopub.execute_input": "2021-11-28T04:27:32.042943Z",
     "iopub.status.busy": "2021-11-28T04:27:32.041994Z",
     "iopub.status.idle": "2021-11-28T04:27:32.053088Z",
     "shell.execute_reply": "2021-11-28T04:27:32.053676Z",
     "shell.execute_reply.started": "2021-11-28T04:26:16.023092Z"
    },
    "papermill": {
     "duration": 0.027125,
     "end_time": "2021-11-28T04:27:32.053873",
     "exception": false,
     "start_time": "2021-11-28T04:27:32.026748",
     "status": "completed"
    },
    "tags": []
   },
   "outputs": [
    {
     "data": {
      "text/html": [
       "<div>\n",
       "<style scoped>\n",
       "    .dataframe tbody tr th:only-of-type {\n",
       "        vertical-align: middle;\n",
       "    }\n",
       "\n",
       "    .dataframe tbody tr th {\n",
       "        vertical-align: top;\n",
       "    }\n",
       "\n",
       "    .dataframe thead th {\n",
       "        text-align: right;\n",
       "    }\n",
       "</style>\n",
       "<table border=\"1\" class=\"dataframe\">\n",
       "  <thead>\n",
       "    <tr style=\"text-align: right;\">\n",
       "      <th></th>\n",
       "      <th>Sales</th>\n",
       "      <th>PV</th>\n",
       "      <th>UV</th>\n",
       "      <th>Events</th>\n",
       "    </tr>\n",
       "    <tr>\n",
       "      <th>Date</th>\n",
       "      <th></th>\n",
       "      <th></th>\n",
       "      <th></th>\n",
       "      <th></th>\n",
       "    </tr>\n",
       "  </thead>\n",
       "  <tbody>\n",
       "    <tr>\n",
       "      <th>2023-12-29</th>\n",
       "      <td>1164008</td>\n",
       "      <td>14309</td>\n",
       "      <td>193.0</td>\n",
       "      <td>0</td>\n",
       "    </tr>\n",
       "    <tr>\n",
       "      <th>2023-12-30</th>\n",
       "      <td>3977696</td>\n",
       "      <td>60935</td>\n",
       "      <td>NaN</td>\n",
       "      <td>0</td>\n",
       "    </tr>\n",
       "    <tr>\n",
       "      <th>2023-12-31</th>\n",
       "      <td>3719764</td>\n",
       "      <td>60963</td>\n",
       "      <td>1507.0</td>\n",
       "      <td>0</td>\n",
       "    </tr>\n",
       "  </tbody>\n",
       "</table>\n",
       "</div>"
      ],
      "text/plain": [
       "              Sales     PV      UV  Events\n",
       "Date                                      \n",
       "2023-12-29  1164008  14309   193.0       0\n",
       "2023-12-30  3977696  60935     NaN       0\n",
       "2023-12-31  3719764  60963  1507.0       0"
      ]
     },
     "execution_count": 10,
     "metadata": {},
     "output_type": "execute_result"
    }
   ],
   "source": [
    "df.tail(3)"
   ]
  },
  {
   "cell_type": "markdown",
   "id": "2e756c70",
   "metadata": {
    "papermill": {
     "duration": 0.012478,
     "end_time": "2021-11-28T04:27:32.079499",
     "exception": false,
     "start_time": "2021-11-28T04:27:32.067021",
     "status": "completed"
    },
    "tags": []
   },
   "source": [
    "### 단위 \n",
    "- 주 단위 W\n",
    "- 2주 단위 2W\n",
    "- 월 단위 M"
   ]
  },
  {
   "cell_type": "code",
   "execution_count": 11,
   "id": "a67be24e",
   "metadata": {
    "execution": {
     "iopub.execute_input": "2021-11-28T04:27:32.110529Z",
     "iopub.status.busy": "2021-11-28T04:27:32.109722Z",
     "iopub.status.idle": "2021-11-28T04:27:32.131676Z",
     "shell.execute_reply": "2021-11-28T04:27:32.132127Z",
     "shell.execute_reply.started": "2021-11-28T04:26:16.040709Z"
    },
    "papermill": {
     "duration": 0.039415,
     "end_time": "2021-11-28T04:27:32.132333",
     "exception": false,
     "start_time": "2021-11-28T04:27:32.092918",
     "status": "completed"
    },
    "tags": []
   },
   "outputs": [
    {
     "data": {
      "text/html": [
       "<div>\n",
       "<style scoped>\n",
       "    .dataframe tbody tr th:only-of-type {\n",
       "        vertical-align: middle;\n",
       "    }\n",
       "\n",
       "    .dataframe tbody tr th {\n",
       "        vertical-align: top;\n",
       "    }\n",
       "\n",
       "    .dataframe thead th {\n",
       "        text-align: right;\n",
       "    }\n",
       "</style>\n",
       "<table border=\"1\" class=\"dataframe\">\n",
       "  <thead>\n",
       "    <tr style=\"text-align: right;\">\n",
       "      <th></th>\n",
       "      <th>Sales</th>\n",
       "      <th>PV</th>\n",
       "      <th>UV</th>\n",
       "      <th>Events</th>\n",
       "    </tr>\n",
       "    <tr>\n",
       "      <th>Date</th>\n",
       "      <th></th>\n",
       "      <th></th>\n",
       "      <th></th>\n",
       "      <th></th>\n",
       "    </tr>\n",
       "  </thead>\n",
       "  <tbody>\n",
       "    <tr>\n",
       "      <th>2022-01-02</th>\n",
       "      <td>22748304</td>\n",
       "      <td>401318</td>\n",
       "      <td>6710.0</td>\n",
       "      <td>1</td>\n",
       "    </tr>\n",
       "    <tr>\n",
       "      <th>2022-01-09</th>\n",
       "      <td>33373822</td>\n",
       "      <td>1148464</td>\n",
       "      <td>15189.0</td>\n",
       "      <td>2</td>\n",
       "    </tr>\n",
       "    <tr>\n",
       "      <th>2022-01-16</th>\n",
       "      <td>20754519</td>\n",
       "      <td>283773</td>\n",
       "      <td>9344.0</td>\n",
       "      <td>0</td>\n",
       "    </tr>\n",
       "    <tr>\n",
       "      <th>2022-01-23</th>\n",
       "      <td>21880751</td>\n",
       "      <td>538633</td>\n",
       "      <td>9841.0</td>\n",
       "      <td>1</td>\n",
       "    </tr>\n",
       "    <tr>\n",
       "      <th>2022-01-30</th>\n",
       "      <td>28878452</td>\n",
       "      <td>560814</td>\n",
       "      <td>7808.0</td>\n",
       "      <td>1</td>\n",
       "    </tr>\n",
       "  </tbody>\n",
       "</table>\n",
       "</div>"
      ],
      "text/plain": [
       "               Sales       PV       UV  Events\n",
       "Date                                          \n",
       "2022-01-02  22748304   401318   6710.0       1\n",
       "2022-01-09  33373822  1148464  15189.0       2\n",
       "2022-01-16  20754519   283773   9344.0       0\n",
       "2022-01-23  21880751   538633   9841.0       1\n",
       "2022-01-30  28878452   560814   7808.0       1"
      ]
     },
     "execution_count": 11,
     "metadata": {},
     "output_type": "execute_result"
    }
   ],
   "source": [
    "df_w = df.resample('W').sum()\n",
    "df_w.head()"
   ]
  },
  {
   "cell_type": "code",
   "execution_count": 12,
   "id": "c1fa1741",
   "metadata": {
    "execution": {
     "iopub.execute_input": "2021-11-28T04:27:32.162664Z",
     "iopub.status.busy": "2021-11-28T04:27:32.161770Z",
     "iopub.status.idle": "2021-11-28T04:27:32.168289Z",
     "shell.execute_reply": "2021-11-28T04:27:32.167829Z",
     "shell.execute_reply.started": "2021-11-28T04:26:16.072355Z"
    },
    "papermill": {
     "duration": 0.022723,
     "end_time": "2021-11-28T04:27:32.168439",
     "exception": false,
     "start_time": "2021-11-28T04:27:32.145716",
     "status": "completed"
    },
    "tags": []
   },
   "outputs": [
    {
     "data": {
      "text/plain": [
       "99165648"
      ]
     },
     "execution_count": 12,
     "metadata": {},
     "output_type": "execute_result"
    }
   ],
   "source": [
    "ma = df_w['Sales'].max()\n",
    "ma"
   ]
  },
  {
   "cell_type": "code",
   "execution_count": 13,
   "id": "233bc1ae",
   "metadata": {
    "execution": {
     "iopub.execute_input": "2021-11-28T04:27:32.198751Z",
     "iopub.status.busy": "2021-11-28T04:27:32.197845Z",
     "iopub.status.idle": "2021-11-28T04:27:32.203017Z",
     "shell.execute_reply": "2021-11-28T04:27:32.203600Z",
     "shell.execute_reply.started": "2021-11-28T04:26:16.081130Z"
    },
    "papermill": {
     "duration": 0.021993,
     "end_time": "2021-11-28T04:27:32.203774",
     "exception": false,
     "start_time": "2021-11-28T04:27:32.181781",
     "status": "completed"
    },
    "tags": []
   },
   "outputs": [
    {
     "data": {
      "text/plain": [
       "7526598"
      ]
     },
     "execution_count": 13,
     "metadata": {},
     "output_type": "execute_result"
    }
   ],
   "source": [
    "mi = df_w['Sales'].min()\n",
    "mi"
   ]
  },
  {
   "cell_type": "code",
   "execution_count": 14,
   "id": "4f632234",
   "metadata": {
    "execution": {
     "iopub.execute_input": "2021-11-28T04:27:32.234532Z",
     "iopub.status.busy": "2021-11-28T04:27:32.233564Z",
     "iopub.status.idle": "2021-11-28T04:27:32.238306Z",
     "shell.execute_reply": "2021-11-28T04:27:32.238796Z",
     "shell.execute_reply.started": "2021-11-28T04:26:16.096281Z"
    },
    "papermill": {
     "duration": 0.021646,
     "end_time": "2021-11-28T04:27:32.238964",
     "exception": false,
     "start_time": "2021-11-28T04:27:32.217318",
     "status": "completed"
    },
    "tags": []
   },
   "outputs": [
    {
     "name": "stdout",
     "output_type": "stream",
     "text": [
      "91639050\n"
     ]
    }
   ],
   "source": [
    "print(ma - mi)"
   ]
  },
  {
   "cell_type": "code",
   "execution_count": null,
   "id": "28ad63d0",
   "metadata": {
    "papermill": {
     "duration": 0.013696,
     "end_time": "2021-11-28T04:27:32.268961",
     "exception": false,
     "start_time": "2021-11-28T04:27:32.255265",
     "status": "completed"
    },
    "tags": []
   },
   "outputs": [],
   "source": []
  }
 ],
 "metadata": {
  "kernelspec": {
   "display_name": "Python 3",
   "language": "python",
   "name": "python3"
  },
  "language_info": {
   "codemirror_mode": {
    "name": "ipython",
    "version": 3
   },
   "file_extension": ".py",
   "mimetype": "text/x-python",
   "name": "python",
   "nbconvert_exporter": "python",
   "pygments_lexer": "ipython3",
   "version": "3.7.10"
  },
  "papermill": {
   "default_parameters": {},
   "duration": 9.014367,
   "end_time": "2021-11-28T04:27:32.892201",
   "environment_variables": {},
   "exception": null,
   "input_path": "__notebook__.ipynb",
   "output_path": "__notebook__.ipynb",
   "parameters": {},
   "start_time": "2021-11-28T04:27:23.877834",
   "version": "2.3.3"
  }
 },
 "nbformat": 4,
 "nbformat_minor": 5
}
