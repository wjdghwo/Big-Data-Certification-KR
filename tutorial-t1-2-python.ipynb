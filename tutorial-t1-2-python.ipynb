{
 "cells": [
  {
   "cell_type": "markdown",
   "id": "af96760b",
   "metadata": {
    "papermill": {
     "duration": 0.024678,
     "end_time": "2021-11-19T12:59:19.224797",
     "exception": false,
     "start_time": "2021-11-19T12:59:19.200119",
     "status": "completed"
    },
    "tags": []
   },
   "source": [
    "## 강의 영상 : https://youtu.be/Jh3rJaZlEg0"
   ]
  },
  {
   "cell_type": "markdown",
   "id": "302e61e5",
   "metadata": {
    "_cell_guid": "af4252ad-f822-45d3-b9c2-f26af7608ef4",
    "_uuid": "de34d146-4c69-4b7c-82f6-11d6287f6094",
    "execution": {
     "iopub.execute_input": "2021-10-07T06:47:44.152391Z",
     "iopub.status.busy": "2021-10-07T06:47:44.152048Z",
     "iopub.status.idle": "2021-10-07T06:47:44.18282Z",
     "shell.execute_reply": "2021-10-07T06:47:44.182194Z",
     "shell.execute_reply.started": "2021-10-07T06:47:44.152311Z"
    },
    "jupyter": {
     "outputs_hidden": false
    },
    "papermill": {
     "duration": 0.020977,
     "end_time": "2021-11-19T12:59:19.267605",
     "exception": false,
     "start_time": "2021-11-19T12:59:19.246628",
     "status": "completed"
    },
    "tags": []
   },
   "source": [
    "## 문제1\n",
    "- 데이터셋(basic1.csv)의 'f5' 컬럼을 기준으로 상위 10개의 데이터를 구하고,\n",
    "- 'f5'컬럼 10개 중 최소값으로 데이터를 대체한 후, \n",
    "- 'age'컬럼에서 80 이상인 데이터의'f5 컬럼 평균값 구하기"
   ]
  },
  {
   "cell_type": "code",
   "execution_count": 1,
   "id": "9662a683",
   "metadata": {
    "execution": {
     "iopub.execute_input": "2021-11-19T12:59:19.320723Z",
     "iopub.status.busy": "2021-11-19T12:59:19.320071Z",
     "iopub.status.idle": "2021-11-19T12:59:19.360794Z",
     "shell.execute_reply": "2021-11-19T12:59:19.361281Z",
     "shell.execute_reply.started": "2021-11-19T08:05:53.609574Z"
    },
    "papermill": {
     "duration": 0.072733,
     "end_time": "2021-11-19T12:59:19.361569",
     "exception": false,
     "start_time": "2021-11-19T12:59:19.288836",
     "status": "completed"
    },
    "tags": []
   },
   "outputs": [
    {
     "data": {
      "text/html": [
       "<div>\n",
       "<style scoped>\n",
       "    .dataframe tbody tr th:only-of-type {\n",
       "        vertical-align: middle;\n",
       "    }\n",
       "\n",
       "    .dataframe tbody tr th {\n",
       "        vertical-align: top;\n",
       "    }\n",
       "\n",
       "    .dataframe thead th {\n",
       "        text-align: right;\n",
       "    }\n",
       "</style>\n",
       "<table border=\"1\" class=\"dataframe\">\n",
       "  <thead>\n",
       "    <tr style=\"text-align: right;\">\n",
       "      <th></th>\n",
       "      <th>id</th>\n",
       "      <th>age</th>\n",
       "      <th>city</th>\n",
       "      <th>f1</th>\n",
       "      <th>f2</th>\n",
       "      <th>f3</th>\n",
       "      <th>f4</th>\n",
       "      <th>f5</th>\n",
       "    </tr>\n",
       "  </thead>\n",
       "  <tbody>\n",
       "    <tr>\n",
       "      <th>0</th>\n",
       "      <td>id01</td>\n",
       "      <td>2.0</td>\n",
       "      <td>서울</td>\n",
       "      <td>NaN</td>\n",
       "      <td>0</td>\n",
       "      <td>NaN</td>\n",
       "      <td>ENFJ</td>\n",
       "      <td>91.297791</td>\n",
       "    </tr>\n",
       "    <tr>\n",
       "      <th>1</th>\n",
       "      <td>id02</td>\n",
       "      <td>9.0</td>\n",
       "      <td>서울</td>\n",
       "      <td>70.0</td>\n",
       "      <td>1</td>\n",
       "      <td>NaN</td>\n",
       "      <td>ENFJ</td>\n",
       "      <td>60.339826</td>\n",
       "    </tr>\n",
       "    <tr>\n",
       "      <th>2</th>\n",
       "      <td>id03</td>\n",
       "      <td>27.0</td>\n",
       "      <td>서울</td>\n",
       "      <td>61.0</td>\n",
       "      <td>1</td>\n",
       "      <td>NaN</td>\n",
       "      <td>ISTJ</td>\n",
       "      <td>17.252986</td>\n",
       "    </tr>\n",
       "    <tr>\n",
       "      <th>3</th>\n",
       "      <td>id04</td>\n",
       "      <td>75.0</td>\n",
       "      <td>서울</td>\n",
       "      <td>NaN</td>\n",
       "      <td>2</td>\n",
       "      <td>NaN</td>\n",
       "      <td>INFP</td>\n",
       "      <td>52.667078</td>\n",
       "    </tr>\n",
       "    <tr>\n",
       "      <th>4</th>\n",
       "      <td>id05</td>\n",
       "      <td>24.0</td>\n",
       "      <td>서울</td>\n",
       "      <td>85.0</td>\n",
       "      <td>2</td>\n",
       "      <td>NaN</td>\n",
       "      <td>ISFJ</td>\n",
       "      <td>29.269869</td>\n",
       "    </tr>\n",
       "  </tbody>\n",
       "</table>\n",
       "</div>"
      ],
      "text/plain": [
       "     id   age city    f1  f2   f3    f4         f5\n",
       "0  id01   2.0   서울   NaN   0  NaN  ENFJ  91.297791\n",
       "1  id02   9.0   서울  70.0   1  NaN  ENFJ  60.339826\n",
       "2  id03  27.0   서울  61.0   1  NaN  ISTJ  17.252986\n",
       "3  id04  75.0   서울   NaN   2  NaN  INFP  52.667078\n",
       "4  id05  24.0   서울  85.0   2  NaN  ISFJ  29.269869"
      ]
     },
     "execution_count": 1,
     "metadata": {},
     "output_type": "execute_result"
    }
   ],
   "source": [
    "import pandas as pd\n",
    "import numpy as np\n",
    "df = pd.read_csv('../input/bigdatacertificationkr/basic1.csv')\n",
    "df.head()"
   ]
  },
  {
   "cell_type": "code",
   "execution_count": 2,
   "id": "153584cc",
   "metadata": {
    "execution": {
     "iopub.execute_input": "2021-11-19T12:59:19.417439Z",
     "iopub.status.busy": "2021-11-19T12:59:19.416749Z",
     "iopub.status.idle": "2021-11-19T12:59:19.459760Z",
     "shell.execute_reply": "2021-11-19T12:59:19.459172Z",
     "shell.execute_reply.started": "2021-11-19T08:05:54.306490Z"
    },
    "papermill": {
     "duration": 0.07616,
     "end_time": "2021-11-19T12:59:19.459931",
     "exception": false,
     "start_time": "2021-11-19T12:59:19.383771",
     "status": "completed"
    },
    "tags": []
   },
   "outputs": [
    {
     "data": {
      "text/html": [
       "<div>\n",
       "<style scoped>\n",
       "    .dataframe tbody tr th:only-of-type {\n",
       "        vertical-align: middle;\n",
       "    }\n",
       "\n",
       "    .dataframe tbody tr th {\n",
       "        vertical-align: top;\n",
       "    }\n",
       "\n",
       "    .dataframe thead th {\n",
       "        text-align: right;\n",
       "    }\n",
       "</style>\n",
       "<table border=\"1\" class=\"dataframe\">\n",
       "  <thead>\n",
       "    <tr style=\"text-align: right;\">\n",
       "      <th></th>\n",
       "      <th>age</th>\n",
       "      <th>f1</th>\n",
       "      <th>f2</th>\n",
       "      <th>f5</th>\n",
       "    </tr>\n",
       "  </thead>\n",
       "  <tbody>\n",
       "    <tr>\n",
       "      <th>count</th>\n",
       "      <td>100.000000</td>\n",
       "      <td>69.000000</td>\n",
       "      <td>100.000000</td>\n",
       "      <td>100.000000</td>\n",
       "    </tr>\n",
       "    <tr>\n",
       "      <th>mean</th>\n",
       "      <td>50.963000</td>\n",
       "      <td>66.043478</td>\n",
       "      <td>0.650000</td>\n",
       "      <td>56.734537</td>\n",
       "    </tr>\n",
       "    <tr>\n",
       "      <th>std</th>\n",
       "      <td>30.442759</td>\n",
       "      <td>19.453893</td>\n",
       "      <td>0.715979</td>\n",
       "      <td>28.454244</td>\n",
       "    </tr>\n",
       "    <tr>\n",
       "      <th>min</th>\n",
       "      <td>-13.500000</td>\n",
       "      <td>12.000000</td>\n",
       "      <td>0.000000</td>\n",
       "      <td>9.796378</td>\n",
       "    </tr>\n",
       "    <tr>\n",
       "      <th>25%</th>\n",
       "      <td>26.875000</td>\n",
       "      <td>51.000000</td>\n",
       "      <td>0.000000</td>\n",
       "      <td>29.269869</td>\n",
       "    </tr>\n",
       "    <tr>\n",
       "      <th>50%</th>\n",
       "      <td>52.500000</td>\n",
       "      <td>63.000000</td>\n",
       "      <td>1.000000</td>\n",
       "      <td>64.113099</td>\n",
       "    </tr>\n",
       "    <tr>\n",
       "      <th>75%</th>\n",
       "      <td>77.000000</td>\n",
       "      <td>78.000000</td>\n",
       "      <td>1.000000</td>\n",
       "      <td>81.025055</td>\n",
       "    </tr>\n",
       "    <tr>\n",
       "      <th>max</th>\n",
       "      <td>100.000000</td>\n",
       "      <td>111.000000</td>\n",
       "      <td>2.000000</td>\n",
       "      <td>98.429899</td>\n",
       "    </tr>\n",
       "  </tbody>\n",
       "</table>\n",
       "</div>"
      ],
      "text/plain": [
       "              age          f1          f2          f5\n",
       "count  100.000000   69.000000  100.000000  100.000000\n",
       "mean    50.963000   66.043478    0.650000   56.734537\n",
       "std     30.442759   19.453893    0.715979   28.454244\n",
       "min    -13.500000   12.000000    0.000000    9.796378\n",
       "25%     26.875000   51.000000    0.000000   29.269869\n",
       "50%     52.500000   63.000000    1.000000   64.113099\n",
       "75%     77.000000   78.000000    1.000000   81.025055\n",
       "max    100.000000  111.000000    2.000000   98.429899"
      ]
     },
     "execution_count": 2,
     "metadata": {},
     "output_type": "execute_result"
    }
   ],
   "source": [
    "df.describe()"
   ]
  },
  {
   "cell_type": "code",
   "execution_count": 3,
   "id": "408c1da6",
   "metadata": {
    "execution": {
     "iopub.execute_input": "2021-11-19T12:59:19.515540Z",
     "iopub.status.busy": "2021-11-19T12:59:19.514845Z",
     "iopub.status.idle": "2021-11-19T12:59:19.522585Z",
     "shell.execute_reply": "2021-11-19T12:59:19.522133Z",
     "shell.execute_reply.started": "2021-11-19T08:05:54.922848Z"
    },
    "papermill": {
     "duration": 0.033981,
     "end_time": "2021-11-19T12:59:19.522715",
     "exception": false,
     "start_time": "2021-11-19T12:59:19.488734",
     "status": "completed"
    },
    "tags": []
   },
   "outputs": [
    {
     "data": {
      "text/plain": [
       "id       0\n",
       "age      0\n",
       "city     0\n",
       "f1      31\n",
       "f2       0\n",
       "f3      95\n",
       "f4       0\n",
       "f5       0\n",
       "dtype: int64"
      ]
     },
     "execution_count": 3,
     "metadata": {},
     "output_type": "execute_result"
    }
   ],
   "source": [
    "df.isna().sum()"
   ]
  },
  {
   "cell_type": "code",
   "execution_count": 4,
   "id": "71666152",
   "metadata": {
    "execution": {
     "iopub.execute_input": "2021-11-19T12:59:19.571122Z",
     "iopub.status.busy": "2021-11-19T12:59:19.570553Z",
     "iopub.status.idle": "2021-11-19T12:59:19.584746Z",
     "shell.execute_reply": "2021-11-19T12:59:19.585151Z",
     "shell.execute_reply.started": "2021-11-19T08:05:55.564503Z"
    },
    "papermill": {
     "duration": 0.039887,
     "end_time": "2021-11-19T12:59:19.585341",
     "exception": false,
     "start_time": "2021-11-19T12:59:19.545454",
     "status": "completed"
    },
    "tags": []
   },
   "outputs": [
    {
     "data": {
      "text/html": [
       "<div>\n",
       "<style scoped>\n",
       "    .dataframe tbody tr th:only-of-type {\n",
       "        vertical-align: middle;\n",
       "    }\n",
       "\n",
       "    .dataframe tbody tr th {\n",
       "        vertical-align: top;\n",
       "    }\n",
       "\n",
       "    .dataframe thead th {\n",
       "        text-align: right;\n",
       "    }\n",
       "</style>\n",
       "<table border=\"1\" class=\"dataframe\">\n",
       "  <thead>\n",
       "    <tr style=\"text-align: right;\">\n",
       "      <th></th>\n",
       "      <th>id</th>\n",
       "      <th>age</th>\n",
       "      <th>city</th>\n",
       "      <th>f1</th>\n",
       "      <th>f2</th>\n",
       "      <th>f3</th>\n",
       "      <th>f4</th>\n",
       "      <th>f5</th>\n",
       "    </tr>\n",
       "  </thead>\n",
       "  <tbody>\n",
       "    <tr>\n",
       "      <th>10</th>\n",
       "      <td>id11</td>\n",
       "      <td>40.0</td>\n",
       "      <td>서울</td>\n",
       "      <td>68.0</td>\n",
       "      <td>0</td>\n",
       "      <td>NaN</td>\n",
       "      <td>ENFP</td>\n",
       "      <td>98.429899</td>\n",
       "    </tr>\n",
       "    <tr>\n",
       "      <th>97</th>\n",
       "      <td>id98</td>\n",
       "      <td>39.0</td>\n",
       "      <td>경기</td>\n",
       "      <td>58.0</td>\n",
       "      <td>2</td>\n",
       "      <td>NaN</td>\n",
       "      <td>INFP</td>\n",
       "      <td>98.429899</td>\n",
       "    </tr>\n",
       "    <tr>\n",
       "      <th>9</th>\n",
       "      <td>id10</td>\n",
       "      <td>95.0</td>\n",
       "      <td>서울</td>\n",
       "      <td>74.0</td>\n",
       "      <td>1</td>\n",
       "      <td>NaN</td>\n",
       "      <td>ISFP</td>\n",
       "      <td>98.429899</td>\n",
       "    </tr>\n",
       "    <tr>\n",
       "      <th>76</th>\n",
       "      <td>id77</td>\n",
       "      <td>77.0</td>\n",
       "      <td>경기</td>\n",
       "      <td>31.0</td>\n",
       "      <td>0</td>\n",
       "      <td>NaN</td>\n",
       "      <td>INFP</td>\n",
       "      <td>98.429899</td>\n",
       "    </tr>\n",
       "    <tr>\n",
       "      <th>98</th>\n",
       "      <td>id99</td>\n",
       "      <td>1.0</td>\n",
       "      <td>경기</td>\n",
       "      <td>47.0</td>\n",
       "      <td>0</td>\n",
       "      <td>NaN</td>\n",
       "      <td>ESFJ</td>\n",
       "      <td>97.381034</td>\n",
       "    </tr>\n",
       "    <tr>\n",
       "      <th>91</th>\n",
       "      <td>id92</td>\n",
       "      <td>97.0</td>\n",
       "      <td>경기</td>\n",
       "      <td>78.0</td>\n",
       "      <td>1</td>\n",
       "      <td>NaN</td>\n",
       "      <td>INFP</td>\n",
       "      <td>97.381034</td>\n",
       "    </tr>\n",
       "    <tr>\n",
       "      <th>86</th>\n",
       "      <td>id87</td>\n",
       "      <td>19.0</td>\n",
       "      <td>경기</td>\n",
       "      <td>NaN</td>\n",
       "      <td>1</td>\n",
       "      <td>NaN</td>\n",
       "      <td>ISFP</td>\n",
       "      <td>97.381034</td>\n",
       "    </tr>\n",
       "    <tr>\n",
       "      <th>71</th>\n",
       "      <td>id72</td>\n",
       "      <td>8.0</td>\n",
       "      <td>경기</td>\n",
       "      <td>97.0</td>\n",
       "      <td>0</td>\n",
       "      <td>NaN</td>\n",
       "      <td>ESTJ</td>\n",
       "      <td>97.381034</td>\n",
       "    </tr>\n",
       "    <tr>\n",
       "      <th>11</th>\n",
       "      <td>id12</td>\n",
       "      <td>20.0</td>\n",
       "      <td>서울</td>\n",
       "      <td>NaN</td>\n",
       "      <td>0</td>\n",
       "      <td>NaN</td>\n",
       "      <td>ESTP</td>\n",
       "      <td>91.297791</td>\n",
       "    </tr>\n",
       "    <tr>\n",
       "      <th>19</th>\n",
       "      <td>id20</td>\n",
       "      <td>11.0</td>\n",
       "      <td>서울</td>\n",
       "      <td>51.0</td>\n",
       "      <td>1</td>\n",
       "      <td>NaN</td>\n",
       "      <td>INTJ</td>\n",
       "      <td>91.297791</td>\n",
       "    </tr>\n",
       "  </tbody>\n",
       "</table>\n",
       "</div>"
      ],
      "text/plain": [
       "      id   age city    f1  f2   f3    f4         f5\n",
       "10  id11  40.0   서울  68.0   0  NaN  ENFP  98.429899\n",
       "97  id98  39.0   경기  58.0   2  NaN  INFP  98.429899\n",
       "9   id10  95.0   서울  74.0   1  NaN  ISFP  98.429899\n",
       "76  id77  77.0   경기  31.0   0  NaN  INFP  98.429899\n",
       "98  id99   1.0   경기  47.0   0  NaN  ESFJ  97.381034\n",
       "91  id92  97.0   경기  78.0   1  NaN  INFP  97.381034\n",
       "86  id87  19.0   경기   NaN   1  NaN  ISFP  97.381034\n",
       "71  id72   8.0   경기  97.0   0  NaN  ESTJ  97.381034\n",
       "11  id12  20.0   서울   NaN   0  NaN  ESTP  91.297791\n",
       "19  id20  11.0   서울  51.0   1  NaN  INTJ  91.297791"
      ]
     },
     "execution_count": 4,
     "metadata": {},
     "output_type": "execute_result"
    }
   ],
   "source": [
    "df.sort_values(by='f5', ascending=False).iloc[0:10,]"
   ]
  },
  {
   "cell_type": "code",
   "execution_count": 5,
   "id": "3c44826f",
   "metadata": {
    "execution": {
     "iopub.execute_input": "2021-11-19T12:59:19.638570Z",
     "iopub.status.busy": "2021-11-19T12:59:19.637549Z",
     "iopub.status.idle": "2021-11-19T12:59:19.643145Z",
     "shell.execute_reply": "2021-11-19T12:59:19.642555Z",
     "shell.execute_reply.started": "2021-11-19T08:05:56.154842Z"
    },
    "papermill": {
     "duration": 0.034744,
     "end_time": "2021-11-19T12:59:19.643309",
     "exception": false,
     "start_time": "2021-11-19T12:59:19.608565",
     "status": "completed"
    },
    "tags": []
   },
   "outputs": [
    {
     "data": {
      "text/plain": [
       "63.07232761739131"
      ]
     },
     "execution_count": 5,
     "metadata": {},
     "output_type": "execute_result"
    }
   ],
   "source": [
    "df[df['age']>=80].f5.mean()"
   ]
  },
  {
   "cell_type": "code",
   "execution_count": 6,
   "id": "3dfd35fc",
   "metadata": {
    "execution": {
     "iopub.execute_input": "2021-11-19T12:59:19.696987Z",
     "iopub.status.busy": "2021-11-19T12:59:19.696377Z",
     "iopub.status.idle": "2021-11-19T12:59:19.702492Z",
     "shell.execute_reply": "2021-11-19T12:59:19.702894Z",
     "shell.execute_reply.started": "2021-11-19T08:05:57.548620Z"
    },
    "papermill": {
     "duration": 0.036203,
     "end_time": "2021-11-19T12:59:19.703057",
     "exception": false,
     "start_time": "2021-11-19T12:59:19.666854",
     "status": "completed"
    },
    "tags": []
   },
   "outputs": [
    {
     "name": "stderr",
     "output_type": "stream",
     "text": [
      "/opt/conda/lib/python3.7/site-packages/pandas/core/indexing.py:1732: SettingWithCopyWarning: \n",
      "A value is trying to be set on a copy of a slice from a DataFrame\n",
      "\n",
      "See the caveats in the documentation: https://pandas.pydata.org/pandas-docs/stable/user_guide/indexing.html#returning-a-view-versus-a-copy\n",
      "  self._setitem_single_block(indexer, value, name)\n"
     ]
    }
   ],
   "source": [
    "df = df.sort_values(by='f5', ascending=False)\n",
    "\n",
    "df['f5'].iloc[0:10,] = df['f5'].iloc[10,]"
   ]
  },
  {
   "cell_type": "code",
   "execution_count": 7,
   "id": "b1fdc21b",
   "metadata": {
    "execution": {
     "iopub.execute_input": "2021-11-19T12:59:19.765249Z",
     "iopub.status.busy": "2021-11-19T12:59:19.764629Z",
     "iopub.status.idle": "2021-11-19T12:59:19.771843Z",
     "shell.execute_reply": "2021-11-19T12:59:19.772320Z",
     "shell.execute_reply.started": "2021-11-19T08:05:58.653230Z"
    },
    "papermill": {
     "duration": 0.038851,
     "end_time": "2021-11-19T12:59:19.772496",
     "exception": false,
     "start_time": "2021-11-19T12:59:19.733645",
     "status": "completed"
    },
    "tags": []
   },
   "outputs": [
    {
     "data": {
      "text/plain": [
       "62.497747125217394"
      ]
     },
     "execution_count": 7,
     "metadata": {},
     "output_type": "execute_result"
    }
   ],
   "source": [
    "df[df['age']>=80].f5.mean()"
   ]
  },
  {
   "cell_type": "markdown",
   "id": "026f9621",
   "metadata": {
    "papermill": {
     "duration": 0.026664,
     "end_time": "2021-11-19T12:59:19.832736",
     "exception": false,
     "start_time": "2021-11-19T12:59:19.806072",
     "status": "completed"
    },
    "tags": []
   },
   "source": [
    "#### kaggle answer"
   ]
  },
  {
   "cell_type": "code",
   "execution_count": 8,
   "id": "3f0a1e4e",
   "metadata": {
    "execution": {
     "iopub.execute_input": "2021-11-19T12:59:19.886045Z",
     "iopub.status.busy": "2021-11-19T12:59:19.885486Z",
     "iopub.status.idle": "2021-11-19T12:59:19.900940Z",
     "shell.execute_reply": "2021-11-19T12:59:19.901455Z",
     "shell.execute_reply.started": "2021-11-19T08:04:54.501394Z"
    },
    "papermill": {
     "duration": 0.042317,
     "end_time": "2021-11-19T12:59:19.901637",
     "exception": false,
     "start_time": "2021-11-19T12:59:19.859320",
     "status": "completed"
    },
    "tags": []
   },
   "outputs": [
    {
     "data": {
      "text/html": [
       "<div>\n",
       "<style scoped>\n",
       "    .dataframe tbody tr th:only-of-type {\n",
       "        vertical-align: middle;\n",
       "    }\n",
       "\n",
       "    .dataframe tbody tr th {\n",
       "        vertical-align: top;\n",
       "    }\n",
       "\n",
       "    .dataframe thead th {\n",
       "        text-align: right;\n",
       "    }\n",
       "</style>\n",
       "<table border=\"1\" class=\"dataframe\">\n",
       "  <thead>\n",
       "    <tr style=\"text-align: right;\">\n",
       "      <th></th>\n",
       "      <th>id</th>\n",
       "      <th>age</th>\n",
       "      <th>city</th>\n",
       "      <th>f1</th>\n",
       "      <th>f2</th>\n",
       "      <th>f3</th>\n",
       "      <th>f4</th>\n",
       "      <th>f5</th>\n",
       "    </tr>\n",
       "  </thead>\n",
       "  <tbody>\n",
       "    <tr>\n",
       "      <th>0</th>\n",
       "      <td>id01</td>\n",
       "      <td>2.0</td>\n",
       "      <td>서울</td>\n",
       "      <td>NaN</td>\n",
       "      <td>0</td>\n",
       "      <td>NaN</td>\n",
       "      <td>ENFJ</td>\n",
       "      <td>91.297791</td>\n",
       "    </tr>\n",
       "    <tr>\n",
       "      <th>1</th>\n",
       "      <td>id02</td>\n",
       "      <td>9.0</td>\n",
       "      <td>서울</td>\n",
       "      <td>70.0</td>\n",
       "      <td>1</td>\n",
       "      <td>NaN</td>\n",
       "      <td>ENFJ</td>\n",
       "      <td>60.339826</td>\n",
       "    </tr>\n",
       "    <tr>\n",
       "      <th>2</th>\n",
       "      <td>id03</td>\n",
       "      <td>27.0</td>\n",
       "      <td>서울</td>\n",
       "      <td>61.0</td>\n",
       "      <td>1</td>\n",
       "      <td>NaN</td>\n",
       "      <td>ISTJ</td>\n",
       "      <td>17.252986</td>\n",
       "    </tr>\n",
       "    <tr>\n",
       "      <th>3</th>\n",
       "      <td>id04</td>\n",
       "      <td>75.0</td>\n",
       "      <td>서울</td>\n",
       "      <td>NaN</td>\n",
       "      <td>2</td>\n",
       "      <td>NaN</td>\n",
       "      <td>INFP</td>\n",
       "      <td>52.667078</td>\n",
       "    </tr>\n",
       "    <tr>\n",
       "      <th>4</th>\n",
       "      <td>id05</td>\n",
       "      <td>24.0</td>\n",
       "      <td>서울</td>\n",
       "      <td>85.0</td>\n",
       "      <td>2</td>\n",
       "      <td>NaN</td>\n",
       "      <td>ISFJ</td>\n",
       "      <td>29.269869</td>\n",
       "    </tr>\n",
       "  </tbody>\n",
       "</table>\n",
       "</div>"
      ],
      "text/plain": [
       "     id   age city    f1  f2   f3    f4         f5\n",
       "0  id01   2.0   서울   NaN   0  NaN  ENFJ  91.297791\n",
       "1  id02   9.0   서울  70.0   1  NaN  ENFJ  60.339826\n",
       "2  id03  27.0   서울  61.0   1  NaN  ISTJ  17.252986\n",
       "3  id04  75.0   서울   NaN   2  NaN  INFP  52.667078\n",
       "4  id05  24.0   서울  85.0   2  NaN  ISFJ  29.269869"
      ]
     },
     "execution_count": 8,
     "metadata": {},
     "output_type": "execute_result"
    }
   ],
   "source": [
    "# 라이브러리 및 데이터 불러오기\n",
    "import pandas as pd\n",
    "\n",
    "df = pd.read_csv('../input/bigdatacertificationkr/basic1.csv')\n",
    "df.head()"
   ]
  },
  {
   "cell_type": "code",
   "execution_count": 9,
   "id": "b86e9549",
   "metadata": {
    "execution": {
     "iopub.execute_input": "2021-11-19T12:59:19.955176Z",
     "iopub.status.busy": "2021-11-19T12:59:19.954412Z",
     "iopub.status.idle": "2021-11-19T12:59:19.969954Z",
     "shell.execute_reply": "2021-11-19T12:59:19.969469Z",
     "shell.execute_reply.started": "2021-11-19T08:04:55.365421Z"
    },
    "papermill": {
     "duration": 0.044051,
     "end_time": "2021-11-19T12:59:19.970092",
     "exception": false,
     "start_time": "2021-11-19T12:59:19.926041",
     "status": "completed"
    },
    "tags": []
   },
   "outputs": [
    {
     "data": {
      "text/html": [
       "<div>\n",
       "<style scoped>\n",
       "    .dataframe tbody tr th:only-of-type {\n",
       "        vertical-align: middle;\n",
       "    }\n",
       "\n",
       "    .dataframe tbody tr th {\n",
       "        vertical-align: top;\n",
       "    }\n",
       "\n",
       "    .dataframe thead th {\n",
       "        text-align: right;\n",
       "    }\n",
       "</style>\n",
       "<table border=\"1\" class=\"dataframe\">\n",
       "  <thead>\n",
       "    <tr style=\"text-align: right;\">\n",
       "      <th></th>\n",
       "      <th>id</th>\n",
       "      <th>age</th>\n",
       "      <th>city</th>\n",
       "      <th>f1</th>\n",
       "      <th>f2</th>\n",
       "      <th>f3</th>\n",
       "      <th>f4</th>\n",
       "      <th>f5</th>\n",
       "    </tr>\n",
       "  </thead>\n",
       "  <tbody>\n",
       "    <tr>\n",
       "      <th>10</th>\n",
       "      <td>id11</td>\n",
       "      <td>40.0</td>\n",
       "      <td>서울</td>\n",
       "      <td>68.0</td>\n",
       "      <td>0</td>\n",
       "      <td>NaN</td>\n",
       "      <td>ENFP</td>\n",
       "      <td>98.429899</td>\n",
       "    </tr>\n",
       "    <tr>\n",
       "      <th>97</th>\n",
       "      <td>id98</td>\n",
       "      <td>39.0</td>\n",
       "      <td>경기</td>\n",
       "      <td>58.0</td>\n",
       "      <td>2</td>\n",
       "      <td>NaN</td>\n",
       "      <td>INFP</td>\n",
       "      <td>98.429899</td>\n",
       "    </tr>\n",
       "    <tr>\n",
       "      <th>9</th>\n",
       "      <td>id10</td>\n",
       "      <td>95.0</td>\n",
       "      <td>서울</td>\n",
       "      <td>74.0</td>\n",
       "      <td>1</td>\n",
       "      <td>NaN</td>\n",
       "      <td>ISFP</td>\n",
       "      <td>98.429899</td>\n",
       "    </tr>\n",
       "    <tr>\n",
       "      <th>76</th>\n",
       "      <td>id77</td>\n",
       "      <td>77.0</td>\n",
       "      <td>경기</td>\n",
       "      <td>31.0</td>\n",
       "      <td>0</td>\n",
       "      <td>NaN</td>\n",
       "      <td>INFP</td>\n",
       "      <td>98.429899</td>\n",
       "    </tr>\n",
       "    <tr>\n",
       "      <th>98</th>\n",
       "      <td>id99</td>\n",
       "      <td>1.0</td>\n",
       "      <td>경기</td>\n",
       "      <td>47.0</td>\n",
       "      <td>0</td>\n",
       "      <td>NaN</td>\n",
       "      <td>ESFJ</td>\n",
       "      <td>97.381034</td>\n",
       "    </tr>\n",
       "    <tr>\n",
       "      <th>91</th>\n",
       "      <td>id92</td>\n",
       "      <td>97.0</td>\n",
       "      <td>경기</td>\n",
       "      <td>78.0</td>\n",
       "      <td>1</td>\n",
       "      <td>NaN</td>\n",
       "      <td>INFP</td>\n",
       "      <td>97.381034</td>\n",
       "    </tr>\n",
       "    <tr>\n",
       "      <th>86</th>\n",
       "      <td>id87</td>\n",
       "      <td>19.0</td>\n",
       "      <td>경기</td>\n",
       "      <td>NaN</td>\n",
       "      <td>1</td>\n",
       "      <td>NaN</td>\n",
       "      <td>ISFP</td>\n",
       "      <td>97.381034</td>\n",
       "    </tr>\n",
       "    <tr>\n",
       "      <th>71</th>\n",
       "      <td>id72</td>\n",
       "      <td>8.0</td>\n",
       "      <td>경기</td>\n",
       "      <td>97.0</td>\n",
       "      <td>0</td>\n",
       "      <td>NaN</td>\n",
       "      <td>ESTJ</td>\n",
       "      <td>97.381034</td>\n",
       "    </tr>\n",
       "    <tr>\n",
       "      <th>11</th>\n",
       "      <td>id12</td>\n",
       "      <td>20.0</td>\n",
       "      <td>서울</td>\n",
       "      <td>NaN</td>\n",
       "      <td>0</td>\n",
       "      <td>NaN</td>\n",
       "      <td>ESTP</td>\n",
       "      <td>91.297791</td>\n",
       "    </tr>\n",
       "    <tr>\n",
       "      <th>19</th>\n",
       "      <td>id20</td>\n",
       "      <td>11.0</td>\n",
       "      <td>서울</td>\n",
       "      <td>51.0</td>\n",
       "      <td>1</td>\n",
       "      <td>NaN</td>\n",
       "      <td>INTJ</td>\n",
       "      <td>91.297791</td>\n",
       "    </tr>\n",
       "  </tbody>\n",
       "</table>\n",
       "</div>"
      ],
      "text/plain": [
       "      id   age city    f1  f2   f3    f4         f5\n",
       "10  id11  40.0   서울  68.0   0  NaN  ENFP  98.429899\n",
       "97  id98  39.0   경기  58.0   2  NaN  INFP  98.429899\n",
       "9   id10  95.0   서울  74.0   1  NaN  ISFP  98.429899\n",
       "76  id77  77.0   경기  31.0   0  NaN  INFP  98.429899\n",
       "98  id99   1.0   경기  47.0   0  NaN  ESFJ  97.381034\n",
       "91  id92  97.0   경기  78.0   1  NaN  INFP  97.381034\n",
       "86  id87  19.0   경기   NaN   1  NaN  ISFP  97.381034\n",
       "71  id72   8.0   경기  97.0   0  NaN  ESTJ  97.381034\n",
       "11  id12  20.0   서울   NaN   0  NaN  ESTP  91.297791\n",
       "19  id20  11.0   서울  51.0   1  NaN  INTJ  91.297791"
      ]
     },
     "execution_count": 9,
     "metadata": {},
     "output_type": "execute_result"
    }
   ],
   "source": [
    "# f5컬럼을 기준으로 내림차순 정렬\n",
    "df = df.sort_values('f5', ascending=False)\n",
    "df.head(10)"
   ]
  },
  {
   "cell_type": "code",
   "execution_count": 10,
   "id": "991ee80c",
   "metadata": {
    "execution": {
     "iopub.execute_input": "2021-11-19T12:59:20.022853Z",
     "iopub.status.busy": "2021-11-19T12:59:20.022275Z",
     "iopub.status.idle": "2021-11-19T12:59:20.027665Z",
     "shell.execute_reply": "2021-11-19T12:59:20.028178Z",
     "shell.execute_reply.started": "2021-11-19T08:04:57.498686Z"
    },
    "papermill": {
     "duration": 0.033339,
     "end_time": "2021-11-19T12:59:20.028369",
     "exception": false,
     "start_time": "2021-11-19T12:59:19.995030",
     "status": "completed"
    },
    "tags": []
   },
   "outputs": [
    {
     "data": {
      "text/plain": [
       "91.29779092"
      ]
     },
     "execution_count": 10,
     "metadata": {},
     "output_type": "execute_result"
    }
   ],
   "source": [
    "# 최소값 찾기\n",
    "min = df['f5'][:10].min()\n",
    "# min = 91.297791\n",
    "min"
   ]
  },
  {
   "cell_type": "code",
   "execution_count": 11,
   "id": "0695991c",
   "metadata": {
    "execution": {
     "iopub.execute_input": "2021-11-19T12:59:20.085453Z",
     "iopub.status.busy": "2021-11-19T12:59:20.084534Z",
     "iopub.status.idle": "2021-11-19T12:59:20.102608Z",
     "shell.execute_reply": "2021-11-19T12:59:20.103308Z",
     "shell.execute_reply.started": "2021-11-19T08:05:09.131468Z"
    },
    "papermill": {
     "duration": 0.049895,
     "end_time": "2021-11-19T12:59:20.103512",
     "exception": false,
     "start_time": "2021-11-19T12:59:20.053617",
     "status": "completed"
    },
    "tags": []
   },
   "outputs": [
    {
     "name": "stderr",
     "output_type": "stream",
     "text": [
      "/opt/conda/lib/python3.7/site-packages/ipykernel_launcher.py:1: SettingWithCopyWarning: \n",
      "A value is trying to be set on a copy of a slice from a DataFrame\n",
      "\n",
      "See the caveats in the documentation: https://pandas.pydata.org/pandas-docs/stable/user_guide/indexing.html#returning-a-view-versus-a-copy\n",
      "  \"\"\"Entry point for launching an IPython kernel.\n"
     ]
    },
    {
     "data": {
      "text/html": [
       "<div>\n",
       "<style scoped>\n",
       "    .dataframe tbody tr th:only-of-type {\n",
       "        vertical-align: middle;\n",
       "    }\n",
       "\n",
       "    .dataframe tbody tr th {\n",
       "        vertical-align: top;\n",
       "    }\n",
       "\n",
       "    .dataframe thead th {\n",
       "        text-align: right;\n",
       "    }\n",
       "</style>\n",
       "<table border=\"1\" class=\"dataframe\">\n",
       "  <thead>\n",
       "    <tr style=\"text-align: right;\">\n",
       "      <th></th>\n",
       "      <th>id</th>\n",
       "      <th>age</th>\n",
       "      <th>city</th>\n",
       "      <th>f1</th>\n",
       "      <th>f2</th>\n",
       "      <th>f3</th>\n",
       "      <th>f4</th>\n",
       "      <th>f5</th>\n",
       "    </tr>\n",
       "  </thead>\n",
       "  <tbody>\n",
       "    <tr>\n",
       "      <th>10</th>\n",
       "      <td>id11</td>\n",
       "      <td>40.0</td>\n",
       "      <td>서울</td>\n",
       "      <td>68.0</td>\n",
       "      <td>0</td>\n",
       "      <td>NaN</td>\n",
       "      <td>ENFP</td>\n",
       "      <td>91.297791</td>\n",
       "    </tr>\n",
       "    <tr>\n",
       "      <th>97</th>\n",
       "      <td>id98</td>\n",
       "      <td>39.0</td>\n",
       "      <td>경기</td>\n",
       "      <td>58.0</td>\n",
       "      <td>2</td>\n",
       "      <td>NaN</td>\n",
       "      <td>INFP</td>\n",
       "      <td>91.297791</td>\n",
       "    </tr>\n",
       "    <tr>\n",
       "      <th>9</th>\n",
       "      <td>id10</td>\n",
       "      <td>95.0</td>\n",
       "      <td>서울</td>\n",
       "      <td>74.0</td>\n",
       "      <td>1</td>\n",
       "      <td>NaN</td>\n",
       "      <td>ISFP</td>\n",
       "      <td>91.297791</td>\n",
       "    </tr>\n",
       "    <tr>\n",
       "      <th>76</th>\n",
       "      <td>id77</td>\n",
       "      <td>77.0</td>\n",
       "      <td>경기</td>\n",
       "      <td>31.0</td>\n",
       "      <td>0</td>\n",
       "      <td>NaN</td>\n",
       "      <td>INFP</td>\n",
       "      <td>91.297791</td>\n",
       "    </tr>\n",
       "    <tr>\n",
       "      <th>98</th>\n",
       "      <td>id99</td>\n",
       "      <td>1.0</td>\n",
       "      <td>경기</td>\n",
       "      <td>47.0</td>\n",
       "      <td>0</td>\n",
       "      <td>NaN</td>\n",
       "      <td>ESFJ</td>\n",
       "      <td>91.297791</td>\n",
       "    </tr>\n",
       "    <tr>\n",
       "      <th>91</th>\n",
       "      <td>id92</td>\n",
       "      <td>97.0</td>\n",
       "      <td>경기</td>\n",
       "      <td>78.0</td>\n",
       "      <td>1</td>\n",
       "      <td>NaN</td>\n",
       "      <td>INFP</td>\n",
       "      <td>91.297791</td>\n",
       "    </tr>\n",
       "    <tr>\n",
       "      <th>86</th>\n",
       "      <td>id87</td>\n",
       "      <td>19.0</td>\n",
       "      <td>경기</td>\n",
       "      <td>NaN</td>\n",
       "      <td>1</td>\n",
       "      <td>NaN</td>\n",
       "      <td>ISFP</td>\n",
       "      <td>91.297791</td>\n",
       "    </tr>\n",
       "    <tr>\n",
       "      <th>71</th>\n",
       "      <td>id72</td>\n",
       "      <td>8.0</td>\n",
       "      <td>경기</td>\n",
       "      <td>97.0</td>\n",
       "      <td>0</td>\n",
       "      <td>NaN</td>\n",
       "      <td>ESTJ</td>\n",
       "      <td>91.297791</td>\n",
       "    </tr>\n",
       "    <tr>\n",
       "      <th>11</th>\n",
       "      <td>id12</td>\n",
       "      <td>20.0</td>\n",
       "      <td>서울</td>\n",
       "      <td>NaN</td>\n",
       "      <td>0</td>\n",
       "      <td>NaN</td>\n",
       "      <td>ESTP</td>\n",
       "      <td>91.297791</td>\n",
       "    </tr>\n",
       "    <tr>\n",
       "      <th>19</th>\n",
       "      <td>id20</td>\n",
       "      <td>11.0</td>\n",
       "      <td>서울</td>\n",
       "      <td>51.0</td>\n",
       "      <td>1</td>\n",
       "      <td>NaN</td>\n",
       "      <td>INTJ</td>\n",
       "      <td>91.297791</td>\n",
       "    </tr>\n",
       "  </tbody>\n",
       "</table>\n",
       "</div>"
      ],
      "text/plain": [
       "      id   age city    f1  f2   f3    f4         f5\n",
       "10  id11  40.0   서울  68.0   0  NaN  ENFP  91.297791\n",
       "97  id98  39.0   경기  58.0   2  NaN  INFP  91.297791\n",
       "9   id10  95.0   서울  74.0   1  NaN  ISFP  91.297791\n",
       "76  id77  77.0   경기  31.0   0  NaN  INFP  91.297791\n",
       "98  id99   1.0   경기  47.0   0  NaN  ESFJ  91.297791\n",
       "91  id92  97.0   경기  78.0   1  NaN  INFP  91.297791\n",
       "86  id87  19.0   경기   NaN   1  NaN  ISFP  91.297791\n",
       "71  id72   8.0   경기  97.0   0  NaN  ESTJ  91.297791\n",
       "11  id12  20.0   서울   NaN   0  NaN  ESTP  91.297791\n",
       "19  id20  11.0   서울  51.0   1  NaN  INTJ  91.297791"
      ]
     },
     "execution_count": 11,
     "metadata": {},
     "output_type": "execute_result"
    }
   ],
   "source": [
    "df['f5'][:10] = min\n",
    "df.head(10)"
   ]
  },
  {
   "cell_type": "code",
   "execution_count": 12,
   "id": "1cfb7873",
   "metadata": {
    "execution": {
     "iopub.execute_input": "2021-11-19T12:59:20.174438Z",
     "iopub.status.busy": "2021-11-19T12:59:20.173475Z",
     "iopub.status.idle": "2021-11-19T12:59:20.178186Z",
     "shell.execute_reply": "2021-11-19T12:59:20.178715Z",
     "shell.execute_reply.started": "2021-11-19T08:05:10.148693Z"
    },
    "papermill": {
     "duration": 0.041931,
     "end_time": "2021-11-19T12:59:20.178882",
     "exception": false,
     "start_time": "2021-11-19T12:59:20.136951",
     "status": "completed"
    },
    "tags": []
   },
   "outputs": [
    {
     "name": "stdout",
     "output_type": "stream",
     "text": [
      "62.497747125217394\n"
     ]
    }
   ],
   "source": [
    "# 80세 이상의 f5컬럼 평균\n",
    "print(df[df['age']>=80]['f5'].mean())"
   ]
  },
  {
   "cell_type": "markdown",
   "id": "8f224824",
   "metadata": {
    "papermill": {
     "duration": 0.025359,
     "end_time": "2021-11-19T12:59:20.230507",
     "exception": false,
     "start_time": "2021-11-19T12:59:20.205148",
     "status": "completed"
    },
    "tags": []
   },
   "source": [
    "## 문제2\n",
    "- 데이터셋(basic1.csv)의 앞에서 순서대로 70% 데이터만 활용해서,\n",
    "- 'f1'컬럼 결측치를 중앙값으로 채우기 전후의 표준편차를 구하고\n",
    "- 두 표준편차 차이 계산하기"
   ]
  },
  {
   "cell_type": "code",
   "execution_count": 13,
   "id": "13d5597c",
   "metadata": {
    "execution": {
     "iopub.execute_input": "2021-11-19T12:59:20.287009Z",
     "iopub.status.busy": "2021-11-19T12:59:20.286101Z",
     "iopub.status.idle": "2021-11-19T12:59:20.302758Z",
     "shell.execute_reply": "2021-11-19T12:59:20.303262Z",
     "shell.execute_reply.started": "2021-11-19T09:54:25.387486Z"
    },
    "papermill": {
     "duration": 0.046562,
     "end_time": "2021-11-19T12:59:20.303428",
     "exception": false,
     "start_time": "2021-11-19T12:59:20.256866",
     "status": "completed"
    },
    "tags": []
   },
   "outputs": [
    {
     "data": {
      "text/html": [
       "<div>\n",
       "<style scoped>\n",
       "    .dataframe tbody tr th:only-of-type {\n",
       "        vertical-align: middle;\n",
       "    }\n",
       "\n",
       "    .dataframe tbody tr th {\n",
       "        vertical-align: top;\n",
       "    }\n",
       "\n",
       "    .dataframe thead th {\n",
       "        text-align: right;\n",
       "    }\n",
       "</style>\n",
       "<table border=\"1\" class=\"dataframe\">\n",
       "  <thead>\n",
       "    <tr style=\"text-align: right;\">\n",
       "      <th></th>\n",
       "      <th>id</th>\n",
       "      <th>age</th>\n",
       "      <th>city</th>\n",
       "      <th>f1</th>\n",
       "      <th>f2</th>\n",
       "      <th>f3</th>\n",
       "      <th>f4</th>\n",
       "      <th>f5</th>\n",
       "    </tr>\n",
       "  </thead>\n",
       "  <tbody>\n",
       "    <tr>\n",
       "      <th>0</th>\n",
       "      <td>id01</td>\n",
       "      <td>2.0</td>\n",
       "      <td>서울</td>\n",
       "      <td>NaN</td>\n",
       "      <td>0</td>\n",
       "      <td>NaN</td>\n",
       "      <td>ENFJ</td>\n",
       "      <td>91.297791</td>\n",
       "    </tr>\n",
       "    <tr>\n",
       "      <th>1</th>\n",
       "      <td>id02</td>\n",
       "      <td>9.0</td>\n",
       "      <td>서울</td>\n",
       "      <td>70.0</td>\n",
       "      <td>1</td>\n",
       "      <td>NaN</td>\n",
       "      <td>ENFJ</td>\n",
       "      <td>60.339826</td>\n",
       "    </tr>\n",
       "    <tr>\n",
       "      <th>2</th>\n",
       "      <td>id03</td>\n",
       "      <td>27.0</td>\n",
       "      <td>서울</td>\n",
       "      <td>61.0</td>\n",
       "      <td>1</td>\n",
       "      <td>NaN</td>\n",
       "      <td>ISTJ</td>\n",
       "      <td>17.252986</td>\n",
       "    </tr>\n",
       "    <tr>\n",
       "      <th>3</th>\n",
       "      <td>id04</td>\n",
       "      <td>75.0</td>\n",
       "      <td>서울</td>\n",
       "      <td>NaN</td>\n",
       "      <td>2</td>\n",
       "      <td>NaN</td>\n",
       "      <td>INFP</td>\n",
       "      <td>52.667078</td>\n",
       "    </tr>\n",
       "    <tr>\n",
       "      <th>4</th>\n",
       "      <td>id05</td>\n",
       "      <td>24.0</td>\n",
       "      <td>서울</td>\n",
       "      <td>85.0</td>\n",
       "      <td>2</td>\n",
       "      <td>NaN</td>\n",
       "      <td>ISFJ</td>\n",
       "      <td>29.269869</td>\n",
       "    </tr>\n",
       "  </tbody>\n",
       "</table>\n",
       "</div>"
      ],
      "text/plain": [
       "     id   age city    f1  f2   f3    f4         f5\n",
       "0  id01   2.0   서울   NaN   0  NaN  ENFJ  91.297791\n",
       "1  id02   9.0   서울  70.0   1  NaN  ENFJ  60.339826\n",
       "2  id03  27.0   서울  61.0   1  NaN  ISTJ  17.252986\n",
       "3  id04  75.0   서울   NaN   2  NaN  INFP  52.667078\n",
       "4  id05  24.0   서울  85.0   2  NaN  ISFJ  29.269869"
      ]
     },
     "execution_count": 13,
     "metadata": {},
     "output_type": "execute_result"
    }
   ],
   "source": [
    "import pandas as pd\n",
    "import numpy as np\n",
    "df = pd.read_csv('../input/bigdatacertificationkr/basic1.csv')\n",
    "df.head()"
   ]
  },
  {
   "cell_type": "code",
   "execution_count": 14,
   "id": "8dc420f0",
   "metadata": {
    "execution": {
     "iopub.execute_input": "2021-11-19T12:59:20.360019Z",
     "iopub.status.busy": "2021-11-19T12:59:20.359098Z",
     "iopub.status.idle": "2021-11-19T12:59:20.364668Z",
     "shell.execute_reply": "2021-11-19T12:59:20.365166Z",
     "shell.execute_reply.started": "2021-11-19T09:54:33.985622Z"
    },
    "papermill": {
     "duration": 0.035049,
     "end_time": "2021-11-19T12:59:20.365354",
     "exception": false,
     "start_time": "2021-11-19T12:59:20.330305",
     "status": "completed"
    },
    "tags": []
   },
   "outputs": [],
   "source": [
    "df_after = df.copy()\n",
    "df_after.f1 = df_after.f1.fillna(df.iloc[0:70,].f1.median())"
   ]
  },
  {
   "cell_type": "code",
   "execution_count": 15,
   "id": "abcbbf3b",
   "metadata": {
    "execution": {
     "iopub.execute_input": "2021-11-19T12:59:20.423943Z",
     "iopub.status.busy": "2021-11-19T12:59:20.422996Z",
     "iopub.status.idle": "2021-11-19T12:59:20.430104Z",
     "shell.execute_reply": "2021-11-19T12:59:20.429629Z",
     "shell.execute_reply.started": "2021-11-19T09:54:46.235716Z"
    },
    "papermill": {
     "duration": 0.036784,
     "end_time": "2021-11-19T12:59:20.430261",
     "exception": false,
     "start_time": "2021-11-19T12:59:20.393477",
     "status": "completed"
    },
    "tags": []
   },
   "outputs": [
    {
     "data": {
      "text/plain": [
       "14.690773995256688"
      ]
     },
     "execution_count": 15,
     "metadata": {},
     "output_type": "execute_result"
    }
   ],
   "source": [
    "df_after.iloc[0:70,].f1.std()"
   ]
  },
  {
   "cell_type": "code",
   "execution_count": 16,
   "id": "3e7d7452",
   "metadata": {
    "execution": {
     "iopub.execute_input": "2021-11-19T12:59:20.490430Z",
     "iopub.status.busy": "2021-11-19T12:59:20.489827Z",
     "iopub.status.idle": "2021-11-19T12:59:20.492331Z",
     "shell.execute_reply": "2021-11-19T12:59:20.492764Z",
     "shell.execute_reply.started": "2021-11-19T09:54:53.752672Z"
    },
    "papermill": {
     "duration": 0.034898,
     "end_time": "2021-11-19T12:59:20.492922",
     "exception": false,
     "start_time": "2021-11-19T12:59:20.458024",
     "status": "completed"
    },
    "tags": []
   },
   "outputs": [
    {
     "data": {
      "text/plain": [
       "17.98727579865276"
      ]
     },
     "execution_count": 16,
     "metadata": {},
     "output_type": "execute_result"
    }
   ],
   "source": [
    "df.iloc[0:70,].f1.std()"
   ]
  },
  {
   "cell_type": "code",
   "execution_count": 17,
   "id": "d88e1baa",
   "metadata": {
    "execution": {
     "iopub.execute_input": "2021-11-19T12:59:20.554343Z",
     "iopub.status.busy": "2021-11-19T12:59:20.553480Z",
     "iopub.status.idle": "2021-11-19T12:59:20.557144Z",
     "shell.execute_reply": "2021-11-19T12:59:20.556610Z",
     "shell.execute_reply.started": "2021-11-19T09:55:07.202483Z"
    },
    "papermill": {
     "duration": 0.037157,
     "end_time": "2021-11-19T12:59:20.557293",
     "exception": false,
     "start_time": "2021-11-19T12:59:20.520136",
     "status": "completed"
    },
    "tags": []
   },
   "outputs": [
    {
     "data": {
      "text/plain": [
       "3.2965018033960725"
      ]
     },
     "execution_count": 17,
     "metadata": {},
     "output_type": "execute_result"
    }
   ],
   "source": [
    "df.iloc[0:70,].f1.std() - df_after.iloc[0:70,].f1.std()"
   ]
  },
  {
   "cell_type": "markdown",
   "id": "175fc8fe",
   "metadata": {
    "papermill": {
     "duration": 0.026811,
     "end_time": "2021-11-19T12:59:20.611374",
     "exception": false,
     "start_time": "2021-11-19T12:59:20.584563",
     "status": "completed"
    },
    "tags": []
   },
   "source": [
    "#### kaggle answer"
   ]
  },
  {
   "cell_type": "code",
   "execution_count": 18,
   "id": "a932a866",
   "metadata": {
    "execution": {
     "iopub.execute_input": "2021-11-19T12:59:20.668411Z",
     "iopub.status.busy": "2021-11-19T12:59:20.667783Z",
     "iopub.status.idle": "2021-11-19T12:59:20.674282Z",
     "shell.execute_reply": "2021-11-19T12:59:20.674722Z",
     "shell.execute_reply.started": "2021-11-19T09:55:10.626966Z"
    },
    "papermill": {
     "duration": 0.036723,
     "end_time": "2021-11-19T12:59:20.674891",
     "exception": false,
     "start_time": "2021-11-19T12:59:20.638168",
     "status": "completed"
    },
    "tags": []
   },
   "outputs": [],
   "source": [
    "# 라이브러리 및 데이터 불러오기\n",
    "import pandas as pd\n",
    "import numpy as np\n",
    "\n",
    "df = pd.read_csv('../input/bigdatacertificationkr/basic1.csv')"
   ]
  },
  {
   "cell_type": "code",
   "execution_count": 19,
   "id": "ebaacc75",
   "metadata": {
    "execution": {
     "iopub.execute_input": "2021-11-19T12:59:20.744663Z",
     "iopub.status.busy": "2021-11-19T12:59:20.744014Z",
     "iopub.status.idle": "2021-11-19T12:59:20.746443Z",
     "shell.execute_reply": "2021-11-19T12:59:20.746853Z",
     "shell.execute_reply.started": "2021-11-19T09:55:25.877364Z"
    },
    "papermill": {
     "duration": 0.04424,
     "end_time": "2021-11-19T12:59:20.747012",
     "exception": false,
     "start_time": "2021-11-19T12:59:20.702772",
     "status": "completed"
    },
    "tags": []
   },
   "outputs": [
    {
     "data": {
      "text/html": [
       "<div>\n",
       "<style scoped>\n",
       "    .dataframe tbody tr th:only-of-type {\n",
       "        vertical-align: middle;\n",
       "    }\n",
       "\n",
       "    .dataframe tbody tr th {\n",
       "        vertical-align: top;\n",
       "    }\n",
       "\n",
       "    .dataframe thead th {\n",
       "        text-align: right;\n",
       "    }\n",
       "</style>\n",
       "<table border=\"1\" class=\"dataframe\">\n",
       "  <thead>\n",
       "    <tr style=\"text-align: right;\">\n",
       "      <th></th>\n",
       "      <th>id</th>\n",
       "      <th>age</th>\n",
       "      <th>city</th>\n",
       "      <th>f1</th>\n",
       "      <th>f2</th>\n",
       "      <th>f3</th>\n",
       "      <th>f4</th>\n",
       "      <th>f5</th>\n",
       "    </tr>\n",
       "  </thead>\n",
       "  <tbody>\n",
       "    <tr>\n",
       "      <th>65</th>\n",
       "      <td>id66</td>\n",
       "      <td>87.0</td>\n",
       "      <td>경기</td>\n",
       "      <td>NaN</td>\n",
       "      <td>1</td>\n",
       "      <td>NaN</td>\n",
       "      <td>ISFP</td>\n",
       "      <td>17.252986</td>\n",
       "    </tr>\n",
       "    <tr>\n",
       "      <th>66</th>\n",
       "      <td>id67</td>\n",
       "      <td>66.0</td>\n",
       "      <td>경기</td>\n",
       "      <td>52.0</td>\n",
       "      <td>1</td>\n",
       "      <td>NaN</td>\n",
       "      <td>ISFJ</td>\n",
       "      <td>73.586397</td>\n",
       "    </tr>\n",
       "    <tr>\n",
       "      <th>67</th>\n",
       "      <td>id68</td>\n",
       "      <td>35.0</td>\n",
       "      <td>경기</td>\n",
       "      <td>45.0</td>\n",
       "      <td>2</td>\n",
       "      <td>NaN</td>\n",
       "      <td>ISFP</td>\n",
       "      <td>67.886373</td>\n",
       "    </tr>\n",
       "    <tr>\n",
       "      <th>68</th>\n",
       "      <td>id69</td>\n",
       "      <td>75.0</td>\n",
       "      <td>경기</td>\n",
       "      <td>85.0</td>\n",
       "      <td>0</td>\n",
       "      <td>NaN</td>\n",
       "      <td>ESTJ</td>\n",
       "      <td>69.730313</td>\n",
       "    </tr>\n",
       "    <tr>\n",
       "      <th>69</th>\n",
       "      <td>id70</td>\n",
       "      <td>-9.0</td>\n",
       "      <td>경기</td>\n",
       "      <td>96.0</td>\n",
       "      <td>1</td>\n",
       "      <td>NaN</td>\n",
       "      <td>ISTP</td>\n",
       "      <td>48.431184</td>\n",
       "    </tr>\n",
       "  </tbody>\n",
       "</table>\n",
       "</div>"
      ],
      "text/plain": [
       "      id   age city    f1  f2   f3    f4         f5\n",
       "65  id66  87.0   경기   NaN   1  NaN  ISFP  17.252986\n",
       "66  id67  66.0   경기  52.0   1  NaN  ISFJ  73.586397\n",
       "67  id68  35.0   경기  45.0   2  NaN  ISFP  67.886373\n",
       "68  id69  75.0   경기  85.0   0  NaN  ESTJ  69.730313\n",
       "69  id70  -9.0   경기  96.0   1  NaN  ISTP  48.431184"
      ]
     },
     "execution_count": 19,
     "metadata": {},
     "output_type": "execute_result"
    }
   ],
   "source": [
    "# 데이터 나누기 방법1\n",
    "data70 = df.iloc[:70]\n",
    "data30 = df.iloc[70:]\n",
    "\n",
    "# [심화학습] 데이터 나누기 방법2\n",
    "# data70, data30 = np.split(df, [int(.7*len(df))])\n",
    "\n",
    "# [심화학습] 데이터 나누기 방법3 (랜덤으로 샘플링하라고 했을 때!!)\n",
    "# data70 = df.sample(frac = 0.7)\n",
    "# data70 = df.drop(data70.index)\n",
    "\n",
    "data70.tail()"
   ]
  },
  {
   "cell_type": "code",
   "execution_count": 20,
   "id": "71891e7b",
   "metadata": {
    "execution": {
     "iopub.execute_input": "2021-11-19T12:59:20.805503Z",
     "iopub.status.busy": "2021-11-19T12:59:20.804911Z",
     "iopub.status.idle": "2021-11-19T12:59:20.810854Z",
     "shell.execute_reply": "2021-11-19T12:59:20.811253Z",
     "shell.execute_reply.started": "2021-11-19T09:55:36.062408Z"
    },
    "papermill": {
     "duration": 0.037043,
     "end_time": "2021-11-19T12:59:20.811419",
     "exception": false,
     "start_time": "2021-11-19T12:59:20.774376",
     "status": "completed"
    },
    "tags": []
   },
   "outputs": [
    {
     "data": {
      "text/plain": [
       "id       0\n",
       "age      0\n",
       "city     0\n",
       "f1      23\n",
       "f2       0\n",
       "f3      67\n",
       "f4       0\n",
       "f5       0\n",
       "dtype: int64"
      ]
     },
     "execution_count": 20,
     "metadata": {},
     "output_type": "execute_result"
    }
   ],
   "source": [
    "## 결측치 확인\n",
    "data70.isnull().sum()"
   ]
  },
  {
   "cell_type": "code",
   "execution_count": 21,
   "id": "3b0107fc",
   "metadata": {
    "execution": {
     "iopub.execute_input": "2021-11-19T12:59:20.871907Z",
     "iopub.status.busy": "2021-11-19T12:59:20.871290Z",
     "iopub.status.idle": "2021-11-19T12:59:20.877067Z",
     "shell.execute_reply": "2021-11-19T12:59:20.876611Z",
     "shell.execute_reply.started": "2021-11-19T09:55:41.447562Z"
    },
    "papermill": {
     "duration": 0.038127,
     "end_time": "2021-11-19T12:59:20.877196",
     "exception": false,
     "start_time": "2021-11-19T12:59:20.839069",
     "status": "completed"
    },
    "tags": []
   },
   "outputs": [
    {
     "data": {
      "text/plain": [
       "17.98727579865276"
      ]
     },
     "execution_count": 21,
     "metadata": {},
     "output_type": "execute_result"
    }
   ],
   "source": [
    "## 결측치 채우기 전 f1컬럼 표준편자\n",
    "std1 = data70['f1'].std()\n",
    "std1"
   ]
  },
  {
   "cell_type": "code",
   "execution_count": 22,
   "id": "76dc45a9",
   "metadata": {
    "execution": {
     "iopub.execute_input": "2021-11-19T12:59:20.939144Z",
     "iopub.status.busy": "2021-11-19T12:59:20.938439Z",
     "iopub.status.idle": "2021-11-19T12:59:20.941320Z",
     "shell.execute_reply": "2021-11-19T12:59:20.941758Z",
     "shell.execute_reply.started": "2021-11-19T09:55:46.333253Z"
    },
    "papermill": {
     "duration": 0.035997,
     "end_time": "2021-11-19T12:59:20.941941",
     "exception": false,
     "start_time": "2021-11-19T12:59:20.905944",
     "status": "completed"
    },
    "tags": []
   },
   "outputs": [
    {
     "data": {
      "text/plain": [
       "68.0"
      ]
     },
     "execution_count": 22,
     "metadata": {},
     "output_type": "execute_result"
    }
   ],
   "source": [
    "## 중앙값 확인\n",
    "med=data70['f1'].median()\n",
    "med"
   ]
  },
  {
   "cell_type": "code",
   "execution_count": 23,
   "id": "b102a3b6",
   "metadata": {
    "execution": {
     "iopub.execute_input": "2021-11-19T12:59:21.002334Z",
     "iopub.status.busy": "2021-11-19T12:59:21.000417Z",
     "iopub.status.idle": "2021-11-19T12:59:21.007332Z",
     "shell.execute_reply": "2021-11-19T12:59:21.006635Z",
     "shell.execute_reply.started": "2021-11-19T09:55:51.153590Z"
    },
    "papermill": {
     "duration": 0.037596,
     "end_time": "2021-11-19T12:59:21.007524",
     "exception": false,
     "start_time": "2021-11-19T12:59:20.969928",
     "status": "completed"
    },
    "tags": []
   },
   "outputs": [
    {
     "name": "stderr",
     "output_type": "stream",
     "text": [
      "/opt/conda/lib/python3.7/site-packages/ipykernel_launcher.py:2: SettingWithCopyWarning: \n",
      "A value is trying to be set on a copy of a slice from a DataFrame.\n",
      "Try using .loc[row_indexer,col_indexer] = value instead\n",
      "\n",
      "See the caveats in the documentation: https://pandas.pydata.org/pandas-docs/stable/user_guide/indexing.html#returning-a-view-versus-a-copy\n",
      "  \n"
     ]
    }
   ],
   "source": [
    "## 중앙값으로 채우기\n",
    "data70['f1'] = data70['f1'].fillna(med)\n",
    "\n",
    "## 다른 방법들\n",
    "# data70['f1']= data70['f1'].replace(np.nan, med)\n",
    "# data70 = data70.fillna(value=med)"
   ]
  },
  {
   "cell_type": "code",
   "execution_count": 24,
   "id": "0390c960",
   "metadata": {
    "execution": {
     "iopub.execute_input": "2021-11-19T12:59:21.074584Z",
     "iopub.status.busy": "2021-11-19T12:59:21.073732Z",
     "iopub.status.idle": "2021-11-19T12:59:21.077317Z",
     "shell.execute_reply": "2021-11-19T12:59:21.077706Z",
     "shell.execute_reply.started": "2021-11-19T09:55:53.387718Z"
    },
    "papermill": {
     "duration": 0.03957,
     "end_time": "2021-11-19T12:59:21.077878",
     "exception": false,
     "start_time": "2021-11-19T12:59:21.038308",
     "status": "completed"
    },
    "tags": []
   },
   "outputs": [
    {
     "data": {
      "text/plain": [
       "id       0\n",
       "age      0\n",
       "city     0\n",
       "f1       0\n",
       "f2       0\n",
       "f3      67\n",
       "f4       0\n",
       "f5       0\n",
       "dtype: int64"
      ]
     },
     "execution_count": 24,
     "metadata": {},
     "output_type": "execute_result"
    }
   ],
   "source": [
    "## 결측치 확인\n",
    "data70.isnull().sum()"
   ]
  },
  {
   "cell_type": "code",
   "execution_count": 25,
   "id": "301917fc",
   "metadata": {
    "execution": {
     "iopub.execute_input": "2021-11-19T12:59:21.143989Z",
     "iopub.status.busy": "2021-11-19T12:59:21.143016Z",
     "iopub.status.idle": "2021-11-19T12:59:21.146374Z",
     "shell.execute_reply": "2021-11-19T12:59:21.146837Z",
     "shell.execute_reply.started": "2021-11-19T09:55:55.509517Z"
    },
    "papermill": {
     "duration": 0.040017,
     "end_time": "2021-11-19T12:59:21.147002",
     "exception": false,
     "start_time": "2021-11-19T12:59:21.106985",
     "status": "completed"
    },
    "tags": []
   },
   "outputs": [
    {
     "data": {
      "text/plain": [
       "14.690773995256688"
      ]
     },
     "execution_count": 25,
     "metadata": {},
     "output_type": "execute_result"
    }
   ],
   "source": [
    "## 결측치를 채운 후 표준편차 구하기\n",
    "std2 = data70['f1'].std()\n",
    "std2"
   ]
  },
  {
   "cell_type": "code",
   "execution_count": 26,
   "id": "29491210",
   "metadata": {
    "execution": {
     "iopub.execute_input": "2021-11-19T12:59:21.211999Z",
     "iopub.status.busy": "2021-11-19T12:59:21.209597Z",
     "iopub.status.idle": "2021-11-19T12:59:21.214668Z",
     "shell.execute_reply": "2021-11-19T12:59:21.215162Z",
     "shell.execute_reply.started": "2021-11-19T09:56:01.290064Z"
    },
    "papermill": {
     "duration": 0.037951,
     "end_time": "2021-11-19T12:59:21.215443",
     "exception": false,
     "start_time": "2021-11-19T12:59:21.177492",
     "status": "completed"
    },
    "tags": []
   },
   "outputs": [
    {
     "name": "stdout",
     "output_type": "stream",
     "text": [
      "3.2965018033960725\n"
     ]
    }
   ],
   "source": [
    "print(std1-std2)"
   ]
  },
  {
   "cell_type": "markdown",
   "id": "3381e260",
   "metadata": {
    "papermill": {
     "duration": 0.028778,
     "end_time": "2021-11-19T12:59:21.273660",
     "exception": false,
     "start_time": "2021-11-19T12:59:21.244882",
     "status": "completed"
    },
    "tags": []
   },
   "source": [
    "## 문제3\n",
    "- 데이터셋(basic1.csv)의 'age'컬럼의 이상치를 더하시오!\n",
    "- 단, 평균으로부터 '표준편차*1.5'를 벗어나는 영역을 이상치라고 판단함"
   ]
  },
  {
   "cell_type": "code",
   "execution_count": 27,
   "id": "62cbd8a3",
   "metadata": {
    "execution": {
     "iopub.execute_input": "2021-11-19T12:59:21.334677Z",
     "iopub.status.busy": "2021-11-19T12:59:21.334051Z",
     "iopub.status.idle": "2021-11-19T12:59:21.351598Z",
     "shell.execute_reply": "2021-11-19T12:59:21.351039Z",
     "shell.execute_reply.started": "2021-11-19T12:56:00.206574Z"
    },
    "papermill": {
     "duration": 0.04914,
     "end_time": "2021-11-19T12:59:21.351742",
     "exception": false,
     "start_time": "2021-11-19T12:59:21.302602",
     "status": "completed"
    },
    "tags": []
   },
   "outputs": [
    {
     "data": {
      "text/html": [
       "<div>\n",
       "<style scoped>\n",
       "    .dataframe tbody tr th:only-of-type {\n",
       "        vertical-align: middle;\n",
       "    }\n",
       "\n",
       "    .dataframe tbody tr th {\n",
       "        vertical-align: top;\n",
       "    }\n",
       "\n",
       "    .dataframe thead th {\n",
       "        text-align: right;\n",
       "    }\n",
       "</style>\n",
       "<table border=\"1\" class=\"dataframe\">\n",
       "  <thead>\n",
       "    <tr style=\"text-align: right;\">\n",
       "      <th></th>\n",
       "      <th>id</th>\n",
       "      <th>age</th>\n",
       "      <th>city</th>\n",
       "      <th>f1</th>\n",
       "      <th>f2</th>\n",
       "      <th>f3</th>\n",
       "      <th>f4</th>\n",
       "      <th>f5</th>\n",
       "    </tr>\n",
       "  </thead>\n",
       "  <tbody>\n",
       "    <tr>\n",
       "      <th>0</th>\n",
       "      <td>id01</td>\n",
       "      <td>2.0</td>\n",
       "      <td>서울</td>\n",
       "      <td>NaN</td>\n",
       "      <td>0</td>\n",
       "      <td>NaN</td>\n",
       "      <td>ENFJ</td>\n",
       "      <td>91.297791</td>\n",
       "    </tr>\n",
       "    <tr>\n",
       "      <th>1</th>\n",
       "      <td>id02</td>\n",
       "      <td>9.0</td>\n",
       "      <td>서울</td>\n",
       "      <td>70.0</td>\n",
       "      <td>1</td>\n",
       "      <td>NaN</td>\n",
       "      <td>ENFJ</td>\n",
       "      <td>60.339826</td>\n",
       "    </tr>\n",
       "    <tr>\n",
       "      <th>2</th>\n",
       "      <td>id03</td>\n",
       "      <td>27.0</td>\n",
       "      <td>서울</td>\n",
       "      <td>61.0</td>\n",
       "      <td>1</td>\n",
       "      <td>NaN</td>\n",
       "      <td>ISTJ</td>\n",
       "      <td>17.252986</td>\n",
       "    </tr>\n",
       "    <tr>\n",
       "      <th>3</th>\n",
       "      <td>id04</td>\n",
       "      <td>75.0</td>\n",
       "      <td>서울</td>\n",
       "      <td>NaN</td>\n",
       "      <td>2</td>\n",
       "      <td>NaN</td>\n",
       "      <td>INFP</td>\n",
       "      <td>52.667078</td>\n",
       "    </tr>\n",
       "    <tr>\n",
       "      <th>4</th>\n",
       "      <td>id05</td>\n",
       "      <td>24.0</td>\n",
       "      <td>서울</td>\n",
       "      <td>85.0</td>\n",
       "      <td>2</td>\n",
       "      <td>NaN</td>\n",
       "      <td>ISFJ</td>\n",
       "      <td>29.269869</td>\n",
       "    </tr>\n",
       "  </tbody>\n",
       "</table>\n",
       "</div>"
      ],
      "text/plain": [
       "     id   age city    f1  f2   f3    f4         f5\n",
       "0  id01   2.0   서울   NaN   0  NaN  ENFJ  91.297791\n",
       "1  id02   9.0   서울  70.0   1  NaN  ENFJ  60.339826\n",
       "2  id03  27.0   서울  61.0   1  NaN  ISTJ  17.252986\n",
       "3  id04  75.0   서울   NaN   2  NaN  INFP  52.667078\n",
       "4  id05  24.0   서울  85.0   2  NaN  ISFJ  29.269869"
      ]
     },
     "execution_count": 27,
     "metadata": {},
     "output_type": "execute_result"
    }
   ],
   "source": [
    "import pandas as pd\n",
    "import numpy as np\n",
    "df = pd.read_csv('../input/bigdatacertificationkr/basic1.csv')\n",
    "df.head()"
   ]
  },
  {
   "cell_type": "code",
   "execution_count": 28,
   "id": "ee58e6e1",
   "metadata": {
    "execution": {
     "iopub.execute_input": "2021-11-19T12:59:21.422976Z",
     "iopub.status.busy": "2021-11-19T12:59:21.422062Z",
     "iopub.status.idle": "2021-11-19T12:59:21.426578Z",
     "shell.execute_reply": "2021-11-19T12:59:21.425717Z",
     "shell.execute_reply.started": "2021-11-19T12:57:35.775538Z"
    },
    "papermill": {
     "duration": 0.043588,
     "end_time": "2021-11-19T12:59:21.426781",
     "exception": false,
     "start_time": "2021-11-19T12:59:21.383193",
     "status": "completed"
    },
    "tags": []
   },
   "outputs": [
    {
     "name": "stdout",
     "output_type": "stream",
     "text": [
      "5.298862216116952 96.62713778388306\n"
     ]
    }
   ],
   "source": [
    "up = df.age.mean() + df.age.std()*1.5\n",
    "down = df.age.mean() - df.age.std()*1.5\n",
    "print(down, up)"
   ]
  },
  {
   "cell_type": "code",
   "execution_count": 29,
   "id": "ba47c70a",
   "metadata": {
    "execution": {
     "iopub.execute_input": "2021-11-19T12:59:21.514996Z",
     "iopub.status.busy": "2021-11-19T12:59:21.513982Z",
     "iopub.status.idle": "2021-11-19T12:59:21.519749Z",
     "shell.execute_reply": "2021-11-19T12:59:21.520345Z",
     "shell.execute_reply.started": "2021-11-19T12:58:27.951896Z"
    },
    "papermill": {
     "duration": 0.051528,
     "end_time": "2021-11-19T12:59:21.520535",
     "exception": false,
     "start_time": "2021-11-19T12:59:21.469007",
     "status": "completed"
    },
    "tags": []
   },
   "outputs": [
    {
     "data": {
      "text/plain": [
       "473.5"
      ]
     },
     "execution_count": 29,
     "metadata": {},
     "output_type": "execute_result"
    }
   ],
   "source": [
    "df[(df.age<down)|(df.age>up)].age.sum()"
   ]
  },
  {
   "cell_type": "markdown",
   "id": "ace15189",
   "metadata": {
    "papermill": {
     "duration": 0.030586,
     "end_time": "2021-11-19T12:59:21.583066",
     "exception": false,
     "start_time": "2021-11-19T12:59:21.552480",
     "status": "completed"
    },
    "tags": []
   },
   "source": [
    "#### kaggle answer"
   ]
  },
  {
   "cell_type": "code",
   "execution_count": 30,
   "id": "5afd6d2f",
   "metadata": {
    "execution": {
     "iopub.execute_input": "2021-11-19T12:59:21.646747Z",
     "iopub.status.busy": "2021-11-19T12:59:21.645802Z",
     "iopub.status.idle": "2021-11-19T12:59:21.656856Z",
     "shell.execute_reply": "2021-11-19T12:59:21.657379Z",
     "shell.execute_reply.started": "2021-11-19T12:58:31.879181Z"
    },
    "papermill": {
     "duration": 0.044668,
     "end_time": "2021-11-19T12:59:21.657556",
     "exception": false,
     "start_time": "2021-11-19T12:59:21.612888",
     "status": "completed"
    },
    "tags": []
   },
   "outputs": [],
   "source": [
    "# 라이브러리 및 데이터 불러오기\n",
    "import pandas as pd\n",
    "import numpy as np\n",
    "\n",
    "df = pd.read_csv('../input/bigdatacertificationkr/basic1.csv')"
   ]
  },
  {
   "cell_type": "code",
   "execution_count": 31,
   "id": "d6ee1107",
   "metadata": {
    "execution": {
     "iopub.execute_input": "2021-11-19T12:59:21.722443Z",
     "iopub.status.busy": "2021-11-19T12:59:21.721310Z",
     "iopub.status.idle": "2021-11-19T12:59:21.729515Z",
     "shell.execute_reply": "2021-11-19T12:59:21.728761Z",
     "shell.execute_reply.started": "2021-11-19T12:58:32.589745Z"
    },
    "papermill": {
     "duration": 0.041388,
     "end_time": "2021-11-19T12:59:21.729671",
     "exception": false,
     "start_time": "2021-11-19T12:59:21.688283",
     "status": "completed"
    },
    "tags": []
   },
   "outputs": [
    {
     "name": "stdout",
     "output_type": "stream",
     "text": [
      "5.527756578730639 96.39824342126937\n"
     ]
    }
   ],
   "source": [
    "std = np.std(df['age']) * 1.5\n",
    "mean = df['age'].mean()\n",
    "\n",
    "min_out = mean - std\n",
    "max_out = mean + std\n",
    "print(min_out, max_out)"
   ]
  },
  {
   "cell_type": "code",
   "execution_count": 32,
   "id": "b1389354",
   "metadata": {
    "execution": {
     "iopub.execute_input": "2021-11-19T12:59:21.799866Z",
     "iopub.status.busy": "2021-11-19T12:59:21.799036Z",
     "iopub.status.idle": "2021-11-19T12:59:21.802100Z",
     "shell.execute_reply": "2021-11-19T12:59:21.802593Z",
     "shell.execute_reply.started": "2021-11-19T12:58:33.417976Z"
    },
    "papermill": {
     "duration": 0.041805,
     "end_time": "2021-11-19T12:59:21.802762",
     "exception": false,
     "start_time": "2021-11-19T12:59:21.760957",
     "status": "completed"
    },
    "tags": []
   },
   "outputs": [
    {
     "data": {
      "text/plain": [
       "473.5"
      ]
     },
     "execution_count": 32,
     "metadata": {},
     "output_type": "execute_result"
    }
   ],
   "source": [
    "# 이상치 age합\n",
    "df[(df['age']>max_out)|(df['age']<min_out)]['age'].sum()\n",
    "\n",
    "# 다르게 작성방법\n",
    "# df.loc[(df['age'] > max)]['age'].sum() + df.loc[(df['age']< min)]['age'].sum()"
   ]
  }
 ],
 "metadata": {
  "kernelspec": {
   "display_name": "Python 3",
   "language": "python",
   "name": "python3"
  },
  "language_info": {
   "codemirror_mode": {
    "name": "ipython",
    "version": 3
   },
   "file_extension": ".py",
   "mimetype": "text/x-python",
   "name": "python",
   "nbconvert_exporter": "python",
   "pygments_lexer": "ipython3",
   "version": "3.7.10"
  },
  "papermill": {
   "default_parameters": {},
   "duration": 10.716397,
   "end_time": "2021-11-19T12:59:22.342067",
   "environment_variables": {},
   "exception": null,
   "input_path": "__notebook__.ipynb",
   "output_path": "__notebook__.ipynb",
   "parameters": {},
   "start_time": "2021-11-19T12:59:11.625670",
   "version": "2.3.3"
  }
 },
 "nbformat": 4,
 "nbformat_minor": 5
}
