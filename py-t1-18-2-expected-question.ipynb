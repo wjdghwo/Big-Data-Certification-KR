{
 "cells": [
  {
   "cell_type": "markdown",
   "id": "27310f7c",
   "metadata": {
    "papermill": {
     "duration": 0.018344,
     "end_time": "2021-11-24T12:51:18.232659",
     "exception": false,
     "start_time": "2021-11-24T12:51:18.214315",
     "status": "completed"
    },
    "tags": []
   },
   "source": [
    "## 주어진 데이터에서 2022년 5월 주말과 평일의 sales컬럼 평균값 차이를 구하시오 (소수점 둘째자리까지 출력, 반올림)\n",
    "- 데이터셋 : basic2.csv\n",
    "- 오른쪽 상단 copy&edit 클릭 -> 예상문제 풀이 시작"
   ]
  },
  {
   "cell_type": "code",
   "execution_count": 1,
   "id": "f39e5010",
   "metadata": {
    "execution": {
     "iopub.execute_input": "2021-11-24T12:51:18.271960Z",
     "iopub.status.busy": "2021-11-24T12:51:18.270703Z",
     "iopub.status.idle": "2021-11-24T12:51:18.315490Z",
     "shell.execute_reply": "2021-11-24T12:51:18.316052Z",
     "shell.execute_reply.started": "2021-11-24T12:50:36.330449Z"
    },
    "papermill": {
     "duration": 0.06624,
     "end_time": "2021-11-24T12:51:18.316358",
     "exception": false,
     "start_time": "2021-11-24T12:51:18.250118",
     "status": "completed"
    },
    "tags": []
   },
   "outputs": [
    {
     "data": {
      "text/html": [
       "<div>\n",
       "<style scoped>\n",
       "    .dataframe tbody tr th:only-of-type {\n",
       "        vertical-align: middle;\n",
       "    }\n",
       "\n",
       "    .dataframe tbody tr th {\n",
       "        vertical-align: top;\n",
       "    }\n",
       "\n",
       "    .dataframe thead th {\n",
       "        text-align: right;\n",
       "    }\n",
       "</style>\n",
       "<table border=\"1\" class=\"dataframe\">\n",
       "  <thead>\n",
       "    <tr style=\"text-align: right;\">\n",
       "      <th></th>\n",
       "      <th>Date</th>\n",
       "      <th>Sales</th>\n",
       "      <th>PV</th>\n",
       "      <th>UV</th>\n",
       "      <th>Events</th>\n",
       "    </tr>\n",
       "  </thead>\n",
       "  <tbody>\n",
       "    <tr>\n",
       "      <th>0</th>\n",
       "      <td>2022-01-01</td>\n",
       "      <td>22711525</td>\n",
       "      <td>397349</td>\n",
       "      <td>4421.0</td>\n",
       "      <td>1</td>\n",
       "    </tr>\n",
       "    <tr>\n",
       "      <th>1</th>\n",
       "      <td>2022-01-02</td>\n",
       "      <td>36779</td>\n",
       "      <td>3969</td>\n",
       "      <td>2289.0</td>\n",
       "      <td>0</td>\n",
       "    </tr>\n",
       "    <tr>\n",
       "      <th>2</th>\n",
       "      <td>2022-01-03</td>\n",
       "      <td>13943875</td>\n",
       "      <td>373890</td>\n",
       "      <td>NaN</td>\n",
       "      <td>1</td>\n",
       "    </tr>\n",
       "    <tr>\n",
       "      <th>3</th>\n",
       "      <td>2022-01-04</td>\n",
       "      <td>8088593</td>\n",
       "      <td>142054</td>\n",
       "      <td>2157.0</td>\n",
       "      <td>0</td>\n",
       "    </tr>\n",
       "    <tr>\n",
       "      <th>4</th>\n",
       "      <td>2022-01-05</td>\n",
       "      <td>2395374</td>\n",
       "      <td>190684</td>\n",
       "      <td>NaN</td>\n",
       "      <td>0</td>\n",
       "    </tr>\n",
       "  </tbody>\n",
       "</table>\n",
       "</div>"
      ],
      "text/plain": [
       "         Date     Sales      PV      UV  Events\n",
       "0  2022-01-01  22711525  397349  4421.0       1\n",
       "1  2022-01-02     36779    3969  2289.0       0\n",
       "2  2022-01-03  13943875  373890     NaN       1\n",
       "3  2022-01-04   8088593  142054  2157.0       0\n",
       "4  2022-01-05   2395374  190684     NaN       0"
      ]
     },
     "execution_count": 1,
     "metadata": {},
     "output_type": "execute_result"
    }
   ],
   "source": [
    "import pandas as pd\n",
    "import numpy as np\n",
    "df = pd.read_csv('../input/bigdatacertificationkr/basic2.csv')\n",
    "df.head()"
   ]
  },
  {
   "cell_type": "code",
   "execution_count": 2,
   "id": "f0ff2008",
   "metadata": {
    "execution": {
     "iopub.execute_input": "2021-11-24T12:51:18.358192Z",
     "iopub.status.busy": "2021-11-24T12:51:18.357501Z",
     "iopub.status.idle": "2021-11-24T12:51:18.381490Z",
     "shell.execute_reply": "2021-11-24T12:51:18.382131Z",
     "shell.execute_reply.started": "2021-11-24T12:50:36.351801Z"
    },
    "papermill": {
     "duration": 0.045434,
     "end_time": "2021-11-24T12:51:18.382355",
     "exception": false,
     "start_time": "2021-11-24T12:51:18.336921",
     "status": "completed"
    },
    "tags": []
   },
   "outputs": [
    {
     "name": "stdout",
     "output_type": "stream",
     "text": [
      "<class 'pandas.core.frame.DataFrame'>\n",
      "RangeIndex: 730 entries, 0 to 729\n",
      "Data columns (total 5 columns):\n",
      " #   Column  Non-Null Count  Dtype  \n",
      "---  ------  --------------  -----  \n",
      " 0   Date    730 non-null    object \n",
      " 1   Sales   730 non-null    int64  \n",
      " 2   PV      730 non-null    int64  \n",
      " 3   UV      684 non-null    float64\n",
      " 4   Events  730 non-null    int64  \n",
      "dtypes: float64(1), int64(3), object(1)\n",
      "memory usage: 28.6+ KB\n"
     ]
    }
   ],
   "source": [
    "df.info()"
   ]
  },
  {
   "cell_type": "code",
   "execution_count": 3,
   "id": "88ab037b",
   "metadata": {
    "execution": {
     "iopub.execute_input": "2021-11-24T12:51:18.426681Z",
     "iopub.status.busy": "2021-11-24T12:51:18.426010Z",
     "iopub.status.idle": "2021-11-24T12:51:18.428012Z",
     "shell.execute_reply": "2021-11-24T12:51:18.428611Z",
     "shell.execute_reply.started": "2021-11-24T12:50:36.365383Z"
    },
    "papermill": {
     "duration": 0.028576,
     "end_time": "2021-11-24T12:51:18.428796",
     "exception": false,
     "start_time": "2021-11-24T12:51:18.400220",
     "status": "completed"
    },
    "tags": []
   },
   "outputs": [],
   "source": [
    "df.Date = pd.to_datetime(df.Date)"
   ]
  },
  {
   "cell_type": "code",
   "execution_count": 4,
   "id": "75021c94",
   "metadata": {
    "execution": {
     "iopub.execute_input": "2021-11-24T12:51:18.468481Z",
     "iopub.status.busy": "2021-11-24T12:51:18.467811Z",
     "iopub.status.idle": "2021-11-24T12:51:18.474069Z",
     "shell.execute_reply": "2021-11-24T12:51:18.474868Z",
     "shell.execute_reply.started": "2021-11-24T12:50:36.372381Z"
    },
    "papermill": {
     "duration": 0.028398,
     "end_time": "2021-11-24T12:51:18.475106",
     "exception": false,
     "start_time": "2021-11-24T12:51:18.446708",
     "status": "completed"
    },
    "tags": []
   },
   "outputs": [],
   "source": [
    "df['dayofweek'] = df.Date.dt.dayofweek"
   ]
  },
  {
   "cell_type": "code",
   "execution_count": 5,
   "id": "22791592",
   "metadata": {
    "execution": {
     "iopub.execute_input": "2021-11-24T12:51:18.514630Z",
     "iopub.status.busy": "2021-11-24T12:51:18.513961Z",
     "iopub.status.idle": "2021-11-24T12:51:18.526056Z",
     "shell.execute_reply": "2021-11-24T12:51:18.525477Z",
     "shell.execute_reply.started": "2021-11-24T12:50:36.386719Z"
    },
    "papermill": {
     "duration": 0.03301,
     "end_time": "2021-11-24T12:51:18.526211",
     "exception": false,
     "start_time": "2021-11-24T12:51:18.493201",
     "status": "completed"
    },
    "tags": []
   },
   "outputs": [],
   "source": [
    "weekend = df[(df['Date']<'2022-06-01')&(df['Date']>='2022-05-01')&(df['dayofweek']>=5)].Sales.mean()"
   ]
  },
  {
   "cell_type": "code",
   "execution_count": 6,
   "id": "7c243b9c",
   "metadata": {
    "execution": {
     "iopub.execute_input": "2021-11-24T12:51:18.565705Z",
     "iopub.status.busy": "2021-11-24T12:51:18.565084Z",
     "iopub.status.idle": "2021-11-24T12:51:18.572540Z",
     "shell.execute_reply": "2021-11-24T12:51:18.573113Z",
     "shell.execute_reply.started": "2021-11-24T12:50:36.399665Z"
    },
    "papermill": {
     "duration": 0.029136,
     "end_time": "2021-11-24T12:51:18.573290",
     "exception": false,
     "start_time": "2021-11-24T12:51:18.544154",
     "status": "completed"
    },
    "tags": []
   },
   "outputs": [],
   "source": [
    "weekday = df[(df['Date']<'2022-06-01')&(df['Date']>='2022-05-01')&(df['dayofweek']<5)].Sales.mean()"
   ]
  },
  {
   "cell_type": "code",
   "execution_count": 7,
   "id": "8524834d",
   "metadata": {
    "execution": {
     "iopub.execute_input": "2021-11-24T12:51:18.613039Z",
     "iopub.status.busy": "2021-11-24T12:51:18.612344Z",
     "iopub.status.idle": "2021-11-24T12:51:18.617845Z",
     "shell.execute_reply": "2021-11-24T12:51:18.618499Z",
     "shell.execute_reply.started": "2021-11-24T12:50:36.414826Z"
    },
    "papermill": {
     "duration": 0.027522,
     "end_time": "2021-11-24T12:51:18.618675",
     "exception": false,
     "start_time": "2021-11-24T12:51:18.591153",
     "status": "completed"
    },
    "tags": []
   },
   "outputs": [
    {
     "data": {
      "text/plain": [
       "3010339.1"
      ]
     },
     "execution_count": 7,
     "metadata": {},
     "output_type": "execute_result"
    }
   ],
   "source": [
    "round(abs(weekday - weekend), 2)"
   ]
  },
  {
   "cell_type": "markdown",
   "id": "eb0f692b",
   "metadata": {
    "papermill": {
     "duration": 0.018129,
     "end_time": "2021-11-24T12:51:18.655461",
     "exception": false,
     "start_time": "2021-11-24T12:51:18.637332",
     "status": "completed"
    },
    "tags": []
   },
   "source": [
    "### kaggle answer"
   ]
  },
  {
   "cell_type": "code",
   "execution_count": 8,
   "id": "33a252e1",
   "metadata": {
    "_cell_guid": "b1076dfc-b9ad-4769-8c92-a6c4dae69d19",
    "_uuid": "8f2839f25d086af736a60e9eeb907d3b93b6e0e5",
    "execution": {
     "iopub.execute_input": "2021-11-24T12:51:18.697845Z",
     "iopub.status.busy": "2021-11-24T12:51:18.697148Z",
     "iopub.status.idle": "2021-11-24T12:51:18.699303Z",
     "shell.execute_reply": "2021-11-24T12:51:18.699825Z",
     "shell.execute_reply.started": "2021-11-24T12:50:36.425700Z"
    },
    "papermill": {
     "duration": 0.026301,
     "end_time": "2021-11-24T12:51:18.700041",
     "exception": false,
     "start_time": "2021-11-24T12:51:18.673740",
     "status": "completed"
    },
    "tags": []
   },
   "outputs": [],
   "source": [
    "# 라이브러리 불러오기\n",
    "import pandas as pd"
   ]
  },
  {
   "cell_type": "code",
   "execution_count": 9,
   "id": "1fb428a6",
   "metadata": {
    "execution": {
     "iopub.execute_input": "2021-11-24T12:51:18.743279Z",
     "iopub.status.busy": "2021-11-24T12:51:18.741763Z",
     "iopub.status.idle": "2021-11-24T12:51:18.757449Z",
     "shell.execute_reply": "2021-11-24T12:51:18.756791Z",
     "shell.execute_reply.started": "2021-11-24T12:50:36.438069Z"
    },
    "papermill": {
     "duration": 0.03883,
     "end_time": "2021-11-24T12:51:18.757634",
     "exception": false,
     "start_time": "2021-11-24T12:51:18.718804",
     "status": "completed"
    },
    "tags": []
   },
   "outputs": [],
   "source": [
    "# 데이터 불러오기 (datatime컬럼 지정)\n",
    "df = pd.read_csv(\"../input/bigdatacertificationkr/basic2.csv\", parse_dates=['Date'])"
   ]
  },
  {
   "cell_type": "code",
   "execution_count": 10,
   "id": "87fa0aa3",
   "metadata": {
    "execution": {
     "iopub.execute_input": "2021-11-24T12:51:18.808869Z",
     "iopub.status.busy": "2021-11-24T12:51:18.808130Z",
     "iopub.status.idle": "2021-11-24T12:51:18.810959Z",
     "shell.execute_reply": "2021-11-24T12:51:18.811452Z",
     "shell.execute_reply.started": "2021-11-24T12:50:36.452293Z"
    },
    "papermill": {
     "duration": 0.035198,
     "end_time": "2021-11-24T12:51:18.811674",
     "exception": false,
     "start_time": "2021-11-24T12:51:18.776476",
     "status": "completed"
    },
    "tags": []
   },
   "outputs": [
    {
     "data": {
      "text/html": [
       "<div>\n",
       "<style scoped>\n",
       "    .dataframe tbody tr th:only-of-type {\n",
       "        vertical-align: middle;\n",
       "    }\n",
       "\n",
       "    .dataframe tbody tr th {\n",
       "        vertical-align: top;\n",
       "    }\n",
       "\n",
       "    .dataframe thead th {\n",
       "        text-align: right;\n",
       "    }\n",
       "</style>\n",
       "<table border=\"1\" class=\"dataframe\">\n",
       "  <thead>\n",
       "    <tr style=\"text-align: right;\">\n",
       "      <th></th>\n",
       "      <th>Date</th>\n",
       "      <th>Sales</th>\n",
       "      <th>PV</th>\n",
       "      <th>UV</th>\n",
       "      <th>Events</th>\n",
       "    </tr>\n",
       "  </thead>\n",
       "  <tbody>\n",
       "    <tr>\n",
       "      <th>0</th>\n",
       "      <td>2022-01-01</td>\n",
       "      <td>22711525</td>\n",
       "      <td>397349</td>\n",
       "      <td>4421.0</td>\n",
       "      <td>1</td>\n",
       "    </tr>\n",
       "    <tr>\n",
       "      <th>1</th>\n",
       "      <td>2022-01-02</td>\n",
       "      <td>36779</td>\n",
       "      <td>3969</td>\n",
       "      <td>2289.0</td>\n",
       "      <td>0</td>\n",
       "    </tr>\n",
       "    <tr>\n",
       "      <th>2</th>\n",
       "      <td>2022-01-03</td>\n",
       "      <td>13943875</td>\n",
       "      <td>373890</td>\n",
       "      <td>NaN</td>\n",
       "      <td>1</td>\n",
       "    </tr>\n",
       "    <tr>\n",
       "      <th>3</th>\n",
       "      <td>2022-01-04</td>\n",
       "      <td>8088593</td>\n",
       "      <td>142054</td>\n",
       "      <td>2157.0</td>\n",
       "      <td>0</td>\n",
       "    </tr>\n",
       "    <tr>\n",
       "      <th>4</th>\n",
       "      <td>2022-01-05</td>\n",
       "      <td>2395374</td>\n",
       "      <td>190684</td>\n",
       "      <td>NaN</td>\n",
       "      <td>0</td>\n",
       "    </tr>\n",
       "  </tbody>\n",
       "</table>\n",
       "</div>"
      ],
      "text/plain": [
       "        Date     Sales      PV      UV  Events\n",
       "0 2022-01-01  22711525  397349  4421.0       1\n",
       "1 2022-01-02     36779    3969  2289.0       0\n",
       "2 2022-01-03  13943875  373890     NaN       1\n",
       "3 2022-01-04   8088593  142054  2157.0       0\n",
       "4 2022-01-05   2395374  190684     NaN       0"
      ]
     },
     "execution_count": 10,
     "metadata": {},
     "output_type": "execute_result"
    }
   ],
   "source": [
    "df.head()"
   ]
  },
  {
   "cell_type": "code",
   "execution_count": 11,
   "id": "d886bdf9",
   "metadata": {
    "execution": {
     "iopub.execute_input": "2021-11-24T12:51:18.853443Z",
     "iopub.status.busy": "2021-11-24T12:51:18.852770Z",
     "iopub.status.idle": "2021-11-24T12:51:18.864405Z",
     "shell.execute_reply": "2021-11-24T12:51:18.865107Z",
     "shell.execute_reply.started": "2021-11-24T12:50:36.591311Z"
    },
    "papermill": {
     "duration": 0.034466,
     "end_time": "2021-11-24T12:51:18.865321",
     "exception": false,
     "start_time": "2021-11-24T12:51:18.830855",
     "status": "completed"
    },
    "tags": []
   },
   "outputs": [
    {
     "name": "stdout",
     "output_type": "stream",
     "text": [
      "<class 'pandas.core.frame.DataFrame'>\n",
      "RangeIndex: 730 entries, 0 to 729\n",
      "Data columns (total 5 columns):\n",
      " #   Column  Non-Null Count  Dtype         \n",
      "---  ------  --------------  -----         \n",
      " 0   Date    730 non-null    datetime64[ns]\n",
      " 1   Sales   730 non-null    int64         \n",
      " 2   PV      730 non-null    int64         \n",
      " 3   UV      684 non-null    float64       \n",
      " 4   Events  730 non-null    int64         \n",
      "dtypes: datetime64[ns](1), float64(1), int64(3)\n",
      "memory usage: 28.6 KB\n"
     ]
    }
   ],
   "source": [
    "df.info()"
   ]
  },
  {
   "cell_type": "code",
   "execution_count": 12,
   "id": "ab5e29c9",
   "metadata": {
    "execution": {
     "iopub.execute_input": "2021-11-24T12:51:18.910862Z",
     "iopub.status.busy": "2021-11-24T12:51:18.910153Z",
     "iopub.status.idle": "2021-11-24T12:51:18.915354Z",
     "shell.execute_reply": "2021-11-24T12:51:18.915921Z",
     "shell.execute_reply.started": "2021-11-24T12:50:36.605109Z"
    },
    "papermill": {
     "duration": 0.031276,
     "end_time": "2021-11-24T12:51:18.916152",
     "exception": false,
     "start_time": "2021-11-24T12:51:18.884876",
     "status": "completed"
    },
    "tags": []
   },
   "outputs": [],
   "source": [
    "df['year'] = df['Date'].dt.year\n",
    "df['month'] = df['Date'].dt.month\n",
    "df['day'] = df['Date'].dt.day\n",
    "df['dayofweek'] = df['Date'].dt.dayofweek"
   ]
  },
  {
   "cell_type": "code",
   "execution_count": 13,
   "id": "6629d8de",
   "metadata": {
    "execution": {
     "iopub.execute_input": "2021-11-24T12:51:18.958778Z",
     "iopub.status.busy": "2021-11-24T12:51:18.958044Z",
     "iopub.status.idle": "2021-11-24T12:51:18.971597Z",
     "shell.execute_reply": "2021-11-24T12:51:18.971014Z",
     "shell.execute_reply.started": "2021-11-24T12:50:36.614521Z"
    },
    "papermill": {
     "duration": 0.036067,
     "end_time": "2021-11-24T12:51:18.971759",
     "exception": false,
     "start_time": "2021-11-24T12:51:18.935692",
     "status": "completed"
    },
    "tags": []
   },
   "outputs": [
    {
     "data": {
      "text/html": [
       "<div>\n",
       "<style scoped>\n",
       "    .dataframe tbody tr th:only-of-type {\n",
       "        vertical-align: middle;\n",
       "    }\n",
       "\n",
       "    .dataframe tbody tr th {\n",
       "        vertical-align: top;\n",
       "    }\n",
       "\n",
       "    .dataframe thead th {\n",
       "        text-align: right;\n",
       "    }\n",
       "</style>\n",
       "<table border=\"1\" class=\"dataframe\">\n",
       "  <thead>\n",
       "    <tr style=\"text-align: right;\">\n",
       "      <th></th>\n",
       "      <th>Date</th>\n",
       "      <th>Sales</th>\n",
       "      <th>PV</th>\n",
       "      <th>UV</th>\n",
       "      <th>Events</th>\n",
       "      <th>year</th>\n",
       "      <th>month</th>\n",
       "      <th>day</th>\n",
       "      <th>dayofweek</th>\n",
       "    </tr>\n",
       "  </thead>\n",
       "  <tbody>\n",
       "    <tr>\n",
       "      <th>0</th>\n",
       "      <td>2022-01-01</td>\n",
       "      <td>22711525</td>\n",
       "      <td>397349</td>\n",
       "      <td>4421.0</td>\n",
       "      <td>1</td>\n",
       "      <td>2022</td>\n",
       "      <td>1</td>\n",
       "      <td>1</td>\n",
       "      <td>5</td>\n",
       "    </tr>\n",
       "    <tr>\n",
       "      <th>1</th>\n",
       "      <td>2022-01-02</td>\n",
       "      <td>36779</td>\n",
       "      <td>3969</td>\n",
       "      <td>2289.0</td>\n",
       "      <td>0</td>\n",
       "      <td>2022</td>\n",
       "      <td>1</td>\n",
       "      <td>2</td>\n",
       "      <td>6</td>\n",
       "    </tr>\n",
       "    <tr>\n",
       "      <th>2</th>\n",
       "      <td>2022-01-03</td>\n",
       "      <td>13943875</td>\n",
       "      <td>373890</td>\n",
       "      <td>NaN</td>\n",
       "      <td>1</td>\n",
       "      <td>2022</td>\n",
       "      <td>1</td>\n",
       "      <td>3</td>\n",
       "      <td>0</td>\n",
       "    </tr>\n",
       "    <tr>\n",
       "      <th>3</th>\n",
       "      <td>2022-01-04</td>\n",
       "      <td>8088593</td>\n",
       "      <td>142054</td>\n",
       "      <td>2157.0</td>\n",
       "      <td>0</td>\n",
       "      <td>2022</td>\n",
       "      <td>1</td>\n",
       "      <td>4</td>\n",
       "      <td>1</td>\n",
       "    </tr>\n",
       "    <tr>\n",
       "      <th>4</th>\n",
       "      <td>2022-01-05</td>\n",
       "      <td>2395374</td>\n",
       "      <td>190684</td>\n",
       "      <td>NaN</td>\n",
       "      <td>0</td>\n",
       "      <td>2022</td>\n",
       "      <td>1</td>\n",
       "      <td>5</td>\n",
       "      <td>2</td>\n",
       "    </tr>\n",
       "  </tbody>\n",
       "</table>\n",
       "</div>"
      ],
      "text/plain": [
       "        Date     Sales      PV      UV  Events  year  month  day  dayofweek\n",
       "0 2022-01-01  22711525  397349  4421.0       1  2022      1    1          5\n",
       "1 2022-01-02     36779    3969  2289.0       0  2022      1    2          6\n",
       "2 2022-01-03  13943875  373890     NaN       1  2022      1    3          0\n",
       "3 2022-01-04   8088593  142054  2157.0       0  2022      1    4          1\n",
       "4 2022-01-05   2395374  190684     NaN       0  2022      1    5          2"
      ]
     },
     "execution_count": 13,
     "metadata": {},
     "output_type": "execute_result"
    }
   ],
   "source": [
    "df.head()"
   ]
  },
  {
   "cell_type": "code",
   "execution_count": 14,
   "id": "a410bb41",
   "metadata": {
    "execution": {
     "iopub.execute_input": "2021-11-24T12:51:19.021138Z",
     "iopub.status.busy": "2021-11-24T12:51:19.020320Z",
     "iopub.status.idle": "2021-11-24T12:51:19.023869Z",
     "shell.execute_reply": "2021-11-24T12:51:19.023296Z",
     "shell.execute_reply.started": "2021-11-24T12:50:36.637123Z"
    },
    "papermill": {
     "duration": 0.031356,
     "end_time": "2021-11-24T12:51:19.024065",
     "exception": false,
     "start_time": "2021-11-24T12:51:18.992709",
     "status": "completed"
    },
    "tags": []
   },
   "outputs": [],
   "source": [
    "df['weekend'] = df['dayofweek'].apply(lambda x: x>=5, 1, 0)"
   ]
  },
  {
   "cell_type": "code",
   "execution_count": 15,
   "id": "05113b5b",
   "metadata": {
    "execution": {
     "iopub.execute_input": "2021-11-24T12:51:19.078321Z",
     "iopub.status.busy": "2021-11-24T12:51:19.077534Z",
     "iopub.status.idle": "2021-11-24T12:51:19.081173Z",
     "shell.execute_reply": "2021-11-24T12:51:19.081666Z",
     "shell.execute_reply.started": "2021-11-24T12:50:36.649962Z"
    },
    "papermill": {
     "duration": 0.037529,
     "end_time": "2021-11-24T12:51:19.081875",
     "exception": false,
     "start_time": "2021-11-24T12:51:19.044346",
     "status": "completed"
    },
    "tags": []
   },
   "outputs": [
    {
     "data": {
      "text/html": [
       "<div>\n",
       "<style scoped>\n",
       "    .dataframe tbody tr th:only-of-type {\n",
       "        vertical-align: middle;\n",
       "    }\n",
       "\n",
       "    .dataframe tbody tr th {\n",
       "        vertical-align: top;\n",
       "    }\n",
       "\n",
       "    .dataframe thead th {\n",
       "        text-align: right;\n",
       "    }\n",
       "</style>\n",
       "<table border=\"1\" class=\"dataframe\">\n",
       "  <thead>\n",
       "    <tr style=\"text-align: right;\">\n",
       "      <th></th>\n",
       "      <th>Date</th>\n",
       "      <th>Sales</th>\n",
       "      <th>PV</th>\n",
       "      <th>UV</th>\n",
       "      <th>Events</th>\n",
       "      <th>year</th>\n",
       "      <th>month</th>\n",
       "      <th>day</th>\n",
       "      <th>dayofweek</th>\n",
       "      <th>weekend</th>\n",
       "    </tr>\n",
       "  </thead>\n",
       "  <tbody>\n",
       "    <tr>\n",
       "      <th>0</th>\n",
       "      <td>2022-01-01</td>\n",
       "      <td>22711525</td>\n",
       "      <td>397349</td>\n",
       "      <td>4421.0</td>\n",
       "      <td>1</td>\n",
       "      <td>2022</td>\n",
       "      <td>1</td>\n",
       "      <td>1</td>\n",
       "      <td>5</td>\n",
       "      <td>True</td>\n",
       "    </tr>\n",
       "    <tr>\n",
       "      <th>1</th>\n",
       "      <td>2022-01-02</td>\n",
       "      <td>36779</td>\n",
       "      <td>3969</td>\n",
       "      <td>2289.0</td>\n",
       "      <td>0</td>\n",
       "      <td>2022</td>\n",
       "      <td>1</td>\n",
       "      <td>2</td>\n",
       "      <td>6</td>\n",
       "      <td>True</td>\n",
       "    </tr>\n",
       "    <tr>\n",
       "      <th>2</th>\n",
       "      <td>2022-01-03</td>\n",
       "      <td>13943875</td>\n",
       "      <td>373890</td>\n",
       "      <td>NaN</td>\n",
       "      <td>1</td>\n",
       "      <td>2022</td>\n",
       "      <td>1</td>\n",
       "      <td>3</td>\n",
       "      <td>0</td>\n",
       "      <td>False</td>\n",
       "    </tr>\n",
       "    <tr>\n",
       "      <th>3</th>\n",
       "      <td>2022-01-04</td>\n",
       "      <td>8088593</td>\n",
       "      <td>142054</td>\n",
       "      <td>2157.0</td>\n",
       "      <td>0</td>\n",
       "      <td>2022</td>\n",
       "      <td>1</td>\n",
       "      <td>4</td>\n",
       "      <td>1</td>\n",
       "      <td>False</td>\n",
       "    </tr>\n",
       "    <tr>\n",
       "      <th>4</th>\n",
       "      <td>2022-01-05</td>\n",
       "      <td>2395374</td>\n",
       "      <td>190684</td>\n",
       "      <td>NaN</td>\n",
       "      <td>0</td>\n",
       "      <td>2022</td>\n",
       "      <td>1</td>\n",
       "      <td>5</td>\n",
       "      <td>2</td>\n",
       "      <td>False</td>\n",
       "    </tr>\n",
       "  </tbody>\n",
       "</table>\n",
       "</div>"
      ],
      "text/plain": [
       "        Date     Sales      PV      UV  Events  year  month  day  dayofweek  \\\n",
       "0 2022-01-01  22711525  397349  4421.0       1  2022      1    1          5   \n",
       "1 2022-01-02     36779    3969  2289.0       0  2022      1    2          6   \n",
       "2 2022-01-03  13943875  373890     NaN       1  2022      1    3          0   \n",
       "3 2022-01-04   8088593  142054  2157.0       0  2022      1    4          1   \n",
       "4 2022-01-05   2395374  190684     NaN       0  2022      1    5          2   \n",
       "\n",
       "   weekend  \n",
       "0     True  \n",
       "1     True  \n",
       "2    False  \n",
       "3    False  \n",
       "4    False  "
      ]
     },
     "execution_count": 15,
     "metadata": {},
     "output_type": "execute_result"
    }
   ],
   "source": [
    "df.head()"
   ]
  },
  {
   "cell_type": "code",
   "execution_count": 16,
   "id": "38ef1036",
   "metadata": {
    "execution": {
     "iopub.execute_input": "2021-11-24T12:51:19.126806Z",
     "iopub.status.busy": "2021-11-24T12:51:19.126145Z",
     "iopub.status.idle": "2021-11-24T12:51:19.131818Z",
     "shell.execute_reply": "2021-11-24T12:51:19.132462Z",
     "shell.execute_reply.started": "2021-11-24T12:50:36.672566Z"
    },
    "papermill": {
     "duration": 0.029743,
     "end_time": "2021-11-24T12:51:19.132674",
     "exception": false,
     "start_time": "2021-11-24T12:51:19.102931",
     "status": "completed"
    },
    "tags": []
   },
   "outputs": [],
   "source": [
    "weekend_cond = (df['year']==2022) & (df['month']==5) & (df['weekend'])\n",
    "weekday_cond = (df['year']==2022) & (df['month']==5) & (~df['weekend'])"
   ]
  },
  {
   "cell_type": "code",
   "execution_count": 17,
   "id": "e50bd404",
   "metadata": {
    "execution": {
     "iopub.execute_input": "2021-11-24T12:51:19.181107Z",
     "iopub.status.busy": "2021-11-24T12:51:19.179170Z",
     "iopub.status.idle": "2021-11-24T12:51:19.185300Z",
     "shell.execute_reply": "2021-11-24T12:51:19.185818Z",
     "shell.execute_reply.started": "2021-11-24T12:50:36.681469Z"
    },
    "papermill": {
     "duration": 0.032883,
     "end_time": "2021-11-24T12:51:19.186040",
     "exception": false,
     "start_time": "2021-11-24T12:51:19.153157",
     "status": "completed"
    },
    "tags": []
   },
   "outputs": [],
   "source": [
    "weekend = df[weekend_cond]['Sales'].mean()\n",
    "weekday = df[weekday_cond]['Sales'].mean()"
   ]
  },
  {
   "cell_type": "code",
   "execution_count": 18,
   "id": "a42c8aef",
   "metadata": {
    "execution": {
     "iopub.execute_input": "2021-11-24T12:51:19.231024Z",
     "iopub.status.busy": "2021-11-24T12:51:19.230334Z",
     "iopub.status.idle": "2021-11-24T12:51:19.235595Z",
     "shell.execute_reply": "2021-11-24T12:51:19.236100Z",
     "shell.execute_reply.started": "2021-11-24T12:50:36.693799Z"
    },
    "papermill": {
     "duration": 0.029768,
     "end_time": "2021-11-24T12:51:19.236312",
     "exception": false,
     "start_time": "2021-11-24T12:51:19.206544",
     "status": "completed"
    },
    "tags": []
   },
   "outputs": [
    {
     "data": {
      "text/plain": [
       "3010339.1"
      ]
     },
     "execution_count": 18,
     "metadata": {},
     "output_type": "execute_result"
    }
   ],
   "source": [
    "round(weekend - weekday, 1)"
   ]
  },
  {
   "cell_type": "code",
   "execution_count": null,
   "id": "4a846e2c",
   "metadata": {
    "papermill": {
     "duration": 0.020548,
     "end_time": "2021-11-24T12:51:19.277830",
     "exception": false,
     "start_time": "2021-11-24T12:51:19.257282",
     "status": "completed"
    },
    "tags": []
   },
   "outputs": [],
   "source": []
  }
 ],
 "metadata": {
  "kernelspec": {
   "display_name": "Python 3",
   "language": "python",
   "name": "python3"
  },
  "language_info": {
   "codemirror_mode": {
    "name": "ipython",
    "version": 3
   },
   "file_extension": ".py",
   "mimetype": "text/x-python",
   "name": "python",
   "nbconvert_exporter": "python",
   "pygments_lexer": "ipython3",
   "version": "3.7.10"
  },
  "papermill": {
   "default_parameters": {},
   "duration": 11.87398,
   "end_time": "2021-11-24T12:51:20.010799",
   "environment_variables": {},
   "exception": null,
   "input_path": "__notebook__.ipynb",
   "output_path": "__notebook__.ipynb",
   "parameters": {},
   "start_time": "2021-11-24T12:51:08.136819",
   "version": "2.3.3"
  }
 },
 "nbformat": 4,
 "nbformat_minor": 5
}
