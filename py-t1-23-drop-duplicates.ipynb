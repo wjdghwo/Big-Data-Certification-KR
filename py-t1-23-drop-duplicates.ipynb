{
 "cells": [
  {
   "cell_type": "markdown",
   "id": "59de0a16",
   "metadata": {
    "papermill": {
     "duration": 0.017083,
     "end_time": "2021-11-28T04:57:40.207783",
     "exception": false,
     "start_time": "2021-11-28T04:57:40.190700",
     "status": "completed"
    },
    "tags": []
   },
   "source": [
    "## f1의 결측치를 채운 후 age 컬럼의 중복 제거 전과 후의 중앙값의 차이를 구하시오 \n",
    "### - 결측치는 f1의 데이터 중 10번째 큰 값으로 채움\n",
    "### - 중복 데이터 발생시 뒤에 나오는 데이터를 삭제함\n",
    "### - 최종 결과값은 절대값으로 출력\n",
    "\n",
    "- 데이터셋 : basic1.csv\n",
    "- 오른쪽 상단 copy&edit 클릭 -> 예상문제 풀이 시작"
   ]
  },
  {
   "cell_type": "code",
   "execution_count": 1,
   "id": "0536f3d6",
   "metadata": {
    "execution": {
     "iopub.execute_input": "2021-11-28T04:57:40.259236Z",
     "iopub.status.busy": "2021-11-28T04:57:40.258498Z",
     "iopub.status.idle": "2021-11-28T04:57:40.278273Z",
     "shell.execute_reply": "2021-11-28T04:57:40.279278Z",
     "shell.execute_reply.started": "2021-11-28T04:56:54.603733Z"
    },
    "papermill": {
     "duration": 0.056488,
     "end_time": "2021-11-28T04:57:40.279724",
     "exception": false,
     "start_time": "2021-11-28T04:57:40.223236",
     "status": "completed"
    },
    "tags": []
   },
   "outputs": [],
   "source": [
    "import pandas as pd\n",
    "import numpy as np\n",
    "df=pd.read_csv('../input/bigdatacertificationkr/basic1.csv')"
   ]
  },
  {
   "cell_type": "code",
   "execution_count": 2,
   "id": "ccb2267f",
   "metadata": {
    "execution": {
     "iopub.execute_input": "2021-11-28T04:57:40.320602Z",
     "iopub.status.busy": "2021-11-28T04:57:40.313300Z",
     "iopub.status.idle": "2021-11-28T04:57:40.327419Z",
     "shell.execute_reply": "2021-11-28T04:57:40.328126Z",
     "shell.execute_reply.started": "2021-11-28T04:56:54.619893Z"
    },
    "papermill": {
     "duration": 0.033507,
     "end_time": "2021-11-28T04:57:40.328325",
     "exception": false,
     "start_time": "2021-11-28T04:57:40.294818",
     "status": "completed"
    },
    "tags": []
   },
   "outputs": [],
   "source": [
    "df.f1.fillna(df.sort_values('f1', ascending=False).reset_index(drop=True).iloc[9,3], inplace=True)"
   ]
  },
  {
   "cell_type": "code",
   "execution_count": 3,
   "id": "cfa19fda",
   "metadata": {
    "execution": {
     "iopub.execute_input": "2021-11-28T04:57:40.361607Z",
     "iopub.status.busy": "2021-11-28T04:57:40.360579Z",
     "iopub.status.idle": "2021-11-28T04:57:40.368293Z",
     "shell.execute_reply": "2021-11-28T04:57:40.368847Z",
     "shell.execute_reply.started": "2021-11-28T04:56:54.629955Z"
    },
    "papermill": {
     "duration": 0.026861,
     "end_time": "2021-11-28T04:57:40.369039",
     "exception": false,
     "start_time": "2021-11-28T04:57:40.342178",
     "status": "completed"
    },
    "tags": []
   },
   "outputs": [
    {
     "data": {
      "text/plain": [
       "77.5"
      ]
     },
     "execution_count": 3,
     "metadata": {},
     "output_type": "execute_result"
    }
   ],
   "source": [
    "df['f1'].median()"
   ]
  },
  {
   "cell_type": "code",
   "execution_count": 4,
   "id": "8985d596",
   "metadata": {
    "execution": {
     "iopub.execute_input": "2021-11-28T04:57:40.398517Z",
     "iopub.status.busy": "2021-11-28T04:57:40.397895Z",
     "iopub.status.idle": "2021-11-28T04:57:40.408529Z",
     "shell.execute_reply": "2021-11-28T04:57:40.409077Z",
     "shell.execute_reply.started": "2021-11-28T04:56:54.642935Z"
    },
    "papermill": {
     "duration": 0.027187,
     "end_time": "2021-11-28T04:57:40.409252",
     "exception": false,
     "start_time": "2021-11-28T04:57:40.382065",
     "status": "completed"
    },
    "tags": []
   },
   "outputs": [],
   "source": [
    "df_drop = df.drop_duplicates(subset=['age'], keep='first')"
   ]
  },
  {
   "cell_type": "code",
   "execution_count": 5,
   "id": "f7c41200",
   "metadata": {
    "execution": {
     "iopub.execute_input": "2021-11-28T04:57:40.439039Z",
     "iopub.status.busy": "2021-11-28T04:57:40.438315Z",
     "iopub.status.idle": "2021-11-28T04:57:40.444028Z",
     "shell.execute_reply": "2021-11-28T04:57:40.444702Z",
     "shell.execute_reply.started": "2021-11-28T04:56:54.656464Z"
    },
    "papermill": {
     "duration": 0.022811,
     "end_time": "2021-11-28T04:57:40.444882",
     "exception": false,
     "start_time": "2021-11-28T04:57:40.422071",
     "status": "completed"
    },
    "tags": []
   },
   "outputs": [
    {
     "data": {
      "text/plain": [
       "77.0"
      ]
     },
     "execution_count": 5,
     "metadata": {},
     "output_type": "execute_result"
    }
   ],
   "source": [
    "df_drop['f1'].median()"
   ]
  },
  {
   "cell_type": "code",
   "execution_count": 6,
   "id": "5ce7b521",
   "metadata": {
    "execution": {
     "iopub.execute_input": "2021-11-28T04:57:40.477536Z",
     "iopub.status.busy": "2021-11-28T04:57:40.476732Z",
     "iopub.status.idle": "2021-11-28T04:57:40.483031Z",
     "shell.execute_reply": "2021-11-28T04:57:40.483645Z",
     "shell.execute_reply.started": "2021-11-28T04:56:54.666417Z"
    },
    "papermill": {
     "duration": 0.024349,
     "end_time": "2021-11-28T04:57:40.483853",
     "exception": false,
     "start_time": "2021-11-28T04:57:40.459504",
     "status": "completed"
    },
    "tags": []
   },
   "outputs": [
    {
     "data": {
      "text/plain": [
       "0.5"
      ]
     },
     "execution_count": 6,
     "metadata": {},
     "output_type": "execute_result"
    }
   ],
   "source": [
    "abs(df['f1'].median() - df_drop['f1'].median())"
   ]
  },
  {
   "cell_type": "markdown",
   "id": "53800c2b",
   "metadata": {
    "papermill": {
     "duration": 0.01416,
     "end_time": "2021-11-28T04:57:40.512524",
     "exception": false,
     "start_time": "2021-11-28T04:57:40.498364",
     "status": "completed"
    },
    "tags": []
   },
   "source": [
    "## kaggle answer"
   ]
  },
  {
   "cell_type": "code",
   "execution_count": 7,
   "id": "0fffe084",
   "metadata": {
    "_cell_guid": "b1076dfc-b9ad-4769-8c92-a6c4dae69d19",
    "_uuid": "8f2839f25d086af736a60e9eeb907d3b93b6e0e5",
    "execution": {
     "iopub.execute_input": "2021-11-28T04:57:40.545944Z",
     "iopub.status.busy": "2021-11-28T04:57:40.545187Z",
     "iopub.status.idle": "2021-11-28T04:57:40.549413Z",
     "shell.execute_reply": "2021-11-28T04:57:40.548699Z",
     "shell.execute_reply.started": "2021-11-28T04:56:54.679726Z"
    },
    "papermill": {
     "duration": 0.02243,
     "end_time": "2021-11-28T04:57:40.549552",
     "exception": false,
     "start_time": "2021-11-28T04:57:40.527122",
     "status": "completed"
    },
    "tags": []
   },
   "outputs": [],
   "source": [
    "import pandas as pd"
   ]
  },
  {
   "cell_type": "code",
   "execution_count": 8,
   "id": "1e788aec",
   "metadata": {
    "execution": {
     "iopub.execute_input": "2021-11-28T04:57:40.584775Z",
     "iopub.status.busy": "2021-11-28T04:57:40.584027Z",
     "iopub.status.idle": "2021-11-28T04:57:40.606175Z",
     "shell.execute_reply": "2021-11-28T04:57:40.606731Z",
     "shell.execute_reply.started": "2021-11-28T04:56:54.686335Z"
    },
    "papermill": {
     "duration": 0.042625,
     "end_time": "2021-11-28T04:57:40.606922",
     "exception": false,
     "start_time": "2021-11-28T04:57:40.564297",
     "status": "completed"
    },
    "tags": []
   },
   "outputs": [
    {
     "data": {
      "text/html": [
       "<div>\n",
       "<style scoped>\n",
       "    .dataframe tbody tr th:only-of-type {\n",
       "        vertical-align: middle;\n",
       "    }\n",
       "\n",
       "    .dataframe tbody tr th {\n",
       "        vertical-align: top;\n",
       "    }\n",
       "\n",
       "    .dataframe thead th {\n",
       "        text-align: right;\n",
       "    }\n",
       "</style>\n",
       "<table border=\"1\" class=\"dataframe\">\n",
       "  <thead>\n",
       "    <tr style=\"text-align: right;\">\n",
       "      <th></th>\n",
       "      <th>id</th>\n",
       "      <th>age</th>\n",
       "      <th>city</th>\n",
       "      <th>f1</th>\n",
       "      <th>f2</th>\n",
       "      <th>f3</th>\n",
       "      <th>f4</th>\n",
       "      <th>f5</th>\n",
       "    </tr>\n",
       "  </thead>\n",
       "  <tbody>\n",
       "    <tr>\n",
       "      <th>95</th>\n",
       "      <td>id96</td>\n",
       "      <td>92.0</td>\n",
       "      <td>경기</td>\n",
       "      <td>53.0</td>\n",
       "      <td>1</td>\n",
       "      <td>NaN</td>\n",
       "      <td>ENTJ</td>\n",
       "      <td>52.667078</td>\n",
       "    </tr>\n",
       "    <tr>\n",
       "      <th>96</th>\n",
       "      <td>id97</td>\n",
       "      <td>100.0</td>\n",
       "      <td>경기</td>\n",
       "      <td>NaN</td>\n",
       "      <td>0</td>\n",
       "      <td>NaN</td>\n",
       "      <td>INFP</td>\n",
       "      <td>67.886373</td>\n",
       "    </tr>\n",
       "    <tr>\n",
       "      <th>97</th>\n",
       "      <td>id98</td>\n",
       "      <td>39.0</td>\n",
       "      <td>경기</td>\n",
       "      <td>58.0</td>\n",
       "      <td>2</td>\n",
       "      <td>NaN</td>\n",
       "      <td>INFP</td>\n",
       "      <td>98.429899</td>\n",
       "    </tr>\n",
       "    <tr>\n",
       "      <th>98</th>\n",
       "      <td>id99</td>\n",
       "      <td>1.0</td>\n",
       "      <td>경기</td>\n",
       "      <td>47.0</td>\n",
       "      <td>0</td>\n",
       "      <td>NaN</td>\n",
       "      <td>ESFJ</td>\n",
       "      <td>97.381034</td>\n",
       "    </tr>\n",
       "    <tr>\n",
       "      <th>99</th>\n",
       "      <td>id100</td>\n",
       "      <td>47.0</td>\n",
       "      <td>경기</td>\n",
       "      <td>53.0</td>\n",
       "      <td>0</td>\n",
       "      <td>vip</td>\n",
       "      <td>ESFP</td>\n",
       "      <td>33.308999</td>\n",
       "    </tr>\n",
       "  </tbody>\n",
       "</table>\n",
       "</div>"
      ],
      "text/plain": [
       "       id    age city    f1  f2   f3    f4         f5\n",
       "95   id96   92.0   경기  53.0   1  NaN  ENTJ  52.667078\n",
       "96   id97  100.0   경기   NaN   0  NaN  INFP  67.886373\n",
       "97   id98   39.0   경기  58.0   2  NaN  INFP  98.429899\n",
       "98   id99    1.0   경기  47.0   0  NaN  ESFJ  97.381034\n",
       "99  id100   47.0   경기  53.0   0  vip  ESFP  33.308999"
      ]
     },
     "execution_count": 8,
     "metadata": {},
     "output_type": "execute_result"
    }
   ],
   "source": [
    "df = pd.read_csv('../input/bigdatacertificationkr/basic1.csv')\n",
    "df.tail()"
   ]
  },
  {
   "cell_type": "code",
   "execution_count": 9,
   "id": "30dae1c6",
   "metadata": {
    "execution": {
     "iopub.execute_input": "2021-11-28T04:57:40.639779Z",
     "iopub.status.busy": "2021-11-28T04:57:40.638809Z",
     "iopub.status.idle": "2021-11-28T04:57:40.645198Z",
     "shell.execute_reply": "2021-11-28T04:57:40.645761Z",
     "shell.execute_reply.started": "2021-11-28T04:56:54.712400Z"
    },
    "papermill": {
     "duration": 0.024436,
     "end_time": "2021-11-28T04:57:40.645921",
     "exception": false,
     "start_time": "2021-11-28T04:57:40.621485",
     "status": "completed"
    },
    "tags": []
   },
   "outputs": [
    {
     "name": "stdout",
     "output_type": "stream",
     "text": [
      "88.0\n"
     ]
    }
   ],
   "source": [
    "# f1데이터에서 10번째 큰 값으로 결측치를 채움\n",
    "top10 = df['f1'].sort_values(ascending=False).iloc[9]\n",
    "print(top10)\n",
    "df['f1'] = df['f1'].fillna(top10)"
   ]
  },
  {
   "cell_type": "code",
   "execution_count": 10,
   "id": "3c092cdb",
   "metadata": {
    "execution": {
     "iopub.execute_input": "2021-11-28T04:57:40.678161Z",
     "iopub.status.busy": "2021-11-28T04:57:40.677195Z",
     "iopub.status.idle": "2021-11-28T04:57:40.683924Z",
     "shell.execute_reply": "2021-11-28T04:57:40.683360Z",
     "shell.execute_reply.started": "2021-11-28T04:56:54.722185Z"
    },
    "papermill": {
     "duration": 0.02407,
     "end_time": "2021-11-28T04:57:40.684065",
     "exception": false,
     "start_time": "2021-11-28T04:57:40.659995",
     "status": "completed"
    },
    "tags": []
   },
   "outputs": [
    {
     "data": {
      "text/plain": [
       "77.5"
      ]
     },
     "execution_count": 10,
     "metadata": {},
     "output_type": "execute_result"
    }
   ],
   "source": [
    "# 중복 제거 전 중앙 값\n",
    "result1 = df['f1'].median()\n",
    "result1"
   ]
  },
  {
   "cell_type": "code",
   "execution_count": 11,
   "id": "5b99c3e4",
   "metadata": {
    "execution": {
     "iopub.execute_input": "2021-11-28T04:57:40.719865Z",
     "iopub.status.busy": "2021-11-28T04:57:40.717885Z",
     "iopub.status.idle": "2021-11-28T04:57:40.724351Z",
     "shell.execute_reply": "2021-11-28T04:57:40.724995Z",
     "shell.execute_reply.started": "2021-11-28T04:56:54.731909Z"
    },
    "papermill": {
     "duration": 0.026467,
     "end_time": "2021-11-28T04:57:40.725159",
     "exception": false,
     "start_time": "2021-11-28T04:57:40.698692",
     "status": "completed"
    },
    "tags": []
   },
   "outputs": [
    {
     "name": "stdout",
     "output_type": "stream",
     "text": [
      "(100, 8)\n",
      "(71, 8)\n"
     ]
    }
   ],
   "source": [
    "# 중복 제거\n",
    "print(df.shape)\n",
    "df = df.drop_duplicates(subset=['age'])\n",
    "print(df.shape)"
   ]
  },
  {
   "cell_type": "code",
   "execution_count": 12,
   "id": "e1a32076",
   "metadata": {
    "execution": {
     "iopub.execute_input": "2021-11-28T04:57:40.760249Z",
     "iopub.status.busy": "2021-11-28T04:57:40.759537Z",
     "iopub.status.idle": "2021-11-28T04:57:40.764323Z",
     "shell.execute_reply": "2021-11-28T04:57:40.765022Z",
     "shell.execute_reply.started": "2021-11-28T04:56:54.745578Z"
    },
    "papermill": {
     "duration": 0.025155,
     "end_time": "2021-11-28T04:57:40.765190",
     "exception": false,
     "start_time": "2021-11-28T04:57:40.740035",
     "status": "completed"
    },
    "tags": []
   },
   "outputs": [
    {
     "data": {
      "text/plain": [
       "77.0"
      ]
     },
     "execution_count": 12,
     "metadata": {},
     "output_type": "execute_result"
    }
   ],
   "source": [
    "# 중복 제거 후 중앙 값\n",
    "result2 = df['f1'].median()\n",
    "result2"
   ]
  },
  {
   "cell_type": "code",
   "execution_count": 13,
   "id": "d59609b5",
   "metadata": {
    "execution": {
     "iopub.execute_input": "2021-11-28T04:57:40.803898Z",
     "iopub.status.busy": "2021-11-28T04:57:40.803137Z",
     "iopub.status.idle": "2021-11-28T04:57:40.806102Z",
     "shell.execute_reply": "2021-11-28T04:57:40.806829Z",
     "shell.execute_reply.started": "2021-11-28T04:56:54.753545Z"
    },
    "papermill": {
     "duration": 0.025411,
     "end_time": "2021-11-28T04:57:40.807047",
     "exception": false,
     "start_time": "2021-11-28T04:57:40.781636",
     "status": "completed"
    },
    "tags": []
   },
   "outputs": [
    {
     "name": "stdout",
     "output_type": "stream",
     "text": [
      "0.5\n"
     ]
    }
   ],
   "source": [
    "# 차이 (절대값)\n",
    "print(abs(result1 - result2))"
   ]
  }
 ],
 "metadata": {
  "kernelspec": {
   "display_name": "Python 3",
   "language": "python",
   "name": "python3"
  },
  "language_info": {
   "codemirror_mode": {
    "name": "ipython",
    "version": 3
   },
   "file_extension": ".py",
   "mimetype": "text/x-python",
   "name": "python",
   "nbconvert_exporter": "python",
   "pygments_lexer": "ipython3",
   "version": "3.7.10"
  },
  "papermill": {
   "default_parameters": {},
   "duration": 10.47093,
   "end_time": "2021-11-28T04:57:41.435193",
   "environment_variables": {},
   "exception": null,
   "input_path": "__notebook__.ipynb",
   "output_path": "__notebook__.ipynb",
   "parameters": {},
   "start_time": "2021-11-28T04:57:30.964263",
   "version": "2.3.3"
  }
 },
 "nbformat": 4,
 "nbformat_minor": 5
}
