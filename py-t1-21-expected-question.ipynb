{
 "cells": [
  {
   "cell_type": "markdown",
   "id": "28bb9df5",
   "metadata": {
    "papermill": {
     "duration": 0.021103,
     "end_time": "2021-11-24T14:07:07.072915",
     "exception": false,
     "start_time": "2021-11-24T14:07:07.051812",
     "status": "completed"
    },
    "tags": []
   },
   "source": [
    "## 나이 구간 나누기\n",
    "###  basic1 데이터 중 'age'컬럼 이상치를 제거하고, 동일한 개수로 나이 순으로 3그룹으로 나눈 뒤 각 그룹의 중앙값을 더하시오\n",
    "### (이상치는 음수(0포함), 소수점 값)\n",
    "- data: basic1.csv\n",
    "- 오른쪽 상단 copy&edit 클릭 -> 예상문제 풀이 시작\n"
   ]
  },
  {
   "cell_type": "code",
   "execution_count": 1,
   "id": "7cce9659",
   "metadata": {
    "execution": {
     "iopub.execute_input": "2021-11-24T14:07:07.110232Z",
     "iopub.status.busy": "2021-11-24T14:07:07.108844Z",
     "iopub.status.idle": "2021-11-24T14:07:07.164972Z",
     "shell.execute_reply": "2021-11-24T14:07:07.165803Z",
     "shell.execute_reply.started": "2021-11-24T14:06:38.107770Z"
    },
    "papermill": {
     "duration": 0.076959,
     "end_time": "2021-11-24T14:07:07.166225",
     "exception": false,
     "start_time": "2021-11-24T14:07:07.089266",
     "status": "completed"
    },
    "tags": []
   },
   "outputs": [
    {
     "data": {
      "text/html": [
       "<div>\n",
       "<style scoped>\n",
       "    .dataframe tbody tr th:only-of-type {\n",
       "        vertical-align: middle;\n",
       "    }\n",
       "\n",
       "    .dataframe tbody tr th {\n",
       "        vertical-align: top;\n",
       "    }\n",
       "\n",
       "    .dataframe thead th {\n",
       "        text-align: right;\n",
       "    }\n",
       "</style>\n",
       "<table border=\"1\" class=\"dataframe\">\n",
       "  <thead>\n",
       "    <tr style=\"text-align: right;\">\n",
       "      <th></th>\n",
       "      <th>id</th>\n",
       "      <th>age</th>\n",
       "      <th>city</th>\n",
       "      <th>f1</th>\n",
       "      <th>f2</th>\n",
       "      <th>f3</th>\n",
       "      <th>f4</th>\n",
       "      <th>f5</th>\n",
       "    </tr>\n",
       "  </thead>\n",
       "  <tbody>\n",
       "    <tr>\n",
       "      <th>0</th>\n",
       "      <td>id01</td>\n",
       "      <td>2.0</td>\n",
       "      <td>서울</td>\n",
       "      <td>NaN</td>\n",
       "      <td>0</td>\n",
       "      <td>NaN</td>\n",
       "      <td>ENFJ</td>\n",
       "      <td>91.297791</td>\n",
       "    </tr>\n",
       "    <tr>\n",
       "      <th>1</th>\n",
       "      <td>id02</td>\n",
       "      <td>9.0</td>\n",
       "      <td>서울</td>\n",
       "      <td>70.0</td>\n",
       "      <td>1</td>\n",
       "      <td>NaN</td>\n",
       "      <td>ENFJ</td>\n",
       "      <td>60.339826</td>\n",
       "    </tr>\n",
       "    <tr>\n",
       "      <th>2</th>\n",
       "      <td>id03</td>\n",
       "      <td>27.0</td>\n",
       "      <td>서울</td>\n",
       "      <td>61.0</td>\n",
       "      <td>1</td>\n",
       "      <td>NaN</td>\n",
       "      <td>ISTJ</td>\n",
       "      <td>17.252986</td>\n",
       "    </tr>\n",
       "    <tr>\n",
       "      <th>3</th>\n",
       "      <td>id04</td>\n",
       "      <td>75.0</td>\n",
       "      <td>서울</td>\n",
       "      <td>NaN</td>\n",
       "      <td>2</td>\n",
       "      <td>NaN</td>\n",
       "      <td>INFP</td>\n",
       "      <td>52.667078</td>\n",
       "    </tr>\n",
       "    <tr>\n",
       "      <th>4</th>\n",
       "      <td>id05</td>\n",
       "      <td>24.0</td>\n",
       "      <td>서울</td>\n",
       "      <td>85.0</td>\n",
       "      <td>2</td>\n",
       "      <td>NaN</td>\n",
       "      <td>ISFJ</td>\n",
       "      <td>29.269869</td>\n",
       "    </tr>\n",
       "  </tbody>\n",
       "</table>\n",
       "</div>"
      ],
      "text/plain": [
       "     id   age city    f1  f2   f3    f4         f5\n",
       "0  id01   2.0   서울   NaN   0  NaN  ENFJ  91.297791\n",
       "1  id02   9.0   서울  70.0   1  NaN  ENFJ  60.339826\n",
       "2  id03  27.0   서울  61.0   1  NaN  ISTJ  17.252986\n",
       "3  id04  75.0   서울   NaN   2  NaN  INFP  52.667078\n",
       "4  id05  24.0   서울  85.0   2  NaN  ISFJ  29.269869"
      ]
     },
     "execution_count": 1,
     "metadata": {},
     "output_type": "execute_result"
    }
   ],
   "source": [
    "import pandas as pd\n",
    "import numpy as np\n",
    "df = pd.read_csv('../input/bigdatacertificationkr/basic1.csv')\n",
    "df.head()"
   ]
  },
  {
   "cell_type": "code",
   "execution_count": 2,
   "id": "2e119dca",
   "metadata": {
    "execution": {
     "iopub.execute_input": "2021-11-24T14:07:07.215626Z",
     "iopub.status.busy": "2021-11-24T14:07:07.210137Z",
     "iopub.status.idle": "2021-11-24T14:07:07.224440Z",
     "shell.execute_reply": "2021-11-24T14:07:07.223848Z",
     "shell.execute_reply.started": "2021-11-24T14:06:38.128286Z"
    },
    "papermill": {
     "duration": 0.034098,
     "end_time": "2021-11-24T14:07:07.224596",
     "exception": false,
     "start_time": "2021-11-24T14:07:07.190498",
     "status": "completed"
    },
    "tags": []
   },
   "outputs": [],
   "source": [
    "df = df[df.age>0]"
   ]
  },
  {
   "cell_type": "code",
   "execution_count": 3,
   "id": "568adbe2",
   "metadata": {
    "execution": {
     "iopub.execute_input": "2021-11-24T14:07:07.264071Z",
     "iopub.status.busy": "2021-11-24T14:07:07.263326Z",
     "iopub.status.idle": "2021-11-24T14:07:07.266284Z",
     "shell.execute_reply": "2021-11-24T14:07:07.266806Z",
     "shell.execute_reply.started": "2021-11-24T14:06:38.135225Z"
    },
    "papermill": {
     "duration": 0.026506,
     "end_time": "2021-11-24T14:07:07.267033",
     "exception": false,
     "start_time": "2021-11-24T14:07:07.240527",
     "status": "completed"
    },
    "tags": []
   },
   "outputs": [],
   "source": [
    "df_ = df[df.age.astype('int')==df.age]"
   ]
  },
  {
   "cell_type": "code",
   "execution_count": 4,
   "id": "99274f35",
   "metadata": {
    "execution": {
     "iopub.execute_input": "2021-11-24T14:07:07.305620Z",
     "iopub.status.busy": "2021-11-24T14:07:07.304861Z",
     "iopub.status.idle": "2021-11-24T14:07:07.309059Z",
     "shell.execute_reply": "2021-11-24T14:07:07.309572Z",
     "shell.execute_reply.started": "2021-11-24T14:06:38.149061Z"
    },
    "papermill": {
     "duration": 0.026189,
     "end_time": "2021-11-24T14:07:07.309746",
     "exception": false,
     "start_time": "2021-11-24T14:07:07.283557",
     "status": "completed"
    },
    "tags": []
   },
   "outputs": [
    {
     "data": {
      "text/plain": [
       "30"
      ]
     },
     "execution_count": 4,
     "metadata": {},
     "output_type": "execute_result"
    }
   ],
   "source": [
    "int(len(df_)/3)"
   ]
  },
  {
   "cell_type": "code",
   "execution_count": 5,
   "id": "c04f6314",
   "metadata": {
    "execution": {
     "iopub.execute_input": "2021-11-24T14:07:07.351432Z",
     "iopub.status.busy": "2021-11-24T14:07:07.350722Z",
     "iopub.status.idle": "2021-11-24T14:07:07.354124Z",
     "shell.execute_reply": "2021-11-24T14:07:07.353411Z",
     "shell.execute_reply.started": "2021-11-24T14:06:38.160890Z"
    },
    "papermill": {
     "duration": 0.028626,
     "end_time": "2021-11-24T14:07:07.354267",
     "exception": false,
     "start_time": "2021-11-24T14:07:07.325641",
     "status": "completed"
    },
    "tags": []
   },
   "outputs": [],
   "source": [
    "group1 = df_.sort_values('age').reset_index(drop=True).iloc[0:int(len(df_)/3),:].age\n",
    "group2 = df_.sort_values('age').reset_index(drop=True).iloc[int(len(df_)/3):int(2*len(df_)/3),:].age\n",
    "group3 = df_.sort_values('age').reset_index(drop=True).iloc[int(2*len(df_)/3):int(len(df_)),:].age"
   ]
  },
  {
   "cell_type": "code",
   "execution_count": 6,
   "id": "9b0a565b",
   "metadata": {
    "execution": {
     "iopub.execute_input": "2021-11-24T14:07:07.392697Z",
     "iopub.status.busy": "2021-11-24T14:07:07.391931Z",
     "iopub.status.idle": "2021-11-24T14:07:07.395252Z",
     "shell.execute_reply": "2021-11-24T14:07:07.395809Z",
     "shell.execute_reply.started": "2021-11-24T14:06:38.173540Z"
    },
    "papermill": {
     "duration": 0.026235,
     "end_time": "2021-11-24T14:07:07.396022",
     "exception": false,
     "start_time": "2021-11-24T14:07:07.369787",
     "status": "completed"
    },
    "tags": []
   },
   "outputs": [
    {
     "data": {
      "text/plain": [
       "165.0"
      ]
     },
     "execution_count": 6,
     "metadata": {},
     "output_type": "execute_result"
    }
   ],
   "source": [
    "group1.median()+group2.median()+group3.median()"
   ]
  },
  {
   "cell_type": "markdown",
   "id": "e10372cd",
   "metadata": {
    "papermill": {
     "duration": 0.016315,
     "end_time": "2021-11-24T14:07:07.428990",
     "exception": false,
     "start_time": "2021-11-24T14:07:07.412675",
     "status": "completed"
    },
    "tags": []
   },
   "source": [
    "### kaggle answer"
   ]
  },
  {
   "cell_type": "code",
   "execution_count": 7,
   "id": "a14e853d",
   "metadata": {
    "_cell_guid": "b1076dfc-b9ad-4769-8c92-a6c4dae69d19",
    "_uuid": "8f2839f25d086af736a60e9eeb907d3b93b6e0e5",
    "execution": {
     "iopub.execute_input": "2021-11-24T14:07:07.466469Z",
     "iopub.status.busy": "2021-11-24T14:07:07.465669Z",
     "iopub.status.idle": "2021-11-24T14:07:07.468809Z",
     "shell.execute_reply": "2021-11-24T14:07:07.468209Z",
     "shell.execute_reply.started": "2021-11-24T14:06:38.188202Z"
    },
    "papermill": {
     "duration": 0.02369,
     "end_time": "2021-11-24T14:07:07.468989",
     "exception": false,
     "start_time": "2021-11-24T14:07:07.445299",
     "status": "completed"
    },
    "tags": []
   },
   "outputs": [],
   "source": [
    "import pandas as pd"
   ]
  },
  {
   "cell_type": "code",
   "execution_count": 8,
   "id": "fe2160d2",
   "metadata": {
    "execution": {
     "iopub.execute_input": "2021-11-24T14:07:07.506906Z",
     "iopub.status.busy": "2021-11-24T14:07:07.506214Z",
     "iopub.status.idle": "2021-11-24T14:07:07.511277Z",
     "shell.execute_reply": "2021-11-24T14:07:07.511932Z",
     "shell.execute_reply.started": "2021-11-24T14:06:38.195705Z"
    },
    "papermill": {
     "duration": 0.026691,
     "end_time": "2021-11-24T14:07:07.512143",
     "exception": false,
     "start_time": "2021-11-24T14:07:07.485452",
     "status": "completed"
    },
    "tags": []
   },
   "outputs": [],
   "source": [
    "df = pd.read_csv('../input/bigdatacertificationkr/basic1.csv')"
   ]
  },
  {
   "cell_type": "code",
   "execution_count": 9,
   "id": "b18e45e6",
   "metadata": {
    "execution": {
     "iopub.execute_input": "2021-11-24T14:07:07.547830Z",
     "iopub.status.busy": "2021-11-24T14:07:07.547141Z",
     "iopub.status.idle": "2021-11-24T14:07:07.557419Z",
     "shell.execute_reply": "2021-11-24T14:07:07.556786Z",
     "shell.execute_reply.started": "2021-11-24T14:06:38.291335Z"
    },
    "papermill": {
     "duration": 0.029079,
     "end_time": "2021-11-24T14:07:07.557565",
     "exception": false,
     "start_time": "2021-11-24T14:07:07.528486",
     "status": "completed"
    },
    "tags": []
   },
   "outputs": [
    {
     "name": "stdout",
     "output_type": "stream",
     "text": [
      "전체 데이터: (100, 8)\n",
      "음수(0포함)값 제거 후 데이터 크기: (96, 8)\n",
      "소수점 제거 후 데이터 크기: (90, 8)\n"
     ]
    }
   ],
   "source": [
    "# age 이상치 (음수(0포함), 소수점 제거)\n",
    "print('전체 데이터:', df.shape)\n",
    "df = df[~(df['age'] <= 0)]\n",
    "print('음수(0포함)값 제거 후 데이터 크기:', df.shape)\n",
    "\n",
    "df = df[(df['age'] == round(df['age'],0))]\n",
    "print('소수점 제거 후 데이터 크기:', df.shape)"
   ]
  },
  {
   "cell_type": "code",
   "execution_count": 10,
   "id": "6a3e9b6b",
   "metadata": {
    "execution": {
     "iopub.execute_input": "2021-11-24T14:07:07.593600Z",
     "iopub.status.busy": "2021-11-24T14:07:07.592874Z",
     "iopub.status.idle": "2021-11-24T14:07:07.609231Z",
     "shell.execute_reply": "2021-11-24T14:07:07.608609Z",
     "shell.execute_reply.started": "2021-11-24T14:06:38.301577Z"
    },
    "papermill": {
     "duration": 0.035394,
     "end_time": "2021-11-24T14:07:07.609386",
     "exception": false,
     "start_time": "2021-11-24T14:07:07.573992",
     "status": "completed"
    },
    "tags": []
   },
   "outputs": [
    {
     "data": {
      "text/html": [
       "<div>\n",
       "<style scoped>\n",
       "    .dataframe tbody tr th:only-of-type {\n",
       "        vertical-align: middle;\n",
       "    }\n",
       "\n",
       "    .dataframe tbody tr th {\n",
       "        vertical-align: top;\n",
       "    }\n",
       "\n",
       "    .dataframe thead th {\n",
       "        text-align: right;\n",
       "    }\n",
       "</style>\n",
       "<table border=\"1\" class=\"dataframe\">\n",
       "  <thead>\n",
       "    <tr style=\"text-align: right;\">\n",
       "      <th></th>\n",
       "      <th>id</th>\n",
       "      <th>age</th>\n",
       "      <th>city</th>\n",
       "      <th>f1</th>\n",
       "      <th>f2</th>\n",
       "      <th>f3</th>\n",
       "      <th>f4</th>\n",
       "      <th>f5</th>\n",
       "    </tr>\n",
       "  </thead>\n",
       "  <tbody>\n",
       "    <tr>\n",
       "      <th>0</th>\n",
       "      <td>id01</td>\n",
       "      <td>2.0</td>\n",
       "      <td>서울</td>\n",
       "      <td>NaN</td>\n",
       "      <td>0</td>\n",
       "      <td>NaN</td>\n",
       "      <td>ENFJ</td>\n",
       "      <td>91.297791</td>\n",
       "    </tr>\n",
       "    <tr>\n",
       "      <th>1</th>\n",
       "      <td>id02</td>\n",
       "      <td>9.0</td>\n",
       "      <td>서울</td>\n",
       "      <td>70.0</td>\n",
       "      <td>1</td>\n",
       "      <td>NaN</td>\n",
       "      <td>ENFJ</td>\n",
       "      <td>60.339826</td>\n",
       "    </tr>\n",
       "    <tr>\n",
       "      <th>2</th>\n",
       "      <td>id03</td>\n",
       "      <td>27.0</td>\n",
       "      <td>서울</td>\n",
       "      <td>61.0</td>\n",
       "      <td>1</td>\n",
       "      <td>NaN</td>\n",
       "      <td>ISTJ</td>\n",
       "      <td>17.252986</td>\n",
       "    </tr>\n",
       "    <tr>\n",
       "      <th>3</th>\n",
       "      <td>id04</td>\n",
       "      <td>75.0</td>\n",
       "      <td>서울</td>\n",
       "      <td>NaN</td>\n",
       "      <td>2</td>\n",
       "      <td>NaN</td>\n",
       "      <td>INFP</td>\n",
       "      <td>52.667078</td>\n",
       "    </tr>\n",
       "    <tr>\n",
       "      <th>4</th>\n",
       "      <td>id05</td>\n",
       "      <td>24.0</td>\n",
       "      <td>서울</td>\n",
       "      <td>85.0</td>\n",
       "      <td>2</td>\n",
       "      <td>NaN</td>\n",
       "      <td>ISFJ</td>\n",
       "      <td>29.269869</td>\n",
       "    </tr>\n",
       "  </tbody>\n",
       "</table>\n",
       "</div>"
      ],
      "text/plain": [
       "     id   age city    f1  f2   f3    f4         f5\n",
       "0  id01   2.0   서울   NaN   0  NaN  ENFJ  91.297791\n",
       "1  id02   9.0   서울  70.0   1  NaN  ENFJ  60.339826\n",
       "2  id03  27.0   서울  61.0   1  NaN  ISTJ  17.252986\n",
       "3  id04  75.0   서울   NaN   2  NaN  INFP  52.667078\n",
       "4  id05  24.0   서울  85.0   2  NaN  ISFJ  29.269869"
      ]
     },
     "execution_count": 10,
     "metadata": {},
     "output_type": "execute_result"
    }
   ],
   "source": [
    "df.head()"
   ]
  },
  {
   "cell_type": "code",
   "execution_count": 11,
   "id": "d4fd46cd",
   "metadata": {
    "execution": {
     "iopub.execute_input": "2021-11-24T14:07:07.648717Z",
     "iopub.status.busy": "2021-11-24T14:07:07.648022Z",
     "iopub.status.idle": "2021-11-24T14:07:07.669794Z",
     "shell.execute_reply": "2021-11-24T14:07:07.669157Z",
     "shell.execute_reply.started": "2021-11-24T14:06:38.323700Z"
    },
    "papermill": {
     "duration": 0.043358,
     "end_time": "2021-11-24T14:07:07.669995",
     "exception": false,
     "start_time": "2021-11-24T14:07:07.626637",
     "status": "completed"
    },
    "tags": []
   },
   "outputs": [
    {
     "data": {
      "text/plain": [
       "0      (0.999, 38.667]\n",
       "1      (0.999, 38.667]\n",
       "2      (0.999, 38.667]\n",
       "3      (73.333, 100.0]\n",
       "4      (0.999, 38.667]\n",
       "            ...       \n",
       "95     (73.333, 100.0]\n",
       "96     (73.333, 100.0]\n",
       "97    (38.667, 73.333]\n",
       "98     (0.999, 38.667]\n",
       "99    (38.667, 73.333]\n",
       "Name: age, Length: 90, dtype: category\n",
       "Categories (3, interval[float64, right]): [(0.999, 38.667] < (38.667, 73.333] < (73.333, 100.0]]"
      ]
     },
     "execution_count": 11,
     "metadata": {},
     "output_type": "execute_result"
    }
   ],
   "source": [
    "# 기준 확인\n",
    "pd.qcut(df['age'], q=3)"
   ]
  },
  {
   "cell_type": "code",
   "execution_count": 12,
   "id": "3104ec7e",
   "metadata": {
    "execution": {
     "iopub.execute_input": "2021-11-24T14:07:07.715032Z",
     "iopub.status.busy": "2021-11-24T14:07:07.714276Z",
     "iopub.status.idle": "2021-11-24T14:07:07.718001Z",
     "shell.execute_reply": "2021-11-24T14:07:07.717402Z",
     "shell.execute_reply.started": "2021-11-24T14:06:38.349449Z"
    },
    "papermill": {
     "duration": 0.029689,
     "end_time": "2021-11-24T14:07:07.718159",
     "exception": false,
     "start_time": "2021-11-24T14:07:07.688470",
     "status": "completed"
    },
    "tags": []
   },
   "outputs": [],
   "source": [
    "# 구간 분할\n",
    "df['range'] = pd.qcut(df['age'], q=3, labels=['group1','group2','group3'])"
   ]
  },
  {
   "cell_type": "code",
   "execution_count": 13,
   "id": "3a35414a",
   "metadata": {
    "execution": {
     "iopub.execute_input": "2021-11-24T14:07:07.760835Z",
     "iopub.status.busy": "2021-11-24T14:07:07.760138Z",
     "iopub.status.idle": "2021-11-24T14:07:07.766914Z",
     "shell.execute_reply": "2021-11-24T14:07:07.766211Z",
     "shell.execute_reply.started": "2021-11-24T14:06:38.358732Z"
    },
    "papermill": {
     "duration": 0.031013,
     "end_time": "2021-11-24T14:07:07.767079",
     "exception": false,
     "start_time": "2021-11-24T14:07:07.736066",
     "status": "completed"
    },
    "tags": []
   },
   "outputs": [
    {
     "data": {
      "text/plain": [
       "group1    30\n",
       "group2    30\n",
       "group3    30\n",
       "Name: range, dtype: int64"
      ]
     },
     "execution_count": 13,
     "metadata": {},
     "output_type": "execute_result"
    }
   ],
   "source": [
    "# 수량 비교\n",
    "df['range'].value_counts()"
   ]
  },
  {
   "cell_type": "code",
   "execution_count": 14,
   "id": "f276aff2",
   "metadata": {
    "execution": {
     "iopub.execute_input": "2021-11-24T14:07:07.813632Z",
     "iopub.status.busy": "2021-11-24T14:07:07.812898Z",
     "iopub.status.idle": "2021-11-24T14:07:07.817028Z",
     "shell.execute_reply": "2021-11-24T14:07:07.817547Z",
     "shell.execute_reply.started": "2021-11-24T14:06:38.372122Z"
    },
    "papermill": {
     "duration": 0.031761,
     "end_time": "2021-11-24T14:07:07.817728",
     "exception": false,
     "start_time": "2021-11-24T14:07:07.785967",
     "status": "completed"
    },
    "tags": []
   },
   "outputs": [
    {
     "name": "stdout",
     "output_type": "stream",
     "text": [
      "165.0\n"
     ]
    }
   ],
   "source": [
    "# 중간이상 - 중간이하 \n",
    "g1_med = df[df['range'] == 'group1']['age'].median()\n",
    "g2_med = df[df['range'] == 'group2']['age'].median()\n",
    "g3_med = df[df['range'] == 'group3']['age'].median()\n",
    "\n",
    "print(g1_med + g2_med + g3_med)"
   ]
  },
  {
   "cell_type": "code",
   "execution_count": null,
   "id": "829bb8b7",
   "metadata": {
    "papermill": {
     "duration": 0.018579,
     "end_time": "2021-11-24T14:07:07.855131",
     "exception": false,
     "start_time": "2021-11-24T14:07:07.836552",
     "status": "completed"
    },
    "tags": []
   },
   "outputs": [],
   "source": []
  }
 ],
 "metadata": {
  "kernelspec": {
   "display_name": "Python 3",
   "language": "python",
   "name": "python3"
  },
  "language_info": {
   "codemirror_mode": {
    "name": "ipython",
    "version": 3
   },
   "file_extension": ".py",
   "mimetype": "text/x-python",
   "name": "python",
   "nbconvert_exporter": "python",
   "pygments_lexer": "ipython3",
   "version": "3.7.10"
  },
  "papermill": {
   "default_parameters": {},
   "duration": 10.780739,
   "end_time": "2021-11-24T14:07:08.383127",
   "environment_variables": {},
   "exception": null,
   "input_path": "__notebook__.ipynb",
   "output_path": "__notebook__.ipynb",
   "parameters": {},
   "start_time": "2021-11-24T14:06:57.602388",
   "version": "2.3.3"
  }
 },
 "nbformat": 4,
 "nbformat_minor": 5
}
