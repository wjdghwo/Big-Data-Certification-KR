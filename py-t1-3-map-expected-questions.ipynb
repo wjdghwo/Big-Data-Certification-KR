{
 "cells": [
  {
   "cell_type": "markdown",
   "id": "b5553b36",
   "metadata": {
    "papermill": {
     "duration": 0.022467,
     "end_time": "2021-11-18T13:07:08.946515",
     "exception": false,
     "start_time": "2021-11-18T13:07:08.924048",
     "status": "completed"
    },
    "tags": []
   },
   "source": [
    "## 결측치 처리\n",
    "-  주어진 데이터에서 결측치가 80%이상 되는 컬럼은(변수는) 삭제하고, 80% 미만인 결측치가 있는 컬럼은 'city'별 중앙값으로 값을 대체하고 'f1'컬럼의 평균값을 출력하세요!\n",
    "- 데이터셋 : basic1.csv 오른쪽 상단 copy&edit 클릭 -> 예상문제 풀이 시작\n",
    "- 강의 영상 : https://youtu.be/WqlpqBRn7x4"
   ]
  },
  {
   "cell_type": "code",
   "execution_count": 1,
   "id": "1032df80",
   "metadata": {
    "execution": {
     "iopub.execute_input": "2021-11-18T13:07:08.994480Z",
     "iopub.status.busy": "2021-11-18T13:07:08.993220Z",
     "iopub.status.idle": "2021-11-18T13:07:09.042090Z",
     "shell.execute_reply": "2021-11-18T13:07:09.041357Z",
     "shell.execute_reply.started": "2021-11-18T13:01:06.067780Z"
    },
    "papermill": {
     "duration": 0.073792,
     "end_time": "2021-11-18T13:07:09.042277",
     "exception": false,
     "start_time": "2021-11-18T13:07:08.968485",
     "status": "completed"
    },
    "tags": []
   },
   "outputs": [
    {
     "data": {
      "text/html": [
       "<div>\n",
       "<style scoped>\n",
       "    .dataframe tbody tr th:only-of-type {\n",
       "        vertical-align: middle;\n",
       "    }\n",
       "\n",
       "    .dataframe tbody tr th {\n",
       "        vertical-align: top;\n",
       "    }\n",
       "\n",
       "    .dataframe thead th {\n",
       "        text-align: right;\n",
       "    }\n",
       "</style>\n",
       "<table border=\"1\" class=\"dataframe\">\n",
       "  <thead>\n",
       "    <tr style=\"text-align: right;\">\n",
       "      <th></th>\n",
       "      <th>id</th>\n",
       "      <th>age</th>\n",
       "      <th>city</th>\n",
       "      <th>f1</th>\n",
       "      <th>f2</th>\n",
       "      <th>f3</th>\n",
       "      <th>f4</th>\n",
       "      <th>f5</th>\n",
       "    </tr>\n",
       "  </thead>\n",
       "  <tbody>\n",
       "    <tr>\n",
       "      <th>0</th>\n",
       "      <td>id01</td>\n",
       "      <td>2.0</td>\n",
       "      <td>서울</td>\n",
       "      <td>NaN</td>\n",
       "      <td>0</td>\n",
       "      <td>NaN</td>\n",
       "      <td>ENFJ</td>\n",
       "      <td>91.297791</td>\n",
       "    </tr>\n",
       "    <tr>\n",
       "      <th>1</th>\n",
       "      <td>id02</td>\n",
       "      <td>9.0</td>\n",
       "      <td>서울</td>\n",
       "      <td>70.0</td>\n",
       "      <td>1</td>\n",
       "      <td>NaN</td>\n",
       "      <td>ENFJ</td>\n",
       "      <td>60.339826</td>\n",
       "    </tr>\n",
       "    <tr>\n",
       "      <th>2</th>\n",
       "      <td>id03</td>\n",
       "      <td>27.0</td>\n",
       "      <td>서울</td>\n",
       "      <td>61.0</td>\n",
       "      <td>1</td>\n",
       "      <td>NaN</td>\n",
       "      <td>ISTJ</td>\n",
       "      <td>17.252986</td>\n",
       "    </tr>\n",
       "    <tr>\n",
       "      <th>3</th>\n",
       "      <td>id04</td>\n",
       "      <td>75.0</td>\n",
       "      <td>서울</td>\n",
       "      <td>NaN</td>\n",
       "      <td>2</td>\n",
       "      <td>NaN</td>\n",
       "      <td>INFP</td>\n",
       "      <td>52.667078</td>\n",
       "    </tr>\n",
       "    <tr>\n",
       "      <th>4</th>\n",
       "      <td>id05</td>\n",
       "      <td>24.0</td>\n",
       "      <td>서울</td>\n",
       "      <td>85.0</td>\n",
       "      <td>2</td>\n",
       "      <td>NaN</td>\n",
       "      <td>ISFJ</td>\n",
       "      <td>29.269869</td>\n",
       "    </tr>\n",
       "  </tbody>\n",
       "</table>\n",
       "</div>"
      ],
      "text/plain": [
       "     id   age city    f1  f2   f3    f4         f5\n",
       "0  id01   2.0   서울   NaN   0  NaN  ENFJ  91.297791\n",
       "1  id02   9.0   서울  70.0   1  NaN  ENFJ  60.339826\n",
       "2  id03  27.0   서울  61.0   1  NaN  ISTJ  17.252986\n",
       "3  id04  75.0   서울   NaN   2  NaN  INFP  52.667078\n",
       "4  id05  24.0   서울  85.0   2  NaN  ISFJ  29.269869"
      ]
     },
     "execution_count": 1,
     "metadata": {},
     "output_type": "execute_result"
    }
   ],
   "source": [
    "# 라이브러리 및 데이터 불러오기\n",
    "import numpy as np\n",
    "import pandas as pd\n",
    "df = pd.read_csv('../input/bigdatacertificationkr/basic1.csv')\n",
    "df.head()"
   ]
  },
  {
   "cell_type": "code",
   "execution_count": 2,
   "id": "055cbcec",
   "metadata": {
    "execution": {
     "iopub.execute_input": "2021-11-18T13:07:09.090567Z",
     "iopub.status.busy": "2021-11-18T13:07:09.089541Z",
     "iopub.status.idle": "2021-11-18T13:07:09.095306Z",
     "shell.execute_reply": "2021-11-18T13:07:09.095778Z",
     "shell.execute_reply.started": "2021-11-18T12:56:50.930016Z"
    },
    "papermill": {
     "duration": 0.031304,
     "end_time": "2021-11-18T13:07:09.096010",
     "exception": false,
     "start_time": "2021-11-18T13:07:09.064706",
     "status": "completed"
    },
    "tags": []
   },
   "outputs": [
    {
     "data": {
      "text/plain": [
       "(100, 8)"
      ]
     },
     "execution_count": 2,
     "metadata": {},
     "output_type": "execute_result"
    }
   ],
   "source": [
    "# EDA - 결측값 확인(비율 확인)\n",
    "df.shape"
   ]
  },
  {
   "cell_type": "code",
   "execution_count": 3,
   "id": "78101036",
   "metadata": {
    "execution": {
     "iopub.execute_input": "2021-11-18T13:07:09.146356Z",
     "iopub.status.busy": "2021-11-18T13:07:09.145317Z",
     "iopub.status.idle": "2021-11-18T13:07:09.153269Z",
     "shell.execute_reply": "2021-11-18T13:07:09.153817Z",
     "shell.execute_reply.started": "2021-11-18T12:56:50.939431Z"
    },
    "papermill": {
     "duration": 0.035903,
     "end_time": "2021-11-18T13:07:09.154012",
     "exception": false,
     "start_time": "2021-11-18T13:07:09.118109",
     "status": "completed"
    },
    "tags": []
   },
   "outputs": [
    {
     "data": {
      "text/plain": [
       "id       0.0\n",
       "age      0.0\n",
       "city     0.0\n",
       "f1      31.0\n",
       "f2       0.0\n",
       "f3      95.0\n",
       "f4       0.0\n",
       "f5       0.0\n",
       "dtype: float64"
      ]
     },
     "execution_count": 3,
     "metadata": {},
     "output_type": "execute_result"
    }
   ],
   "source": [
    "df.isna().sum()/df.shape[0]*100"
   ]
  },
  {
   "cell_type": "code",
   "execution_count": 4,
   "id": "cd5062cf",
   "metadata": {
    "execution": {
     "iopub.execute_input": "2021-11-18T13:07:09.212069Z",
     "iopub.status.busy": "2021-11-18T13:07:09.211357Z",
     "iopub.status.idle": "2021-11-18T13:07:09.225427Z",
     "shell.execute_reply": "2021-11-18T13:07:09.225972Z",
     "shell.execute_reply.started": "2021-11-18T12:56:50.95932Z"
    },
    "papermill": {
     "duration": 0.049748,
     "end_time": "2021-11-18T13:07:09.226140",
     "exception": false,
     "start_time": "2021-11-18T13:07:09.176392",
     "status": "completed"
    },
    "tags": []
   },
   "outputs": [
    {
     "data": {
      "text/html": [
       "<div>\n",
       "<style scoped>\n",
       "    .dataframe tbody tr th:only-of-type {\n",
       "        vertical-align: middle;\n",
       "    }\n",
       "\n",
       "    .dataframe tbody tr th {\n",
       "        vertical-align: top;\n",
       "    }\n",
       "\n",
       "    .dataframe thead th {\n",
       "        text-align: right;\n",
       "    }\n",
       "</style>\n",
       "<table border=\"1\" class=\"dataframe\">\n",
       "  <thead>\n",
       "    <tr style=\"text-align: right;\">\n",
       "      <th></th>\n",
       "      <th>id</th>\n",
       "      <th>age</th>\n",
       "      <th>city</th>\n",
       "      <th>f1</th>\n",
       "      <th>f2</th>\n",
       "      <th>f4</th>\n",
       "      <th>f5</th>\n",
       "    </tr>\n",
       "  </thead>\n",
       "  <tbody>\n",
       "    <tr>\n",
       "      <th>0</th>\n",
       "      <td>id01</td>\n",
       "      <td>2.0</td>\n",
       "      <td>서울</td>\n",
       "      <td>NaN</td>\n",
       "      <td>0</td>\n",
       "      <td>ENFJ</td>\n",
       "      <td>91.297791</td>\n",
       "    </tr>\n",
       "    <tr>\n",
       "      <th>1</th>\n",
       "      <td>id02</td>\n",
       "      <td>9.0</td>\n",
       "      <td>서울</td>\n",
       "      <td>70.0</td>\n",
       "      <td>1</td>\n",
       "      <td>ENFJ</td>\n",
       "      <td>60.339826</td>\n",
       "    </tr>\n",
       "    <tr>\n",
       "      <th>2</th>\n",
       "      <td>id03</td>\n",
       "      <td>27.0</td>\n",
       "      <td>서울</td>\n",
       "      <td>61.0</td>\n",
       "      <td>1</td>\n",
       "      <td>ISTJ</td>\n",
       "      <td>17.252986</td>\n",
       "    </tr>\n",
       "    <tr>\n",
       "      <th>3</th>\n",
       "      <td>id04</td>\n",
       "      <td>75.0</td>\n",
       "      <td>서울</td>\n",
       "      <td>NaN</td>\n",
       "      <td>2</td>\n",
       "      <td>INFP</td>\n",
       "      <td>52.667078</td>\n",
       "    </tr>\n",
       "    <tr>\n",
       "      <th>4</th>\n",
       "      <td>id05</td>\n",
       "      <td>24.0</td>\n",
       "      <td>서울</td>\n",
       "      <td>85.0</td>\n",
       "      <td>2</td>\n",
       "      <td>ISFJ</td>\n",
       "      <td>29.269869</td>\n",
       "    </tr>\n",
       "  </tbody>\n",
       "</table>\n",
       "</div>"
      ],
      "text/plain": [
       "     id   age city    f1  f2    f4         f5\n",
       "0  id01   2.0   서울   NaN   0  ENFJ  91.297791\n",
       "1  id02   9.0   서울  70.0   1  ENFJ  60.339826\n",
       "2  id03  27.0   서울  61.0   1  ISTJ  17.252986\n",
       "3  id04  75.0   서울   NaN   2  INFP  52.667078\n",
       "4  id05  24.0   서울  85.0   2  ISFJ  29.269869"
      ]
     },
     "execution_count": 4,
     "metadata": {},
     "output_type": "execute_result"
    }
   ],
   "source": [
    "# 80%이상 결측치 컬럼, 삭제\n",
    "df = df.drop(['f3'], axis=1)\n",
    "df.head()"
   ]
  },
  {
   "cell_type": "code",
   "execution_count": 5,
   "id": "78c0fecc",
   "metadata": {
    "execution": {
     "iopub.execute_input": "2021-11-18T13:07:09.277926Z",
     "iopub.status.busy": "2021-11-18T13:07:09.276881Z",
     "iopub.status.idle": "2021-11-18T13:07:09.286261Z",
     "shell.execute_reply": "2021-11-18T13:07:09.286850Z",
     "shell.execute_reply.started": "2021-11-18T12:56:50.982893Z"
    },
    "papermill": {
     "duration": 0.038009,
     "end_time": "2021-11-18T13:07:09.287078",
     "exception": false,
     "start_time": "2021-11-18T13:07:09.249069",
     "status": "completed"
    },
    "tags": []
   },
   "outputs": [
    {
     "data": {
      "text/plain": [
       "array(['서울', '부산', '대구', '경기'], dtype=object)"
      ]
     },
     "execution_count": 5,
     "metadata": {},
     "output_type": "execute_result"
    }
   ],
   "source": [
    "df.city.unique()"
   ]
  },
  {
   "cell_type": "code",
   "execution_count": 6,
   "id": "20fa8d36",
   "metadata": {
    "execution": {
     "iopub.execute_input": "2021-11-18T13:07:09.340807Z",
     "iopub.status.busy": "2021-11-18T13:07:09.339469Z",
     "iopub.status.idle": "2021-11-18T13:07:09.351362Z",
     "shell.execute_reply": "2021-11-18T13:07:09.351859Z",
     "shell.execute_reply.started": "2021-11-18T12:56:50.991878Z"
    },
    "papermill": {
     "duration": 0.040841,
     "end_time": "2021-11-18T13:07:09.352089",
     "exception": false,
     "start_time": "2021-11-18T13:07:09.311248",
     "status": "completed"
    },
    "tags": []
   },
   "outputs": [
    {
     "name": "stdout",
     "output_type": "stream",
     "text": [
      "68.0 62.0 75.0 58.0\n"
     ]
    }
   ],
   "source": [
    "# 80%미만 결측치 컬럼, city별 중앙값으로 대체\n",
    "so = df[df.city=='서울'].f1.median()\n",
    "ps = df[df.city=='부산'].f1.median()\n",
    "dg = df[df.city=='대구'].f1.median()\n",
    "gg = df[df.city=='경기'].f1.median()\n",
    "\n",
    "print(so,ps,dg,gg)"
   ]
  },
  {
   "cell_type": "code",
   "execution_count": 7,
   "id": "82da8739",
   "metadata": {
    "execution": {
     "iopub.execute_input": "2021-11-18T13:07:09.408140Z",
     "iopub.status.busy": "2021-11-18T13:07:09.407405Z",
     "iopub.status.idle": "2021-11-18T13:07:09.420145Z",
     "shell.execute_reply": "2021-11-18T13:07:09.420700Z",
     "shell.execute_reply.started": "2021-11-18T12:56:51.012627Z"
    },
    "papermill": {
     "duration": 0.044243,
     "end_time": "2021-11-18T13:07:09.420890",
     "exception": false,
     "start_time": "2021-11-18T13:07:09.376647",
     "status": "completed"
    },
    "tags": []
   },
   "outputs": [
    {
     "name": "stdout",
     "output_type": "stream",
     "text": [
      "68.0 62.0 75.0 58.0\n"
     ]
    }
   ],
   "source": [
    "gg, dg, ps, so = df.groupby('city').median().f1\n",
    "print(so,ps,dg,gg)"
   ]
  },
  {
   "cell_type": "code",
   "execution_count": 8,
   "id": "3ab5f98f",
   "metadata": {
    "execution": {
     "iopub.execute_input": "2021-11-18T13:07:09.473432Z",
     "iopub.status.busy": "2021-11-18T13:07:09.472634Z",
     "iopub.status.idle": "2021-11-18T13:07:09.478894Z",
     "shell.execute_reply": "2021-11-18T13:07:09.479463Z",
     "shell.execute_reply.started": "2021-11-18T13:01:11.685442Z"
    },
    "papermill": {
     "duration": 0.034482,
     "end_time": "2021-11-18T13:07:09.479641",
     "exception": false,
     "start_time": "2021-11-18T13:07:09.445159",
     "status": "completed"
    },
    "tags": []
   },
   "outputs": [],
   "source": [
    "# way1\n",
    "df['f1'] = df['f1'].fillna(df.groupby('city')['f1'].transform('median'))"
   ]
  },
  {
   "cell_type": "code",
   "execution_count": 9,
   "id": "2ae87beb",
   "metadata": {
    "execution": {
     "iopub.execute_input": "2021-11-18T13:07:09.532316Z",
     "iopub.status.busy": "2021-11-18T13:07:09.531511Z",
     "iopub.status.idle": "2021-11-18T13:07:09.541368Z",
     "shell.execute_reply": "2021-11-18T13:07:09.541853Z"
    },
    "papermill": {
     "duration": 0.038008,
     "end_time": "2021-11-18T13:07:09.542061",
     "exception": false,
     "start_time": "2021-11-18T13:07:09.504053",
     "status": "completed"
    },
    "tags": []
   },
   "outputs": [],
   "source": [
    "# way2\n",
    "df.loc[(df['f1'].isna()) & (df['city']=='서울'), 'f1'] = so\n",
    "df.loc[(df['f1'].isna()) & (df['city']=='부산'), 'f1'] = ps\n",
    "df.loc[(df['f1'].isna()) & (df['city']=='대구'), 'f1'] = dg\n",
    "df.loc[(df['f1'].isna()) & (df['city']=='경기'), 'f1'] = gg"
   ]
  },
  {
   "cell_type": "code",
   "execution_count": 10,
   "id": "378e4b12",
   "metadata": {
    "execution": {
     "iopub.execute_input": "2021-11-18T13:07:09.597609Z",
     "iopub.status.busy": "2021-11-18T13:07:09.596861Z",
     "iopub.status.idle": "2021-11-18T13:07:09.611298Z",
     "shell.execute_reply": "2021-11-18T13:07:09.611882Z",
     "shell.execute_reply.started": "2021-11-18T12:56:51.031751Z"
    },
    "papermill": {
     "duration": 0.043575,
     "end_time": "2021-11-18T13:07:09.612090",
     "exception": false,
     "start_time": "2021-11-18T13:07:09.568515",
     "status": "completed"
    },
    "tags": []
   },
   "outputs": [],
   "source": [
    "# way3\n",
    "for i in range(df.shape[0]):\n",
    "    if df['f1'].isna()[i]:\n",
    "        if df['city'].iloc[i]=='서울':\n",
    "            df['f1'].iloc[i] = so\n",
    "        elif df['city'].iloc[i]=='부산':\n",
    "            df['f1'].iloc[i] = ps\n",
    "        elif df['city'].iloc[i]=='대구':\n",
    "            df['f1'].iloc[i] = dg\n",
    "        else :\n",
    "            df['f1'].iloc[i] = gg"
   ]
  },
  {
   "cell_type": "code",
   "execution_count": 11,
   "id": "08d80acb",
   "metadata": {
    "execution": {
     "iopub.execute_input": "2021-11-18T13:07:09.671809Z",
     "iopub.status.busy": "2021-11-18T13:07:09.671029Z",
     "iopub.status.idle": "2021-11-18T13:07:09.672797Z",
     "shell.execute_reply": "2021-11-18T13:07:09.673367Z",
     "shell.execute_reply.started": "2021-11-18T12:56:51.098534Z"
    },
    "papermill": {
     "duration": 0.03534,
     "end_time": "2021-11-18T13:07:09.673547",
     "exception": false,
     "start_time": "2021-11-18T13:07:09.638207",
     "status": "completed"
    },
    "tags": []
   },
   "outputs": [],
   "source": [
    "# way4\n",
    "df['f1'] = df['f1'].fillna(df['city'].map({'서울':so,'경기':gg,'부산':ps,'대구':dg}))"
   ]
  },
  {
   "cell_type": "code",
   "execution_count": 12,
   "id": "b51ca22d",
   "metadata": {
    "execution": {
     "iopub.execute_input": "2021-11-18T13:07:09.731675Z",
     "iopub.status.busy": "2021-11-18T13:07:09.725270Z",
     "iopub.status.idle": "2021-11-18T13:07:09.734118Z",
     "shell.execute_reply": "2021-11-18T13:07:09.734565Z"
    },
    "papermill": {
     "duration": 0.036902,
     "end_time": "2021-11-18T13:07:09.734765",
     "exception": false,
     "start_time": "2021-11-18T13:07:09.697863",
     "status": "completed"
    },
    "tags": []
   },
   "outputs": [
    {
     "data": {
      "text/plain": [
       "id      0.0\n",
       "age     0.0\n",
       "city    0.0\n",
       "f1      0.0\n",
       "f2      0.0\n",
       "f4      0.0\n",
       "f5      0.0\n",
       "dtype: float64"
      ]
     },
     "execution_count": 12,
     "metadata": {},
     "output_type": "execute_result"
    }
   ],
   "source": [
    "df.isna().sum()/df.shape[0]*100"
   ]
  },
  {
   "cell_type": "code",
   "execution_count": 13,
   "id": "11cc84e6",
   "metadata": {
    "execution": {
     "iopub.execute_input": "2021-11-18T13:07:09.791315Z",
     "iopub.status.busy": "2021-11-18T13:07:09.790613Z",
     "iopub.status.idle": "2021-11-18T13:07:09.795287Z",
     "shell.execute_reply": "2021-11-18T13:07:09.795790Z",
     "shell.execute_reply.started": "2021-11-18T12:56:51.116366Z"
    },
    "papermill": {
     "duration": 0.034477,
     "end_time": "2021-11-18T13:07:09.796007",
     "exception": false,
     "start_time": "2021-11-18T13:07:09.761530",
     "status": "completed"
    },
    "tags": []
   },
   "outputs": [
    {
     "name": "stdout",
     "output_type": "stream",
     "text": [
      "65.52\n"
     ]
    }
   ],
   "source": [
    "# f1 평균값 결과 출력\n",
    "print(df['f1'].mean())"
   ]
  },
  {
   "cell_type": "markdown",
   "id": "0c581dd6",
   "metadata": {
    "papermill": {
     "duration": 0.02498,
     "end_time": "2021-11-18T13:07:09.846361",
     "exception": false,
     "start_time": "2021-11-18T13:07:09.821381",
     "status": "completed"
    },
    "tags": []
   },
   "source": [
    "## Hint\n",
    "- city별 중앙값으로 대체에서는 map함수 활용"
   ]
  },
  {
   "cell_type": "markdown",
   "id": "83bf2d71",
   "metadata": {
    "papermill": {
     "duration": 0.024959,
     "end_time": "2021-11-18T13:07:09.896569",
     "exception": false,
     "start_time": "2021-11-18T13:07:09.871610",
     "status": "completed"
    },
    "tags": []
   },
   "source": [
    "## 풀이"
   ]
  },
  {
   "cell_type": "code",
   "execution_count": 14,
   "id": "bda75d53",
   "metadata": {
    "execution": {
     "iopub.execute_input": "2021-11-18T13:07:09.953029Z",
     "iopub.status.busy": "2021-11-18T13:07:09.952310Z",
     "iopub.status.idle": "2021-11-18T13:07:09.970447Z",
     "shell.execute_reply": "2021-11-18T13:07:09.971009Z",
     "shell.execute_reply.started": "2021-11-18T12:56:51.134361Z"
    },
    "papermill": {
     "duration": 0.049075,
     "end_time": "2021-11-18T13:07:09.971183",
     "exception": false,
     "start_time": "2021-11-18T13:07:09.922108",
     "status": "completed"
    },
    "tags": []
   },
   "outputs": [
    {
     "data": {
      "text/html": [
       "<div>\n",
       "<style scoped>\n",
       "    .dataframe tbody tr th:only-of-type {\n",
       "        vertical-align: middle;\n",
       "    }\n",
       "\n",
       "    .dataframe tbody tr th {\n",
       "        vertical-align: top;\n",
       "    }\n",
       "\n",
       "    .dataframe thead th {\n",
       "        text-align: right;\n",
       "    }\n",
       "</style>\n",
       "<table border=\"1\" class=\"dataframe\">\n",
       "  <thead>\n",
       "    <tr style=\"text-align: right;\">\n",
       "      <th></th>\n",
       "      <th>id</th>\n",
       "      <th>age</th>\n",
       "      <th>city</th>\n",
       "      <th>f1</th>\n",
       "      <th>f2</th>\n",
       "      <th>f3</th>\n",
       "      <th>f4</th>\n",
       "      <th>f5</th>\n",
       "    </tr>\n",
       "  </thead>\n",
       "  <tbody>\n",
       "    <tr>\n",
       "      <th>0</th>\n",
       "      <td>id01</td>\n",
       "      <td>2.0</td>\n",
       "      <td>서울</td>\n",
       "      <td>NaN</td>\n",
       "      <td>0</td>\n",
       "      <td>NaN</td>\n",
       "      <td>ENFJ</td>\n",
       "      <td>91.297791</td>\n",
       "    </tr>\n",
       "    <tr>\n",
       "      <th>1</th>\n",
       "      <td>id02</td>\n",
       "      <td>9.0</td>\n",
       "      <td>서울</td>\n",
       "      <td>70.0</td>\n",
       "      <td>1</td>\n",
       "      <td>NaN</td>\n",
       "      <td>ENFJ</td>\n",
       "      <td>60.339826</td>\n",
       "    </tr>\n",
       "    <tr>\n",
       "      <th>2</th>\n",
       "      <td>id03</td>\n",
       "      <td>27.0</td>\n",
       "      <td>서울</td>\n",
       "      <td>61.0</td>\n",
       "      <td>1</td>\n",
       "      <td>NaN</td>\n",
       "      <td>ISTJ</td>\n",
       "      <td>17.252986</td>\n",
       "    </tr>\n",
       "    <tr>\n",
       "      <th>3</th>\n",
       "      <td>id04</td>\n",
       "      <td>75.0</td>\n",
       "      <td>서울</td>\n",
       "      <td>NaN</td>\n",
       "      <td>2</td>\n",
       "      <td>NaN</td>\n",
       "      <td>INFP</td>\n",
       "      <td>52.667078</td>\n",
       "    </tr>\n",
       "    <tr>\n",
       "      <th>4</th>\n",
       "      <td>id05</td>\n",
       "      <td>24.0</td>\n",
       "      <td>서울</td>\n",
       "      <td>85.0</td>\n",
       "      <td>2</td>\n",
       "      <td>NaN</td>\n",
       "      <td>ISFJ</td>\n",
       "      <td>29.269869</td>\n",
       "    </tr>\n",
       "  </tbody>\n",
       "</table>\n",
       "</div>"
      ],
      "text/plain": [
       "     id   age city    f1  f2   f3    f4         f5\n",
       "0  id01   2.0   서울   NaN   0  NaN  ENFJ  91.297791\n",
       "1  id02   9.0   서울  70.0   1  NaN  ENFJ  60.339826\n",
       "2  id03  27.0   서울  61.0   1  NaN  ISTJ  17.252986\n",
       "3  id04  75.0   서울   NaN   2  NaN  INFP  52.667078\n",
       "4  id05  24.0   서울  85.0   2  NaN  ISFJ  29.269869"
      ]
     },
     "execution_count": 14,
     "metadata": {},
     "output_type": "execute_result"
    }
   ],
   "source": [
    "# 라이브러리 및 데이터 불러오기\n",
    "import pandas as pd\n",
    "import numpy as np\n",
    "\n",
    "df = pd.read_csv('../input/bigdatacertificationkr/basic1.csv')\n",
    "df.head()"
   ]
  },
  {
   "cell_type": "code",
   "execution_count": 15,
   "id": "816bd0e8",
   "metadata": {
    "_cell_guid": "b1076dfc-b9ad-4769-8c92-a6c4dae69d19",
    "_uuid": "8f2839f25d086af736a60e9eeb907d3b93b6e0e5",
    "execution": {
     "iopub.execute_input": "2021-11-18T13:07:10.028472Z",
     "iopub.status.busy": "2021-11-18T13:07:10.027752Z",
     "iopub.status.idle": "2021-11-18T13:07:10.036084Z",
     "shell.execute_reply": "2021-11-18T13:07:10.036653Z",
     "shell.execute_reply.started": "2021-11-18T12:56:51.164419Z"
    },
    "papermill": {
     "duration": 0.038937,
     "end_time": "2021-11-18T13:07:10.036837",
     "exception": false,
     "start_time": "2021-11-18T13:07:09.997900",
     "status": "completed"
    },
    "tags": []
   },
   "outputs": [
    {
     "data": {
      "text/plain": [
       "id       0\n",
       "age      0\n",
       "city     0\n",
       "f1      31\n",
       "f2       0\n",
       "f3      95\n",
       "f4       0\n",
       "f5       0\n",
       "dtype: int64"
      ]
     },
     "execution_count": 15,
     "metadata": {},
     "output_type": "execute_result"
    }
   ],
   "source": [
    "# EDA - 결측값 확인\n",
    "df.isnull().sum()"
   ]
  },
  {
   "cell_type": "code",
   "execution_count": 16,
   "id": "38b03522",
   "metadata": {
    "execution": {
     "iopub.execute_input": "2021-11-18T13:07:10.093960Z",
     "iopub.status.busy": "2021-11-18T13:07:10.093243Z",
     "iopub.status.idle": "2021-11-18T13:07:10.097898Z",
     "shell.execute_reply": "2021-11-18T13:07:10.098431Z",
     "shell.execute_reply.started": "2021-11-18T12:56:51.180264Z"
    },
    "papermill": {
     "duration": 0.034352,
     "end_time": "2021-11-18T13:07:10.098603",
     "exception": false,
     "start_time": "2021-11-18T13:07:10.064251",
     "status": "completed"
    },
    "tags": []
   },
   "outputs": [
    {
     "data": {
      "text/plain": [
       "(100, 8)"
      ]
     },
     "execution_count": 16,
     "metadata": {},
     "output_type": "execute_result"
    }
   ],
   "source": [
    "# 데이터 shape\n",
    "df.shape"
   ]
  },
  {
   "cell_type": "code",
   "execution_count": 17,
   "id": "8dff6bd4",
   "metadata": {
    "execution": {
     "iopub.execute_input": "2021-11-18T13:07:10.155124Z",
     "iopub.status.busy": "2021-11-18T13:07:10.154413Z",
     "iopub.status.idle": "2021-11-18T13:07:10.163098Z",
     "shell.execute_reply": "2021-11-18T13:07:10.163641Z",
     "shell.execute_reply.started": "2021-11-18T12:56:51.19135Z"
    },
    "papermill": {
     "duration": 0.038797,
     "end_time": "2021-11-18T13:07:10.163897",
     "exception": false,
     "start_time": "2021-11-18T13:07:10.125100",
     "status": "completed"
    },
    "tags": []
   },
   "outputs": [
    {
     "data": {
      "text/plain": [
       "id      0.00\n",
       "age     0.00\n",
       "city    0.00\n",
       "f1      0.31\n",
       "f2      0.00\n",
       "f3      0.95\n",
       "f4      0.00\n",
       "f5      0.00\n",
       "dtype: float64"
      ]
     },
     "execution_count": 17,
     "metadata": {},
     "output_type": "execute_result"
    }
   ],
   "source": [
    "# EDA - 결측비율 확인\n",
    "df.isnull().sum()/df.shape[0]"
   ]
  },
  {
   "cell_type": "code",
   "execution_count": 18,
   "id": "eebdc36e",
   "metadata": {
    "execution": {
     "iopub.execute_input": "2021-11-18T13:07:10.223023Z",
     "iopub.status.busy": "2021-11-18T13:07:10.222295Z",
     "iopub.status.idle": "2021-11-18T13:07:10.230148Z",
     "shell.execute_reply": "2021-11-18T13:07:10.229430Z",
     "shell.execute_reply.started": "2021-11-18T12:56:51.212275Z"
    },
    "papermill": {
     "duration": 0.03931,
     "end_time": "2021-11-18T13:07:10.230300",
     "exception": false,
     "start_time": "2021-11-18T13:07:10.190990",
     "status": "completed"
    },
    "tags": []
   },
   "outputs": [
    {
     "name": "stdout",
     "output_type": "stream",
     "text": [
      "삭제 전: (100, 8)\n",
      "삭제 후: (100, 7)\n"
     ]
    }
   ],
   "source": [
    "# f3 컬럼 삭제\n",
    "print(\"삭제 전:\", df.shape)\n",
    "df = df.drop(['f3'], axis=1)\n",
    "print(\"삭제 후:\", df.shape)\n",
    "\n",
    "# 결측치가 있는 컬럼을 제거하는 2가지 방법\n",
    "# df.drop(['B', 'C'], axis=1)\n",
    "# df.drop(columns=['B', 'C'])"
   ]
  },
  {
   "cell_type": "code",
   "execution_count": 19,
   "id": "b20a8b04",
   "metadata": {
    "execution": {
     "iopub.execute_input": "2021-11-18T13:07:10.289494Z",
     "iopub.status.busy": "2021-11-18T13:07:10.288668Z",
     "iopub.status.idle": "2021-11-18T13:07:10.294485Z",
     "shell.execute_reply": "2021-11-18T13:07:10.295023Z",
     "shell.execute_reply.started": "2021-11-18T12:56:51.232617Z"
    },
    "papermill": {
     "duration": 0.036258,
     "end_time": "2021-11-18T13:07:10.295212",
     "exception": false,
     "start_time": "2021-11-18T13:07:10.258954",
     "status": "completed"
    },
    "tags": []
   },
   "outputs": [
    {
     "data": {
      "text/plain": [
       "array(['서울', '부산', '대구', '경기'], dtype=object)"
      ]
     },
     "execution_count": 19,
     "metadata": {},
     "output_type": "execute_result"
    }
   ],
   "source": [
    "# 도시 확인\n",
    "df['city'].unique()"
   ]
  },
  {
   "cell_type": "code",
   "execution_count": 20,
   "id": "97227a16",
   "metadata": {
    "execution": {
     "iopub.execute_input": "2021-11-18T13:07:10.356412Z",
     "iopub.status.busy": "2021-11-18T13:07:10.352648Z",
     "iopub.status.idle": "2021-11-18T13:07:10.364429Z",
     "shell.execute_reply": "2021-11-18T13:07:10.365007Z",
     "shell.execute_reply.started": "2021-11-18T12:56:51.252119Z"
    },
    "papermill": {
     "duration": 0.042698,
     "end_time": "2021-11-18T13:07:10.365209",
     "exception": false,
     "start_time": "2021-11-18T13:07:10.322511",
     "status": "completed"
    },
    "tags": []
   },
   "outputs": [
    {
     "data": {
      "text/plain": [
       "(68.0, 58.0, 62.0, 75.0)"
      ]
     },
     "execution_count": 20,
     "metadata": {},
     "output_type": "execute_result"
    }
   ],
   "source": [
    "# 도시별 중앙값 계산\n",
    "s=df[df['city']=='서울']['f1'].median()\n",
    "k=df[df['city']=='경기']['f1'].median()\n",
    "b=df[df['city']=='부산']['f1'].median()\n",
    "d=df[df['city']=='대구']['f1'].median()\n",
    "s, k, b, d\n",
    "\n",
    "#방법2\n",
    "# k, d, b, s = df.groupby('city')['f1'].median()"
   ]
  },
  {
   "cell_type": "code",
   "execution_count": 21,
   "id": "0afe2f1e",
   "metadata": {
    "execution": {
     "iopub.execute_input": "2021-11-18T13:07:10.427629Z",
     "iopub.status.busy": "2021-11-18T13:07:10.426908Z",
     "iopub.status.idle": "2021-11-18T13:07:10.439802Z",
     "shell.execute_reply": "2021-11-18T13:07:10.440407Z",
     "shell.execute_reply.started": "2021-11-18T12:56:51.269889Z"
    },
    "papermill": {
     "duration": 0.046276,
     "end_time": "2021-11-18T13:07:10.440595",
     "exception": false,
     "start_time": "2021-11-18T13:07:10.394319",
     "status": "completed"
    },
    "tags": []
   },
   "outputs": [
    {
     "data": {
      "text/html": [
       "<div>\n",
       "<style scoped>\n",
       "    .dataframe tbody tr th:only-of-type {\n",
       "        vertical-align: middle;\n",
       "    }\n",
       "\n",
       "    .dataframe tbody tr th {\n",
       "        vertical-align: top;\n",
       "    }\n",
       "\n",
       "    .dataframe thead th {\n",
       "        text-align: right;\n",
       "    }\n",
       "</style>\n",
       "<table border=\"1\" class=\"dataframe\">\n",
       "  <thead>\n",
       "    <tr style=\"text-align: right;\">\n",
       "      <th></th>\n",
       "      <th>id</th>\n",
       "      <th>age</th>\n",
       "      <th>city</th>\n",
       "      <th>f1</th>\n",
       "      <th>f2</th>\n",
       "      <th>f4</th>\n",
       "      <th>f5</th>\n",
       "    </tr>\n",
       "  </thead>\n",
       "  <tbody>\n",
       "    <tr>\n",
       "      <th>18</th>\n",
       "      <td>id19</td>\n",
       "      <td>53.0</td>\n",
       "      <td>서울</td>\n",
       "      <td>NaN</td>\n",
       "      <td>0</td>\n",
       "      <td>ISFP</td>\n",
       "      <td>83.685380</td>\n",
       "    </tr>\n",
       "    <tr>\n",
       "      <th>19</th>\n",
       "      <td>id20</td>\n",
       "      <td>11.0</td>\n",
       "      <td>서울</td>\n",
       "      <td>51.0</td>\n",
       "      <td>1</td>\n",
       "      <td>INTJ</td>\n",
       "      <td>91.297791</td>\n",
       "    </tr>\n",
       "    <tr>\n",
       "      <th>20</th>\n",
       "      <td>id21</td>\n",
       "      <td>90.0</td>\n",
       "      <td>부산</td>\n",
       "      <td>NaN</td>\n",
       "      <td>1</td>\n",
       "      <td>ISFP</td>\n",
       "      <td>29.269869</td>\n",
       "    </tr>\n",
       "  </tbody>\n",
       "</table>\n",
       "</div>"
      ],
      "text/plain": [
       "      id   age city    f1  f2    f4         f5\n",
       "18  id19  53.0   서울   NaN   0  ISFP  83.685380\n",
       "19  id20  11.0   서울  51.0   1  INTJ  91.297791\n",
       "20  id21  90.0   부산   NaN   1  ISFP  29.269869"
      ]
     },
     "execution_count": 21,
     "metadata": {},
     "output_type": "execute_result"
    }
   ],
   "source": [
    "# 대체 전 데이터 샘플 출력\n",
    "df[18:21]"
   ]
  },
  {
   "cell_type": "code",
   "execution_count": 22,
   "id": "c0dabdba",
   "metadata": {
    "execution": {
     "iopub.execute_input": "2021-11-18T13:07:10.505700Z",
     "iopub.status.busy": "2021-11-18T13:07:10.505041Z",
     "iopub.status.idle": "2021-11-18T13:07:10.507144Z",
     "shell.execute_reply": "2021-11-18T13:07:10.507641Z",
     "shell.execute_reply.started": "2021-11-18T12:56:51.289388Z"
    },
    "papermill": {
     "duration": 0.037656,
     "end_time": "2021-11-18T13:07:10.507902",
     "exception": false,
     "start_time": "2021-11-18T13:07:10.470246",
     "status": "completed"
    },
    "tags": []
   },
   "outputs": [],
   "source": [
    "# f1결측치 city별 중앙값으로 대체\n",
    "df['f1'] = df['f1'].fillna(df['city'].map({'서울':s,'경기':k,'부산':b,'대구':d}))\n",
    "\n",
    "# 만약 그냥 f1 중앙값으로 대체 한다면 \n",
    "# df['f1'] = df['f1'].fillna(df['f1'].median())"
   ]
  },
  {
   "cell_type": "code",
   "execution_count": 23,
   "id": "450b6c43",
   "metadata": {
    "execution": {
     "iopub.execute_input": "2021-11-18T13:07:10.569991Z",
     "iopub.status.busy": "2021-11-18T13:07:10.567662Z",
     "iopub.status.idle": "2021-11-18T13:07:10.580110Z",
     "shell.execute_reply": "2021-11-18T13:07:10.580654Z",
     "shell.execute_reply.started": "2021-11-18T12:56:51.307071Z"
    },
    "papermill": {
     "duration": 0.044659,
     "end_time": "2021-11-18T13:07:10.580842",
     "exception": false,
     "start_time": "2021-11-18T13:07:10.536183",
     "status": "completed"
    },
    "tags": []
   },
   "outputs": [
    {
     "data": {
      "text/html": [
       "<div>\n",
       "<style scoped>\n",
       "    .dataframe tbody tr th:only-of-type {\n",
       "        vertical-align: middle;\n",
       "    }\n",
       "\n",
       "    .dataframe tbody tr th {\n",
       "        vertical-align: top;\n",
       "    }\n",
       "\n",
       "    .dataframe thead th {\n",
       "        text-align: right;\n",
       "    }\n",
       "</style>\n",
       "<table border=\"1\" class=\"dataframe\">\n",
       "  <thead>\n",
       "    <tr style=\"text-align: right;\">\n",
       "      <th></th>\n",
       "      <th>id</th>\n",
       "      <th>age</th>\n",
       "      <th>city</th>\n",
       "      <th>f1</th>\n",
       "      <th>f2</th>\n",
       "      <th>f4</th>\n",
       "      <th>f5</th>\n",
       "    </tr>\n",
       "  </thead>\n",
       "  <tbody>\n",
       "    <tr>\n",
       "      <th>18</th>\n",
       "      <td>id19</td>\n",
       "      <td>53.0</td>\n",
       "      <td>서울</td>\n",
       "      <td>68.0</td>\n",
       "      <td>0</td>\n",
       "      <td>ISFP</td>\n",
       "      <td>83.685380</td>\n",
       "    </tr>\n",
       "    <tr>\n",
       "      <th>19</th>\n",
       "      <td>id20</td>\n",
       "      <td>11.0</td>\n",
       "      <td>서울</td>\n",
       "      <td>51.0</td>\n",
       "      <td>1</td>\n",
       "      <td>INTJ</td>\n",
       "      <td>91.297791</td>\n",
       "    </tr>\n",
       "    <tr>\n",
       "      <th>20</th>\n",
       "      <td>id21</td>\n",
       "      <td>90.0</td>\n",
       "      <td>부산</td>\n",
       "      <td>62.0</td>\n",
       "      <td>1</td>\n",
       "      <td>ISFP</td>\n",
       "      <td>29.269869</td>\n",
       "    </tr>\n",
       "  </tbody>\n",
       "</table>\n",
       "</div>"
      ],
      "text/plain": [
       "      id   age city    f1  f2    f4         f5\n",
       "18  id19  53.0   서울  68.0   0  ISFP  83.685380\n",
       "19  id20  11.0   서울  51.0   1  INTJ  91.297791\n",
       "20  id21  90.0   부산  62.0   1  ISFP  29.269869"
      ]
     },
     "execution_count": 23,
     "metadata": {},
     "output_type": "execute_result"
    }
   ],
   "source": [
    "# 대체 후 데이터 샘플 출력\n",
    "df[18:21]"
   ]
  },
  {
   "cell_type": "code",
   "execution_count": 24,
   "id": "d01a9014",
   "metadata": {
    "execution": {
     "iopub.execute_input": "2021-11-18T13:07:10.644721Z",
     "iopub.status.busy": "2021-11-18T13:07:10.644073Z",
     "iopub.status.idle": "2021-11-18T13:07:10.646652Z",
     "shell.execute_reply": "2021-11-18T13:07:10.647155Z",
     "shell.execute_reply.started": "2021-11-18T12:56:51.337437Z"
    },
    "papermill": {
     "duration": 0.036794,
     "end_time": "2021-11-18T13:07:10.647329",
     "exception": false,
     "start_time": "2021-11-18T13:07:10.610535",
     "status": "completed"
    },
    "tags": []
   },
   "outputs": [
    {
     "name": "stdout",
     "output_type": "stream",
     "text": [
      "65.52\n"
     ]
    }
   ],
   "source": [
    "#결과 출력\n",
    "print(df['f1'].mean())"
   ]
  }
 ],
 "metadata": {
  "kernelspec": {
   "display_name": "Python 3",
   "language": "python",
   "name": "python3"
  },
  "language_info": {
   "codemirror_mode": {
    "name": "ipython",
    "version": 3
   },
   "file_extension": ".py",
   "mimetype": "text/x-python",
   "name": "python",
   "nbconvert_exporter": "python",
   "pygments_lexer": "ipython3",
   "version": "3.7.10"
  },
  "papermill": {
   "default_parameters": {},
   "duration": 11.40507,
   "end_time": "2021-11-18T13:07:11.285964",
   "environment_variables": {},
   "exception": null,
   "input_path": "__notebook__.ipynb",
   "output_path": "__notebook__.ipynb",
   "parameters": {},
   "start_time": "2021-11-18T13:06:59.880894",
   "version": "2.3.3"
  }
 },
 "nbformat": 4,
 "nbformat_minor": 5
}
