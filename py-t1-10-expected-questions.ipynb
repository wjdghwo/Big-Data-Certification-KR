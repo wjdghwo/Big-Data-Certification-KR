{
 "cells": [
  {
   "cell_type": "markdown",
   "id": "046dd91d",
   "metadata": {
    "papermill": {
     "duration": 0.016833,
     "end_time": "2021-11-19T05:21:50.851161",
     "exception": false,
     "start_time": "2021-11-19T05:21:50.834328",
     "status": "completed"
    },
    "tags": []
   },
   "source": [
    "# 수치형 변수 변환하기\n",
    "\n",
    "\n",
    "### 주어진 데이터에서 20세 이상인 데이터를 추출하고 'f1'컬럼을 결측치를 최빈값으로 채운 후, f1 컬럼의 여-존슨과 박스콕스 변환 값을 구하고, 두 값의 차이를 절대값으로 구한다음 모두 더해 소수점 둘째 자리까지 출력(반올림)하시오\n",
    "- 데이터셋 : basic1.csv\n",
    "- 오른쪽 상단 copy&edit 클릭 -> 예상문제 풀이 시작"
   ]
  },
  {
   "cell_type": "markdown",
   "id": "19c0e031",
   "metadata": {
    "papermill": {
     "duration": 0.013105,
     "end_time": "2021-11-19T05:21:50.879121",
     "exception": false,
     "start_time": "2021-11-19T05:21:50.866016",
     "status": "completed"
    },
    "tags": []
   },
   "source": [
    "### 박스-콕스\n",
    "![박스-콕스](https://wikimedia.org/api/rest_v1/media/math/render/svg/b565ae8f1cce1e4035e2a36213b8c9ce34b5029d)\n",
    "\n",
    "### 여-존슨\n",
    "![여-존슨](https://wikimedia.org/api/rest_v1/media/math/render/svg/2a99e24c81226f3d0547c471281197ea265553c5)"
   ]
  },
  {
   "cell_type": "code",
   "execution_count": 1,
   "id": "40fd95ab",
   "metadata": {
    "execution": {
     "iopub.execute_input": "2021-11-19T05:21:50.909912Z",
     "iopub.status.busy": "2021-11-19T05:21:50.908802Z",
     "iopub.status.idle": "2021-11-19T05:21:51.773121Z",
     "shell.execute_reply": "2021-11-19T05:21:51.773550Z",
     "shell.execute_reply.started": "2021-11-19T05:18:34.561812Z"
    },
    "papermill": {
     "duration": 0.881477,
     "end_time": "2021-11-19T05:21:51.773874",
     "exception": false,
     "start_time": "2021-11-19T05:21:50.892397",
     "status": "completed"
    },
    "tags": []
   },
   "outputs": [
    {
     "data": {
      "text/html": [
       "<div>\n",
       "<style scoped>\n",
       "    .dataframe tbody tr th:only-of-type {\n",
       "        vertical-align: middle;\n",
       "    }\n",
       "\n",
       "    .dataframe tbody tr th {\n",
       "        vertical-align: top;\n",
       "    }\n",
       "\n",
       "    .dataframe thead th {\n",
       "        text-align: right;\n",
       "    }\n",
       "</style>\n",
       "<table border=\"1\" class=\"dataframe\">\n",
       "  <thead>\n",
       "    <tr style=\"text-align: right;\">\n",
       "      <th></th>\n",
       "      <th>id</th>\n",
       "      <th>age</th>\n",
       "      <th>city</th>\n",
       "      <th>f1</th>\n",
       "      <th>f2</th>\n",
       "      <th>f3</th>\n",
       "      <th>f4</th>\n",
       "      <th>f5</th>\n",
       "    </tr>\n",
       "  </thead>\n",
       "  <tbody>\n",
       "    <tr>\n",
       "      <th>0</th>\n",
       "      <td>id01</td>\n",
       "      <td>2.0</td>\n",
       "      <td>서울</td>\n",
       "      <td>NaN</td>\n",
       "      <td>0</td>\n",
       "      <td>NaN</td>\n",
       "      <td>ENFJ</td>\n",
       "      <td>91.297791</td>\n",
       "    </tr>\n",
       "    <tr>\n",
       "      <th>1</th>\n",
       "      <td>id02</td>\n",
       "      <td>9.0</td>\n",
       "      <td>서울</td>\n",
       "      <td>70.0</td>\n",
       "      <td>1</td>\n",
       "      <td>NaN</td>\n",
       "      <td>ENFJ</td>\n",
       "      <td>60.339826</td>\n",
       "    </tr>\n",
       "    <tr>\n",
       "      <th>2</th>\n",
       "      <td>id03</td>\n",
       "      <td>27.0</td>\n",
       "      <td>서울</td>\n",
       "      <td>61.0</td>\n",
       "      <td>1</td>\n",
       "      <td>NaN</td>\n",
       "      <td>ISTJ</td>\n",
       "      <td>17.252986</td>\n",
       "    </tr>\n",
       "    <tr>\n",
       "      <th>3</th>\n",
       "      <td>id04</td>\n",
       "      <td>75.0</td>\n",
       "      <td>서울</td>\n",
       "      <td>NaN</td>\n",
       "      <td>2</td>\n",
       "      <td>NaN</td>\n",
       "      <td>INFP</td>\n",
       "      <td>52.667078</td>\n",
       "    </tr>\n",
       "    <tr>\n",
       "      <th>4</th>\n",
       "      <td>id05</td>\n",
       "      <td>24.0</td>\n",
       "      <td>서울</td>\n",
       "      <td>85.0</td>\n",
       "      <td>2</td>\n",
       "      <td>NaN</td>\n",
       "      <td>ISFJ</td>\n",
       "      <td>29.269869</td>\n",
       "    </tr>\n",
       "  </tbody>\n",
       "</table>\n",
       "</div>"
      ],
      "text/plain": [
       "     id   age city    f1  f2   f3    f4         f5\n",
       "0  id01   2.0   서울   NaN   0  NaN  ENFJ  91.297791\n",
       "1  id02   9.0   서울  70.0   1  NaN  ENFJ  60.339826\n",
       "2  id03  27.0   서울  61.0   1  NaN  ISTJ  17.252986\n",
       "3  id04  75.0   서울   NaN   2  NaN  INFP  52.667078\n",
       "4  id05  24.0   서울  85.0   2  NaN  ISFJ  29.269869"
      ]
     },
     "execution_count": 1,
     "metadata": {},
     "output_type": "execute_result"
    }
   ],
   "source": [
    "# 라이브러리 및 데이터 불러오기\n",
    "import numpy as np\n",
    "import pandas as pd\n",
    "import matplotlib.pyplot as plt\n",
    "import seaborn as sns\n",
    "import warnings\n",
    "warnings.filterwarnings(\"ignore\")\n",
    "df = pd.read_csv('../input/bigdatacertificationkr/basic1.csv')\n",
    "df.head()"
   ]
  },
  {
   "cell_type": "code",
   "execution_count": 2,
   "id": "93303833",
   "metadata": {
    "execution": {
     "iopub.execute_input": "2021-11-19T05:21:51.805789Z",
     "iopub.status.busy": "2021-11-19T05:21:51.804761Z",
     "iopub.status.idle": "2021-11-19T05:21:51.814351Z",
     "shell.execute_reply": "2021-11-19T05:21:51.814778Z",
     "shell.execute_reply.started": "2021-11-19T05:18:34.585578Z"
    },
    "papermill": {
     "duration": 0.026814,
     "end_time": "2021-11-19T05:21:51.814944",
     "exception": false,
     "start_time": "2021-11-19T05:21:51.788130",
     "status": "completed"
    },
    "tags": []
   },
   "outputs": [],
   "source": [
    "# 조건에 맞는 데이터\n",
    "df_twup = df[df['age']>=20]"
   ]
  },
  {
   "cell_type": "code",
   "execution_count": 3,
   "id": "92868780",
   "metadata": {
    "execution": {
     "iopub.execute_input": "2021-11-19T05:21:51.851953Z",
     "iopub.status.busy": "2021-11-19T05:21:51.850888Z",
     "iopub.status.idle": "2021-11-19T05:21:51.853173Z",
     "shell.execute_reply": "2021-11-19T05:21:51.853562Z",
     "shell.execute_reply.started": "2021-11-19T05:18:34.594885Z"
    },
    "papermill": {
     "duration": 0.025257,
     "end_time": "2021-11-19T05:21:51.853744",
     "exception": false,
     "start_time": "2021-11-19T05:21:51.828487",
     "status": "completed"
    },
    "tags": []
   },
   "outputs": [],
   "source": [
    "# 최빈값으로 'f1' 컬럼 결측치 대체\n",
    "df_twup['f1'] = df_twup['f1'].fillna(df_twup.f1.mode()[0])"
   ]
  },
  {
   "cell_type": "code",
   "execution_count": 4,
   "id": "faf54aac",
   "metadata": {
    "execution": {
     "iopub.execute_input": "2021-11-19T05:21:51.888017Z",
     "iopub.status.busy": "2021-11-19T05:21:51.887090Z",
     "iopub.status.idle": "2021-11-19T05:21:51.902728Z",
     "shell.execute_reply": "2021-11-19T05:21:51.903223Z",
     "shell.execute_reply.started": "2021-11-19T05:18:34.614139Z"
    },
    "papermill": {
     "duration": 0.036067,
     "end_time": "2021-11-19T05:21:51.903385",
     "exception": false,
     "start_time": "2021-11-19T05:21:51.867318",
     "status": "completed"
    },
    "tags": []
   },
   "outputs": [
    {
     "data": {
      "text/html": [
       "<div>\n",
       "<style scoped>\n",
       "    .dataframe tbody tr th:only-of-type {\n",
       "        vertical-align: middle;\n",
       "    }\n",
       "\n",
       "    .dataframe tbody tr th {\n",
       "        vertical-align: top;\n",
       "    }\n",
       "\n",
       "    .dataframe thead th {\n",
       "        text-align: right;\n",
       "    }\n",
       "</style>\n",
       "<table border=\"1\" class=\"dataframe\">\n",
       "  <thead>\n",
       "    <tr style=\"text-align: right;\">\n",
       "      <th></th>\n",
       "      <th>id</th>\n",
       "      <th>age</th>\n",
       "      <th>city</th>\n",
       "      <th>f1</th>\n",
       "      <th>f2</th>\n",
       "      <th>f3</th>\n",
       "      <th>f4</th>\n",
       "      <th>f5</th>\n",
       "    </tr>\n",
       "  </thead>\n",
       "  <tbody>\n",
       "    <tr>\n",
       "      <th>2</th>\n",
       "      <td>id03</td>\n",
       "      <td>27.0</td>\n",
       "      <td>서울</td>\n",
       "      <td>61.0</td>\n",
       "      <td>1</td>\n",
       "      <td>NaN</td>\n",
       "      <td>ISTJ</td>\n",
       "      <td>17.252986</td>\n",
       "    </tr>\n",
       "    <tr>\n",
       "      <th>3</th>\n",
       "      <td>id04</td>\n",
       "      <td>75.0</td>\n",
       "      <td>서울</td>\n",
       "      <td>50.0</td>\n",
       "      <td>2</td>\n",
       "      <td>NaN</td>\n",
       "      <td>INFP</td>\n",
       "      <td>52.667078</td>\n",
       "    </tr>\n",
       "    <tr>\n",
       "      <th>4</th>\n",
       "      <td>id05</td>\n",
       "      <td>24.0</td>\n",
       "      <td>서울</td>\n",
       "      <td>85.0</td>\n",
       "      <td>2</td>\n",
       "      <td>NaN</td>\n",
       "      <td>ISFJ</td>\n",
       "      <td>29.269869</td>\n",
       "    </tr>\n",
       "    <tr>\n",
       "      <th>5</th>\n",
       "      <td>id06</td>\n",
       "      <td>22.0</td>\n",
       "      <td>서울</td>\n",
       "      <td>57.0</td>\n",
       "      <td>0</td>\n",
       "      <td>vip</td>\n",
       "      <td>INTP</td>\n",
       "      <td>20.129444</td>\n",
       "    </tr>\n",
       "    <tr>\n",
       "      <th>6</th>\n",
       "      <td>id07</td>\n",
       "      <td>36.3</td>\n",
       "      <td>서울</td>\n",
       "      <td>60.0</td>\n",
       "      <td>1</td>\n",
       "      <td>NaN</td>\n",
       "      <td>ISFJ</td>\n",
       "      <td>9.796378</td>\n",
       "    </tr>\n",
       "    <tr>\n",
       "      <th>...</th>\n",
       "      <td>...</td>\n",
       "      <td>...</td>\n",
       "      <td>...</td>\n",
       "      <td>...</td>\n",
       "      <td>...</td>\n",
       "      <td>...</td>\n",
       "      <td>...</td>\n",
       "      <td>...</td>\n",
       "    </tr>\n",
       "    <tr>\n",
       "      <th>94</th>\n",
       "      <td>id95</td>\n",
       "      <td>77.0</td>\n",
       "      <td>경기</td>\n",
       "      <td>43.0</td>\n",
       "      <td>1</td>\n",
       "      <td>NaN</td>\n",
       "      <td>INTJ</td>\n",
       "      <td>91.297791</td>\n",
       "    </tr>\n",
       "    <tr>\n",
       "      <th>95</th>\n",
       "      <td>id96</td>\n",
       "      <td>92.0</td>\n",
       "      <td>경기</td>\n",
       "      <td>53.0</td>\n",
       "      <td>1</td>\n",
       "      <td>NaN</td>\n",
       "      <td>ENTJ</td>\n",
       "      <td>52.667078</td>\n",
       "    </tr>\n",
       "    <tr>\n",
       "      <th>96</th>\n",
       "      <td>id97</td>\n",
       "      <td>100.0</td>\n",
       "      <td>경기</td>\n",
       "      <td>50.0</td>\n",
       "      <td>0</td>\n",
       "      <td>NaN</td>\n",
       "      <td>INFP</td>\n",
       "      <td>67.886373</td>\n",
       "    </tr>\n",
       "    <tr>\n",
       "      <th>97</th>\n",
       "      <td>id98</td>\n",
       "      <td>39.0</td>\n",
       "      <td>경기</td>\n",
       "      <td>58.0</td>\n",
       "      <td>2</td>\n",
       "      <td>NaN</td>\n",
       "      <td>INFP</td>\n",
       "      <td>98.429899</td>\n",
       "    </tr>\n",
       "    <tr>\n",
       "      <th>99</th>\n",
       "      <td>id100</td>\n",
       "      <td>47.0</td>\n",
       "      <td>경기</td>\n",
       "      <td>53.0</td>\n",
       "      <td>0</td>\n",
       "      <td>vip</td>\n",
       "      <td>ESFP</td>\n",
       "      <td>33.308999</td>\n",
       "    </tr>\n",
       "  </tbody>\n",
       "</table>\n",
       "<p>83 rows × 8 columns</p>\n",
       "</div>"
      ],
      "text/plain": [
       "       id    age city    f1  f2   f3    f4         f5\n",
       "2    id03   27.0   서울  61.0   1  NaN  ISTJ  17.252986\n",
       "3    id04   75.0   서울  50.0   2  NaN  INFP  52.667078\n",
       "4    id05   24.0   서울  85.0   2  NaN  ISFJ  29.269869\n",
       "5    id06   22.0   서울  57.0   0  vip  INTP  20.129444\n",
       "6    id07   36.3   서울  60.0   1  NaN  ISFJ   9.796378\n",
       "..    ...    ...  ...   ...  ..  ...   ...        ...\n",
       "94   id95   77.0   경기  43.0   1  NaN  INTJ  91.297791\n",
       "95   id96   92.0   경기  53.0   1  NaN  ENTJ  52.667078\n",
       "96   id97  100.0   경기  50.0   0  NaN  INFP  67.886373\n",
       "97   id98   39.0   경기  58.0   2  NaN  INFP  98.429899\n",
       "99  id100   47.0   경기  53.0   0  vip  ESFP  33.308999\n",
       "\n",
       "[83 rows x 8 columns]"
      ]
     },
     "execution_count": 4,
     "metadata": {},
     "output_type": "execute_result"
    }
   ],
   "source": [
    "df_twup"
   ]
  },
  {
   "cell_type": "code",
   "execution_count": 5,
   "id": "b0ac3313",
   "metadata": {
    "execution": {
     "iopub.execute_input": "2021-11-19T05:21:51.934890Z",
     "iopub.status.busy": "2021-11-19T05:21:51.933965Z",
     "iopub.status.idle": "2021-11-19T05:21:52.052088Z",
     "shell.execute_reply": "2021-11-19T05:21:52.051537Z",
     "shell.execute_reply.started": "2021-11-19T05:18:34.641596Z"
    },
    "papermill": {
     "duration": 0.134863,
     "end_time": "2021-11-19T05:21:52.052238",
     "exception": false,
     "start_time": "2021-11-19T05:21:51.917375",
     "status": "completed"
    },
    "tags": []
   },
   "outputs": [],
   "source": [
    "# 'f1'데이터 여-존슨 yeo-johnson 값 구하기\n",
    "from sklearn.preprocessing import power_transform\n",
    "df_twup['yeo-johnson'] = power_transform(df_twup[['f1']], standardize=False)"
   ]
  },
  {
   "cell_type": "code",
   "execution_count": 6,
   "id": "dc065c01",
   "metadata": {
    "execution": {
     "iopub.execute_input": "2021-11-19T05:21:52.084477Z",
     "iopub.status.busy": "2021-11-19T05:21:52.083513Z",
     "iopub.status.idle": "2021-11-19T05:21:52.091493Z",
     "shell.execute_reply": "2021-11-19T05:21:52.092080Z",
     "shell.execute_reply.started": "2021-11-19T05:18:34.656369Z"
    },
    "papermill": {
     "duration": 0.025779,
     "end_time": "2021-11-19T05:21:52.092246",
     "exception": false,
     "start_time": "2021-11-19T05:21:52.066467",
     "status": "completed"
    },
    "tags": []
   },
   "outputs": [],
   "source": [
    "# 'f1'데이터 박스-콕스 box-cox 값 구하기\n",
    "df_twup['box-cox'] = power_transform(df_twup[['f1']], method='box-cox', standardize=False)"
   ]
  },
  {
   "cell_type": "code",
   "execution_count": 7,
   "id": "b2aa48cb",
   "metadata": {
    "execution": {
     "iopub.execute_input": "2021-11-19T05:21:52.128640Z",
     "iopub.status.busy": "2021-11-19T05:21:52.127640Z",
     "iopub.status.idle": "2021-11-19T05:21:52.848131Z",
     "shell.execute_reply": "2021-11-19T05:21:52.848613Z",
     "shell.execute_reply.started": "2021-11-19T05:18:34.674117Z"
    },
    "papermill": {
     "duration": 0.742059,
     "end_time": "2021-11-19T05:21:52.848816",
     "exception": false,
     "start_time": "2021-11-19T05:21:52.106757",
     "status": "completed"
    },
    "tags": []
   },
   "outputs": [
    {
     "data": {
      "image/png": "[encoded data removed]",
      "text/plain": [
       "<Figure size 1440x504 with 3 Axes>"
      ]
     },
     "metadata": {
      "needs_background": "light"
     },
     "output_type": "display_data"
    }
   ],
   "source": [
    "fig, axs = plt.subplots(ncols=3, figsize=(20, 7))\n",
    "sns.distplot(df_twup['f1'], ax=axs[0])\n",
    "sns.distplot(df_twup['yeo-johnson'], ax=axs[1])\n",
    "sns.distplot(df_twup['box-cox'], ax=axs[2])\n",
    "axs[0].set_title('original f1')\n",
    "axs[1].set_title('yeo-johnson')\n",
    "axs[2].set_title('box-cox')\n",
    "plt.show()"
   ]
  },
  {
   "cell_type": "markdown",
   "id": "6bc9b581",
   "metadata": {
    "papermill": {
     "duration": 0.015691,
     "end_time": "2021-11-19T05:21:52.880870",
     "exception": false,
     "start_time": "2021-11-19T05:21:52.865179",
     "status": "completed"
    },
    "tags": []
   },
   "source": [
    "선형 회귀 때 **정규성**이나 **등분산성** 가정을 만족하지 않는 경우 처리하는 방법\n",
    "1. Box-Cox 변환\n",
    "2. Yeo-Johnson Power Transformations\n",
    "     - Box-Cox 변환시 y가 0이거나 0보다 작은 경우는 적용할 수 없다는 한계를 계선"
   ]
  },
  {
   "cell_type": "code",
   "execution_count": 8,
   "id": "9e74f21c",
   "metadata": {
    "execution": {
     "iopub.execute_input": "2021-11-19T05:21:52.916582Z",
     "iopub.status.busy": "2021-11-19T05:21:52.915664Z",
     "iopub.status.idle": "2021-11-19T05:21:52.921806Z",
     "shell.execute_reply": "2021-11-19T05:21:52.922352Z",
     "shell.execute_reply.started": "2021-11-19T05:18:35.352182Z"
    },
    "papermill": {
     "duration": 0.025634,
     "end_time": "2021-11-19T05:21:52.922510",
     "exception": false,
     "start_time": "2021-11-19T05:21:52.896876",
     "status": "completed"
    },
    "tags": []
   },
   "outputs": [
    {
     "data": {
      "text/plain": [
       "39.17"
      ]
     },
     "execution_count": 8,
     "metadata": {},
     "output_type": "execute_result"
    }
   ],
   "source": [
    "# 두 값의 차이를 절대값으로 구한다음 모두 더해 소수점 둘째 자리까지 출력(반올림)\n",
    "round(abs(df_twup['box-cox'] - df_twup['yeo-johnson']).sum(),2)"
   ]
  },
  {
   "cell_type": "markdown",
   "id": "94c573e2",
   "metadata": {
    "papermill": {
     "duration": 0.015913,
     "end_time": "2021-11-19T05:21:52.954414",
     "exception": false,
     "start_time": "2021-11-19T05:21:52.938501",
     "status": "completed"
    },
    "tags": []
   },
   "source": [
    "## Hint\n",
    "- https://scikit-learn.org/stable/modules/generated/sklearn.preprocessing.power_transform.html"
   ]
  },
  {
   "cell_type": "code",
   "execution_count": 9,
   "id": "cb1a396a",
   "metadata": {
    "execution": {
     "iopub.execute_input": "2021-11-19T05:21:52.990874Z",
     "iopub.status.busy": "2021-11-19T05:21:52.989911Z",
     "iopub.status.idle": "2021-11-19T05:21:53.003344Z",
     "shell.execute_reply": "2021-11-19T05:21:53.003922Z",
     "shell.execute_reply.started": "2021-11-19T05:18:35.360099Z"
    },
    "papermill": {
     "duration": 0.033173,
     "end_time": "2021-11-19T05:21:53.004113",
     "exception": false,
     "start_time": "2021-11-19T05:21:52.970940",
     "status": "completed"
    },
    "tags": []
   },
   "outputs": [
    {
     "name": "stdout",
     "output_type": "stream",
     "text": [
      "[[-1.27332767 -1.24414502]\n",
      " [ 0.10376846  0.03976901]\n",
      " [ 1.16955921  1.20437601]]\n",
      "[[-1.27548765 -1.24611441]\n",
      " [ 0.1087368   0.04392064]\n",
      " [ 1.16675085  1.20219377]]\n"
     ]
    }
   ],
   "source": [
    "from sklearn.preprocessing import power_transform\n",
    "data = [[11, 12], [23, 22], [34, 35]]\n",
    "print(power_transform(data)) # method 디폴트 값은 여-존슨’yeo-johnson’\n",
    "print(power_transform(data, method='box-cox'))"
   ]
  },
  {
   "cell_type": "markdown",
   "id": "2dff30b0",
   "metadata": {
    "papermill": {
     "duration": 0.01618,
     "end_time": "2021-11-19T05:21:53.036970",
     "exception": false,
     "start_time": "2021-11-19T05:21:53.020790",
     "status": "completed"
    },
    "tags": []
   },
   "source": [
    "## 풀이"
   ]
  },
  {
   "cell_type": "code",
   "execution_count": 10,
   "id": "ebb30ca0",
   "metadata": {
    "_cell_guid": "b1076dfc-b9ad-4769-8c92-a6c4dae69d19",
    "_uuid": "8f2839f25d086af736a60e9eeb907d3b93b6e0e5",
    "execution": {
     "iopub.execute_input": "2021-11-19T05:21:53.072736Z",
     "iopub.status.busy": "2021-11-19T05:21:53.072142Z",
     "iopub.status.idle": "2021-11-19T05:21:53.088900Z",
     "shell.execute_reply": "2021-11-19T05:21:53.089458Z",
     "shell.execute_reply.started": "2021-11-19T05:18:35.382708Z"
    },
    "papermill": {
     "duration": 0.036198,
     "end_time": "2021-11-19T05:21:53.089640",
     "exception": false,
     "start_time": "2021-11-19T05:21:53.053442",
     "status": "completed"
    },
    "tags": []
   },
   "outputs": [
    {
     "data": {
      "text/html": [
       "<div>\n",
       "<style scoped>\n",
       "    .dataframe tbody tr th:only-of-type {\n",
       "        vertical-align: middle;\n",
       "    }\n",
       "\n",
       "    .dataframe tbody tr th {\n",
       "        vertical-align: top;\n",
       "    }\n",
       "\n",
       "    .dataframe thead th {\n",
       "        text-align: right;\n",
       "    }\n",
       "</style>\n",
       "<table border=\"1\" class=\"dataframe\">\n",
       "  <thead>\n",
       "    <tr style=\"text-align: right;\">\n",
       "      <th></th>\n",
       "      <th>id</th>\n",
       "      <th>age</th>\n",
       "      <th>city</th>\n",
       "      <th>f1</th>\n",
       "      <th>f2</th>\n",
       "      <th>f3</th>\n",
       "      <th>f4</th>\n",
       "      <th>f5</th>\n",
       "    </tr>\n",
       "  </thead>\n",
       "  <tbody>\n",
       "    <tr>\n",
       "      <th>0</th>\n",
       "      <td>id01</td>\n",
       "      <td>2.0</td>\n",
       "      <td>서울</td>\n",
       "      <td>NaN</td>\n",
       "      <td>0</td>\n",
       "      <td>NaN</td>\n",
       "      <td>ENFJ</td>\n",
       "      <td>91.297791</td>\n",
       "    </tr>\n",
       "    <tr>\n",
       "      <th>1</th>\n",
       "      <td>id02</td>\n",
       "      <td>9.0</td>\n",
       "      <td>서울</td>\n",
       "      <td>70.0</td>\n",
       "      <td>1</td>\n",
       "      <td>NaN</td>\n",
       "      <td>ENFJ</td>\n",
       "      <td>60.339826</td>\n",
       "    </tr>\n",
       "    <tr>\n",
       "      <th>2</th>\n",
       "      <td>id03</td>\n",
       "      <td>27.0</td>\n",
       "      <td>서울</td>\n",
       "      <td>61.0</td>\n",
       "      <td>1</td>\n",
       "      <td>NaN</td>\n",
       "      <td>ISTJ</td>\n",
       "      <td>17.252986</td>\n",
       "    </tr>\n",
       "    <tr>\n",
       "      <th>3</th>\n",
       "      <td>id04</td>\n",
       "      <td>75.0</td>\n",
       "      <td>서울</td>\n",
       "      <td>NaN</td>\n",
       "      <td>2</td>\n",
       "      <td>NaN</td>\n",
       "      <td>INFP</td>\n",
       "      <td>52.667078</td>\n",
       "    </tr>\n",
       "    <tr>\n",
       "      <th>4</th>\n",
       "      <td>id05</td>\n",
       "      <td>24.0</td>\n",
       "      <td>서울</td>\n",
       "      <td>85.0</td>\n",
       "      <td>2</td>\n",
       "      <td>NaN</td>\n",
       "      <td>ISFJ</td>\n",
       "      <td>29.269869</td>\n",
       "    </tr>\n",
       "  </tbody>\n",
       "</table>\n",
       "</div>"
      ],
      "text/plain": [
       "     id   age city    f1  f2   f3    f4         f5\n",
       "0  id01   2.0   서울   NaN   0  NaN  ENFJ  91.297791\n",
       "1  id02   9.0   서울  70.0   1  NaN  ENFJ  60.339826\n",
       "2  id03  27.0   서울  61.0   1  NaN  ISTJ  17.252986\n",
       "3  id04  75.0   서울   NaN   2  NaN  INFP  52.667078\n",
       "4  id05  24.0   서울  85.0   2  NaN  ISFJ  29.269869"
      ]
     },
     "execution_count": 10,
     "metadata": {},
     "output_type": "execute_result"
    }
   ],
   "source": [
    "# 라이브러리 및 데이터 불러오기\n",
    "import pandas as pd\n",
    "import numpy as np\n",
    "from sklearn.preprocessing import power_transform\n",
    "\n",
    "df = pd.read_csv('../input/bigdatacertificationkr/basic1.csv')\n",
    "df.head(5)"
   ]
  },
  {
   "cell_type": "code",
   "execution_count": 11,
   "id": "b5e0aba4",
   "metadata": {
    "execution": {
     "iopub.execute_input": "2021-11-19T05:21:53.126806Z",
     "iopub.status.busy": "2021-11-19T05:21:53.126190Z",
     "iopub.status.idle": "2021-11-19T05:21:53.133229Z",
     "shell.execute_reply": "2021-11-19T05:21:53.132617Z",
     "shell.execute_reply.started": "2021-11-19T05:18:35.407224Z"
    },
    "papermill": {
     "duration": 0.026541,
     "end_time": "2021-11-19T05:21:53.133365",
     "exception": false,
     "start_time": "2021-11-19T05:21:53.106824",
     "status": "completed"
    },
    "tags": []
   },
   "outputs": [
    {
     "name": "stdout",
     "output_type": "stream",
     "text": [
      "조건 적용 전: (100, 8)\n",
      "조건 적용 후: (83, 8)\n"
     ]
    }
   ],
   "source": [
    "# 조건에 맞는 데이터\n",
    "print(\"조건 적용 전:\", df.shape)\n",
    "df = df[df['age']>=20]\n",
    "print(\"조건 적용 후:\", df.shape)"
   ]
  },
  {
   "cell_type": "code",
   "execution_count": 12,
   "id": "d845c030",
   "metadata": {
    "execution": {
     "iopub.execute_input": "2021-11-19T05:21:53.172034Z",
     "iopub.status.busy": "2021-11-19T05:21:53.171415Z",
     "iopub.status.idle": "2021-11-19T05:21:53.181736Z",
     "shell.execute_reply": "2021-11-19T05:21:53.182163Z",
     "shell.execute_reply.started": "2021-11-19T05:18:35.414966Z"
    },
    "papermill": {
     "duration": 0.030605,
     "end_time": "2021-11-19T05:21:53.182343",
     "exception": false,
     "start_time": "2021-11-19T05:21:53.151738",
     "status": "completed"
    },
    "tags": []
   },
   "outputs": [
    {
     "name": "stdout",
     "output_type": "stream",
     "text": [
      "결측치 처리 전: \n",
      " id       0\n",
      "age      0\n",
      "city     0\n",
      "f1      26\n",
      "f2       0\n",
      "f3      78\n",
      "f4       0\n",
      "f5       0\n",
      "dtype: int64\n",
      "최빈값:  50.0\n",
      "결측치 처리 후: \n",
      " id       0\n",
      "age      0\n",
      "city     0\n",
      "f1       0\n",
      "f2       0\n",
      "f3      78\n",
      "f4       0\n",
      "f5       0\n",
      "dtype: int64\n"
     ]
    }
   ],
   "source": [
    "# 최빈값으로 'f1' 컬럼 결측치 대체\n",
    "print(\"결측치 처리 전: \\n\", df.isnull().sum())\n",
    "print(\"최빈값: \",df['f1'].mode()[0])\n",
    "df['f1'] = df['f1'].fillna(df['f1'].mode()[0])\n",
    "print(\"결측치 처리 후: \\n\", df.isnull().sum())   "
   ]
  },
  {
   "cell_type": "code",
   "execution_count": 13,
   "id": "a7cccbf8",
   "metadata": {
    "execution": {
     "iopub.execute_input": "2021-11-19T05:21:53.220450Z",
     "iopub.status.busy": "2021-11-19T05:21:53.219768Z",
     "iopub.status.idle": "2021-11-19T05:21:53.230824Z",
     "shell.execute_reply": "2021-11-19T05:21:53.231276Z",
     "shell.execute_reply.started": "2021-11-19T05:18:35.434571Z"
    },
    "papermill": {
     "duration": 0.031549,
     "end_time": "2021-11-19T05:21:53.231433",
     "exception": false,
     "start_time": "2021-11-19T05:21:53.199884",
     "status": "completed"
    },
    "tags": []
   },
   "outputs": [
    {
     "data": {
      "text/plain": [
       "2    0.101083\n",
       "3   -0.585402\n",
       "4    1.463459\n",
       "5   -0.143094\n",
       "6    0.040578\n",
       "Name: y, dtype: float64"
      ]
     },
     "execution_count": 13,
     "metadata": {},
     "output_type": "execute_result"
    }
   ],
   "source": [
    "# 'f1'데이터 여-존슨 yeo-johnson 값 구하기\n",
    "df['y'] = power_transform(df[['f1']]) # method 디폴트 값은 여-존슨’yeo-johnson’\n",
    "df['y'].head()"
   ]
  },
  {
   "cell_type": "code",
   "execution_count": 14,
   "id": "6aa62f77",
   "metadata": {
    "execution": {
     "iopub.execute_input": "2021-11-19T05:21:53.269730Z",
     "iopub.status.busy": "2021-11-19T05:21:53.269124Z",
     "iopub.status.idle": "2021-11-19T05:21:53.279490Z",
     "shell.execute_reply": "2021-11-19T05:21:53.280054Z",
     "shell.execute_reply.started": "2021-11-19T05:18:35.450177Z"
    },
    "papermill": {
     "duration": 0.031243,
     "end_time": "2021-11-19T05:21:53.280219",
     "exception": false,
     "start_time": "2021-11-19T05:21:53.248976",
     "status": "completed"
    },
    "tags": []
   },
   "outputs": [
    {
     "data": {
      "text/plain": [
       "2    20.583423\n",
       "3    17.968081\n",
       "4    25.773745\n",
       "5    19.653167\n",
       "6    20.352915\n",
       "Name: y, dtype: float64"
      ]
     },
     "execution_count": 14,
     "metadata": {},
     "output_type": "execute_result"
    }
   ],
   "source": [
    "# 'f1'데이터 여-존슨 yeo-johnson 값 구하기\n",
    "df['y'] = power_transform(df[['f1']],standardize=False) # method 디폴트 값은 여-존슨’yeo-johnson’\n",
    "df['y'].head()"
   ]
  },
  {
   "cell_type": "code",
   "execution_count": 15,
   "id": "4020494b",
   "metadata": {
    "execution": {
     "iopub.execute_input": "2021-11-19T05:21:53.319007Z",
     "iopub.status.busy": "2021-11-19T05:21:53.318357Z",
     "iopub.status.idle": "2021-11-19T05:21:53.328932Z",
     "shell.execute_reply": "2021-11-19T05:21:53.329430Z",
     "shell.execute_reply.started": "2021-11-19T05:18:35.472543Z"
    },
    "papermill": {
     "duration": 0.031419,
     "end_time": "2021-11-19T05:21:53.329595",
     "exception": false,
     "start_time": "2021-11-19T05:21:53.298176",
     "status": "completed"
    },
    "tags": []
   },
   "outputs": [
    {
     "data": {
      "text/plain": [
       "2    0.100290\n",
       "3   -0.585656\n",
       "4    1.463969\n",
       "5   -0.143784\n",
       "6    0.039801\n",
       "Name: b, dtype: float64"
      ]
     },
     "execution_count": 15,
     "metadata": {},
     "output_type": "execute_result"
    }
   ],
   "source": [
    "# 'f1'데이터 박스-콕스 box-cox 값 구하기\n",
    "df['b'] = power_transform(df[['f1']], method='box-cox')\n",
    "df['b'].head()"
   ]
  },
  {
   "cell_type": "code",
   "execution_count": 16,
   "id": "e405e797",
   "metadata": {
    "execution": {
     "iopub.execute_input": "2021-11-19T05:21:53.368735Z",
     "iopub.status.busy": "2021-11-19T05:21:53.368092Z",
     "iopub.status.idle": "2021-11-19T05:21:53.378953Z",
     "shell.execute_reply": "2021-11-19T05:21:53.379486Z",
     "shell.execute_reply.started": "2021-11-19T05:18:35.495021Z"
    },
    "papermill": {
     "duration": 0.032126,
     "end_time": "2021-11-19T05:21:53.379654",
     "exception": false,
     "start_time": "2021-11-19T05:21:53.347528",
     "status": "completed"
    },
    "tags": []
   },
   "outputs": [
    {
     "data": {
      "text/plain": [
       "2    21.067090\n",
       "3    18.305263\n",
       "4    26.557680\n",
       "5    20.084373\n",
       "6    20.823545\n",
       "Name: b, dtype: float64"
      ]
     },
     "execution_count": 16,
     "metadata": {},
     "output_type": "execute_result"
    }
   ],
   "source": [
    "# 'f1'데이터 박스-콕스 box-cox 값 구하기\n",
    "df['b'] = power_transform(df[['f1']], method='box-cox', standardize=False)\n",
    "df['b'].head()"
   ]
  },
  {
   "cell_type": "code",
   "execution_count": 17,
   "id": "29e51c94",
   "metadata": {
    "execution": {
     "iopub.execute_input": "2021-11-19T05:21:53.421735Z",
     "iopub.status.busy": "2021-11-19T05:21:53.420636Z",
     "iopub.status.idle": "2021-11-19T05:21:53.429286Z",
     "shell.execute_reply": "2021-11-19T05:21:53.429798Z",
     "shell.execute_reply.started": "2021-11-19T05:18:35.515158Z"
    },
    "papermill": {
     "duration": 0.031494,
     "end_time": "2021-11-19T05:21:53.429968",
     "exception": false,
     "start_time": "2021-11-19T05:21:53.398474",
     "status": "completed"
    },
    "tags": []
   },
   "outputs": [
    {
     "data": {
      "text/plain": [
       "(array([21.06708953, 18.3052633 , 26.5576802 , 20.08437298, 20.82354507,\n",
       "        29.92014513, 24.11822132, 22.73510562, 18.3052633 , 18.3052633 ,\n",
       "        22.50057055, 26.5576802 , 18.3052633 , 26.9892231 , 18.3052633 ,\n",
       "        18.3052633 , 24.34492271, 16.71079147, 18.3052633 , 20.08437298,\n",
       "        20.82354507, 13.87430348, 24.79522889, 21.78961583, 28.47348918,\n",
       "        18.3052633 , 18.3052633 , 24.79522889, 18.3052633 , 18.3052633 ,\n",
       "        18.3052633 , 24.34492271, 19.58413896, 17.78149164, 20.82354507,\n",
       "        18.3052633 , 27.20371216, 18.3052633 , 24.34492271, 27.20371216,\n",
       "        25.01886978, 18.3052633 , 25.90374843, 18.3052633 , 18.3052633 ,\n",
       "        21.55009581, 18.3052633 , 18.3052633 , 18.3052633 , 21.30926323,\n",
       "        18.3052633 , 26.77388356, 21.30926323, 18.3052633 , 18.3052633 ,\n",
       "        18.82186921, 16.9815023 , 26.5576802 , 26.34059934, 18.3052633 ,\n",
       "        29.30451924, 17.51679379,  6.25392521, 12.96923726, 28.89049447,\n",
       "        18.3052633 , 20.82354507, 18.3052633 , 18.3052633 , 18.3052633 ,\n",
       "        16.71079147, 19.58413896, 24.34492271, 22.26482716, 18.3052633 ,\n",
       "        25.01886978, 20.08437298, 18.3052633 , 16.43795391, 19.07760136,\n",
       "        18.3052633 , 20.33221948, 19.07760136]),\n",
       " 0.6557192658257479)"
      ]
     },
     "execution_count": 17,
     "metadata": {},
     "output_type": "execute_result"
    }
   ],
   "source": [
    "## 박스콕스 방법2\n",
    "from scipy import stats\n",
    "x = stats.boxcox(df['f1'])\n",
    "x"
   ]
  },
  {
   "cell_type": "code",
   "execution_count": 18,
   "id": "04993eb3",
   "metadata": {
    "execution": {
     "iopub.execute_input": "2021-11-19T05:21:53.473805Z",
     "iopub.status.busy": "2021-11-19T05:21:53.470916Z",
     "iopub.status.idle": "2021-11-19T05:21:53.476267Z",
     "shell.execute_reply": "2021-11-19T05:21:53.476818Z",
     "shell.execute_reply.started": "2021-11-19T05:18:35.526625Z"
    },
    "papermill": {
     "duration": 0.027935,
     "end_time": "2021-11-19T05:21:53.476981",
     "exception": false,
     "start_time": "2021-11-19T05:21:53.449046",
     "status": "completed"
    },
    "tags": []
   },
   "outputs": [
    {
     "data": {
      "text/plain": [
       "39.17"
      ]
     },
     "execution_count": 18,
     "metadata": {},
     "output_type": "execute_result"
    }
   ],
   "source": [
    "# 두 값의 차이를 절대값으로 구한다음 모두 더해 소수점 둘째 자리까지 출력(반올림)\n",
    "round(sum(np.abs(df['y'] - df['b'])),2)"
   ]
  }
 ],
 "metadata": {
  "kernelspec": {
   "display_name": "Python 3",
   "language": "python",
   "name": "python3"
  },
  "language_info": {
   "codemirror_mode": {
    "name": "ipython",
    "version": 3
   },
   "file_extension": ".py",
   "mimetype": "text/x-python",
   "name": "python",
   "nbconvert_exporter": "python",
   "pygments_lexer": "ipython3",
   "version": "3.7.10"
  },
  "papermill": {
   "default_parameters": {},
   "duration": 11.158736,
   "end_time": "2021-11-19T05:21:54.105741",
   "environment_variables": {},
   "exception": null,
   "input_path": "__notebook__.ipynb",
   "output_path": "__notebook__.ipynb",
   "parameters": {},
   "start_time": "2021-11-19T05:21:42.947005",
   "version": "2.3.3"
  }
 },
 "nbformat": 4,
 "nbformat_minor": 5
}
