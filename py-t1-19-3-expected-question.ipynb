{
 "cells": [
  {
   "cell_type": "markdown",
   "id": "3b058550",
   "metadata": {
    "papermill": {
     "duration": 0.012251,
     "end_time": "2021-11-24T13:27:57.824753",
     "exception": false,
     "start_time": "2021-11-24T13:27:57.812502",
     "status": "completed"
    },
    "tags": []
   },
   "source": [
    "### 주어진 데이터에서 2022년 월별 Sales 합계 중 가장 큰 금액과 \n",
    "### 2023년 월별 Sales 합계 중 가장 큰 금액의 차이를 절대값으로 구하시오. \n",
    "### 단 Events컬럼이 '1'인경우 80%의 Salse값만 반영함 \n",
    "### (최종값은 소수점 반올림 후 정수 출력)\n",
    "- 데이터셋 : basic2.csv\n",
    "- 오른쪽 상단 copy&edit 클릭 -> 예상문제 풀이 시작"
   ]
  },
  {
   "cell_type": "code",
   "execution_count": 1,
   "id": "ae9c2db5",
   "metadata": {
    "execution": {
     "iopub.execute_input": "2021-11-24T13:27:57.855530Z",
     "iopub.status.busy": "2021-11-24T13:27:57.851380Z",
     "iopub.status.idle": "2021-11-24T13:27:57.899530Z",
     "shell.execute_reply": "2021-11-24T13:27:57.898646Z",
     "shell.execute_reply.started": "2021-11-24T13:27:19.199565Z"
    },
    "papermill": {
     "duration": 0.064273,
     "end_time": "2021-11-24T13:27:57.899764",
     "exception": false,
     "start_time": "2021-11-24T13:27:57.835491",
     "status": "completed"
    },
    "tags": []
   },
   "outputs": [
    {
     "data": {
      "text/html": [
       "<div>\n",
       "<style scoped>\n",
       "    .dataframe tbody tr th:only-of-type {\n",
       "        vertical-align: middle;\n",
       "    }\n",
       "\n",
       "    .dataframe tbody tr th {\n",
       "        vertical-align: top;\n",
       "    }\n",
       "\n",
       "    .dataframe thead th {\n",
       "        text-align: right;\n",
       "    }\n",
       "</style>\n",
       "<table border=\"1\" class=\"dataframe\">\n",
       "  <thead>\n",
       "    <tr style=\"text-align: right;\">\n",
       "      <th></th>\n",
       "      <th>Date</th>\n",
       "      <th>Sales</th>\n",
       "      <th>PV</th>\n",
       "      <th>UV</th>\n",
       "      <th>Events</th>\n",
       "    </tr>\n",
       "  </thead>\n",
       "  <tbody>\n",
       "    <tr>\n",
       "      <th>0</th>\n",
       "      <td>2022-01-01</td>\n",
       "      <td>22711525</td>\n",
       "      <td>397349</td>\n",
       "      <td>4421.0</td>\n",
       "      <td>1</td>\n",
       "    </tr>\n",
       "    <tr>\n",
       "      <th>1</th>\n",
       "      <td>2022-01-02</td>\n",
       "      <td>36779</td>\n",
       "      <td>3969</td>\n",
       "      <td>2289.0</td>\n",
       "      <td>0</td>\n",
       "    </tr>\n",
       "    <tr>\n",
       "      <th>2</th>\n",
       "      <td>2022-01-03</td>\n",
       "      <td>13943875</td>\n",
       "      <td>373890</td>\n",
       "      <td>NaN</td>\n",
       "      <td>1</td>\n",
       "    </tr>\n",
       "    <tr>\n",
       "      <th>3</th>\n",
       "      <td>2022-01-04</td>\n",
       "      <td>8088593</td>\n",
       "      <td>142054</td>\n",
       "      <td>2157.0</td>\n",
       "      <td>0</td>\n",
       "    </tr>\n",
       "    <tr>\n",
       "      <th>4</th>\n",
       "      <td>2022-01-05</td>\n",
       "      <td>2395374</td>\n",
       "      <td>190684</td>\n",
       "      <td>NaN</td>\n",
       "      <td>0</td>\n",
       "    </tr>\n",
       "  </tbody>\n",
       "</table>\n",
       "</div>"
      ],
      "text/plain": [
       "         Date     Sales      PV      UV  Events\n",
       "0  2022-01-01  22711525  397349  4421.0       1\n",
       "1  2022-01-02     36779    3969  2289.0       0\n",
       "2  2022-01-03  13943875  373890     NaN       1\n",
       "3  2022-01-04   8088593  142054  2157.0       0\n",
       "4  2022-01-05   2395374  190684     NaN       0"
      ]
     },
     "execution_count": 1,
     "metadata": {},
     "output_type": "execute_result"
    }
   ],
   "source": [
    "import pandas as pd\n",
    "import numpy as np\n",
    "df = pd.read_csv('../input/bigdatacertificationkr/basic2.csv')\n",
    "df.head()"
   ]
  },
  {
   "cell_type": "code",
   "execution_count": 2,
   "id": "57d96f32",
   "metadata": {
    "execution": {
     "iopub.execute_input": "2021-11-24T13:27:57.944319Z",
     "iopub.status.busy": "2021-11-24T13:27:57.943316Z",
     "iopub.status.idle": "2021-11-24T13:27:57.947604Z",
     "shell.execute_reply": "2021-11-24T13:27:57.946982Z",
     "shell.execute_reply.started": "2021-11-24T13:27:19.222679Z"
    },
    "papermill": {
     "duration": 0.031348,
     "end_time": "2021-11-24T13:27:57.947740",
     "exception": false,
     "start_time": "2021-11-24T13:27:57.916392",
     "status": "completed"
    },
    "tags": []
   },
   "outputs": [],
   "source": [
    "df['Date'] = pd.to_datetime(df['Date'])"
   ]
  },
  {
   "cell_type": "code",
   "execution_count": 3,
   "id": "39c19ac4",
   "metadata": {
    "execution": {
     "iopub.execute_input": "2021-11-24T13:27:57.973911Z",
     "iopub.status.busy": "2021-11-24T13:27:57.972484Z",
     "iopub.status.idle": "2021-11-24T13:27:57.980260Z",
     "shell.execute_reply": "2021-11-24T13:27:57.979711Z",
     "shell.execute_reply.started": "2021-11-24T13:27:19.230979Z"
    },
    "papermill": {
     "duration": 0.02241,
     "end_time": "2021-11-24T13:27:57.980413",
     "exception": false,
     "start_time": "2021-11-24T13:27:57.958003",
     "status": "completed"
    },
    "tags": []
   },
   "outputs": [],
   "source": [
    "df['Date_year'] = df['Date'].dt.year\n",
    "df['Date_month'] = df['Date'].dt.month"
   ]
  },
  {
   "cell_type": "code",
   "execution_count": 4,
   "id": "49030d5a",
   "metadata": {
    "execution": {
     "iopub.execute_input": "2021-11-24T13:27:58.008874Z",
     "iopub.status.busy": "2021-11-24T13:27:58.008245Z",
     "iopub.status.idle": "2021-11-24T13:27:58.011098Z",
     "shell.execute_reply": "2021-11-24T13:27:58.010562Z",
     "shell.execute_reply.started": "2021-11-24T13:27:19.251279Z"
    },
    "papermill": {
     "duration": 0.02075,
     "end_time": "2021-11-24T13:27:58.011243",
     "exception": false,
     "start_time": "2021-11-24T13:27:57.990493",
     "status": "completed"
    },
    "tags": []
   },
   "outputs": [],
   "source": [
    "df['Sales'] = ((df['Events']*0.8).replace(0,1))*df['Sales']"
   ]
  },
  {
   "cell_type": "code",
   "execution_count": 5,
   "id": "d24a9558",
   "metadata": {
    "execution": {
     "iopub.execute_input": "2021-11-24T13:27:58.035591Z",
     "iopub.status.busy": "2021-11-24T13:27:58.034934Z",
     "iopub.status.idle": "2021-11-24T13:27:58.052160Z",
     "shell.execute_reply": "2021-11-24T13:27:58.052660Z",
     "shell.execute_reply.started": "2021-11-24T13:27:19.267387Z"
    },
    "papermill": {
     "duration": 0.031541,
     "end_time": "2021-11-24T13:27:58.052840",
     "exception": false,
     "start_time": "2021-11-24T13:27:58.021299",
     "status": "completed"
    },
    "tags": []
   },
   "outputs": [
    {
     "data": {
      "text/plain": [
       "42473436"
      ]
     },
     "execution_count": 5,
     "metadata": {},
     "output_type": "execute_result"
    }
   ],
   "source": [
    "df_group = df.groupby(['Date_year','Date_month']).Sales.sum().reset_index()\n",
    "\n",
    "df_2022 = df_group[df_group['Date_year']==2022].Sales.max()\n",
    "df_2023 = df_group[df_group['Date_year']==2023].Sales.max()\n",
    "\n",
    "int(round(abs(df_2022-df_2023), 0))"
   ]
  },
  {
   "cell_type": "markdown",
   "id": "b6cf4b92",
   "metadata": {
    "papermill": {
     "duration": 0.010131,
     "end_time": "2021-11-24T13:27:58.073263",
     "exception": false,
     "start_time": "2021-11-24T13:27:58.063132",
     "status": "completed"
    },
    "tags": []
   },
   "source": [
    "### kaggle answer"
   ]
  },
  {
   "cell_type": "code",
   "execution_count": 6,
   "id": "f15a5364",
   "metadata": {
    "_cell_guid": "b1076dfc-b9ad-4769-8c92-a6c4dae69d19",
    "_uuid": "8f2839f25d086af736a60e9eeb907d3b93b6e0e5",
    "execution": {
     "iopub.execute_input": "2021-11-24T13:27:58.098258Z",
     "iopub.status.busy": "2021-11-24T13:27:58.097067Z",
     "iopub.status.idle": "2021-11-24T13:27:58.100001Z",
     "shell.execute_reply": "2021-11-24T13:27:58.100559Z",
     "shell.execute_reply.started": "2021-11-24T13:27:19.290730Z"
    },
    "papermill": {
     "duration": 0.01683,
     "end_time": "2021-11-24T13:27:58.100721",
     "exception": false,
     "start_time": "2021-11-24T13:27:58.083891",
     "status": "completed"
    },
    "tags": []
   },
   "outputs": [],
   "source": [
    "# 라이브러리 불러오기\n",
    "import pandas as pd"
   ]
  },
  {
   "cell_type": "code",
   "execution_count": 7,
   "id": "622dce51",
   "metadata": {
    "execution": {
     "iopub.execute_input": "2021-11-24T13:27:58.124790Z",
     "iopub.status.busy": "2021-11-24T13:27:58.123853Z",
     "iopub.status.idle": "2021-11-24T13:27:58.133563Z",
     "shell.execute_reply": "2021-11-24T13:27:58.134083Z",
     "shell.execute_reply.started": "2021-11-24T13:27:19.297071Z"
    },
    "papermill": {
     "duration": 0.023173,
     "end_time": "2021-11-24T13:27:58.134262",
     "exception": false,
     "start_time": "2021-11-24T13:27:58.111089",
     "status": "completed"
    },
    "tags": []
   },
   "outputs": [],
   "source": [
    "# 데이터 불러오기 (datatime컬럼 지정)\n",
    "df = pd.read_csv(\"../input/bigdatacertificationkr/basic2.csv\", \n",
    "                 parse_dates=['Date'])"
   ]
  },
  {
   "cell_type": "code",
   "execution_count": 8,
   "id": "b00a6adc",
   "metadata": {
    "execution": {
     "iopub.execute_input": "2021-11-24T13:27:58.163781Z",
     "iopub.status.busy": "2021-11-24T13:27:58.163172Z",
     "iopub.status.idle": "2021-11-24T13:27:58.168739Z",
     "shell.execute_reply": "2021-11-24T13:27:58.169253Z",
     "shell.execute_reply.started": "2021-11-24T13:27:19.319353Z"
    },
    "papermill": {
     "duration": 0.02331,
     "end_time": "2021-11-24T13:27:58.169431",
     "exception": false,
     "start_time": "2021-11-24T13:27:58.146121",
     "status": "completed"
    },
    "tags": []
   },
   "outputs": [
    {
     "data": {
      "text/html": [
       "<div>\n",
       "<style scoped>\n",
       "    .dataframe tbody tr th:only-of-type {\n",
       "        vertical-align: middle;\n",
       "    }\n",
       "\n",
       "    .dataframe tbody tr th {\n",
       "        vertical-align: top;\n",
       "    }\n",
       "\n",
       "    .dataframe thead th {\n",
       "        text-align: right;\n",
       "    }\n",
       "</style>\n",
       "<table border=\"1\" class=\"dataframe\">\n",
       "  <thead>\n",
       "    <tr style=\"text-align: right;\">\n",
       "      <th></th>\n",
       "      <th>Date</th>\n",
       "      <th>Sales</th>\n",
       "      <th>PV</th>\n",
       "      <th>UV</th>\n",
       "      <th>Events</th>\n",
       "    </tr>\n",
       "  </thead>\n",
       "  <tbody>\n",
       "    <tr>\n",
       "      <th>0</th>\n",
       "      <td>2022-01-01</td>\n",
       "      <td>22711525</td>\n",
       "      <td>397349</td>\n",
       "      <td>4421.0</td>\n",
       "      <td>1</td>\n",
       "    </tr>\n",
       "    <tr>\n",
       "      <th>1</th>\n",
       "      <td>2022-01-02</td>\n",
       "      <td>36779</td>\n",
       "      <td>3969</td>\n",
       "      <td>2289.0</td>\n",
       "      <td>0</td>\n",
       "    </tr>\n",
       "    <tr>\n",
       "      <th>2</th>\n",
       "      <td>2022-01-03</td>\n",
       "      <td>13943875</td>\n",
       "      <td>373890</td>\n",
       "      <td>NaN</td>\n",
       "      <td>1</td>\n",
       "    </tr>\n",
       "    <tr>\n",
       "      <th>3</th>\n",
       "      <td>2022-01-04</td>\n",
       "      <td>8088593</td>\n",
       "      <td>142054</td>\n",
       "      <td>2157.0</td>\n",
       "      <td>0</td>\n",
       "    </tr>\n",
       "    <tr>\n",
       "      <th>4</th>\n",
       "      <td>2022-01-05</td>\n",
       "      <td>2395374</td>\n",
       "      <td>190684</td>\n",
       "      <td>NaN</td>\n",
       "      <td>0</td>\n",
       "    </tr>\n",
       "  </tbody>\n",
       "</table>\n",
       "</div>"
      ],
      "text/plain": [
       "        Date     Sales      PV      UV  Events\n",
       "0 2022-01-01  22711525  397349  4421.0       1\n",
       "1 2022-01-02     36779    3969  2289.0       0\n",
       "2 2022-01-03  13943875  373890     NaN       1\n",
       "3 2022-01-04   8088593  142054  2157.0       0\n",
       "4 2022-01-05   2395374  190684     NaN       0"
      ]
     },
     "execution_count": 8,
     "metadata": {},
     "output_type": "execute_result"
    }
   ],
   "source": [
    "df.head()"
   ]
  },
  {
   "cell_type": "code",
   "execution_count": 9,
   "id": "8359af58",
   "metadata": {
    "execution": {
     "iopub.execute_input": "2021-11-24T13:27:58.201079Z",
     "iopub.status.busy": "2021-11-24T13:27:58.200153Z",
     "iopub.status.idle": "2021-11-24T13:27:58.207778Z",
     "shell.execute_reply": "2021-11-24T13:27:58.208263Z",
     "shell.execute_reply.started": "2021-11-24T13:27:19.335314Z"
    },
    "papermill": {
     "duration": 0.028386,
     "end_time": "2021-11-24T13:27:58.208449",
     "exception": false,
     "start_time": "2021-11-24T13:27:58.180063",
     "status": "completed"
    },
    "tags": []
   },
   "outputs": [],
   "source": [
    "# 날짜 컬럼 생성\n",
    "df['year'] = df['Date'].dt.year\n",
    "df['month'] = df['Date'].dt.month\n",
    "df['day'] = df['Date'].dt.day\n",
    "df['dayofweek'] = df['Date'].dt.dayofweek"
   ]
  },
  {
   "cell_type": "code",
   "execution_count": 10,
   "id": "9309a794",
   "metadata": {
    "execution": {
     "iopub.execute_input": "2021-11-24T13:27:58.237793Z",
     "iopub.status.busy": "2021-11-24T13:27:58.236811Z",
     "iopub.status.idle": "2021-11-24T13:27:58.696371Z",
     "shell.execute_reply": "2021-11-24T13:27:58.696797Z",
     "shell.execute_reply.started": "2021-11-24T13:27:19.347839Z"
    },
    "papermill": {
     "duration": 0.47637,
     "end_time": "2021-11-24T13:27:58.696982",
     "exception": false,
     "start_time": "2021-11-24T13:27:58.220612",
     "status": "completed"
    },
    "tags": []
   },
   "outputs": [
    {
     "data": {
      "text/html": [
       "<div>\n",
       "<style scoped>\n",
       "    .dataframe tbody tr th:only-of-type {\n",
       "        vertical-align: middle;\n",
       "    }\n",
       "\n",
       "    .dataframe tbody tr th {\n",
       "        vertical-align: top;\n",
       "    }\n",
       "\n",
       "    .dataframe thead th {\n",
       "        text-align: right;\n",
       "    }\n",
       "</style>\n",
       "<table border=\"1\" class=\"dataframe\">\n",
       "  <thead>\n",
       "    <tr style=\"text-align: right;\">\n",
       "      <th></th>\n",
       "      <th>Date</th>\n",
       "      <th>Sales</th>\n",
       "      <th>PV</th>\n",
       "      <th>UV</th>\n",
       "      <th>Events</th>\n",
       "      <th>year</th>\n",
       "      <th>month</th>\n",
       "      <th>day</th>\n",
       "      <th>dayofweek</th>\n",
       "      <th>Sales2</th>\n",
       "    </tr>\n",
       "  </thead>\n",
       "  <tbody>\n",
       "    <tr>\n",
       "      <th>0</th>\n",
       "      <td>2022-01-01</td>\n",
       "      <td>22711525</td>\n",
       "      <td>397349</td>\n",
       "      <td>4421.0</td>\n",
       "      <td>1</td>\n",
       "      <td>2022</td>\n",
       "      <td>1</td>\n",
       "      <td>1</td>\n",
       "      <td>5</td>\n",
       "      <td>18169220.0</td>\n",
       "    </tr>\n",
       "    <tr>\n",
       "      <th>1</th>\n",
       "      <td>2022-01-02</td>\n",
       "      <td>36779</td>\n",
       "      <td>3969</td>\n",
       "      <td>2289.0</td>\n",
       "      <td>0</td>\n",
       "      <td>2022</td>\n",
       "      <td>1</td>\n",
       "      <td>2</td>\n",
       "      <td>6</td>\n",
       "      <td>36779.0</td>\n",
       "    </tr>\n",
       "    <tr>\n",
       "      <th>2</th>\n",
       "      <td>2022-01-03</td>\n",
       "      <td>13943875</td>\n",
       "      <td>373890</td>\n",
       "      <td>NaN</td>\n",
       "      <td>1</td>\n",
       "      <td>2022</td>\n",
       "      <td>1</td>\n",
       "      <td>3</td>\n",
       "      <td>0</td>\n",
       "      <td>11155100.0</td>\n",
       "    </tr>\n",
       "    <tr>\n",
       "      <th>3</th>\n",
       "      <td>2022-01-04</td>\n",
       "      <td>8088593</td>\n",
       "      <td>142054</td>\n",
       "      <td>2157.0</td>\n",
       "      <td>0</td>\n",
       "      <td>2022</td>\n",
       "      <td>1</td>\n",
       "      <td>4</td>\n",
       "      <td>1</td>\n",
       "      <td>8088593.0</td>\n",
       "    </tr>\n",
       "    <tr>\n",
       "      <th>4</th>\n",
       "      <td>2022-01-05</td>\n",
       "      <td>2395374</td>\n",
       "      <td>190684</td>\n",
       "      <td>NaN</td>\n",
       "      <td>0</td>\n",
       "      <td>2022</td>\n",
       "      <td>1</td>\n",
       "      <td>5</td>\n",
       "      <td>2</td>\n",
       "      <td>2395374.0</td>\n",
       "    </tr>\n",
       "  </tbody>\n",
       "</table>\n",
       "</div>"
      ],
      "text/plain": [
       "        Date     Sales      PV      UV  Events  year  month  day  dayofweek  \\\n",
       "0 2022-01-01  22711525  397349  4421.0       1  2022      1    1          5   \n",
       "1 2022-01-02     36779    3969  2289.0       0  2022      1    2          6   \n",
       "2 2022-01-03  13943875  373890     NaN       1  2022      1    3          0   \n",
       "3 2022-01-04   8088593  142054  2157.0       0  2022      1    4          1   \n",
       "4 2022-01-05   2395374  190684     NaN       0  2022      1    5          2   \n",
       "\n",
       "       Sales2  \n",
       "0  18169220.0  \n",
       "1     36779.0  \n",
       "2  11155100.0  \n",
       "3   8088593.0  \n",
       "4   2395374.0  "
      ]
     },
     "execution_count": 10,
     "metadata": {},
     "output_type": "execute_result"
    }
   ],
   "source": [
    "# 이벤트가 1인 sales값은 80%만 반영\n",
    "\n",
    "def event_sales(x):\n",
    "    if x['Events'] == 1:\n",
    "        x['Sales2'] = x['Sales']*0.8\n",
    "    else:\n",
    "        x['Sales2'] = x['Sales']\n",
    "    return x\n",
    "\n",
    "\n",
    "df = df.apply(lambda x: event_sales(x), axis=1) #1일 경우 row, 0일 경우 컬럼\n",
    "df.head()"
   ]
  },
  {
   "cell_type": "code",
   "execution_count": 11,
   "id": "792ff700",
   "metadata": {
    "execution": {
     "iopub.execute_input": "2021-11-24T13:27:58.727155Z",
     "iopub.status.busy": "2021-11-24T13:27:58.726498Z",
     "iopub.status.idle": "2021-11-24T13:27:58.732688Z",
     "shell.execute_reply": "2021-11-24T13:27:58.733124Z",
     "shell.execute_reply.started": "2021-11-24T13:27:19.881034Z"
    },
    "papermill": {
     "duration": 0.025178,
     "end_time": "2021-11-24T13:27:58.733308",
     "exception": false,
     "start_time": "2021-11-24T13:27:58.708130",
     "status": "completed"
    },
    "tags": []
   },
   "outputs": [
    {
     "data": {
      "text/plain": [
       "197145878.0"
      ]
     },
     "execution_count": 11,
     "metadata": {},
     "output_type": "execute_result"
    }
   ],
   "source": [
    "# 2022년 월별 합계 중 가장 큰 값\n",
    "cond = df['year'] == 2022\n",
    "df1 = df[cond]\n",
    "sale1 = df1.groupby('month')['Sales2'].sum().max()\n",
    "sale1"
   ]
  },
  {
   "cell_type": "code",
   "execution_count": 12,
   "id": "a1614c63",
   "metadata": {
    "execution": {
     "iopub.execute_input": "2021-11-24T13:27:58.763553Z",
     "iopub.status.busy": "2021-11-24T13:27:58.762873Z",
     "iopub.status.idle": "2021-11-24T13:27:58.767107Z",
     "shell.execute_reply": "2021-11-24T13:27:58.767608Z",
     "shell.execute_reply.started": "2021-11-24T13:27:19.895861Z"
    },
    "papermill": {
     "duration": 0.022976,
     "end_time": "2021-11-24T13:27:58.767772",
     "exception": false,
     "start_time": "2021-11-24T13:27:58.744796",
     "status": "completed"
    },
    "tags": []
   },
   "outputs": [
    {
     "data": {
      "text/plain": [
       "239619313.8"
      ]
     },
     "execution_count": 12,
     "metadata": {},
     "output_type": "execute_result"
    }
   ],
   "source": [
    "# 2023년 월별 합계 중 가장 큰 값\n",
    "cond = df['year'] == 2023\n",
    "df2 = df[cond]\n",
    "sale2 = df2.groupby('month')['Sales2'].sum().max()\n",
    "sale2"
   ]
  },
  {
   "cell_type": "code",
   "execution_count": 13,
   "id": "5507d45e",
   "metadata": {
    "execution": {
     "iopub.execute_input": "2021-11-24T13:27:58.794859Z",
     "iopub.status.busy": "2021-11-24T13:27:58.793901Z",
     "iopub.status.idle": "2021-11-24T13:27:58.799014Z",
     "shell.execute_reply": "2021-11-24T13:27:58.799502Z",
     "shell.execute_reply.started": "2021-11-24T13:27:19.908348Z"
    },
    "papermill": {
     "duration": 0.020261,
     "end_time": "2021-11-24T13:27:58.799662",
     "exception": false,
     "start_time": "2021-11-24T13:27:58.779401",
     "status": "completed"
    },
    "tags": []
   },
   "outputs": [
    {
     "data": {
      "text/plain": [
       "42473436"
      ]
     },
     "execution_count": 13,
     "metadata": {},
     "output_type": "execute_result"
    }
   ],
   "source": [
    "# 결과값 반올림 후 정수 출력\n",
    "int(round(abs(sale1 - sale2),0))"
   ]
  }
 ],
 "metadata": {
  "kernelspec": {
   "display_name": "Python 3",
   "language": "python",
   "name": "python3"
  },
  "language_info": {
   "codemirror_mode": {
    "name": "ipython",
    "version": 3
   },
   "file_extension": ".py",
   "mimetype": "text/x-python",
   "name": "python",
   "nbconvert_exporter": "python",
   "pygments_lexer": "ipython3",
   "version": "3.7.10"
  },
  "papermill": {
   "default_parameters": {},
   "duration": 9.820047,
   "end_time": "2021-11-24T13:27:59.421013",
   "environment_variables": {},
   "exception": null,
   "input_path": "__notebook__.ipynb",
   "output_path": "__notebook__.ipynb",
   "parameters": {},
   "start_time": "2021-11-24T13:27:49.600966",
   "version": "2.3.3"
  }
 },
 "nbformat": 4,
 "nbformat_minor": 5
}
