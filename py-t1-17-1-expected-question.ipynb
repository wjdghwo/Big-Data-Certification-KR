{
 "cells": [
  {
   "cell_type": "markdown",
   "id": "22dcb866",
   "metadata": {
    "papermill": {
     "duration": 0.015901,
     "end_time": "2021-11-24T12:15:33.436668",
     "exception": false,
     "start_time": "2021-11-24T12:15:33.420767",
     "status": "completed"
    },
    "tags": []
   },
   "source": [
    "### 2022년 5월 sales의 중앙값을 구하시오\n",
    "\n",
    "- 데이터셋 : basic2.csv \n",
    "- 오른쪽 상단 copy&edit 클릭 -> 예상문제 풀이 시작"
   ]
  },
  {
   "cell_type": "code",
   "execution_count": 1,
   "id": "0a5d71e6",
   "metadata": {
    "execution": {
     "iopub.execute_input": "2021-11-24T12:15:33.471939Z",
     "iopub.status.busy": "2021-11-24T12:15:33.470722Z",
     "iopub.status.idle": "2021-11-24T12:15:33.480710Z",
     "shell.execute_reply": "2021-11-24T12:15:33.481241Z",
     "shell.execute_reply.started": "2021-11-24T12:00:52.653171Z"
    },
    "papermill": {
     "duration": 0.028839,
     "end_time": "2021-11-24T12:15:33.481620",
     "exception": false,
     "start_time": "2021-11-24T12:15:33.452781",
     "status": "completed"
    },
    "tags": []
   },
   "outputs": [],
   "source": [
    "import pandas as pd\n",
    "import numpy as np"
   ]
  },
  {
   "cell_type": "code",
   "execution_count": 2,
   "id": "f1a8ff60",
   "metadata": {
    "execution": {
     "iopub.execute_input": "2021-11-24T12:15:33.521048Z",
     "iopub.status.busy": "2021-11-24T12:15:33.520280Z",
     "iopub.status.idle": "2021-11-24T12:15:33.561065Z",
     "shell.execute_reply": "2021-11-24T12:15:33.561927Z",
     "shell.execute_reply.started": "2021-11-24T12:00:52.659538Z"
    },
    "papermill": {
     "duration": 0.06334,
     "end_time": "2021-11-24T12:15:33.562216",
     "exception": false,
     "start_time": "2021-11-24T12:15:33.498876",
     "status": "completed"
    },
    "tags": []
   },
   "outputs": [
    {
     "data": {
      "text/html": [
       "<div>\n",
       "<style scoped>\n",
       "    .dataframe tbody tr th:only-of-type {\n",
       "        vertical-align: middle;\n",
       "    }\n",
       "\n",
       "    .dataframe tbody tr th {\n",
       "        vertical-align: top;\n",
       "    }\n",
       "\n",
       "    .dataframe thead th {\n",
       "        text-align: right;\n",
       "    }\n",
       "</style>\n",
       "<table border=\"1\" class=\"dataframe\">\n",
       "  <thead>\n",
       "    <tr style=\"text-align: right;\">\n",
       "      <th></th>\n",
       "      <th>Date</th>\n",
       "      <th>Sales</th>\n",
       "      <th>PV</th>\n",
       "      <th>UV</th>\n",
       "      <th>Events</th>\n",
       "    </tr>\n",
       "  </thead>\n",
       "  <tbody>\n",
       "    <tr>\n",
       "      <th>0</th>\n",
       "      <td>2022-01-01</td>\n",
       "      <td>22711525</td>\n",
       "      <td>397349</td>\n",
       "      <td>4421.0</td>\n",
       "      <td>1</td>\n",
       "    </tr>\n",
       "    <tr>\n",
       "      <th>1</th>\n",
       "      <td>2022-01-02</td>\n",
       "      <td>36779</td>\n",
       "      <td>3969</td>\n",
       "      <td>2289.0</td>\n",
       "      <td>0</td>\n",
       "    </tr>\n",
       "    <tr>\n",
       "      <th>2</th>\n",
       "      <td>2022-01-03</td>\n",
       "      <td>13943875</td>\n",
       "      <td>373890</td>\n",
       "      <td>NaN</td>\n",
       "      <td>1</td>\n",
       "    </tr>\n",
       "    <tr>\n",
       "      <th>3</th>\n",
       "      <td>2022-01-04</td>\n",
       "      <td>8088593</td>\n",
       "      <td>142054</td>\n",
       "      <td>2157.0</td>\n",
       "      <td>0</td>\n",
       "    </tr>\n",
       "    <tr>\n",
       "      <th>4</th>\n",
       "      <td>2022-01-05</td>\n",
       "      <td>2395374</td>\n",
       "      <td>190684</td>\n",
       "      <td>NaN</td>\n",
       "      <td>0</td>\n",
       "    </tr>\n",
       "  </tbody>\n",
       "</table>\n",
       "</div>"
      ],
      "text/plain": [
       "         Date     Sales      PV      UV  Events\n",
       "0  2022-01-01  22711525  397349  4421.0       1\n",
       "1  2022-01-02     36779    3969  2289.0       0\n",
       "2  2022-01-03  13943875  373890     NaN       1\n",
       "3  2022-01-04   8088593  142054  2157.0       0\n",
       "4  2022-01-05   2395374  190684     NaN       0"
      ]
     },
     "execution_count": 2,
     "metadata": {},
     "output_type": "execute_result"
    }
   ],
   "source": [
    "df = pd.read_csv('../input/bigdatacertificationkr/basic2.csv')\n",
    "df.head()"
   ]
  },
  {
   "cell_type": "code",
   "execution_count": 3,
   "id": "b4596fb7",
   "metadata": {
    "execution": {
     "iopub.execute_input": "2021-11-24T12:15:33.610126Z",
     "iopub.status.busy": "2021-11-24T12:15:33.609308Z",
     "iopub.status.idle": "2021-11-24T12:15:33.633152Z",
     "shell.execute_reply": "2021-11-24T12:15:33.633932Z",
     "shell.execute_reply.started": "2021-11-24T12:00:52.688331Z"
    },
    "papermill": {
     "duration": 0.051402,
     "end_time": "2021-11-24T12:15:33.634202",
     "exception": false,
     "start_time": "2021-11-24T12:15:33.582800",
     "status": "completed"
    },
    "tags": []
   },
   "outputs": [
    {
     "name": "stdout",
     "output_type": "stream",
     "text": [
      "<class 'pandas.core.frame.DataFrame'>\n",
      "RangeIndex: 730 entries, 0 to 729\n",
      "Data columns (total 5 columns):\n",
      " #   Column  Non-Null Count  Dtype  \n",
      "---  ------  --------------  -----  \n",
      " 0   Date    730 non-null    object \n",
      " 1   Sales   730 non-null    int64  \n",
      " 2   PV      730 non-null    int64  \n",
      " 3   UV      684 non-null    float64\n",
      " 4   Events  730 non-null    int64  \n",
      "dtypes: float64(1), int64(3), object(1)\n",
      "memory usage: 28.6+ KB\n"
     ]
    }
   ],
   "source": [
    "df.info()"
   ]
  },
  {
   "cell_type": "code",
   "execution_count": 4,
   "id": "3f39be8c",
   "metadata": {
    "execution": {
     "iopub.execute_input": "2021-11-24T12:15:33.669344Z",
     "iopub.status.busy": "2021-11-24T12:15:33.668675Z",
     "iopub.status.idle": "2021-11-24T12:15:33.692729Z",
     "shell.execute_reply": "2021-11-24T12:15:33.693291Z",
     "shell.execute_reply.started": "2021-11-24T12:00:52.701536Z"
    },
    "papermill": {
     "duration": 0.042742,
     "end_time": "2021-11-24T12:15:33.693518",
     "exception": false,
     "start_time": "2021-11-24T12:15:33.650776",
     "status": "completed"
    },
    "tags": []
   },
   "outputs": [
    {
     "data": {
      "text/html": [
       "<div>\n",
       "<style scoped>\n",
       "    .dataframe tbody tr th:only-of-type {\n",
       "        vertical-align: middle;\n",
       "    }\n",
       "\n",
       "    .dataframe tbody tr th {\n",
       "        vertical-align: top;\n",
       "    }\n",
       "\n",
       "    .dataframe thead th {\n",
       "        text-align: right;\n",
       "    }\n",
       "</style>\n",
       "<table border=\"1\" class=\"dataframe\">\n",
       "  <thead>\n",
       "    <tr style=\"text-align: right;\">\n",
       "      <th></th>\n",
       "      <th>Sales</th>\n",
       "      <th>PV</th>\n",
       "      <th>UV</th>\n",
       "      <th>Events</th>\n",
       "    </tr>\n",
       "  </thead>\n",
       "  <tbody>\n",
       "    <tr>\n",
       "      <th>count</th>\n",
       "      <td>7.300000e+02</td>\n",
       "      <td>730.000000</td>\n",
       "      <td>684.000000</td>\n",
       "      <td>730.000000</td>\n",
       "    </tr>\n",
       "    <tr>\n",
       "      <th>mean</th>\n",
       "      <td>5.822637e+06</td>\n",
       "      <td>122933.378082</td>\n",
       "      <td>2449.445906</td>\n",
       "      <td>0.263014</td>\n",
       "    </tr>\n",
       "    <tr>\n",
       "      <th>std</th>\n",
       "      <td>8.055195e+06</td>\n",
       "      <td>138533.559768</td>\n",
       "      <td>2161.017620</td>\n",
       "      <td>0.440572</td>\n",
       "    </tr>\n",
       "    <tr>\n",
       "      <th>min</th>\n",
       "      <td>0.000000e+00</td>\n",
       "      <td>0.000000</td>\n",
       "      <td>0.000000</td>\n",
       "      <td>0.000000</td>\n",
       "    </tr>\n",
       "    <tr>\n",
       "      <th>25%</th>\n",
       "      <td>7.176528e+05</td>\n",
       "      <td>21234.250000</td>\n",
       "      <td>702.500000</td>\n",
       "      <td>0.000000</td>\n",
       "    </tr>\n",
       "    <tr>\n",
       "      <th>50%</th>\n",
       "      <td>2.630372e+06</td>\n",
       "      <td>71203.500000</td>\n",
       "      <td>1840.500000</td>\n",
       "      <td>0.000000</td>\n",
       "    </tr>\n",
       "    <tr>\n",
       "      <th>75%</th>\n",
       "      <td>7.961860e+06</td>\n",
       "      <td>179892.500000</td>\n",
       "      <td>3632.250000</td>\n",
       "      <td>1.000000</td>\n",
       "    </tr>\n",
       "    <tr>\n",
       "      <th>max</th>\n",
       "      <td>5.363672e+07</td>\n",
       "      <td>706913.000000</td>\n",
       "      <td>9485.000000</td>\n",
       "      <td>1.000000</td>\n",
       "    </tr>\n",
       "  </tbody>\n",
       "</table>\n",
       "</div>"
      ],
      "text/plain": [
       "              Sales             PV           UV      Events\n",
       "count  7.300000e+02     730.000000   684.000000  730.000000\n",
       "mean   5.822637e+06  122933.378082  2449.445906    0.263014\n",
       "std    8.055195e+06  138533.559768  2161.017620    0.440572\n",
       "min    0.000000e+00       0.000000     0.000000    0.000000\n",
       "25%    7.176528e+05   21234.250000   702.500000    0.000000\n",
       "50%    2.630372e+06   71203.500000  1840.500000    0.000000\n",
       "75%    7.961860e+06  179892.500000  3632.250000    1.000000\n",
       "max    5.363672e+07  706913.000000  9485.000000    1.000000"
      ]
     },
     "execution_count": 4,
     "metadata": {},
     "output_type": "execute_result"
    }
   ],
   "source": [
    "df.describe()"
   ]
  },
  {
   "cell_type": "code",
   "execution_count": 5,
   "id": "e77cc192",
   "metadata": {
    "execution": {
     "iopub.execute_input": "2021-11-24T12:15:33.729602Z",
     "iopub.status.busy": "2021-11-24T12:15:33.728851Z",
     "iopub.status.idle": "2021-11-24T12:15:33.736434Z",
     "shell.execute_reply": "2021-11-24T12:15:33.735729Z",
     "shell.execute_reply.started": "2021-11-24T12:00:52.727606Z"
    },
    "papermill": {
     "duration": 0.026192,
     "end_time": "2021-11-24T12:15:33.736588",
     "exception": false,
     "start_time": "2021-11-24T12:15:33.710396",
     "status": "completed"
    },
    "tags": []
   },
   "outputs": [],
   "source": [
    "df.Date = pd.to_datetime(df.Date)"
   ]
  },
  {
   "cell_type": "markdown",
   "id": "908d24b3",
   "metadata": {
    "papermill": {
     "duration": 0.01568,
     "end_time": "2021-11-24T12:15:33.768150",
     "exception": false,
     "start_time": "2021-11-24T12:15:33.752470",
     "status": "completed"
    },
    "tags": []
   },
   "source": [
    "시간 데이터로 변환"
   ]
  },
  {
   "cell_type": "code",
   "execution_count": 6,
   "id": "6ed3b3b7",
   "metadata": {
    "execution": {
     "iopub.execute_input": "2021-11-24T12:15:33.805379Z",
     "iopub.status.busy": "2021-11-24T12:15:33.804625Z",
     "iopub.status.idle": "2021-11-24T12:15:33.810431Z",
     "shell.execute_reply": "2021-11-24T12:15:33.810928Z",
     "shell.execute_reply.started": "2021-11-24T12:00:52.734276Z"
    },
    "papermill": {
     "duration": 0.02722,
     "end_time": "2021-11-24T12:15:33.811124",
     "exception": false,
     "start_time": "2021-11-24T12:15:33.783904",
     "status": "completed"
    },
    "tags": []
   },
   "outputs": [
    {
     "data": {
      "text/plain": [
       "1477685.0"
      ]
     },
     "execution_count": 6,
     "metadata": {},
     "output_type": "execute_result"
    }
   ],
   "source": [
    "df[(df.Date<'2022-06-01')&(df.Date>='2022-05-01')].Sales.median()"
   ]
  },
  {
   "cell_type": "markdown",
   "id": "379aed39",
   "metadata": {
    "papermill": {
     "duration": 0.015646,
     "end_time": "2021-11-24T12:15:33.842817",
     "exception": false,
     "start_time": "2021-11-24T12:15:33.827171",
     "status": "completed"
    },
    "tags": []
   },
   "source": [
    "### kaggle answer"
   ]
  },
  {
   "cell_type": "code",
   "execution_count": 7,
   "id": "1823e357",
   "metadata": {
    "_cell_guid": "b1076dfc-b9ad-4769-8c92-a6c4dae69d19",
    "_uuid": "8f2839f25d086af736a60e9eeb907d3b93b6e0e5",
    "execution": {
     "iopub.execute_input": "2021-11-24T12:15:33.878333Z",
     "iopub.status.busy": "2021-11-24T12:15:33.877631Z",
     "iopub.status.idle": "2021-11-24T12:15:33.880952Z",
     "shell.execute_reply": "2021-11-24T12:15:33.881522Z",
     "shell.execute_reply.started": "2021-11-24T12:00:52.754036Z"
    },
    "papermill": {
     "duration": 0.022975,
     "end_time": "2021-11-24T12:15:33.881724",
     "exception": false,
     "start_time": "2021-11-24T12:15:33.858749",
     "status": "completed"
    },
    "tags": []
   },
   "outputs": [],
   "source": [
    "# 라이브러리 불러오기\n",
    "import pandas as pd"
   ]
  },
  {
   "cell_type": "code",
   "execution_count": 8,
   "id": "0ebcbf2e",
   "metadata": {
    "execution": {
     "iopub.execute_input": "2021-11-24T12:15:33.917119Z",
     "iopub.status.busy": "2021-11-24T12:15:33.916435Z",
     "iopub.status.idle": "2021-11-24T12:15:33.923862Z",
     "shell.execute_reply": "2021-11-24T12:15:33.924456Z",
     "shell.execute_reply.started": "2021-11-24T12:00:52.762302Z"
    },
    "papermill": {
     "duration": 0.027013,
     "end_time": "2021-11-24T12:15:33.924670",
     "exception": false,
     "start_time": "2021-11-24T12:15:33.897657",
     "status": "completed"
    },
    "tags": []
   },
   "outputs": [],
   "source": [
    "# 데이터 불러오기\n",
    "df = pd.read_csv(\"../input/bigdatacertificationkr/basic2.csv\")"
   ]
  },
  {
   "cell_type": "code",
   "execution_count": 9,
   "id": "af205a23",
   "metadata": {
    "execution": {
     "iopub.execute_input": "2021-11-24T12:15:33.960569Z",
     "iopub.status.busy": "2021-11-24T12:15:33.959882Z",
     "iopub.status.idle": "2021-11-24T12:15:33.969641Z",
     "shell.execute_reply": "2021-11-24T12:15:33.970264Z",
     "shell.execute_reply.started": "2021-11-24T12:00:52.781158Z"
    },
    "papermill": {
     "duration": 0.029626,
     "end_time": "2021-11-24T12:15:33.970494",
     "exception": false,
     "start_time": "2021-11-24T12:15:33.940868",
     "status": "completed"
    },
    "tags": []
   },
   "outputs": [
    {
     "data": {
      "text/html": [
       "<div>\n",
       "<style scoped>\n",
       "    .dataframe tbody tr th:only-of-type {\n",
       "        vertical-align: middle;\n",
       "    }\n",
       "\n",
       "    .dataframe tbody tr th {\n",
       "        vertical-align: top;\n",
       "    }\n",
       "\n",
       "    .dataframe thead th {\n",
       "        text-align: right;\n",
       "    }\n",
       "</style>\n",
       "<table border=\"1\" class=\"dataframe\">\n",
       "  <thead>\n",
       "    <tr style=\"text-align: right;\">\n",
       "      <th></th>\n",
       "      <th>Date</th>\n",
       "      <th>Sales</th>\n",
       "      <th>PV</th>\n",
       "      <th>UV</th>\n",
       "      <th>Events</th>\n",
       "    </tr>\n",
       "  </thead>\n",
       "  <tbody>\n",
       "    <tr>\n",
       "      <th>0</th>\n",
       "      <td>2022-01-01</td>\n",
       "      <td>22711525</td>\n",
       "      <td>397349</td>\n",
       "      <td>4421.0</td>\n",
       "      <td>1</td>\n",
       "    </tr>\n",
       "    <tr>\n",
       "      <th>1</th>\n",
       "      <td>2022-01-02</td>\n",
       "      <td>36779</td>\n",
       "      <td>3969</td>\n",
       "      <td>2289.0</td>\n",
       "      <td>0</td>\n",
       "    </tr>\n",
       "    <tr>\n",
       "      <th>2</th>\n",
       "      <td>2022-01-03</td>\n",
       "      <td>13943875</td>\n",
       "      <td>373890</td>\n",
       "      <td>NaN</td>\n",
       "      <td>1</td>\n",
       "    </tr>\n",
       "    <tr>\n",
       "      <th>3</th>\n",
       "      <td>2022-01-04</td>\n",
       "      <td>8088593</td>\n",
       "      <td>142054</td>\n",
       "      <td>2157.0</td>\n",
       "      <td>0</td>\n",
       "    </tr>\n",
       "    <tr>\n",
       "      <th>4</th>\n",
       "      <td>2022-01-05</td>\n",
       "      <td>2395374</td>\n",
       "      <td>190684</td>\n",
       "      <td>NaN</td>\n",
       "      <td>0</td>\n",
       "    </tr>\n",
       "  </tbody>\n",
       "</table>\n",
       "</div>"
      ],
      "text/plain": [
       "         Date     Sales      PV      UV  Events\n",
       "0  2022-01-01  22711525  397349  4421.0       1\n",
       "1  2022-01-02     36779    3969  2289.0       0\n",
       "2  2022-01-03  13943875  373890     NaN       1\n",
       "3  2022-01-04   8088593  142054  2157.0       0\n",
       "4  2022-01-05   2395374  190684     NaN       0"
      ]
     },
     "execution_count": 9,
     "metadata": {},
     "output_type": "execute_result"
    }
   ],
   "source": [
    "df.head()"
   ]
  },
  {
   "cell_type": "code",
   "execution_count": 10,
   "id": "e164cef9",
   "metadata": {
    "execution": {
     "iopub.execute_input": "2021-11-24T12:15:34.006626Z",
     "iopub.status.busy": "2021-11-24T12:15:34.005968Z",
     "iopub.status.idle": "2021-11-24T12:15:34.017104Z",
     "shell.execute_reply": "2021-11-24T12:15:34.017611Z",
     "shell.execute_reply.started": "2021-11-24T12:00:52.797700Z"
    },
    "papermill": {
     "duration": 0.030857,
     "end_time": "2021-11-24T12:15:34.017825",
     "exception": false,
     "start_time": "2021-11-24T12:15:33.986968",
     "status": "completed"
    },
    "tags": []
   },
   "outputs": [
    {
     "name": "stdout",
     "output_type": "stream",
     "text": [
      "<class 'pandas.core.frame.DataFrame'>\n",
      "RangeIndex: 730 entries, 0 to 729\n",
      "Data columns (total 5 columns):\n",
      " #   Column  Non-Null Count  Dtype  \n",
      "---  ------  --------------  -----  \n",
      " 0   Date    730 non-null    object \n",
      " 1   Sales   730 non-null    int64  \n",
      " 2   PV      730 non-null    int64  \n",
      " 3   UV      684 non-null    float64\n",
      " 4   Events  730 non-null    int64  \n",
      "dtypes: float64(1), int64(3), object(1)\n",
      "memory usage: 28.6+ KB\n"
     ]
    }
   ],
   "source": [
    "df.info()"
   ]
  },
  {
   "cell_type": "code",
   "execution_count": 11,
   "id": "aa30abd5",
   "metadata": {
    "execution": {
     "iopub.execute_input": "2021-11-24T12:15:34.056593Z",
     "iopub.status.busy": "2021-11-24T12:15:34.055845Z",
     "iopub.status.idle": "2021-11-24T12:15:34.069971Z",
     "shell.execute_reply": "2021-11-24T12:15:34.070517Z",
     "shell.execute_reply.started": "2021-11-24T12:00:52.813596Z"
    },
    "papermill": {
     "duration": 0.034973,
     "end_time": "2021-11-24T12:15:34.070695",
     "exception": false,
     "start_time": "2021-11-24T12:15:34.035722",
     "status": "completed"
    },
    "tags": []
   },
   "outputs": [
    {
     "name": "stdout",
     "output_type": "stream",
     "text": [
      "<class 'pandas.core.frame.DataFrame'>\n",
      "RangeIndex: 730 entries, 0 to 729\n",
      "Data columns (total 5 columns):\n",
      " #   Column  Non-Null Count  Dtype         \n",
      "---  ------  --------------  -----         \n",
      " 0   Date    730 non-null    datetime64[ns]\n",
      " 1   Sales   730 non-null    int64         \n",
      " 2   PV      730 non-null    int64         \n",
      " 3   UV      684 non-null    float64       \n",
      " 4   Events  730 non-null    int64         \n",
      "dtypes: datetime64[ns](1), float64(1), int64(3)\n",
      "memory usage: 28.6 KB\n"
     ]
    }
   ],
   "source": [
    "# datetime으로 type변경\n",
    "df['Date'] = pd.to_datetime(df['Date'])\n",
    "df.info()"
   ]
  },
  {
   "cell_type": "code",
   "execution_count": 12,
   "id": "aaab0e98",
   "metadata": {
    "execution": {
     "iopub.execute_input": "2021-11-24T12:15:34.108793Z",
     "iopub.status.busy": "2021-11-24T12:15:34.108056Z",
     "iopub.status.idle": "2021-11-24T12:15:34.116721Z",
     "shell.execute_reply": "2021-11-24T12:15:34.117300Z",
     "shell.execute_reply.started": "2021-11-24T12:00:52.910928Z"
    },
    "papermill": {
     "duration": 0.029762,
     "end_time": "2021-11-24T12:15:34.117520",
     "exception": false,
     "start_time": "2021-11-24T12:15:34.087758",
     "status": "completed"
    },
    "tags": []
   },
   "outputs": [],
   "source": [
    "# 새로운 컬럼 추가 (년, 월, 일)\n",
    "df['year'] = df['Date'].dt.year\n",
    "df['month'] = df['Date'].dt.month\n",
    "df['day'] = df['Date'].dt.day"
   ]
  },
  {
   "cell_type": "code",
   "execution_count": 13,
   "id": "665ea67f",
   "metadata": {
    "execution": {
     "iopub.execute_input": "2021-11-24T12:15:34.155676Z",
     "iopub.status.busy": "2021-11-24T12:15:34.154936Z",
     "iopub.status.idle": "2021-11-24T12:15:34.167255Z",
     "shell.execute_reply": "2021-11-24T12:15:34.167753Z",
     "shell.execute_reply.started": "2021-11-24T12:00:52.922931Z"
    },
    "papermill": {
     "duration": 0.033383,
     "end_time": "2021-11-24T12:15:34.167932",
     "exception": false,
     "start_time": "2021-11-24T12:15:34.134549",
     "status": "completed"
    },
    "tags": []
   },
   "outputs": [
    {
     "data": {
      "text/html": [
       "<div>\n",
       "<style scoped>\n",
       "    .dataframe tbody tr th:only-of-type {\n",
       "        vertical-align: middle;\n",
       "    }\n",
       "\n",
       "    .dataframe tbody tr th {\n",
       "        vertical-align: top;\n",
       "    }\n",
       "\n",
       "    .dataframe thead th {\n",
       "        text-align: right;\n",
       "    }\n",
       "</style>\n",
       "<table border=\"1\" class=\"dataframe\">\n",
       "  <thead>\n",
       "    <tr style=\"text-align: right;\">\n",
       "      <th></th>\n",
       "      <th>Date</th>\n",
       "      <th>Sales</th>\n",
       "      <th>PV</th>\n",
       "      <th>UV</th>\n",
       "      <th>Events</th>\n",
       "      <th>year</th>\n",
       "      <th>month</th>\n",
       "      <th>day</th>\n",
       "    </tr>\n",
       "  </thead>\n",
       "  <tbody>\n",
       "    <tr>\n",
       "      <th>0</th>\n",
       "      <td>2022-01-01</td>\n",
       "      <td>22711525</td>\n",
       "      <td>397349</td>\n",
       "      <td>4421.0</td>\n",
       "      <td>1</td>\n",
       "      <td>2022</td>\n",
       "      <td>1</td>\n",
       "      <td>1</td>\n",
       "    </tr>\n",
       "    <tr>\n",
       "      <th>1</th>\n",
       "      <td>2022-01-02</td>\n",
       "      <td>36779</td>\n",
       "      <td>3969</td>\n",
       "      <td>2289.0</td>\n",
       "      <td>0</td>\n",
       "      <td>2022</td>\n",
       "      <td>1</td>\n",
       "      <td>2</td>\n",
       "    </tr>\n",
       "    <tr>\n",
       "      <th>2</th>\n",
       "      <td>2022-01-03</td>\n",
       "      <td>13943875</td>\n",
       "      <td>373890</td>\n",
       "      <td>NaN</td>\n",
       "      <td>1</td>\n",
       "      <td>2022</td>\n",
       "      <td>1</td>\n",
       "      <td>3</td>\n",
       "    </tr>\n",
       "    <tr>\n",
       "      <th>3</th>\n",
       "      <td>2022-01-04</td>\n",
       "      <td>8088593</td>\n",
       "      <td>142054</td>\n",
       "      <td>2157.0</td>\n",
       "      <td>0</td>\n",
       "      <td>2022</td>\n",
       "      <td>1</td>\n",
       "      <td>4</td>\n",
       "    </tr>\n",
       "    <tr>\n",
       "      <th>4</th>\n",
       "      <td>2022-01-05</td>\n",
       "      <td>2395374</td>\n",
       "      <td>190684</td>\n",
       "      <td>NaN</td>\n",
       "      <td>0</td>\n",
       "      <td>2022</td>\n",
       "      <td>1</td>\n",
       "      <td>5</td>\n",
       "    </tr>\n",
       "  </tbody>\n",
       "</table>\n",
       "</div>"
      ],
      "text/plain": [
       "        Date     Sales      PV      UV  Events  year  month  day\n",
       "0 2022-01-01  22711525  397349  4421.0       1  2022      1    1\n",
       "1 2022-01-02     36779    3969  2289.0       0  2022      1    2\n",
       "2 2022-01-03  13943875  373890     NaN       1  2022      1    3\n",
       "3 2022-01-04   8088593  142054  2157.0       0  2022      1    4\n",
       "4 2022-01-05   2395374  190684     NaN       0  2022      1    5"
      ]
     },
     "execution_count": 13,
     "metadata": {},
     "output_type": "execute_result"
    }
   ],
   "source": [
    "df.head()"
   ]
  },
  {
   "cell_type": "code",
   "execution_count": 14,
   "id": "90092fdf",
   "metadata": {
    "execution": {
     "iopub.execute_input": "2021-11-24T12:15:34.211823Z",
     "iopub.status.busy": "2021-11-24T12:15:34.211116Z",
     "iopub.status.idle": "2021-11-24T12:15:34.214325Z",
     "shell.execute_reply": "2021-11-24T12:15:34.214887Z",
     "shell.execute_reply.started": "2021-11-24T12:00:52.941454Z"
    },
    "papermill": {
     "duration": 0.029979,
     "end_time": "2021-11-24T12:15:34.215078",
     "exception": false,
     "start_time": "2021-11-24T12:15:34.185099",
     "status": "completed"
    },
    "tags": []
   },
   "outputs": [
    {
     "name": "stdout",
     "output_type": "stream",
     "text": [
      "1477685.0\n"
     ]
    }
   ],
   "source": [
    "# 문제 조건에 맞는 값 구하기\n",
    "cond = (df['year']==2022) & (df['month']==5)\n",
    "print(df[cond]['Sales'].median())"
   ]
  }
 ],
 "metadata": {
  "kernelspec": {
   "display_name": "Python 3",
   "language": "python",
   "name": "python3"
  },
  "language_info": {
   "codemirror_mode": {
    "name": "ipython",
    "version": 3
   },
   "file_extension": ".py",
   "mimetype": "text/x-python",
   "name": "python",
   "nbconvert_exporter": "python",
   "pygments_lexer": "ipython3",
   "version": "3.7.10"
  },
  "papermill": {
   "default_parameters": {},
   "duration": 10.765634,
   "end_time": "2021-11-24T12:15:34.843621",
   "environment_variables": {},
   "exception": null,
   "input_path": "__notebook__.ipynb",
   "output_path": "__notebook__.ipynb",
   "parameters": {},
   "start_time": "2021-11-24T12:15:24.077987",
   "version": "2.3.3"
  }
 },
 "nbformat": 4,
 "nbformat_minor": 5
}
