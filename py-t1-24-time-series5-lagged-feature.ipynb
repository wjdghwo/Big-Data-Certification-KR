{
 "cells": [
  {
   "cell_type": "markdown",
   "id": "d6c13cff",
   "metadata": {
    "papermill": {
     "duration": 0.012797,
     "end_time": "2021-11-28T05:20:55.554951",
     "exception": false,
     "start_time": "2021-11-28T05:20:55.542154",
     "status": "completed"
    },
    "tags": []
   },
   "source": [
    "## 주어진 데이터(basic2.csv)에서 새로운 컬럼(1일 이전 시차 컬럼)을 만들고, Events가 1이면서 Sales가 1000000이하인 조건에 맞는 새로운 컬럼 합을 구하시오\n",
    "- 데이터셋 : basic2.csv\n",
    "- 오른쪽 상단 copy&edit 클릭 -> 예상문제 풀이 시작"
   ]
  },
  {
   "cell_type": "code",
   "execution_count": 1,
   "id": "8f1454a6",
   "metadata": {
    "execution": {
     "iopub.execute_input": "2021-11-28T05:20:55.582589Z",
     "iopub.status.busy": "2021-11-28T05:20:55.581434Z",
     "iopub.status.idle": "2021-11-28T05:20:55.608286Z",
     "shell.execute_reply": "2021-11-28T05:20:55.608948Z",
     "shell.execute_reply.started": "2021-11-28T05:19:27.445901Z"
    },
    "papermill": {
     "duration": 0.042204,
     "end_time": "2021-11-28T05:20:55.609224",
     "exception": false,
     "start_time": "2021-11-28T05:20:55.567020",
     "status": "completed"
    },
    "tags": []
   },
   "outputs": [],
   "source": [
    "import pandas as pd\n",
    "import numpy as np\n",
    "import datetime\n",
    "df = pd.read_csv('../input/bigdatacertificationkr/basic2.csv')"
   ]
  },
  {
   "cell_type": "code",
   "execution_count": 2,
   "id": "0724083d",
   "metadata": {
    "execution": {
     "iopub.execute_input": "2021-11-28T05:20:55.638024Z",
     "iopub.status.busy": "2021-11-28T05:20:55.637389Z",
     "iopub.status.idle": "2021-11-28T05:20:55.654980Z",
     "shell.execute_reply": "2021-11-28T05:20:55.654497Z",
     "shell.execute_reply.started": "2021-11-28T05:19:27.457422Z"
    },
    "papermill": {
     "duration": 0.033792,
     "end_time": "2021-11-28T05:20:55.655111",
     "exception": false,
     "start_time": "2021-11-28T05:20:55.621319",
     "status": "completed"
    },
    "tags": []
   },
   "outputs": [
    {
     "data": {
      "text/html": [
       "<div>\n",
       "<style scoped>\n",
       "    .dataframe tbody tr th:only-of-type {\n",
       "        vertical-align: middle;\n",
       "    }\n",
       "\n",
       "    .dataframe tbody tr th {\n",
       "        vertical-align: top;\n",
       "    }\n",
       "\n",
       "    .dataframe thead th {\n",
       "        text-align: right;\n",
       "    }\n",
       "</style>\n",
       "<table border=\"1\" class=\"dataframe\">\n",
       "  <thead>\n",
       "    <tr style=\"text-align: right;\">\n",
       "      <th></th>\n",
       "      <th>Date</th>\n",
       "      <th>Sales</th>\n",
       "      <th>PV</th>\n",
       "      <th>UV</th>\n",
       "      <th>Events</th>\n",
       "    </tr>\n",
       "  </thead>\n",
       "  <tbody>\n",
       "    <tr>\n",
       "      <th>0</th>\n",
       "      <td>2022-01-01</td>\n",
       "      <td>22711525</td>\n",
       "      <td>397349</td>\n",
       "      <td>4421.0</td>\n",
       "      <td>1</td>\n",
       "    </tr>\n",
       "    <tr>\n",
       "      <th>1</th>\n",
       "      <td>2022-01-02</td>\n",
       "      <td>36779</td>\n",
       "      <td>3969</td>\n",
       "      <td>2289.0</td>\n",
       "      <td>0</td>\n",
       "    </tr>\n",
       "    <tr>\n",
       "      <th>2</th>\n",
       "      <td>2022-01-03</td>\n",
       "      <td>13943875</td>\n",
       "      <td>373890</td>\n",
       "      <td>NaN</td>\n",
       "      <td>1</td>\n",
       "    </tr>\n",
       "    <tr>\n",
       "      <th>3</th>\n",
       "      <td>2022-01-04</td>\n",
       "      <td>8088593</td>\n",
       "      <td>142054</td>\n",
       "      <td>2157.0</td>\n",
       "      <td>0</td>\n",
       "    </tr>\n",
       "    <tr>\n",
       "      <th>4</th>\n",
       "      <td>2022-01-05</td>\n",
       "      <td>2395374</td>\n",
       "      <td>190684</td>\n",
       "      <td>NaN</td>\n",
       "      <td>0</td>\n",
       "    </tr>\n",
       "  </tbody>\n",
       "</table>\n",
       "</div>"
      ],
      "text/plain": [
       "         Date     Sales      PV      UV  Events\n",
       "0  2022-01-01  22711525  397349  4421.0       1\n",
       "1  2022-01-02     36779    3969  2289.0       0\n",
       "2  2022-01-03  13943875  373890     NaN       1\n",
       "3  2022-01-04   8088593  142054  2157.0       0\n",
       "4  2022-01-05   2395374  190684     NaN       0"
      ]
     },
     "execution_count": 2,
     "metadata": {},
     "output_type": "execute_result"
    }
   ],
   "source": [
    "df.head()"
   ]
  },
  {
   "cell_type": "code",
   "execution_count": 3,
   "id": "b126ba81",
   "metadata": {
    "execution": {
     "iopub.execute_input": "2021-11-28T05:20:55.682343Z",
     "iopub.status.busy": "2021-11-28T05:20:55.681773Z",
     "iopub.status.idle": "2021-11-28T05:20:55.690457Z",
     "shell.execute_reply": "2021-11-28T05:20:55.690972Z",
     "shell.execute_reply.started": "2021-11-28T05:20:17.104559Z"
    },
    "papermill": {
     "duration": 0.023711,
     "end_time": "2021-11-28T05:20:55.691125",
     "exception": false,
     "start_time": "2021-11-28T05:20:55.667414",
     "status": "completed"
    },
    "tags": []
   },
   "outputs": [],
   "source": [
    "df.Date = pd.to_datetime(df.Date)"
   ]
  },
  {
   "cell_type": "code",
   "execution_count": 4,
   "id": "fd95166e",
   "metadata": {
    "execution": {
     "iopub.execute_input": "2021-11-28T05:20:55.719842Z",
     "iopub.status.busy": "2021-11-28T05:20:55.719137Z",
     "iopub.status.idle": "2021-11-28T05:20:55.725886Z",
     "shell.execute_reply": "2021-11-28T05:20:55.726358Z",
     "shell.execute_reply.started": "2021-11-28T05:20:19.146975Z"
    },
    "papermill": {
     "duration": 0.023487,
     "end_time": "2021-11-28T05:20:55.726555",
     "exception": false,
     "start_time": "2021-11-28T05:20:55.703068",
     "status": "completed"
    },
    "tags": []
   },
   "outputs": [
    {
     "data": {
      "text/plain": [
       "0     2022-01-02\n",
       "1     2022-01-03\n",
       "2     2022-01-04\n",
       "3     2022-01-05\n",
       "4     2022-01-06\n",
       "         ...    \n",
       "725   2023-12-28\n",
       "726   2023-12-29\n",
       "727   2023-12-30\n",
       "728   2023-12-31\n",
       "729   2024-01-01\n",
       "Name: Date, Length: 730, dtype: datetime64[ns]"
      ]
     },
     "execution_count": 4,
     "metadata": {},
     "output_type": "execute_result"
    }
   ],
   "source": [
    "df.Date + datetime.timedelta(days=1) # 날짜 더하기"
   ]
  },
  {
   "cell_type": "code",
   "execution_count": 5,
   "id": "bc131370",
   "metadata": {
    "execution": {
     "iopub.execute_input": "2021-11-28T05:20:55.753956Z",
     "iopub.status.busy": "2021-11-28T05:20:55.753353Z",
     "iopub.status.idle": "2021-11-28T05:20:55.758096Z",
     "shell.execute_reply": "2021-11-28T05:20:55.758678Z",
     "shell.execute_reply.started": "2021-11-28T05:16:16.660317Z"
    },
    "papermill": {
     "duration": 0.019931,
     "end_time": "2021-11-28T05:20:55.758832",
     "exception": false,
     "start_time": "2021-11-28T05:20:55.738901",
     "status": "completed"
    },
    "tags": []
   },
   "outputs": [],
   "source": [
    "df['new_PV'] = df['PV'].shift(1).fillna(df['PV'][0])"
   ]
  },
  {
   "cell_type": "code",
   "execution_count": 6,
   "id": "244bee5b",
   "metadata": {
    "execution": {
     "iopub.execute_input": "2021-11-28T05:20:55.792685Z",
     "iopub.status.busy": "2021-11-28T05:20:55.791801Z",
     "iopub.status.idle": "2021-11-28T05:20:55.804522Z",
     "shell.execute_reply": "2021-11-28T05:20:55.805034Z",
     "shell.execute_reply.started": "2021-11-28T05:16:16.674106Z"
    },
    "papermill": {
     "duration": 0.033596,
     "end_time": "2021-11-28T05:20:55.805202",
     "exception": false,
     "start_time": "2021-11-28T05:20:55.771606",
     "status": "completed"
    },
    "tags": []
   },
   "outputs": [
    {
     "data": {
      "text/plain": [
       "1894876.0"
      ]
     },
     "execution_count": 6,
     "metadata": {},
     "output_type": "execute_result"
    }
   ],
   "source": [
    "df[(df.Events==1)&(df.Sales<=1000000)].new_PV.sum()"
   ]
  },
  {
   "cell_type": "markdown",
   "id": "544c7a9a",
   "metadata": {
    "papermill": {
     "duration": 0.01533,
     "end_time": "2021-11-28T05:20:55.837316",
     "exception": false,
     "start_time": "2021-11-28T05:20:55.821986",
     "status": "completed"
    },
    "tags": []
   },
   "source": [
    "## kaggle answer"
   ]
  },
  {
   "cell_type": "code",
   "execution_count": 7,
   "id": "f2f07cef",
   "metadata": {
    "execution": {
     "iopub.execute_input": "2021-11-28T05:20:55.878362Z",
     "iopub.status.busy": "2021-11-28T05:20:55.877481Z",
     "iopub.status.idle": "2021-11-28T05:20:55.880059Z",
     "shell.execute_reply": "2021-11-28T05:20:55.880858Z",
     "shell.execute_reply.started": "2021-11-28T05:16:16.688815Z"
    },
    "papermill": {
     "duration": 0.027508,
     "end_time": "2021-11-28T05:20:55.881084",
     "exception": false,
     "start_time": "2021-11-28T05:20:55.853576",
     "status": "completed"
    },
    "tags": []
   },
   "outputs": [],
   "source": [
    "import pandas as pd"
   ]
  },
  {
   "cell_type": "code",
   "execution_count": 8,
   "id": "86451aa1",
   "metadata": {
    "execution": {
     "iopub.execute_input": "2021-11-28T05:20:55.924620Z",
     "iopub.status.busy": "2021-11-28T05:20:55.923712Z",
     "iopub.status.idle": "2021-11-28T05:20:55.953282Z",
     "shell.execute_reply": "2021-11-28T05:20:55.952530Z",
     "shell.execute_reply.started": "2021-11-28T05:16:16.708340Z"
    },
    "papermill": {
     "duration": 0.052531,
     "end_time": "2021-11-28T05:20:55.953500",
     "exception": false,
     "start_time": "2021-11-28T05:20:55.900969",
     "status": "completed"
    },
    "tags": []
   },
   "outputs": [
    {
     "data": {
      "text/html": [
       "<div>\n",
       "<style scoped>\n",
       "    .dataframe tbody tr th:only-of-type {\n",
       "        vertical-align: middle;\n",
       "    }\n",
       "\n",
       "    .dataframe tbody tr th {\n",
       "        vertical-align: top;\n",
       "    }\n",
       "\n",
       "    .dataframe thead th {\n",
       "        text-align: right;\n",
       "    }\n",
       "</style>\n",
       "<table border=\"1\" class=\"dataframe\">\n",
       "  <thead>\n",
       "    <tr style=\"text-align: right;\">\n",
       "      <th></th>\n",
       "      <th>Date</th>\n",
       "      <th>Sales</th>\n",
       "      <th>PV</th>\n",
       "      <th>UV</th>\n",
       "      <th>Events</th>\n",
       "    </tr>\n",
       "  </thead>\n",
       "  <tbody>\n",
       "    <tr>\n",
       "      <th>0</th>\n",
       "      <td>2022-01-01</td>\n",
       "      <td>22711525</td>\n",
       "      <td>397349</td>\n",
       "      <td>4421.0</td>\n",
       "      <td>1</td>\n",
       "    </tr>\n",
       "    <tr>\n",
       "      <th>1</th>\n",
       "      <td>2022-01-02</td>\n",
       "      <td>36779</td>\n",
       "      <td>3969</td>\n",
       "      <td>2289.0</td>\n",
       "      <td>0</td>\n",
       "    </tr>\n",
       "    <tr>\n",
       "      <th>2</th>\n",
       "      <td>2022-01-03</td>\n",
       "      <td>13943875</td>\n",
       "      <td>373890</td>\n",
       "      <td>NaN</td>\n",
       "      <td>1</td>\n",
       "    </tr>\n",
       "    <tr>\n",
       "      <th>3</th>\n",
       "      <td>2022-01-04</td>\n",
       "      <td>8088593</td>\n",
       "      <td>142054</td>\n",
       "      <td>2157.0</td>\n",
       "      <td>0</td>\n",
       "    </tr>\n",
       "    <tr>\n",
       "      <th>4</th>\n",
       "      <td>2022-01-05</td>\n",
       "      <td>2395374</td>\n",
       "      <td>190684</td>\n",
       "      <td>NaN</td>\n",
       "      <td>0</td>\n",
       "    </tr>\n",
       "    <tr>\n",
       "      <th>...</th>\n",
       "      <td>...</td>\n",
       "      <td>...</td>\n",
       "      <td>...</td>\n",
       "      <td>...</td>\n",
       "      <td>...</td>\n",
       "    </tr>\n",
       "    <tr>\n",
       "      <th>725</th>\n",
       "      <td>2023-12-27</td>\n",
       "      <td>33846609</td>\n",
       "      <td>415067</td>\n",
       "      <td>7360.0</td>\n",
       "      <td>1</td>\n",
       "    </tr>\n",
       "    <tr>\n",
       "      <th>726</th>\n",
       "      <td>2023-12-28</td>\n",
       "      <td>3659566</td>\n",
       "      <td>208601</td>\n",
       "      <td>2262.0</td>\n",
       "      <td>1</td>\n",
       "    </tr>\n",
       "    <tr>\n",
       "      <th>727</th>\n",
       "      <td>2023-12-29</td>\n",
       "      <td>1164008</td>\n",
       "      <td>14309</td>\n",
       "      <td>193.0</td>\n",
       "      <td>0</td>\n",
       "    </tr>\n",
       "    <tr>\n",
       "      <th>728</th>\n",
       "      <td>2023-12-30</td>\n",
       "      <td>3977696</td>\n",
       "      <td>60935</td>\n",
       "      <td>NaN</td>\n",
       "      <td>0</td>\n",
       "    </tr>\n",
       "    <tr>\n",
       "      <th>729</th>\n",
       "      <td>2023-12-31</td>\n",
       "      <td>3719764</td>\n",
       "      <td>60963</td>\n",
       "      <td>1507.0</td>\n",
       "      <td>0</td>\n",
       "    </tr>\n",
       "  </tbody>\n",
       "</table>\n",
       "<p>730 rows × 5 columns</p>\n",
       "</div>"
      ],
      "text/plain": [
       "           Date     Sales      PV      UV  Events\n",
       "0    2022-01-01  22711525  397349  4421.0       1\n",
       "1    2022-01-02     36779    3969  2289.0       0\n",
       "2    2022-01-03  13943875  373890     NaN       1\n",
       "3    2022-01-04   8088593  142054  2157.0       0\n",
       "4    2022-01-05   2395374  190684     NaN       0\n",
       "..          ...       ...     ...     ...     ...\n",
       "725  2023-12-27  33846609  415067  7360.0       1\n",
       "726  2023-12-28   3659566  208601  2262.0       1\n",
       "727  2023-12-29   1164008   14309   193.0       0\n",
       "728  2023-12-30   3977696   60935     NaN       0\n",
       "729  2023-12-31   3719764   60963  1507.0       0\n",
       "\n",
       "[730 rows x 5 columns]"
      ]
     },
     "execution_count": 8,
     "metadata": {},
     "output_type": "execute_result"
    }
   ],
   "source": [
    "df = pd.read_csv(\"../input/bigdatacertificationkr/basic2.csv\")\n",
    "df"
   ]
  },
  {
   "cell_type": "code",
   "execution_count": 9,
   "id": "9d84d810",
   "metadata": {
    "execution": {
     "iopub.execute_input": "2021-11-28T05:20:56.000840Z",
     "iopub.status.busy": "2021-11-28T05:20:55.999876Z",
     "iopub.status.idle": "2021-11-28T05:20:56.012561Z",
     "shell.execute_reply": "2021-11-28T05:20:56.013191Z",
     "shell.execute_reply.started": "2021-11-28T05:16:16.737414Z"
    },
    "papermill": {
     "duration": 0.038725,
     "end_time": "2021-11-28T05:20:56.013371",
     "exception": false,
     "start_time": "2021-11-28T05:20:55.974646",
     "status": "completed"
    },
    "tags": []
   },
   "outputs": [
    {
     "data": {
      "text/plain": [
       "Date       0\n",
       "Sales      0\n",
       "PV         0\n",
       "UV        46\n",
       "Events     0\n",
       "dtype: int64"
      ]
     },
     "execution_count": 9,
     "metadata": {},
     "output_type": "execute_result"
    }
   ],
   "source": [
    "# 결측치 확인\n",
    "df.isnull().sum()"
   ]
  },
  {
   "cell_type": "code",
   "execution_count": 10,
   "id": "60b4ba80",
   "metadata": {
    "execution": {
     "iopub.execute_input": "2021-11-28T05:20:56.053882Z",
     "iopub.status.busy": "2021-11-28T05:20:56.052875Z",
     "iopub.status.idle": "2021-11-28T05:20:56.063005Z",
     "shell.execute_reply": "2021-11-28T05:20:56.063552Z",
     "shell.execute_reply.started": "2021-11-28T05:16:16.766400Z"
    },
    "papermill": {
     "duration": 0.030565,
     "end_time": "2021-11-28T05:20:56.063717",
     "exception": false,
     "start_time": "2021-11-28T05:20:56.033152",
     "status": "completed"
    },
    "tags": []
   },
   "outputs": [
    {
     "data": {
      "text/html": [
       "<div>\n",
       "<style scoped>\n",
       "    .dataframe tbody tr th:only-of-type {\n",
       "        vertical-align: middle;\n",
       "    }\n",
       "\n",
       "    .dataframe tbody tr th {\n",
       "        vertical-align: top;\n",
       "    }\n",
       "\n",
       "    .dataframe thead th {\n",
       "        text-align: right;\n",
       "    }\n",
       "</style>\n",
       "<table border=\"1\" class=\"dataframe\">\n",
       "  <thead>\n",
       "    <tr style=\"text-align: right;\">\n",
       "      <th></th>\n",
       "      <th>Date</th>\n",
       "      <th>Sales</th>\n",
       "      <th>PV</th>\n",
       "      <th>UV</th>\n",
       "      <th>Events</th>\n",
       "      <th>previous_PV</th>\n",
       "    </tr>\n",
       "  </thead>\n",
       "  <tbody>\n",
       "    <tr>\n",
       "      <th>0</th>\n",
       "      <td>2022-01-01</td>\n",
       "      <td>22711525</td>\n",
       "      <td>397349</td>\n",
       "      <td>4421.0</td>\n",
       "      <td>1</td>\n",
       "      <td>NaN</td>\n",
       "    </tr>\n",
       "    <tr>\n",
       "      <th>1</th>\n",
       "      <td>2022-01-02</td>\n",
       "      <td>36779</td>\n",
       "      <td>3969</td>\n",
       "      <td>2289.0</td>\n",
       "      <td>0</td>\n",
       "      <td>397349.0</td>\n",
       "    </tr>\n",
       "    <tr>\n",
       "      <th>2</th>\n",
       "      <td>2022-01-03</td>\n",
       "      <td>13943875</td>\n",
       "      <td>373890</td>\n",
       "      <td>NaN</td>\n",
       "      <td>1</td>\n",
       "      <td>3969.0</td>\n",
       "    </tr>\n",
       "    <tr>\n",
       "      <th>3</th>\n",
       "      <td>2022-01-04</td>\n",
       "      <td>8088593</td>\n",
       "      <td>142054</td>\n",
       "      <td>2157.0</td>\n",
       "      <td>0</td>\n",
       "      <td>373890.0</td>\n",
       "    </tr>\n",
       "    <tr>\n",
       "      <th>4</th>\n",
       "      <td>2022-01-05</td>\n",
       "      <td>2395374</td>\n",
       "      <td>190684</td>\n",
       "      <td>NaN</td>\n",
       "      <td>0</td>\n",
       "      <td>142054.0</td>\n",
       "    </tr>\n",
       "  </tbody>\n",
       "</table>\n",
       "</div>"
      ],
      "text/plain": [
       "         Date     Sales      PV      UV  Events  previous_PV\n",
       "0  2022-01-01  22711525  397349  4421.0       1          NaN\n",
       "1  2022-01-02     36779    3969  2289.0       0     397349.0\n",
       "2  2022-01-03  13943875  373890     NaN       1       3969.0\n",
       "3  2022-01-04   8088593  142054  2157.0       0     373890.0\n",
       "4  2022-01-05   2395374  190684     NaN       0     142054.0"
      ]
     },
     "execution_count": 10,
     "metadata": {},
     "output_type": "execute_result"
    }
   ],
   "source": [
    "#1일 차이가 나는 시차 특성 만들기\n",
    "df['previous_PV'] = df['PV'].shift(1)\n",
    "df.head()"
   ]
  },
  {
   "cell_type": "code",
   "execution_count": 11,
   "id": "9dde985a",
   "metadata": {
    "execution": {
     "iopub.execute_input": "2021-11-28T05:20:56.104627Z",
     "iopub.status.busy": "2021-11-28T05:20:56.103618Z",
     "iopub.status.idle": "2021-11-28T05:20:56.113724Z",
     "shell.execute_reply": "2021-11-28T05:20:56.114239Z",
     "shell.execute_reply.started": "2021-11-28T05:16:16.815060Z"
    },
    "papermill": {
     "duration": 0.034899,
     "end_time": "2021-11-28T05:20:56.114422",
     "exception": false,
     "start_time": "2021-11-28T05:20:56.079523",
     "status": "completed"
    },
    "tags": []
   },
   "outputs": [
    {
     "data": {
      "text/html": [
       "<div>\n",
       "<style scoped>\n",
       "    .dataframe tbody tr th:only-of-type {\n",
       "        vertical-align: middle;\n",
       "    }\n",
       "\n",
       "    .dataframe tbody tr th {\n",
       "        vertical-align: top;\n",
       "    }\n",
       "\n",
       "    .dataframe thead th {\n",
       "        text-align: right;\n",
       "    }\n",
       "</style>\n",
       "<table border=\"1\" class=\"dataframe\">\n",
       "  <thead>\n",
       "    <tr style=\"text-align: right;\">\n",
       "      <th></th>\n",
       "      <th>Date</th>\n",
       "      <th>Sales</th>\n",
       "      <th>PV</th>\n",
       "      <th>UV</th>\n",
       "      <th>Events</th>\n",
       "      <th>previous_PV</th>\n",
       "    </tr>\n",
       "  </thead>\n",
       "  <tbody>\n",
       "    <tr>\n",
       "      <th>0</th>\n",
       "      <td>2022-01-01</td>\n",
       "      <td>22711525</td>\n",
       "      <td>397349</td>\n",
       "      <td>4421.0</td>\n",
       "      <td>1</td>\n",
       "      <td>397349.0</td>\n",
       "    </tr>\n",
       "    <tr>\n",
       "      <th>1</th>\n",
       "      <td>2022-01-02</td>\n",
       "      <td>36779</td>\n",
       "      <td>3969</td>\n",
       "      <td>2289.0</td>\n",
       "      <td>0</td>\n",
       "      <td>397349.0</td>\n",
       "    </tr>\n",
       "    <tr>\n",
       "      <th>2</th>\n",
       "      <td>2022-01-03</td>\n",
       "      <td>13943875</td>\n",
       "      <td>373890</td>\n",
       "      <td>NaN</td>\n",
       "      <td>1</td>\n",
       "      <td>3969.0</td>\n",
       "    </tr>\n",
       "    <tr>\n",
       "      <th>3</th>\n",
       "      <td>2022-01-04</td>\n",
       "      <td>8088593</td>\n",
       "      <td>142054</td>\n",
       "      <td>2157.0</td>\n",
       "      <td>0</td>\n",
       "      <td>373890.0</td>\n",
       "    </tr>\n",
       "    <tr>\n",
       "      <th>4</th>\n",
       "      <td>2022-01-05</td>\n",
       "      <td>2395374</td>\n",
       "      <td>190684</td>\n",
       "      <td>NaN</td>\n",
       "      <td>0</td>\n",
       "      <td>142054.0</td>\n",
       "    </tr>\n",
       "  </tbody>\n",
       "</table>\n",
       "</div>"
      ],
      "text/plain": [
       "         Date     Sales      PV      UV  Events  previous_PV\n",
       "0  2022-01-01  22711525  397349  4421.0       1     397349.0\n",
       "1  2022-01-02     36779    3969  2289.0       0     397349.0\n",
       "2  2022-01-03  13943875  373890     NaN       1       3969.0\n",
       "3  2022-01-04   8088593  142054  2157.0       0     373890.0\n",
       "4  2022-01-05   2395374  190684     NaN       0     142054.0"
      ]
     },
     "execution_count": 11,
     "metadata": {},
     "output_type": "execute_result"
    }
   ],
   "source": [
    "# 1일 씩 미뤘음으로 가장 앞이 결측값이 됨 (바로 뒤의 값으로 채움)\n",
    "df['previous_PV'] = df['previous_PV'].fillna(method = 'bfill')\n",
    "df.head()"
   ]
  },
  {
   "cell_type": "code",
   "execution_count": 12,
   "id": "4b335208",
   "metadata": {
    "execution": {
     "iopub.execute_input": "2021-11-28T05:20:56.154142Z",
     "iopub.status.busy": "2021-11-28T05:20:56.153110Z",
     "iopub.status.idle": "2021-11-28T05:20:56.160973Z",
     "shell.execute_reply": "2021-11-28T05:20:56.161777Z",
     "shell.execute_reply.started": "2021-11-28T05:16:16.847827Z"
    },
    "papermill": {
     "duration": 0.028446,
     "end_time": "2021-11-28T05:20:56.161980",
     "exception": false,
     "start_time": "2021-11-28T05:20:56.133534",
     "status": "completed"
    },
    "tags": []
   },
   "outputs": [
    {
     "name": "stdout",
     "output_type": "stream",
     "text": [
      "1894876.0\n"
     ]
    }
   ],
   "source": [
    "# 조건에 맞는 1일 이전 PV의 합\n",
    "cond = (df['Events'] == 1) & (df['Sales'] <= 1000000)\n",
    "print(df[cond]['previous_PV'].sum())"
   ]
  }
 ],
 "metadata": {
  "kernelspec": {
   "display_name": "Python 3",
   "language": "python",
   "name": "python3"
  },
  "language_info": {
   "codemirror_mode": {
    "name": "ipython",
    "version": 3
   },
   "file_extension": ".py",
   "mimetype": "text/x-python",
   "name": "python",
   "nbconvert_exporter": "python",
   "pygments_lexer": "ipython3",
   "version": "3.7.10"
  },
  "papermill": {
   "default_parameters": {},
   "duration": 10.179265,
   "end_time": "2021-11-28T05:20:56.688799",
   "environment_variables": {},
   "exception": null,
   "input_path": "__notebook__.ipynb",
   "output_path": "__notebook__.ipynb",
   "parameters": {},
   "start_time": "2021-11-28T05:20:46.509534",
   "version": "2.3.3"
  }
 },
 "nbformat": 4,
 "nbformat_minor": 5
}
